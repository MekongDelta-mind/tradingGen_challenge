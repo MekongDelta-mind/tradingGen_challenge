{
  "nbformat": 4,
  "nbformat_minor": 0,
  "metadata": {
    "colab": {
      "provenance": []
    },
    "kernelspec": {
      "name": "python3",
      "display_name": "Python 3"
    },
    "language_info": {
      "name": "python"
    }
  },
  "cells": [
    {
      "cell_type": "markdown",
      "source": [
        "# Setting up Kaggle API"
      ],
      "metadata": {
        "id": "sM3OJWtdE2Ci"
      }
    },
    {
      "cell_type": "markdown",
      "source": [
        "Copy the kaggle.json from the local computer"
      ],
      "metadata": {
        "id": "fODTa0MFE4iO"
      }
    },
    {
      "cell_type": "code",
      "execution_count": 1,
      "metadata": {
        "colab": {
          "base_uri": "https://localhost:8080/"
        },
        "id": "V17kOFJVwaDa",
        "outputId": "b2a58869-b184-440e-e8bd-19ac3f364e8a"
      },
      "outputs": [
        {
          "output_type": "stream",
          "name": "stdout",
          "text": [
            "-rw-r--r-- 1 root root 63 Sep 18 06:58 kaggle.json\n"
          ]
        }
      ],
      "source": [
        "!ls -lha kaggle.json"
      ]
    },
    {
      "cell_type": "code",
      "execution_count": 2,
      "metadata": {
        "id": "BKuUYZAn6LpN"
      },
      "outputs": [],
      "source": [
        "!pip install -q kaggle"
      ]
    },
    {
      "cell_type": "code",
      "execution_count": 3,
      "metadata": {
        "id": "uJynZfvj6NTK"
      },
      "outputs": [],
      "source": [
        "!mkdir ~/.kaggle"
      ]
    },
    {
      "cell_type": "code",
      "execution_count": 4,
      "metadata": {
        "id": "tEoLGtTj6OsO"
      },
      "outputs": [],
      "source": [
        "!cp kaggle.json ~/.kaggle/"
      ]
    },
    {
      "cell_type": "code",
      "execution_count": 5,
      "metadata": {
        "id": "RMu1d2my6P0p"
      },
      "outputs": [],
      "source": [
        "!chmod 600 ~/.kaggle/kaggle.json"
      ]
    },
    {
      "cell_type": "code",
      "execution_count": 6,
      "metadata": {
        "colab": {
          "base_uri": "https://localhost:8080/"
        },
        "id": "0uuLNXsc6Sbv",
        "outputId": "f47b7552-245f-4e73-b0e8-b655f985d490"
      },
      "outputs": [
        {
          "output_type": "stream",
          "name": "stdout",
          "text": [
            "Downloading news-api-scrapped-dataset.zip to /content\n",
            "\r  0% 0.00/669k [00:00<?, ?B/s]\n",
            "\r100% 669k/669k [00:00<00:00, 119MB/s]\n"
          ]
        }
      ],
      "source": [
        "!kaggle datasets download -d pknayak/news-api-scrapped-dataset"
      ]
    },
    {
      "cell_type": "code",
      "execution_count": 7,
      "metadata": {
        "id": "Yi91GNgn7HLL"
      },
      "outputs": [],
      "source": [
        "!mkdir ./data"
      ]
    },
    {
      "cell_type": "code",
      "execution_count": 8,
      "metadata": {
        "colab": {
          "base_uri": "https://localhost:8080/"
        },
        "id": "QYRJD6fY63Lc",
        "outputId": "0ca64edf-1cec-4e8c-e7c7-6f421d14e493"
      },
      "outputs": [
        {
          "output_type": "stream",
          "name": "stdout",
          "text": [
            "Archive:  ./news-api-scrapped-dataset.zip\n",
            "  inflating: ./data/combined_news_response.csv  \n"
          ]
        }
      ],
      "source": [
        "# !unzip /content/pix2code.zip -d pix2code\n",
        "!unzip ./news-api-scrapped-dataset.zip -d ./data"
      ]
    },
    {
      "cell_type": "code",
      "source": [],
      "metadata": {
        "id": "FpJMFdl_FZO5"
      },
      "execution_count": null,
      "outputs": []
    }
  ]
}
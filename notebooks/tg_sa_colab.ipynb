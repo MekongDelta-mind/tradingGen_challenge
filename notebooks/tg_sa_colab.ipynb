{
  "nbformat": 4,
  "nbformat_minor": 0,
  "metadata": {
    "colab": {
      "provenance": []
    },
    "kernelspec": {
      "name": "python3",
      "display_name": "Python 3"
    },
    "language_info": {
      "name": "python"
    }
  },
  "cells": [
    {
      "cell_type": "markdown",
      "source": [
        "# Setting up Kaggle API"
      ],
      "metadata": {
        "id": "sM3OJWtdE2Ci"
      }
    },
    {
      "cell_type": "markdown",
      "source": [
        "Copy the kaggle.json from the local computer"
      ],
      "metadata": {
        "id": "fODTa0MFE4iO"
      }
    },
    {
      "cell_type": "code",
      "execution_count": null,
      "metadata": {
        "colab": {
          "base_uri": "https://localhost:8080/"
        },
        "id": "V17kOFJVwaDa",
        "outputId": "aa7c6f66-e0ef-4246-c201-3aeca68034e3"
      },
      "outputs": [
        {
          "output_type": "stream",
          "name": "stdout",
          "text": [
            "-rw-r--r-- 1 root root 63 Sep 20 04:03 kaggle.json\n"
          ]
        }
      ],
      "source": [
        "!ls -lha kaggle.json"
      ]
    },
    {
      "cell_type": "code",
      "execution_count": null,
      "metadata": {
        "id": "BKuUYZAn6LpN"
      },
      "outputs": [],
      "source": [
        "!pip install -q kaggle"
      ]
    },
    {
      "cell_type": "code",
      "execution_count": null,
      "metadata": {
        "id": "uJynZfvj6NTK"
      },
      "outputs": [],
      "source": [
        "!mkdir ~/.kaggle"
      ]
    },
    {
      "cell_type": "code",
      "execution_count": null,
      "metadata": {
        "id": "tEoLGtTj6OsO"
      },
      "outputs": [],
      "source": [
        "!cp kaggle.json ~/.kaggle/"
      ]
    },
    {
      "cell_type": "code",
      "execution_count": null,
      "metadata": {
        "id": "RMu1d2my6P0p"
      },
      "outputs": [],
      "source": [
        "!chmod 600 ~/.kaggle/kaggle.json"
      ]
    },
    {
      "cell_type": "code",
      "execution_count": null,
      "metadata": {
        "colab": {
          "base_uri": "https://localhost:8080/"
        },
        "id": "0uuLNXsc6Sbv",
        "outputId": "f730b9f5-bfaf-4c4f-9f17-47630f20afc8"
      },
      "outputs": [
        {
          "output_type": "stream",
          "name": "stdout",
          "text": [
            "Downloading news-api-scrapped-dataset.zip to /content\n",
            "\r  0% 0.00/669k [00:00<?, ?B/s]\n",
            "\r100% 669k/669k [00:00<00:00, 48.6MB/s]\n"
          ]
        }
      ],
      "source": [
        "!kaggle datasets download -d pknayak/news-api-scrapped-dataset"
      ]
    },
    {
      "cell_type": "code",
      "execution_count": null,
      "metadata": {
        "id": "Yi91GNgn7HLL"
      },
      "outputs": [],
      "source": [
        "!mkdir ./data"
      ]
    },
    {
      "cell_type": "code",
      "execution_count": null,
      "metadata": {
        "colab": {
          "base_uri": "https://localhost:8080/"
        },
        "id": "QYRJD6fY63Lc",
        "outputId": "dea75d91-a62e-49b1-a29c-bbed3eff1ba4"
      },
      "outputs": [
        {
          "output_type": "stream",
          "name": "stdout",
          "text": [
            "Archive:  ./news-api-scrapped-dataset.zip\n",
            "  inflating: ./data/combined_news_response.csv  \n"
          ]
        }
      ],
      "source": [
        "# !unzip /content/pix2code.zip -d pix2code\n",
        "!unzip ./news-api-scrapped-dataset.zip -d ./data"
      ]
    },
    {
      "cell_type": "code",
      "source": [],
      "metadata": {
        "id": "FpJMFdl_FZO5"
      },
      "execution_count": null,
      "outputs": []
    },
    {
      "cell_type": "markdown",
      "source": [
        "# Loading the dataset"
      ],
      "metadata": {
        "id": "VPT6CDS4w86w"
      }
    },
    {
      "cell_type": "code",
      "source": [
        "import pandas as pd"
      ],
      "metadata": {
        "id": "njI7BF1RyA8w"
      },
      "execution_count": null,
      "outputs": []
    },
    {
      "cell_type": "code",
      "source": [
        "pd.set_option('display.float_format', '{:.4f}'.format)"
      ],
      "metadata": {
        "id": "9RuRc2aGyTtj"
      },
      "execution_count": null,
      "outputs": []
    },
    {
      "cell_type": "code",
      "source": [
        "data_dir = \"./data/\""
      ],
      "metadata": {
        "id": "7f2MwgabyEhM"
      },
      "execution_count": null,
      "outputs": []
    },
    {
      "cell_type": "code",
      "source": [
        "df = pd.read_csv(data_dir+'combined_news_response.csv', sep = ',')\n",
        "df.head(5)"
      ],
      "metadata": {
        "colab": {
          "base_uri": "https://localhost:8080/",
          "height": 501
        },
        "id": "L1Uf8KVAyKrK",
        "outputId": "47298c72-c903-41bb-99ea-9ceff4fd6468"
      },
      "execution_count": null,
      "outputs": [
        {
          "output_type": "execute_result",
          "data": {
            "text/plain": [
              "   Unnamed: 0                                              title  \\\n",
              "0           0  IRS announces new plan to hire more agents for...   \n",
              "1           1   American teen Gauff wins US Open for first major   \n",
              "2           2  How to watch UFC 293: Adesanya vs. Strickland ...   \n",
              "3           3  Report: Which Utah university gives the best b...   \n",
              "4           4  American tennis star Coco Gauff wins Grand Sla...   \n",
              "\n",
              "                                       keywords                creator  \\\n",
              "0                                           NaN  ['Katherine Donlevy']   \n",
              "1                                           NaN                    NaN   \n",
              "2                                           NaN   ['Quentyn Kennemer']   \n",
              "3                                           NaN    ['Marjorie Cortez']   \n",
              "4  ['In The Know', 'News', 'tennis', 'US Open']      ['Julia Shapero']   \n",
              "\n",
              "                                         description  \\\n",
              "0  The federal agency said it plans to aggressive...   \n",
              "1  Coco Gauff, 19, is the youngest US Open winner...   \n",
              "2                                                NaN   \n",
              "3                                                NaN   \n",
              "4  American tennis star Coco Gauff won the Grand ...   \n",
              "\n",
              "                                             content              pubDate  \\\n",
              "0  The IRS announced it will start targeting thou...  2023-09-10 02:15:26   \n",
              "1  NEW YORK -- Coco Gauff won her first major tit...  2023-09-10 02:10:45   \n",
              "2  When you buy through our links, Insider may ea...  2023-09-10 00:00:01   \n",
              "3  A new Utah Foundation report affirms the more ...  2023-09-10 00:00:00   \n",
              "4  American tennis star Coco Gauff won the Grand ...  2023-09-09 23:12:08   \n",
              "\n",
              "                                             country    category language  \\\n",
              "0                       ['united states of america']     ['top']  english   \n",
              "1  ['india', 'singapore', 'canada', 'australia', ...  ['sports']  english   \n",
              "2                       ['united states of america']     ['top']  english   \n",
              "3                       ['united states of america']  ['sports']  english   \n",
              "4                       ['united states of america']     ['top']  english   \n",
              "\n",
              "       file_keyword  \n",
              "0  Earnings Reports  \n",
              "1  Earnings Reports  \n",
              "2  Earnings Reports  \n",
              "3  Earnings Reports  \n",
              "4  Earnings Reports  "
            ],
            "text/html": [
              "\n",
              "  <div id=\"df-b9e3097b-26d5-4e57-a06f-029df44a85cf\" class=\"colab-df-container\">\n",
              "    <div>\n",
              "<style scoped>\n",
              "    .dataframe tbody tr th:only-of-type {\n",
              "        vertical-align: middle;\n",
              "    }\n",
              "\n",
              "    .dataframe tbody tr th {\n",
              "        vertical-align: top;\n",
              "    }\n",
              "\n",
              "    .dataframe thead th {\n",
              "        text-align: right;\n",
              "    }\n",
              "</style>\n",
              "<table border=\"1\" class=\"dataframe\">\n",
              "  <thead>\n",
              "    <tr style=\"text-align: right;\">\n",
              "      <th></th>\n",
              "      <th>Unnamed: 0</th>\n",
              "      <th>title</th>\n",
              "      <th>keywords</th>\n",
              "      <th>creator</th>\n",
              "      <th>description</th>\n",
              "      <th>content</th>\n",
              "      <th>pubDate</th>\n",
              "      <th>country</th>\n",
              "      <th>category</th>\n",
              "      <th>language</th>\n",
              "      <th>file_keyword</th>\n",
              "    </tr>\n",
              "  </thead>\n",
              "  <tbody>\n",
              "    <tr>\n",
              "      <th>0</th>\n",
              "      <td>0</td>\n",
              "      <td>IRS announces new plan to hire more agents for...</td>\n",
              "      <td>NaN</td>\n",
              "      <td>['Katherine Donlevy']</td>\n",
              "      <td>The federal agency said it plans to aggressive...</td>\n",
              "      <td>The IRS announced it will start targeting thou...</td>\n",
              "      <td>2023-09-10 02:15:26</td>\n",
              "      <td>['united states of america']</td>\n",
              "      <td>['top']</td>\n",
              "      <td>english</td>\n",
              "      <td>Earnings Reports</td>\n",
              "    </tr>\n",
              "    <tr>\n",
              "      <th>1</th>\n",
              "      <td>1</td>\n",
              "      <td>American teen Gauff wins US Open for first major</td>\n",
              "      <td>NaN</td>\n",
              "      <td>NaN</td>\n",
              "      <td>Coco Gauff, 19, is the youngest US Open winner...</td>\n",
              "      <td>NEW YORK -- Coco Gauff won her first major tit...</td>\n",
              "      <td>2023-09-10 02:10:45</td>\n",
              "      <td>['india', 'singapore', 'canada', 'australia', ...</td>\n",
              "      <td>['sports']</td>\n",
              "      <td>english</td>\n",
              "      <td>Earnings Reports</td>\n",
              "    </tr>\n",
              "    <tr>\n",
              "      <th>2</th>\n",
              "      <td>2</td>\n",
              "      <td>How to watch UFC 293: Adesanya vs. Strickland ...</td>\n",
              "      <td>NaN</td>\n",
              "      <td>['Quentyn Kennemer']</td>\n",
              "      <td>NaN</td>\n",
              "      <td>When you buy through our links, Insider may ea...</td>\n",
              "      <td>2023-09-10 00:00:01</td>\n",
              "      <td>['united states of america']</td>\n",
              "      <td>['top']</td>\n",
              "      <td>english</td>\n",
              "      <td>Earnings Reports</td>\n",
              "    </tr>\n",
              "    <tr>\n",
              "      <th>3</th>\n",
              "      <td>3</td>\n",
              "      <td>Report: Which Utah university gives the best b...</td>\n",
              "      <td>NaN</td>\n",
              "      <td>['Marjorie Cortez']</td>\n",
              "      <td>NaN</td>\n",
              "      <td>A new Utah Foundation report affirms the more ...</td>\n",
              "      <td>2023-09-10 00:00:00</td>\n",
              "      <td>['united states of america']</td>\n",
              "      <td>['sports']</td>\n",
              "      <td>english</td>\n",
              "      <td>Earnings Reports</td>\n",
              "    </tr>\n",
              "    <tr>\n",
              "      <th>4</th>\n",
              "      <td>4</td>\n",
              "      <td>American tennis star Coco Gauff wins Grand Sla...</td>\n",
              "      <td>['In The Know', 'News', 'tennis', 'US Open']</td>\n",
              "      <td>['Julia Shapero']</td>\n",
              "      <td>American tennis star Coco Gauff won the Grand ...</td>\n",
              "      <td>American tennis star Coco Gauff won the Grand ...</td>\n",
              "      <td>2023-09-09 23:12:08</td>\n",
              "      <td>['united states of america']</td>\n",
              "      <td>['top']</td>\n",
              "      <td>english</td>\n",
              "      <td>Earnings Reports</td>\n",
              "    </tr>\n",
              "  </tbody>\n",
              "</table>\n",
              "</div>\n",
              "    <div class=\"colab-df-buttons\">\n",
              "\n",
              "  <div class=\"colab-df-container\">\n",
              "    <button class=\"colab-df-convert\" onclick=\"convertToInteractive('df-b9e3097b-26d5-4e57-a06f-029df44a85cf')\"\n",
              "            title=\"Convert this dataframe to an interactive table.\"\n",
              "            style=\"display:none;\">\n",
              "\n",
              "  <svg xmlns=\"http://www.w3.org/2000/svg\" height=\"24px\" viewBox=\"0 -960 960 960\">\n",
              "    <path d=\"M120-120v-720h720v720H120Zm60-500h600v-160H180v160Zm220 220h160v-160H400v160Zm0 220h160v-160H400v160ZM180-400h160v-160H180v160Zm440 0h160v-160H620v160ZM180-180h160v-160H180v160Zm440 0h160v-160H620v160Z\"/>\n",
              "  </svg>\n",
              "    </button>\n",
              "\n",
              "  <style>\n",
              "    .colab-df-container {\n",
              "      display:flex;\n",
              "      gap: 12px;\n",
              "    }\n",
              "\n",
              "    .colab-df-convert {\n",
              "      background-color: #E8F0FE;\n",
              "      border: none;\n",
              "      border-radius: 50%;\n",
              "      cursor: pointer;\n",
              "      display: none;\n",
              "      fill: #1967D2;\n",
              "      height: 32px;\n",
              "      padding: 0 0 0 0;\n",
              "      width: 32px;\n",
              "    }\n",
              "\n",
              "    .colab-df-convert:hover {\n",
              "      background-color: #E2EBFA;\n",
              "      box-shadow: 0px 1px 2px rgba(60, 64, 67, 0.3), 0px 1px 3px 1px rgba(60, 64, 67, 0.15);\n",
              "      fill: #174EA6;\n",
              "    }\n",
              "\n",
              "    .colab-df-buttons div {\n",
              "      margin-bottom: 4px;\n",
              "    }\n",
              "\n",
              "    [theme=dark] .colab-df-convert {\n",
              "      background-color: #3B4455;\n",
              "      fill: #D2E3FC;\n",
              "    }\n",
              "\n",
              "    [theme=dark] .colab-df-convert:hover {\n",
              "      background-color: #434B5C;\n",
              "      box-shadow: 0px 1px 3px 1px rgba(0, 0, 0, 0.15);\n",
              "      filter: drop-shadow(0px 1px 2px rgba(0, 0, 0, 0.3));\n",
              "      fill: #FFFFFF;\n",
              "    }\n",
              "  </style>\n",
              "\n",
              "    <script>\n",
              "      const buttonEl =\n",
              "        document.querySelector('#df-b9e3097b-26d5-4e57-a06f-029df44a85cf button.colab-df-convert');\n",
              "      buttonEl.style.display =\n",
              "        google.colab.kernel.accessAllowed ? 'block' : 'none';\n",
              "\n",
              "      async function convertToInteractive(key) {\n",
              "        const element = document.querySelector('#df-b9e3097b-26d5-4e57-a06f-029df44a85cf');\n",
              "        const dataTable =\n",
              "          await google.colab.kernel.invokeFunction('convertToInteractive',\n",
              "                                                    [key], {});\n",
              "        if (!dataTable) return;\n",
              "\n",
              "        const docLinkHtml = 'Like what you see? Visit the ' +\n",
              "          '<a target=\"_blank\" href=https://colab.research.google.com/notebooks/data_table.ipynb>data table notebook</a>'\n",
              "          + ' to learn more about interactive tables.';\n",
              "        element.innerHTML = '';\n",
              "        dataTable['output_type'] = 'display_data';\n",
              "        await google.colab.output.renderOutput(dataTable, element);\n",
              "        const docLink = document.createElement('div');\n",
              "        docLink.innerHTML = docLinkHtml;\n",
              "        element.appendChild(docLink);\n",
              "      }\n",
              "    </script>\n",
              "  </div>\n",
              "\n",
              "\n",
              "<div id=\"df-345b4d70-f9fe-4e96-8b87-67d95b7f7096\">\n",
              "  <button class=\"colab-df-quickchart\" onclick=\"quickchart('df-345b4d70-f9fe-4e96-8b87-67d95b7f7096')\"\n",
              "            title=\"Suggest charts.\"\n",
              "            style=\"display:none;\">\n",
              "\n",
              "<svg xmlns=\"http://www.w3.org/2000/svg\" height=\"24px\"viewBox=\"0 0 24 24\"\n",
              "     width=\"24px\">\n",
              "    <g>\n",
              "        <path d=\"M19 3H5c-1.1 0-2 .9-2 2v14c0 1.1.9 2 2 2h14c1.1 0 2-.9 2-2V5c0-1.1-.9-2-2-2zM9 17H7v-7h2v7zm4 0h-2V7h2v10zm4 0h-2v-4h2v4z\"/>\n",
              "    </g>\n",
              "</svg>\n",
              "  </button>\n",
              "\n",
              "<style>\n",
              "  .colab-df-quickchart {\n",
              "      --bg-color: #E8F0FE;\n",
              "      --fill-color: #1967D2;\n",
              "      --hover-bg-color: #E2EBFA;\n",
              "      --hover-fill-color: #174EA6;\n",
              "      --disabled-fill-color: #AAA;\n",
              "      --disabled-bg-color: #DDD;\n",
              "  }\n",
              "\n",
              "  [theme=dark] .colab-df-quickchart {\n",
              "      --bg-color: #3B4455;\n",
              "      --fill-color: #D2E3FC;\n",
              "      --hover-bg-color: #434B5C;\n",
              "      --hover-fill-color: #FFFFFF;\n",
              "      --disabled-bg-color: #3B4455;\n",
              "      --disabled-fill-color: #666;\n",
              "  }\n",
              "\n",
              "  .colab-df-quickchart {\n",
              "    background-color: var(--bg-color);\n",
              "    border: none;\n",
              "    border-radius: 50%;\n",
              "    cursor: pointer;\n",
              "    display: none;\n",
              "    fill: var(--fill-color);\n",
              "    height: 32px;\n",
              "    padding: 0;\n",
              "    width: 32px;\n",
              "  }\n",
              "\n",
              "  .colab-df-quickchart:hover {\n",
              "    background-color: var(--hover-bg-color);\n",
              "    box-shadow: 0 1px 2px rgba(60, 64, 67, 0.3), 0 1px 3px 1px rgba(60, 64, 67, 0.15);\n",
              "    fill: var(--button-hover-fill-color);\n",
              "  }\n",
              "\n",
              "  .colab-df-quickchart-complete:disabled,\n",
              "  .colab-df-quickchart-complete:disabled:hover {\n",
              "    background-color: var(--disabled-bg-color);\n",
              "    fill: var(--disabled-fill-color);\n",
              "    box-shadow: none;\n",
              "  }\n",
              "\n",
              "  .colab-df-spinner {\n",
              "    border: 2px solid var(--fill-color);\n",
              "    border-color: transparent;\n",
              "    border-bottom-color: var(--fill-color);\n",
              "    animation:\n",
              "      spin 1s steps(1) infinite;\n",
              "  }\n",
              "\n",
              "  @keyframes spin {\n",
              "    0% {\n",
              "      border-color: transparent;\n",
              "      border-bottom-color: var(--fill-color);\n",
              "      border-left-color: var(--fill-color);\n",
              "    }\n",
              "    20% {\n",
              "      border-color: transparent;\n",
              "      border-left-color: var(--fill-color);\n",
              "      border-top-color: var(--fill-color);\n",
              "    }\n",
              "    30% {\n",
              "      border-color: transparent;\n",
              "      border-left-color: var(--fill-color);\n",
              "      border-top-color: var(--fill-color);\n",
              "      border-right-color: var(--fill-color);\n",
              "    }\n",
              "    40% {\n",
              "      border-color: transparent;\n",
              "      border-right-color: var(--fill-color);\n",
              "      border-top-color: var(--fill-color);\n",
              "    }\n",
              "    60% {\n",
              "      border-color: transparent;\n",
              "      border-right-color: var(--fill-color);\n",
              "    }\n",
              "    80% {\n",
              "      border-color: transparent;\n",
              "      border-right-color: var(--fill-color);\n",
              "      border-bottom-color: var(--fill-color);\n",
              "    }\n",
              "    90% {\n",
              "      border-color: transparent;\n",
              "      border-bottom-color: var(--fill-color);\n",
              "    }\n",
              "  }\n",
              "</style>\n",
              "\n",
              "  <script>\n",
              "    async function quickchart(key) {\n",
              "      const quickchartButtonEl =\n",
              "        document.querySelector('#' + key + ' button');\n",
              "      quickchartButtonEl.disabled = true;  // To prevent multiple clicks.\n",
              "      quickchartButtonEl.classList.add('colab-df-spinner');\n",
              "      try {\n",
              "        const charts = await google.colab.kernel.invokeFunction(\n",
              "            'suggestCharts', [key], {});\n",
              "      } catch (error) {\n",
              "        console.error('Error during call to suggestCharts:', error);\n",
              "      }\n",
              "      quickchartButtonEl.classList.remove('colab-df-spinner');\n",
              "      quickchartButtonEl.classList.add('colab-df-quickchart-complete');\n",
              "    }\n",
              "    (() => {\n",
              "      let quickchartButtonEl =\n",
              "        document.querySelector('#df-345b4d70-f9fe-4e96-8b87-67d95b7f7096 button');\n",
              "      quickchartButtonEl.style.display =\n",
              "        google.colab.kernel.accessAllowed ? 'block' : 'none';\n",
              "    })();\n",
              "  </script>\n",
              "</div>\n",
              "    </div>\n",
              "  </div>\n"
            ]
          },
          "metadata": {},
          "execution_count": 14
        }
      ]
    },
    {
      "cell_type": "code",
      "source": [
        "df.columns"
      ],
      "metadata": {
        "colab": {
          "base_uri": "https://localhost:8080/"
        },
        "id": "rWlY2DmI0CmW",
        "outputId": "0424a7a0-9a91-4255-ba58-4ffee8e6778f"
      },
      "execution_count": null,
      "outputs": [
        {
          "output_type": "execute_result",
          "data": {
            "text/plain": [
              "Index(['Unnamed: 0', 'title', 'keywords', 'creator', 'description', 'content',\n",
              "       'pubDate', 'country', 'category', 'language', 'file_keyword'],\n",
              "      dtype='object')"
            ]
          },
          "metadata": {},
          "execution_count": 17
        }
      ]
    },
    {
      "cell_type": "code",
      "source": [
        "df.drop('Unnamed: 0',axis=1,inplace=True)\n",
        "df.columns"
      ],
      "metadata": {
        "colab": {
          "base_uri": "https://localhost:8080/"
        },
        "id": "Idcut8O_0IDP",
        "outputId": "4fda5d1c-1347-4388-d041-7585a5005f93"
      },
      "execution_count": null,
      "outputs": [
        {
          "output_type": "execute_result",
          "data": {
            "text/plain": [
              "Index(['title', 'keywords', 'creator', 'description', 'content', 'pubDate',\n",
              "       'country', 'category', 'language', 'file_keyword'],\n",
              "      dtype='object')"
            ]
          },
          "metadata": {},
          "execution_count": 19
        }
      ]
    },
    {
      "cell_type": "code",
      "source": [
        "df['description'].isnull().sum(),df['content'].isnull().sum()"
      ],
      "metadata": {
        "colab": {
          "base_uri": "https://localhost:8080/"
        },
        "id": "sGL3SQW-yKt7",
        "outputId": "773abc33-b9e6-46e4-b21f-bd98de5dd098"
      },
      "execution_count": null,
      "outputs": [
        {
          "output_type": "execute_result",
          "data": {
            "text/plain": [
              "(19, 0)"
            ]
          },
          "metadata": {},
          "execution_count": 20
        }
      ]
    },
    {
      "cell_type": "markdown",
      "source": [
        "# Labelling the dataframe using various techniques"
      ],
      "metadata": {
        "id": "k_dwVm3m04-d"
      }
    },
    {
      "cell_type": "markdown",
      "source": [
        "## 1.Using the VADER Sentiment Analysis Tool"
      ],
      "metadata": {
        "id": "uryAAJqM080h"
      }
    },
    {
      "cell_type": "code",
      "source": [
        "labelled_df = df.copy()"
      ],
      "metadata": {
        "id": "YtiWPDXY00Li"
      },
      "execution_count": null,
      "outputs": []
    },
    {
      "cell_type": "markdown",
      "source": [
        "### Sample code to check how VADER works"
      ],
      "metadata": {
        "id": "RKXXsTlx1Me1"
      }
    },
    {
      "cell_type": "code",
      "source": [
        "!pip install vaderSentiment"
      ],
      "metadata": {
        "colab": {
          "base_uri": "https://localhost:8080/"
        },
        "id": "q10aXT6lyKwQ",
        "outputId": "b0bdf49c-851f-4dc9-f314-1c771357c920"
      },
      "execution_count": null,
      "outputs": [
        {
          "output_type": "stream",
          "name": "stdout",
          "text": [
            "Collecting vaderSentiment\n",
            "  Downloading vaderSentiment-3.3.2-py2.py3-none-any.whl (125 kB)\n",
            "\u001b[2K     \u001b[90m━━━━━━━━━━━━━━━━━━━━━━━━━━━━━━━━━━━━━━━\u001b[0m \u001b[32m126.0/126.0 kB\u001b[0m \u001b[31m2.2 MB/s\u001b[0m eta \u001b[36m0:00:00\u001b[0m\n",
            "\u001b[?25hRequirement already satisfied: requests in /usr/local/lib/python3.10/dist-packages (from vaderSentiment) (2.31.0)\n",
            "Requirement already satisfied: charset-normalizer<4,>=2 in /usr/local/lib/python3.10/dist-packages (from requests->vaderSentiment) (3.2.0)\n",
            "Requirement already satisfied: idna<4,>=2.5 in /usr/local/lib/python3.10/dist-packages (from requests->vaderSentiment) (3.4)\n",
            "Requirement already satisfied: urllib3<3,>=1.21.1 in /usr/local/lib/python3.10/dist-packages (from requests->vaderSentiment) (2.0.4)\n",
            "Requirement already satisfied: certifi>=2017.4.17 in /usr/local/lib/python3.10/dist-packages (from requests->vaderSentiment) (2023.7.22)\n",
            "Installing collected packages: vaderSentiment\n",
            "Successfully installed vaderSentiment-3.3.2\n"
          ]
        }
      ]
    },
    {
      "cell_type": "code",
      "source": [
        "from vaderSentiment.vaderSentiment import SentimentIntensityAnalyzer"
      ],
      "metadata": {
        "id": "7m0uG42PyKyo"
      },
      "execution_count": null,
      "outputs": []
    },
    {
      "cell_type": "code",
      "source": [
        "# Initialize the VADER sentiment analyzer\n",
        "analyzer = SentimentIntensityAnalyzer()"
      ],
      "metadata": {
        "id": "B8TD2nhAyK07"
      },
      "execution_count": null,
      "outputs": []
    },
    {
      "cell_type": "code",
      "source": [
        "# Sample text\n",
        "text = \"I love this product! It's fantastic.\""
      ],
      "metadata": {
        "id": "DcgB-Z-jyK3U"
      },
      "execution_count": null,
      "outputs": []
    },
    {
      "cell_type": "code",
      "source": [
        "# Analyze sentiment\n",
        "sentiment_scores = analyzer.polarity_scores(text)\n"
      ],
      "metadata": {
        "id": "_SOwVjHByK5n"
      },
      "execution_count": null,
      "outputs": []
    },
    {
      "cell_type": "code",
      "source": [
        "# Interpret the sentiment scores\n",
        "compound_score = sentiment_scores['compound']"
      ],
      "metadata": {
        "id": "Vt2K7bFxyK78"
      },
      "execution_count": null,
      "outputs": []
    },
    {
      "cell_type": "code",
      "source": [
        "def tranform_score(compound_score):\n",
        "  if compound_score >= 0.05:\n",
        "      sentiment = \"Positive\"\n",
        "  elif compound_score <= -0.05:\n",
        "      sentiment = \"Negative\"\n",
        "  else:\n",
        "      sentiment = \"Neutral\"\n",
        "\n",
        "  # print(f\"Sentiment: {sentiment}\")\n",
        "  return str(sentiment)\n"
      ],
      "metadata": {
        "id": "V5y-KcomyK-X"
      },
      "execution_count": null,
      "outputs": []
    },
    {
      "cell_type": "code",
      "source": [
        "tranform_score(compound_score)"
      ],
      "metadata": {
        "colab": {
          "base_uri": "https://localhost:8080/",
          "height": 35
        },
        "id": "r2QS5WMl2CDL",
        "outputId": "137ed80b-7bb1-4f05-e071-e360550f743b"
      },
      "execution_count": null,
      "outputs": [
        {
          "output_type": "execute_result",
          "data": {
            "text/plain": [
              "'Positive'"
            ],
            "application/vnd.google.colaboratory.intrinsic+json": {
              "type": "string"
            }
          },
          "metadata": {},
          "execution_count": 62
        }
      ]
    },
    {
      "cell_type": "markdown",
      "source": [
        "### VADER on the org df"
      ],
      "metadata": {
        "id": "2DcHzDYw1YGv"
      }
    },
    {
      "cell_type": "code",
      "source": [
        "labelled_df.iloc[0]['content'], type(labelled_df.iloc[0]['content'])"
      ],
      "metadata": {
        "colab": {
          "base_uri": "https://localhost:8080/"
        },
        "id": "sm1_o88E1gpf",
        "outputId": "9126709e-1f87-4d3a-d90e-8ace60451ac6"
      },
      "execution_count": null,
      "outputs": [
        {
          "output_type": "execute_result",
          "data": {
            "text/plain": [
              "('The IRS announced it will start targeting thousands of uber-wealthy tax cheats and make them poney up hundreds of millions of dollars in the coming months. The federal agency said it plans to aggressively hunt down 1,600 millionaires and 75 large business partnerships that routinely “cut corners” on their taxes. “If you pay your taxes on time it should be particularly frustrating when you see that wealthy filers are not,” IRS Commissioner Daniel Werfel said. Each of the millionaire tax dodgers that the IRS set its sights on owes a minimum of at least $250,000 each in back taxes, while the partnerships have assets of roughly $10 billion on average. The IRS is planning to hire an undisclosed number of revenue agents to focus on the high-end collection cases so that the new initiative can start rolling in October this year. The crackdown represents the next phase of an offensive pursuit that the Biden Administration launched earlier this summer — in July, the IRS said it collected $38 million in delinquent taxes from more than 175 high-income taxpayers in the span of a few months. According to Werfel, the initiative is being propelled by a massive boost in federal funding from the Inflation Reduction Act, which aims to generate tax revenue for the nation. The agency is also being added by artificial intelligence tools that can detect tax-cheating tactics that might be indiscernible to the human eye. “New tools are helping us see patterns and trends that we could not see before, and as a result, we have higher confidence on where to look and find where large partnerships are shielding income,” Werfel said. A team of academic economists and IRS researchers in 2021 found that the top 1% of U.S. income earners fail to report more than 20% of their earnings to the IRS. With additional support and funding, the IRS will continue to hunt larger and wealthier tax dodgers in the coming years. As part of the initiative, the agency promised that citizens earning less than $400,000 a year will not see an increase in their audit rates. “This new compliance push makes good on the promise of the Inflation Reduction Act to ensure the IRS holds our wealthiest filers accountable to pay the full amount of what they owe,” said Werfel. “The years of underfunding that predated the Inflation Reduction Act led to the lowest audit rate of wealthy filers in our history.” With Post Wires',\n",
              " str)"
            ]
          },
          "metadata": {},
          "execution_count": 32
        }
      ]
    },
    {
      "cell_type": "code",
      "source": [
        "# Sample text\n",
        "text = labelled_df.iloc[0]['content']"
      ],
      "metadata": {
        "id": "f84lQ-ZIyLAU"
      },
      "execution_count": null,
      "outputs": []
    },
    {
      "cell_type": "code",
      "source": [
        "# Analyze sentiment\n",
        "sentiment_scores = analyzer.polarity_scores(text)"
      ],
      "metadata": {
        "id": "etb3JAQhyLDC"
      },
      "execution_count": null,
      "outputs": []
    },
    {
      "cell_type": "code",
      "source": [
        "# Interpret the sentiment scores\n",
        "compound_score = sentiment_scores['compound']"
      ],
      "metadata": {
        "id": "MnBBim-P1whb"
      },
      "execution_count": null,
      "outputs": []
    },
    {
      "cell_type": "code",
      "source": [
        "tranform_score(compound_score)"
      ],
      "metadata": {
        "colab": {
          "base_uri": "https://localhost:8080/",
          "height": 35
        },
        "id": "vmCdyyp51wkC",
        "outputId": "6b79aa53-f74b-4937-ac32-0c6d0554f1ef"
      },
      "execution_count": null,
      "outputs": [
        {
          "output_type": "execute_result",
          "data": {
            "text/plain": [
              "'Positive'"
            ],
            "application/vnd.google.colaboratory.intrinsic+json": {
              "type": "string"
            }
          },
          "metadata": {},
          "execution_count": 66
        }
      ]
    },
    {
      "cell_type": "code",
      "source": [
        "labelled_df['content'][:50]"
      ],
      "metadata": {
        "id": "uT__SAE81wmp"
      },
      "execution_count": null,
      "outputs": []
    },
    {
      "cell_type": "code",
      "source": [
        "labelled_df.iloc[2]['content']"
      ],
      "metadata": {
        "colab": {
          "base_uri": "https://localhost:8080/",
          "height": 141
        },
        "id": "ChAFJ0MD1wpM",
        "outputId": "7fb697c0-3f9b-4feb-8eb8-a4648c55cde5"
      },
      "execution_count": null,
      "outputs": [
        {
          "output_type": "execute_result",
          "data": {
            "text/plain": [
              "\"When you buy through our links, Insider may earn an affiliate commission. Learn more Everyone should be excited for UFC 293's main card. It features middleweight champion Israel Adesanya defending his newly regained title against Sean Strickland, the first defense of this reign. We'll show you how to watch Adesanya vs. Strickland live streams live, no matter where you are. In addition to the middleweight championship fight, UFC is billing a heavyweight fight between Tai Tuivasa and Alexander Volkov as co-main event. There are many other fights leading up to these main events, so we'll show you how to watch UFC 293 live streams in the US, UK, and more. The main card pay-per-view livestream is exclusive to ESPN Plus members in the US, but if you're outside the country, you can tap into a few international viewing options. We'll also guide you step-by-step on how to use a VPN to watch UFC 293, no matter where you are. You might even find some of the international viewing options we've found are cheaper than your home country, and a VPN is a great way to save on pricy PPV fees. UFC 293 livestream quick links US Main Card: ESPN Plus ($80 PPV fee plus $10/month membership) US Prelims: ESPNews or ESPN Plus ($10/month) UK: TNT Sports (available for £30/month via Discovery Plus) Canada: UFC Fight Pass or cable PPV ($65) Watch from anywhere: Use ExpressVPN (try it risk-free for 30 days) to access any streaming options no matter where you are When: UFC 293 main card begins September 9, 10 p.m. ET / September 10, 3 a.m. BST / September 10, 4 a.m. CEST / September 10, 12 p.m. AEST How to watch UFC 293 in the US US viewers can watch the main event of UFC 293 on ESPN Plus tonight at 10 p.m. ET. The main card requires an ESPN Plus subscription ($10/month) and an extra pay-per-view fee of $80. Before the main event, fans can watch the early prelims (6:30 p.m. ET) and prelims (8 p.m. ET) using a $10 monthly ESPN Plus membership with no added fee. The ESPN Plus app is available on all the best streaming devices , including Amazon Fire, Apple, Android, Chromecast, PlayStation, Xbox, Roku, Samsung smart TVs, and more. UFC PPV on ESPN+ (standalone event) Shop at ESPN+ Ways to save on the UFC 293 pay-per-view price If you're not already a member and plan to sign up for ESPN Plus to watch UFC 293 , you can take advantage of a discounted package. New subscribers can purchase a one-year ESPN Plus plan with access to UFC 293 included for a total of $124.98. That's more than 30% off the regular combined price of an annual membership and a UFC PPV. ESPN Plus will renew for the regular annual fee of $100 after your first year unless you cancel. UFC PPV + Annual ESPN+ Membership (Bundle) Shop at ESPN How to watch UFC 293 everywhere else If you're not in the US, you still have a few options to watch UFC 293. The fight is available to watch in the UK with TNT Sports, available as a £30 per month add-on for most major TV providers in the country (including BT, Discovery+, EE, Sky, and Virgin). In the UK , big numbered UFC events aren't usually locked behind a separate PPV paywall (unless McGregor makes a comeback, that is). Instead, they exist as a part of a regular monthly subscription service. UFC is now on TNT Sports (the new name of BT Sport), but you can still get it for a very affordable price at just £30 a month on a one-month rolling contract. You'll find TNT Sports at this price on the premium Discovery Plus package , which includes access to TNT Sports. The prelims and main card will air on TNT Sports 1. You can download the Discovery Plus app on Android, iOS, Apple TV, Amazon Fire TV, Chromecast, Samsung, LG, PlayStation, and Xbox. You can also stream it through any web browser. In Canada, UFC 293 will be available as a pay-per-view through most TV providers and directly via UFC Fight Pass . The pay-per-view costs $65. The UFC 293 main event is available on UFC Fight Pass in most other regions too, including Australia, New Zealand, Germany, Italy, Spain, Poland, Switzerland, Asia, Africa, and Brazil. Check local provider listings for other main event and prelim viewing options. Even if you're outside any of the above locations, you can still access the fight no matter where you are with a VPN. A VPN, which stands for virtual private network, bypasses geo-restrictions so you can stream UFC 293 through services carrying the fight without being in the US, UK, or Canada. A VPN also provides users with a more secure internet connection. Our top recommendation for the best VPN service is ExpressVPN . New members can get a 30-day money-back guarantee, and your first year is 49% off, plus an extra three months thrown in free for good measure. If you'd like to learn more about the app, take a look at our detailed ExpressVPN review . ExpressVPN Plan With its consistent performance, reliable security, and expansive global streaming features, ExpressVPN is the best VPN out there, excelling in every spec and offering many advanced features that makes it exceptional. Better yet, you can save up to 49% and get an extra three months for free today. Shop at ExpressVPN How to watch UFC 293 with a VPN Sign up for a VPN service like ExpressVPN . Install it on the device you're using to watch UFC 293. Activate the VPN and set it to any location supported by the streaming service you plan to use. Subscribe to a service carrying UFC 293 (see above) and pay any required PPV or subscription fees. Open your streaming app to start watching the UFC 293 main event. When: UFC 293 main card begins September 9, 10 p.m. ET / September 10, 3 a.m. BST / September 10, 4 a.m. CEST / September 10, 12 p.m. AEST. UFC 293 Fight Card : Adesanya vs. Strickland Main Card — 10:00 p.m. ET on ESPN Plus Israel Adesanya (C) vs. Sean Strickland (UFC Middleweight Championship) Tai Tuivasa vs. Alexander Volkov (Heavyweight Bout) Manel Kape vs. Felipe Dos Santos (Flyweight Bout) Justin Tafa vs. Austen Lane (Heavyweight Bout) Tyson Pedro vs. Anton Turkalj (Light Heavyweight) Prelims — 8:00 p.m. ET on ESPN and ESPN Plus Carlos Ulberg vs. Da Woon Jung (Light Heavyweight Bout) Jack Jenkins vs. Chepe Mariscal (Featherweight Bout) Jamie Mullarkey vs. John Makdessi (Lightweight Bout) Nasrat Haqparast vs. Landon Quinones (Lightweight Bout) Early Prelims — 6:30 p.m. ET on ESPN Plus and UFC Fight Pass Blood Diamond vs. Charles Radtke (Welterweight Bout) Shane Young vs. Gabriel Miranda (Featherweight Bout) Kevin Jousset vs. Kiefer Crosbie (Welterweight Bout) Note: Using VPNs is illegal in certain countries, and using VPNs to access region-locked streaming content might constitute a breach of the terms of use for certain services. Insider does not endorse or condone the illegal use of VPNs. Quentyn Kennemer Editorial Fellow Quentyn Kennemer is a career tech journalist and reporter and currently writes as an editorial fellow for Insider Reviews. A devout tech-head whose entire life story surrounds the matter, he also loves escaping to fascinating new worlds through video games. In addition to Insider, Quentyn has written and edited for top publications like Forbes, Consumer Reports, Digital Trends, and more. Read more Read less\""
            ],
            "application/vnd.google.colaboratory.intrinsic+json": {
              "type": "string"
            }
          },
          "metadata": {},
          "execution_count": 52
        }
      ]
    },
    {
      "cell_type": "code",
      "source": [
        "labelled_df.iloc[14]['content']"
      ],
      "metadata": {
        "colab": {
          "base_uri": "https://localhost:8080/",
          "height": 88
        },
        "id": "C0KaeVq81wsA",
        "outputId": "f2f21d19-e85d-4f7f-b076-d9610f818bf3"
      },
      "execution_count": null,
      "outputs": [
        {
          "output_type": "execute_result",
          "data": {
            "text/plain": [
              "\"Considering how markets are extremely sensitive to US data at the moment, it is best to be prepared for more potential landmines to come before we get to the next FOMC meeting later this month. In the next week, there are going to be some major economic releases and those will feed further into the Fed pricing outlook as noted . The big one to watch will be the CPI report on Wednesday but don't discount the impact of the other data releases as well, especially if there are going to be surprises along the way.\""
            ],
            "application/vnd.google.colaboratory.intrinsic+json": {
              "type": "string"
            }
          },
          "metadata": {},
          "execution_count": 53
        }
      ]
    },
    {
      "cell_type": "code",
      "source": [
        "labelled_df.iloc[38]['content']"
      ],
      "metadata": {
        "colab": {
          "base_uri": "https://localhost:8080/",
          "height": 141
        },
        "id": "-_xL79cK1wul",
        "outputId": "240d65d4-24a1-43bf-812f-cb6ec1872e1f"
      },
      "execution_count": null,
      "outputs": [
        {
          "output_type": "execute_result",
          "data": {
            "text/plain": [
              "'With concerns of a recession — or stock market crash — in full swing, next week’s Consumer Price Index ( CPI ) report represents perhaps the single most important economic data release ahead of the Federal Reserve’s upcoming policy decision. Indeed, the CPI report may offer insight into whether the Fed’s war on inflation is coming to a soft or emergency landing. After a surprising increase in prices in July, economists are crossing their fingers that price growth cooled in August. The headline CPI rose 3.2% on an annual basis in July, the first acceleration in more than a year. July’s hotter-than-expected inflation has stoked fears that the Fed may push the rate hike button again soon. As such, next week’s CPI report may force the Fed’s hand at its next policy meeting, Sept. 19-20. With just days between the August CPI and the FOMC meeting, the inflation data will likely prove Fed members’ final consideration before coming to a decision. And what a decision it will be. Even with fears of an imminent economic pullback eating up Wall Street, members of the Fed still aren’t satisfied with the current 5.5% benchmark rate. At the annual Jackson Hole Economic Symposium last month, Fed Chair Jerome Powell hinted that rates are liable to remain elevated — or even increase — in the foreseeable future. “We are prepared to raise rates further if appropriate, and intend to hold policy at a restrictive level until we are confident that inflation is moving sustainably down toward our objective,” he said. Recession Indicators Loom Large The major concern here is that should inflation come in higher than expected, the Fed may be pressed to raise rates yet again, a possibility that further aggravates recessionary tension in in the U.S. economy. Now, the soft-landers will argue that metrics like unemployment and consumer spending, which typically deteriorate during a recession, have been surprisingly resilient. Which has been true, at least, until recently. Indeed, the latest jobs report showed a surprising 0.3% increase in unemployment, to 3.8%, the highest level since February 2022. While this is still historically fairly strong, it also offers some validity to those suggesting an interest rate-induced recession is on the way. “The labor market is clearly cooling, with job openings falling and job growth slowing closer to sustainable levels based on the most recent data, but remains tight,” said Goldman Sachs’ Joseph Briggs . While 3.8% unemployment isn’t itself bad, it’s the suggestion that it may just be the start of a wider, more malicious downturn that has economists and analysts terrified. There’s some data that suggest that consumer spending has largely been propped up by savings and debt expenditures. In fact, credit card debt recently hit $1 trillion for the first time in history. Will the CPI Cause a Stock Market Crash? The fear is that a red-hot inflation report will invite more rate hikes, which will likely invite a slowdown in hiring, which will, in itself, invite a reversal in spending. When consumer spending falls, so do earnings. And when earnings crash, well, so does the wider stock market. The notion that the economy hasn’t fully digested the full brunt of the Fed’s previous rate hikes is an even more terrifying suggestion, given the overwhelming expectation that the central bank isn’t done raising rates yet. Should everything hit all at once, the notion of a soft landing quickly devolves into an emergency landing as the economy slips into recession. On the date of publication, Shrey Dua did not hold (either directly or indirectly) any positions in the securities mentioned in this article. The opinions expressed in this article are those of the writer, subject to the InvestorPlace.com Publishing Guidelines .'"
            ],
            "application/vnd.google.colaboratory.intrinsic+json": {
              "type": "string"
            }
          },
          "metadata": {},
          "execution_count": 54
        }
      ]
    },
    {
      "cell_type": "code",
      "source": [
        "def predict_sentiment(news_article):\n",
        "    # Sample text\n",
        "    text = news_article\n",
        "\n",
        "    # Analyze sentiment\n",
        "    sentiment_scores = analyzer.polarity_scores(text)\n",
        "\n",
        "    # Interpret the sentiment scores\n",
        "    compound_score = sentiment_scores['compound']\n",
        "\n",
        "    # based on score denote the sentiment\n",
        "    sentiment = tranform_score(compound_score)\n",
        "\n",
        "    return sentiment"
      ],
      "metadata": {
        "id": "5IrHTXpa1ww2"
      },
      "execution_count": null,
      "outputs": []
    },
    {
      "cell_type": "code",
      "source": [
        "predict_sentiment(labelled_df.iloc[38]['content'])"
      ],
      "metadata": {
        "colab": {
          "base_uri": "https://localhost:8080/",
          "height": 35
        },
        "id": "8zcy8l2x7NVG",
        "outputId": "49005381-5800-4c06-b4f1-831329064981"
      },
      "execution_count": null,
      "outputs": [
        {
          "output_type": "execute_result",
          "data": {
            "text/plain": [
              "'Negative'"
            ],
            "application/vnd.google.colaboratory.intrinsic+json": {
              "type": "string"
            }
          },
          "metadata": {},
          "execution_count": 77
        }
      ]
    },
    {
      "cell_type": "code",
      "source": [
        "for i in [2,14,38]:\n",
        "  news_article = labelled_df.iloc[i]['content']\n",
        "  print(f' Sentiment: \"{predict_sentiment(news_article)}\" for {news_article}  ')"
      ],
      "metadata": {
        "colab": {
          "base_uri": "https://localhost:8080/"
        },
        "id": "QOxr76jl1wy-",
        "outputId": "9653ec2e-1f47-4e9e-e73c-ce5079cb03a0"
      },
      "execution_count": null,
      "outputs": [
        {
          "output_type": "stream",
          "name": "stdout",
          "text": [
            " Sentiment: \"Positive\" for When you buy through our links, Insider may earn an affiliate commission. Learn more Everyone should be excited for UFC 293's main card. It features middleweight champion Israel Adesanya defending his newly regained title against Sean Strickland, the first defense of this reign. We'll show you how to watch Adesanya vs. Strickland live streams live, no matter where you are. In addition to the middleweight championship fight, UFC is billing a heavyweight fight between Tai Tuivasa and Alexander Volkov as co-main event. There are many other fights leading up to these main events, so we'll show you how to watch UFC 293 live streams in the US, UK, and more. The main card pay-per-view livestream is exclusive to ESPN Plus members in the US, but if you're outside the country, you can tap into a few international viewing options. We'll also guide you step-by-step on how to use a VPN to watch UFC 293, no matter where you are. You might even find some of the international viewing options we've found are cheaper than your home country, and a VPN is a great way to save on pricy PPV fees. UFC 293 livestream quick links US Main Card: ESPN Plus ($80 PPV fee plus $10/month membership) US Prelims: ESPNews or ESPN Plus ($10/month) UK: TNT Sports (available for £30/month via Discovery Plus) Canada: UFC Fight Pass or cable PPV ($65) Watch from anywhere: Use ExpressVPN (try it risk-free for 30 days) to access any streaming options no matter where you are When: UFC 293 main card begins September 9, 10 p.m. ET / September 10, 3 a.m. BST / September 10, 4 a.m. CEST / September 10, 12 p.m. AEST How to watch UFC 293 in the US US viewers can watch the main event of UFC 293 on ESPN Plus tonight at 10 p.m. ET. The main card requires an ESPN Plus subscription ($10/month) and an extra pay-per-view fee of $80. Before the main event, fans can watch the early prelims (6:30 p.m. ET) and prelims (8 p.m. ET) using a $10 monthly ESPN Plus membership with no added fee. The ESPN Plus app is available on all the best streaming devices , including Amazon Fire, Apple, Android, Chromecast, PlayStation, Xbox, Roku, Samsung smart TVs, and more. UFC PPV on ESPN+ (standalone event) Shop at ESPN+ Ways to save on the UFC 293 pay-per-view price If you're not already a member and plan to sign up for ESPN Plus to watch UFC 293 , you can take advantage of a discounted package. New subscribers can purchase a one-year ESPN Plus plan with access to UFC 293 included for a total of $124.98. That's more than 30% off the regular combined price of an annual membership and a UFC PPV. ESPN Plus will renew for the regular annual fee of $100 after your first year unless you cancel. UFC PPV + Annual ESPN+ Membership (Bundle) Shop at ESPN How to watch UFC 293 everywhere else If you're not in the US, you still have a few options to watch UFC 293. The fight is available to watch in the UK with TNT Sports, available as a £30 per month add-on for most major TV providers in the country (including BT, Discovery+, EE, Sky, and Virgin). In the UK , big numbered UFC events aren't usually locked behind a separate PPV paywall (unless McGregor makes a comeback, that is). Instead, they exist as a part of a regular monthly subscription service. UFC is now on TNT Sports (the new name of BT Sport), but you can still get it for a very affordable price at just £30 a month on a one-month rolling contract. You'll find TNT Sports at this price on the premium Discovery Plus package , which includes access to TNT Sports. The prelims and main card will air on TNT Sports 1. You can download the Discovery Plus app on Android, iOS, Apple TV, Amazon Fire TV, Chromecast, Samsung, LG, PlayStation, and Xbox. You can also stream it through any web browser. In Canada, UFC 293 will be available as a pay-per-view through most TV providers and directly via UFC Fight Pass . The pay-per-view costs $65. The UFC 293 main event is available on UFC Fight Pass in most other regions too, including Australia, New Zealand, Germany, Italy, Spain, Poland, Switzerland, Asia, Africa, and Brazil. Check local provider listings for other main event and prelim viewing options. Even if you're outside any of the above locations, you can still access the fight no matter where you are with a VPN. A VPN, which stands for virtual private network, bypasses geo-restrictions so you can stream UFC 293 through services carrying the fight without being in the US, UK, or Canada. A VPN also provides users with a more secure internet connection. Our top recommendation for the best VPN service is ExpressVPN . New members can get a 30-day money-back guarantee, and your first year is 49% off, plus an extra three months thrown in free for good measure. If you'd like to learn more about the app, take a look at our detailed ExpressVPN review . ExpressVPN Plan With its consistent performance, reliable security, and expansive global streaming features, ExpressVPN is the best VPN out there, excelling in every spec and offering many advanced features that makes it exceptional. Better yet, you can save up to 49% and get an extra three months for free today. Shop at ExpressVPN How to watch UFC 293 with a VPN Sign up for a VPN service like ExpressVPN . Install it on the device you're using to watch UFC 293. Activate the VPN and set it to any location supported by the streaming service you plan to use. Subscribe to a service carrying UFC 293 (see above) and pay any required PPV or subscription fees. Open your streaming app to start watching the UFC 293 main event. When: UFC 293 main card begins September 9, 10 p.m. ET / September 10, 3 a.m. BST / September 10, 4 a.m. CEST / September 10, 12 p.m. AEST. UFC 293 Fight Card : Adesanya vs. Strickland Main Card — 10:00 p.m. ET on ESPN Plus Israel Adesanya (C) vs. Sean Strickland (UFC Middleweight Championship) Tai Tuivasa vs. Alexander Volkov (Heavyweight Bout) Manel Kape vs. Felipe Dos Santos (Flyweight Bout) Justin Tafa vs. Austen Lane (Heavyweight Bout) Tyson Pedro vs. Anton Turkalj (Light Heavyweight) Prelims — 8:00 p.m. ET on ESPN and ESPN Plus Carlos Ulberg vs. Da Woon Jung (Light Heavyweight Bout) Jack Jenkins vs. Chepe Mariscal (Featherweight Bout) Jamie Mullarkey vs. John Makdessi (Lightweight Bout) Nasrat Haqparast vs. Landon Quinones (Lightweight Bout) Early Prelims — 6:30 p.m. ET on ESPN Plus and UFC Fight Pass Blood Diamond vs. Charles Radtke (Welterweight Bout) Shane Young vs. Gabriel Miranda (Featherweight Bout) Kevin Jousset vs. Kiefer Crosbie (Welterweight Bout) Note: Using VPNs is illegal in certain countries, and using VPNs to access region-locked streaming content might constitute a breach of the terms of use for certain services. Insider does not endorse or condone the illegal use of VPNs. Quentyn Kennemer Editorial Fellow Quentyn Kennemer is a career tech journalist and reporter and currently writes as an editorial fellow for Insider Reviews. A devout tech-head whose entire life story surrounds the matter, he also loves escaping to fascinating new worlds through video games. In addition to Insider, Quentyn has written and edited for top publications like Forbes, Consumer Reports, Digital Trends, and more. Read more Read less  \n",
            " Sentiment: \"Positive\" for Considering how markets are extremely sensitive to US data at the moment, it is best to be prepared for more potential landmines to come before we get to the next FOMC meeting later this month. In the next week, there are going to be some major economic releases and those will feed further into the Fed pricing outlook as noted . The big one to watch will be the CPI report on Wednesday but don't discount the impact of the other data releases as well, especially if there are going to be surprises along the way.  \n",
            " Sentiment: \"Negative\" for With concerns of a recession — or stock market crash — in full swing, next week’s Consumer Price Index ( CPI ) report represents perhaps the single most important economic data release ahead of the Federal Reserve’s upcoming policy decision. Indeed, the CPI report may offer insight into whether the Fed’s war on inflation is coming to a soft or emergency landing. After a surprising increase in prices in July, economists are crossing their fingers that price growth cooled in August. The headline CPI rose 3.2% on an annual basis in July, the first acceleration in more than a year. July’s hotter-than-expected inflation has stoked fears that the Fed may push the rate hike button again soon. As such, next week’s CPI report may force the Fed’s hand at its next policy meeting, Sept. 19-20. With just days between the August CPI and the FOMC meeting, the inflation data will likely prove Fed members’ final consideration before coming to a decision. And what a decision it will be. Even with fears of an imminent economic pullback eating up Wall Street, members of the Fed still aren’t satisfied with the current 5.5% benchmark rate. At the annual Jackson Hole Economic Symposium last month, Fed Chair Jerome Powell hinted that rates are liable to remain elevated — or even increase — in the foreseeable future. “We are prepared to raise rates further if appropriate, and intend to hold policy at a restrictive level until we are confident that inflation is moving sustainably down toward our objective,” he said. Recession Indicators Loom Large The major concern here is that should inflation come in higher than expected, the Fed may be pressed to raise rates yet again, a possibility that further aggravates recessionary tension in in the U.S. economy. Now, the soft-landers will argue that metrics like unemployment and consumer spending, which typically deteriorate during a recession, have been surprisingly resilient. Which has been true, at least, until recently. Indeed, the latest jobs report showed a surprising 0.3% increase in unemployment, to 3.8%, the highest level since February 2022. While this is still historically fairly strong, it also offers some validity to those suggesting an interest rate-induced recession is on the way. “The labor market is clearly cooling, with job openings falling and job growth slowing closer to sustainable levels based on the most recent data, but remains tight,” said Goldman Sachs’ Joseph Briggs . While 3.8% unemployment isn’t itself bad, it’s the suggestion that it may just be the start of a wider, more malicious downturn that has economists and analysts terrified. There’s some data that suggest that consumer spending has largely been propped up by savings and debt expenditures. In fact, credit card debt recently hit $1 trillion for the first time in history. Will the CPI Cause a Stock Market Crash? The fear is that a red-hot inflation report will invite more rate hikes, which will likely invite a slowdown in hiring, which will, in itself, invite a reversal in spending. When consumer spending falls, so do earnings. And when earnings crash, well, so does the wider stock market. The notion that the economy hasn’t fully digested the full brunt of the Fed’s previous rate hikes is an even more terrifying suggestion, given the overwhelming expectation that the central bank isn’t done raising rates yet. Should everything hit all at once, the notion of a soft landing quickly devolves into an emergency landing as the economy slips into recession. On the date of publication, Shrey Dua did not hold (either directly or indirectly) any positions in the securities mentioned in this article. The opinions expressed in this article are those of the writer, subject to the InvestorPlace.com Publishing Guidelines .  \n"
          ]
        }
      ]
    },
    {
      "cell_type": "markdown",
      "source": [
        "ChatGPT respones for `labelled_df.iloc[14]['content']`:\n",
        ">The provided phrase seems to have a somewhat neutral tone with a hint of caution. It discusses the sensitivity of the markets to US data and the need to be prepared for potential challenges before the next FOMC meeting. It also mentions upcoming economic releases and the importance of the CPI report. Overall, it's a balanced statement with neither strongly positive nor negative sentiment.\n",
        "So, it can be categorized as \"Neutral.\"\n",
        "\n",
        "THe second one should have been negative. If not negative atleast neutral as mentioned by ChatGPT. Any method that is giving you neutral is good enough to categorize to find the label of the data.\n"
      ],
      "metadata": {
        "id": "mvJIOyBJ73M0"
      }
    },
    {
      "cell_type": "markdown",
      "source": [
        "## 2.Using TextBlob"
      ],
      "metadata": {
        "id": "fhaNRNsW80AU"
      }
    },
    {
      "cell_type": "code",
      "source": [
        "!pip install textblob"
      ],
      "metadata": {
        "colab": {
          "base_uri": "https://localhost:8080/"
        },
        "id": "D83BAtXn8zz3",
        "outputId": "30e6d109-f372-44ba-d741-b8368781463c"
      },
      "execution_count": null,
      "outputs": [
        {
          "output_type": "stream",
          "name": "stdout",
          "text": [
            "Requirement already satisfied: textblob in /usr/local/lib/python3.10/dist-packages (0.17.1)\n",
            "Requirement already satisfied: nltk>=3.1 in /usr/local/lib/python3.10/dist-packages (from textblob) (3.8.1)\n",
            "Requirement already satisfied: click in /usr/local/lib/python3.10/dist-packages (from nltk>=3.1->textblob) (8.1.7)\n",
            "Requirement already satisfied: joblib in /usr/local/lib/python3.10/dist-packages (from nltk>=3.1->textblob) (1.3.2)\n",
            "Requirement already satisfied: regex>=2021.8.3 in /usr/local/lib/python3.10/dist-packages (from nltk>=3.1->textblob) (2023.6.3)\n",
            "Requirement already satisfied: tqdm in /usr/local/lib/python3.10/dist-packages (from nltk>=3.1->textblob) (4.66.1)\n"
          ]
        }
      ]
    },
    {
      "cell_type": "code",
      "source": [
        "from textblob import TextBlob"
      ],
      "metadata": {
        "id": "TbaBsIqJ1w0s"
      },
      "execution_count": null,
      "outputs": []
    },
    {
      "cell_type": "code",
      "source": [
        "def predict_sentiment_textblob(news_article):\n",
        "\n",
        "    # Sample text\n",
        "    text = news_article\n",
        "\n",
        "    # Analyze sentiment\n",
        "    analysis = TextBlob(text)\n",
        "\n",
        "    # Interpret the sentiment\n",
        "    polarity = analysis.sentiment.polarity\n",
        "\n",
        "    if polarity > 0:\n",
        "        sentiment = \"Positive\"\n",
        "    elif polarity < 0:\n",
        "        sentiment = \"Negative\"\n",
        "    else:\n",
        "        sentiment = \"Neutral\"\n",
        "\n",
        "    return sentiment"
      ],
      "metadata": {
        "id": "yQH6QzSp1w8E"
      },
      "execution_count": null,
      "outputs": []
    },
    {
      "cell_type": "code",
      "source": [
        "predict_sentiment_textblob(labelled_df.iloc[14]['content'])"
      ],
      "metadata": {
        "colab": {
          "base_uri": "https://localhost:8080/",
          "height": 35
        },
        "id": "VvYoC3mr9iYH",
        "outputId": "d2a6aaec-ecbd-453f-93a8-4836704d70f3"
      },
      "execution_count": null,
      "outputs": [
        {
          "output_type": "execute_result",
          "data": {
            "text/plain": [
              "'Positive'"
            ],
            "application/vnd.google.colaboratory.intrinsic+json": {
              "type": "string"
            }
          },
          "metadata": {},
          "execution_count": 84
        }
      ]
    },
    {
      "cell_type": "markdown",
      "source": [
        "## 3.Using a Pre-trained Model (VADER)"
      ],
      "metadata": {
        "id": "5t8IMbX2-dkE"
      }
    },
    {
      "cell_type": "code",
      "source": [
        "# Example using NLTK and the VADER lexicon-based model\n",
        "import nltk\n",
        "from nltk.sentiment.vader import SentimentIntensityAnalyzer"
      ],
      "metadata": {
        "id": "d18s7DQw-bRt"
      },
      "execution_count": null,
      "outputs": []
    },
    {
      "cell_type": "code",
      "source": [
        "# Download the VADER lexicon (if not already downloaded)\n",
        "nltk.download('vader_lexicon')"
      ],
      "metadata": {
        "colab": {
          "base_uri": "https://localhost:8080/"
        },
        "id": "Iitg2yy6-bU0",
        "outputId": "8d9e6b3b-03b2-4c9f-877d-ad549d516caa"
      },
      "execution_count": null,
      "outputs": [
        {
          "output_type": "stream",
          "name": "stderr",
          "text": [
            "[nltk_data] Downloading package vader_lexicon to /root/nltk_data...\n"
          ]
        },
        {
          "output_type": "execute_result",
          "data": {
            "text/plain": [
              "True"
            ]
          },
          "metadata": {},
          "execution_count": 88
        }
      ]
    },
    {
      "cell_type": "code",
      "source": [
        "def predict_sentiment_nltk_vader(news_article):\n",
        "    # Initialize the VADER sentiment analyzer\n",
        "    analyzer = SentimentIntensityAnalyzer()\n",
        "\n",
        "    # Sample text\n",
        "    text = news_article\n",
        "\n",
        "    # Analyze sentiment\n",
        "    sentiment_scores = analyzer.polarity_scores(text)\n",
        "\n",
        "    # Interpret the sentiment scores\n",
        "    compound_score = sentiment_scores['compound']\n",
        "\n",
        "    if compound_score >= 0.05:\n",
        "        sentiment = \"Positive\"\n",
        "    elif compound_score <= -0.05:\n",
        "        sentiment = \"Negative\"\n",
        "    else:\n",
        "        sentiment = \"Neutral\"\n",
        "\n",
        "    return sentiment"
      ],
      "metadata": {
        "id": "wKhgfkY9-bX_"
      },
      "execution_count": null,
      "outputs": []
    },
    {
      "cell_type": "code",
      "source": [
        "predict_sentiment_nltk_vader(labelled_df.iloc[0]['content'])"
      ],
      "metadata": {
        "colab": {
          "base_uri": "https://localhost:8080/",
          "height": 35
        },
        "id": "GU3bOm1t-bar",
        "outputId": "f25a632c-b427-4d60-ae3f-bb09477e2c2f"
      },
      "execution_count": null,
      "outputs": [
        {
          "output_type": "execute_result",
          "data": {
            "text/plain": [
              "'Positive'"
            ],
            "application/vnd.google.colaboratory.intrinsic+json": {
              "type": "string"
            }
          },
          "metadata": {},
          "execution_count": 90
        }
      ]
    },
    {
      "cell_type": "code",
      "source": [
        "predict_sentiment_nltk_vader(labelled_df.iloc[2]['content']), \\\n",
        "predict_sentiment_nltk_vader(labelled_df.iloc[14]['content']), \\\n",
        "predict_sentiment_nltk_vader(labelled_df.iloc[38]['content'])"
      ],
      "metadata": {
        "colab": {
          "base_uri": "https://localhost:8080/"
        },
        "id": "t0s0o4fj-bdX",
        "outputId": "043fe7e0-8917-4b2e-ff99-53869484d5ba"
      },
      "execution_count": null,
      "outputs": [
        {
          "output_type": "execute_result",
          "data": {
            "text/plain": [
              "('Positive', 'Positive', 'Negative')"
            ]
          },
          "metadata": {},
          "execution_count": 91
        }
      ]
    },
    {
      "cell_type": "markdown",
      "source": [
        "## Using BERT family models to create a labelled data.\n",
        "\n",
        "* Refere to [link](https://www.notion.so/mekongdelta/MACHINE-LEARNING-COMPETITION-by-TradingGEN-4412d3cd718e41a1b4057d73b7e711d2?pvs=4#07eab6ab22024bee9dc0073f33c6ea33)\n",
        "  * this is the best way to label the data because it understand the context, teh meaning behind it. others just focus on teh keywords. So focus on labelling the data using the BERT GPT models or llama.\n",
        "\n",
        "* https://www.notion.so/mekongdelta/Sentiment-Analysis-on-News-Headlines-Classic-Supervised-Learning-vs-Deep-Learning-Approach-d67059f751c54ef1a2877017e1ac944d\n",
        "  * here the snorkel technique can be used for labelling the unlabbeled dataset\n",
        "\n",
        "* https://www.notion.so/mekongdelta/Sentiment-Analysis-on-Reddit-News-Headlines-with-Python-s-Natural-Language-Toolkit-NLTK-3c064e6937a644009c97221703748391"
      ],
      "metadata": {
        "id": "hskeOHgP_kNr"
      }
    },
    {
      "cell_type": "code",
      "source": [],
      "metadata": {
        "id": "yLli4JDy_oGC"
      },
      "execution_count": null,
      "outputs": []
    },
    {
      "cell_type": "code",
      "source": [],
      "metadata": {
        "id": "5zSunV1Z_oDx"
      },
      "execution_count": null,
      "outputs": []
    },
    {
      "cell_type": "code",
      "source": [],
      "metadata": {
        "id": "_-2SjCgu_oAD"
      },
      "execution_count": null,
      "outputs": []
    },
    {
      "cell_type": "code",
      "source": [],
      "metadata": {
        "id": "chqGeJQV_n9F"
      },
      "execution_count": null,
      "outputs": []
    },
    {
      "cell_type": "code",
      "source": [],
      "metadata": {
        "id": "uytzVnEJ_n6M"
      },
      "execution_count": null,
      "outputs": []
    },
    {
      "cell_type": "code",
      "source": [],
      "metadata": {
        "id": "ey9Twlgq_n3Z"
      },
      "execution_count": null,
      "outputs": []
    },
    {
      "cell_type": "code",
      "source": [],
      "metadata": {
        "id": "nu3wCHV7_n0e"
      },
      "execution_count": null,
      "outputs": []
    },
    {
      "cell_type": "code",
      "source": [],
      "metadata": {
        "id": "V3ED6-HB_nxL"
      },
      "execution_count": null,
      "outputs": []
    },
    {
      "cell_type": "code",
      "source": [],
      "metadata": {
        "id": "4llivgFX_ntp"
      },
      "execution_count": null,
      "outputs": []
    },
    {
      "cell_type": "code",
      "source": [],
      "metadata": {
        "id": "ITFXi1ur_npZ"
      },
      "execution_count": null,
      "outputs": []
    },
    {
      "cell_type": "code",
      "source": [],
      "metadata": {
        "id": "MPZ32M6m_nmk"
      },
      "execution_count": null,
      "outputs": []
    },
    {
      "cell_type": "markdown",
      "source": [
        "Inferences ;\n",
        "\n",
        "Columns selected:\n",
        "  * the content column has all the values, so take that for your analysis\n",
        "  *"
      ],
      "metadata": {
        "id": "nbRdvZNozwNk"
      }
    },
    {
      "cell_type": "markdown",
      "source": [
        "# Gradio\n"
      ],
      "metadata": {
        "id": "ZdKcuwaDGPLr"
      }
    },
    {
      "cell_type": "markdown",
      "source": [
        "For each step in the pdf, create a method for the gradio app."
      ],
      "metadata": {
        "id": "SHMfKOe5GRMh"
      }
    },
    {
      "cell_type": "code",
      "source": [
        "!pip install gradio"
      ],
      "metadata": {
        "id": "P24kK1SuGQiY"
      },
      "execution_count": null,
      "outputs": []
    },
    {
      "cell_type": "code",
      "source": [
        "import gradio as gr"
      ],
      "metadata": {
        "id": "L_8LC6YnHN70"
      },
      "execution_count": null,
      "outputs": []
    },
    {
      "cell_type": "code",
      "source": [
        "demo = gr.Blocks()\n",
        "\n",
        "# import numpy as np\n",
        "\n",
        "# target_dtype = np.int16\n",
        "# max_range = np.iinfo(target_dtype).max\n",
        "\n",
        "\n",
        "# def speech_to_speech_translation(audio):\n",
        "#     translated_text = translate(audio)\n",
        "#     synthesised_speech = synthesize(translated_text)\n",
        "#     synthesised_speech = (synthesised_speech.numpy() * max_range).astype(np.int16)\n",
        "#     return 16000, synthesised_speech\n",
        "\n",
        "# mic_translate = gr.Interface(\n",
        "#     fn=speech_to_speech_translation,\n",
        "#     inputs=gr.Audio(source=\"microphone\", type=\"filepath\"),\n",
        "#     outputs=gr.Audio(label=\"Generated Speech\", type=\"numpy\"),\n",
        "# )\n",
        "# file_translate = gr.Interface(\n",
        "#     fn=speech_to_speech_translation,\n",
        "#     inputs=gr.Audio(source=\"upload\", type=\"filepath\"),\n",
        "#     outputs=gr.Audio(label=\"Generated Speech\", type=\"numpy\"),\n",
        "# )\n",
        "#\n",
        "# only one interface of may be more than one each for sentiment analysis and data vizulization\n",
        "# # Interface 1\n",
        "# file_translate = gr.Interface(\n",
        "#     fn=sentiment_anlysis_engine, # function's name to predict the sentiment and score\n",
        "#     inputs=gr.Audio(source=\"upload\", type=\"filepath\"), # taking phrase as input or direct call the api to get the input\n",
        "#     outputs=gr.Audio(label=\"Generated Speech\", type=\"numpy\"), # getting the sentiment as one of (negative,positive or neutral) and a score.\n",
        "# )\n",
        "\n",
        "#Interface 2 (this is tentative)\n",
        "# file_translate = gr.Interface(\n",
        "#     fn=sentiments_data_viz, # function's name to create a data viz of sentiment\n",
        "#     inputs=gr.Audio(source=\"upload\", type=\"filepath\"), # for a specific date  we can check the sentiment distribution, word clouds for each category and as a whole\n",
        "#     outputs=gr.Audio(label=\"Generated Speech\", type=\"numpy\"), # check how to get data vizualization in gradio\n",
        "# )\n",
        "\n"
      ],
      "metadata": {
        "id": "3OqzyBOrHSoN"
      },
      "execution_count": null,
      "outputs": []
    },
    {
      "cell_type": "markdown",
      "source": [
        "Selected Data vizs are:\n",
        "* Bar Charts and Histograms: These are simple and effective for showing sentiment distribution. Each sentiment category (positive, negative, neutral) is represented as a bar, and the height of the bar corresponds to the frequency or percentage of each sentiment in the dataset.\n",
        "\n",
        "* Pie Charts: Pie charts can show the proportion of each sentiment class in the dataset. Each sentiment category is represented as a slice of the pie, with the size of the slice corresponding to its relative frequency\n",
        "\n",
        "* Word Clouds: Word clouds visually display the most frequent words in a text corpus. You can create separate word clouds for positive, negative, and neutral sentiments, with word size indicating word frequency.\n",
        "\n",
        "* Heatmaps: Heatmaps can show sentiment distribution across different categories or topics. Rows and columns represent categories or topics, and each cell's color intensity indicates the sentiment strength or frequency."
      ],
      "metadata": {
        "id": "DRbATkXvLU-e"
      }
    },
    {
      "cell_type": "code",
      "source": [
        "with demo:\n",
        "    gr.TabbedInterface([mic_translate, file_translate], [\"Microphone\", \"Audio File\"])\n",
        "\n",
        "demo.launch(debug=True)"
      ],
      "metadata": {
        "id": "p743cYEzHbPr"
      },
      "execution_count": null,
      "outputs": []
    },
    {
      "cell_type": "markdown",
      "source": [
        "# References:"
      ],
      "metadata": {
        "id": "pOEVWEzUGqBe"
      }
    },
    {
      "cell_type": "markdown",
      "source": [
        "1. [HF Audio course hands on](https://github.com/MekongDelta-mind/hf_audio_course/blob/main/hands_on_unit_7_hf_audio.ipynb)"
      ],
      "metadata": {
        "id": "fKk70hhyGrnO"
      }
    },
    {
      "cell_type": "markdown",
      "source": [
        "# GenAI discussions"
      ],
      "metadata": {
        "id": "rtY-xhO9LHOP"
      }
    },
    {
      "cell_type": "markdown",
      "source": [
        "<details>\n",
        "  <summary>What are the different kinds of data vizualization used for representing sentiment outputs from a sentiment anlaysis models?</summary>\n",
        "  Visualizing sentiment analysis results can provide valuable insights into the sentiment distribution of a dataset. Several data visualization techniques are commonly used to represent sentiment outputs:\n",
        "\n",
        "1. **Bar Charts and Histograms:** These are simple and effective for showing sentiment distribution. Each sentiment category (positive, negative, neutral) is represented as a bar, and the height of the bar corresponds to the frequency or percentage of each sentiment in the dataset.\n",
        "\n",
        "2. **Pie Charts:** Pie charts can show the proportion of each sentiment class in the dataset. Each sentiment category is represented as a slice of the pie, with the size of the slice corresponding to its relative frequency.\n",
        "\n",
        "3. **Line Charts:** Line charts can be used to visualize changes in sentiment over time, especially in time-series data. For example, you can track how sentiment towards a product or topic evolves over weeks or months.\n",
        "\n",
        "4. **Heatmaps:** Heatmaps can show sentiment distribution across different categories or topics. Rows and columns represent categories or topics, and each cell's color intensity indicates the sentiment strength or frequency.\n",
        "\n",
        "5. **Scatter Plots:** Scatter plots can be used when sentiment scores are continuous or have a range. Each data point represents a document or text, and the x-axis can represent one sentiment score (e.g., positive), while the y-axis represents another (e.g., negative).\n",
        "\n",
        "6. **Word Clouds:** Word clouds visually display the most frequent words in a text corpus. You can create separate word clouds for positive, negative, and neutral sentiments, with word size indicating word frequency.\n",
        "\n",
        "7. **Stacked Bar Charts:** Stacked bar charts show the composition of sentiment within different categories or topics. Each bar is divided into segments, and each segment represents a sentiment category.\n",
        "\n",
        "8. **Sentiment Timeline:** This type of visualization plots sentiment scores over time, showing how sentiment fluctuates. It can be useful for tracking public sentiment on social media or news articles.\n",
        "\n",
        "9. **Box Plots and Violin Plots:** These plots show the distribution of sentiment scores, including measures such as median, quartiles, and outliers. They are particularly useful for comparing sentiment across different groups or categories.\n",
        "\n",
        "10. **Chord Diagrams:** Chord diagrams represent relationships between sentiment categories or topics. The thickness of the chords connecting categories indicates the strength of the relationship.\n",
        "\n",
        "11. **Network Graphs:** Network graphs can be used to visualize co-occurrence relationships between words or entities within different sentiment categories. Nodes represent words or entities, and edges represent co-occurrence relationships.\n",
        "\n",
        "12. **Geospatial Maps:** If sentiment analysis is applied to data with geographical information, you can visualize sentiment distribution on maps. Different regions or countries can be colored based on the predominant sentiment.\n",
        "\n",
        "The choice of visualization depends on the nature of your data, the research questions you want to answer, and the audience you want to communicate with. Often, a combination of these visualization types can provide a comprehensive view of sentiment analysis results.\n",
        "</details>"
      ],
      "metadata": {
        "id": "BEYtGQOCLKK7"
      }
    },
    {
      "cell_type": "code",
      "source": [],
      "metadata": {
        "id": "fQlUQCz6GrS4"
      },
      "execution_count": null,
      "outputs": []
    }
  ]
}
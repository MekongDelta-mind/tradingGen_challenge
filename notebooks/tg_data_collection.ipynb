{
  "cells": [
    {
      "cell_type": "markdown",
      "metadata": {
        "id": "H6CKTRA0oSY3"
      },
      "source": [
        "This is the notebook to get the data into somewhat a clean format. And then use the same csv for your further usage.\n",
        "Implement the samething into the main notebook where every code will be present."
      ]
    },
    {
      "cell_type": "markdown",
      "metadata": {
        "id": "-W1LpgKT85cH"
      },
      "source": [
        "# Newsapi.org"
      ]
    },
    {
      "cell_type": "code",
      "execution_count": null,
      "metadata": {
        "colab": {
          "base_uri": "https://localhost:8080/"
        },
        "id": "zCawsIUPoPXq",
        "outputId": "2db41db6-c69d-4f2d-9310-9016c00ff810"
      },
      "outputs": [
        {
          "name": "stdout",
          "output_type": "stream",
          "text": [
            "Collecting newsapi-python\n",
            "  Downloading newsapi_python-0.2.7-py2.py3-none-any.whl (7.9 kB)\n",
            "Requirement already satisfied: requests<3.0.0 in /usr/local/lib/python3.10/dist-packages (from newsapi-python) (2.31.0)\n",
            "Requirement already satisfied: charset-normalizer<4,>=2 in /usr/local/lib/python3.10/dist-packages (from requests<3.0.0->newsapi-python) (3.2.0)\n",
            "Requirement already satisfied: idna<4,>=2.5 in /usr/local/lib/python3.10/dist-packages (from requests<3.0.0->newsapi-python) (3.4)\n",
            "Requirement already satisfied: urllib3<3,>=1.21.1 in /usr/local/lib/python3.10/dist-packages (from requests<3.0.0->newsapi-python) (2.0.4)\n",
            "Requirement already satisfied: certifi>=2017.4.17 in /usr/local/lib/python3.10/dist-packages (from requests<3.0.0->newsapi-python) (2023.7.22)\n",
            "Installing collected packages: newsapi-python\n",
            "Successfully installed newsapi-python-0.2.7\n"
          ]
        }
      ],
      "source": [
        "!pip install newsapi-python"
      ]
    },
    {
      "cell_type": "code",
      "execution_count": null,
      "metadata": {
        "id": "867C_0HDsqB1"
      },
      "outputs": [],
      "source": [
        "from newsapi import NewsApiClient"
      ]
    },
    {
      "cell_type": "code",
      "execution_count": null,
      "metadata": {
        "id": "z-TKhPB6swiU"
      },
      "outputs": [],
      "source": [
        "# Init\n",
        "newsapi = NewsApiClient(api_key='d103f4cb90fe450dab3239ba7e277bf2')"
      ]
    },
    {
      "cell_type": "code",
      "execution_count": null,
      "metadata": {
        "id": "bAkroFzVuEFW"
      },
      "outputs": [],
      "source": [
        "# /v2/everything\n",
        "all_articles = newsapi.get_everything(q='stock market',\n",
        "                                      # sources='bbc-news,the-verge',\n",
        "                                      # domains='bbc.co.uk,techcrunch.com',\n",
        "                                      from_param='2023-09-10',\n",
        "                                      to='2023-08-10',\n",
        "                                      language='en',\n",
        "                                      sort_by='relevancy',\n",
        "                                      page=4)"
      ]
    },
    {
      "cell_type": "code",
      "execution_count": null,
      "metadata": {
        "colab": {
          "base_uri": "https://localhost:8080/"
        },
        "collapsed": true,
        "id": "O094sYjtvXPl",
        "jupyter": {
          "outputs_hidden": true
        },
        "outputId": "94c93061-616b-4ef8-ce27-d38e97dbd9f8",
        "tags": []
      },
      "outputs": [
        {
          "data": {
            "text/plain": [
              "{'status': 'ok',\n",
              " 'totalResults': 35767,\n",
              " 'articles': [{'source': {'id': None, 'name': 'Autoblog'},\n",
              "   'author': 'Associated Press',\n",
              "   'title': 'Profit at Honda doubles on strong global sales of cars and motorcycles',\n",
              "   'description': 'Filed under:\\n Earnings/Financials,Acura,Honda\\n Continue reading Profit at Honda doubles on strong global sales of cars and motorcycles\\nProfit at Honda doubles on strong global sales of cars and motorcycles originally appeared on Autoblog on Thu, 10 Aug 2023 0…',\n",
              "   'url': 'https://www.autoblog.com/2023/08/10/honda-profits-up-car-motorcycle-sales/',\n",
              "   'urlToImage': 'https://o.aolcdn.com/images/dims3/GLOB/legacy_thumbnail/1062x597/format/jpg/quality/100/https://s.yimg.com/os/creatr-uploaded-images/2023-08/c82abae0-377c-11ee-bdf5-43e90a973d73',\n",
              "   'publishedAt': '2023-08-10T12:52:00Z',\n",
              "   'content': 'TOKYO Honda reported Wednesday that its April-June profit more than doubled on healthy sales of its motorcycles and cars, as the Japanese company also received a perk from favorable exchange rates.\\r\\n… [+2063 chars]'},\n",
              "  {'source': {'id': None, 'name': 'Quartz India'},\n",
              "   'author': 'Alanna Durkin Richer, Associated Press',\n",
              "   'title': 'Russian man with Kremlin ties gets 9 years in US prison for hacking and insider trading scheme',\n",
              "   'description': 'BOSTON (AP) — A wealthy Russian businessman with ties to the Kremlin was sentenced Thursday to nine years in prison for his role in a nearly $100 million stock market cheating scheme that relied on secret earnings information stolen through the hacking of U.S…',\n",
              "   'url': 'https://qz.com/russian-man-with-kremlin-ties-gets-9-years-in-us-prison-1850812698',\n",
              "   'urlToImage': 'https://i.kinja-img.com/gawker-media/image/upload/c_fill,f_auto,fl_progressive,g_center,h_675,pg_1,q_80,w_1200/6030ac53cf5a4916defff0262ca74401.jpg',\n",
              "   'publishedAt': '2023-09-07T17:15:42Z',\n",
              "   'content': 'BOSTON (AP) A wealthy Russian businessman with ties to the Kremlin was sentenced Thursday to nine years in prison for his role in a nearly $100 million stock market cheating scheme that relied on sec… [+5269 chars]'},\n",
              "  {'source': {'id': None, 'name': 'Thedailyupside.com'},\n",
              "   'author': 'newsfeedback@fool.com (Griffin Kelly from The Daily Upside)',\n",
              "   'title': \"Beijing's Moves to Spark Stocks Have Little Staying Power\",\n",
              "   'description': 'No matter how many times they shake it, China’s Magic 8 ball keeps reading: “Outlook not so good.” Officials in Beijing are trying their best to reinvigorate China’s stock market, but it might be too little, too late to secure...',\n",
              "   'url': 'https://www.thedailyupside.com/beijings-moves-to-spark-stocks-have-little-staying-power/',\n",
              "   'urlToImage': 'https://www.thedailyupside.com/wp-content/uploads/2023/08/1_chinese_08-29-23_pexels-Liza-Summer-1200x800.png',\n",
              "   'publishedAt': '2023-08-28T23:00:13Z',\n",
              "   'content': 'No matter how many times they shake it, Chinas Magic 8 ball keeps reading: Outlook not so good.\\r\\nOfficials in Beijing are trying their best to reinvigorate Chinas stock market, but it might be too li… [+2624 chars]'},\n",
              "  {'source': {'id': None, 'name': 'MarketWatch'},\n",
              "   'author': 'Steve Gelsi',\n",
              "   'title': ': Goldman Sachs CEO David Solomon says he doesn’t recognize ‘caricature’ that critics have painted of him',\n",
              "   'description': 'Solomon tells CNBC’s David Faber that he’s focused more on clients and deal-making than critical media reports, and says he’s not spending any more time as a DJ',\n",
              "   'url': 'https://www.marketwatch.com/story/goldman-sachs-ceo-david-solomon-says-he-doesnt-recognize-caricature-that-critics-have-painted-of-him-b4ab1e60',\n",
              "   'urlToImage': 'https://images.mktw.net/im-848430/social',\n",
              "   'publishedAt': '2023-09-07T21:39:00Z',\n",
              "   'content': 'Embattled Goldman Sachs Group Inc. Chief Executive David Solomon said Thursday he remains optimistic about the firms prospects despite media reports that hes difficult to work with as he continues to… [+4611 chars]'},\n",
              "  {'source': {'id': None, 'name': 'MarketWatch'},\n",
              "   'author': 'Wallace Witkowski',\n",
              "   'title': 'The Ratings Game: Why is Palo Alto Networks reporting earnings Friday afternoon? The strange timing draws speculation.',\n",
              "   'description': 'Wall Street wonders why the cybersecurity company decided to report earnings and hold its conference call after the close of markets on a Friday.',\n",
              "   'url': 'https://www.marketwatch.com/story/why-is-palo-alto-networks-reporting-earnings-friday-afternoon-the-strange-timing-draws-speculation-7f557bb1',\n",
              "   'urlToImage': 'https://images.mktw.net/im-787374/social',\n",
              "   'publishedAt': '2023-08-15T19:25:00Z',\n",
              "   'content': 'Palo Alto Networks Inc. has Wall Street wondering why the cybersecurity company decided to report earnings and hold its conference call after the close of markets on a Friday. While Palo Alto Network… [+3925 chars]'},\n",
              "  {'source': {'id': None, 'name': 'Biztoc.com'},\n",
              "   'author': 'investorplace.com',\n",
              "   'title': 'Bet on THIS Underrated Quantum Computing Stock for Long-Term Gains',\n",
              "   'description': \"InvestorPlace - Stock Market News, Stock Advice & Trading Tips For investors seeking a truly high-growth option in this current market, here's one quantum computing stock to consider. The post Bet on THIS Underrated Quantum Computing Stock for Long-Term Gains…\",\n",
              "   'url': 'https://biztoc.com/x/e81a91bdd5e5e637',\n",
              "   'urlToImage': 'https://c.biztoc.com/p/e81a91bdd5e5e637/s.webp',\n",
              "   'publishedAt': '2023-08-27T13:08:07Z',\n",
              "   'content': \"InvestorPlace - Stock Market News, Stock Advice &amp; Trading TipsFor investors seeking a truly high-growth option in this current market, here's one quantum computing stock to consider.The post Bet … [+236 chars]\"},\n",
              "  {'source': {'id': None, 'name': 'HuffPost'},\n",
              "   'author': 'AP',\n",
              "   'title': 'OMINOUS: Powell Says Inflation ‘Remains Too High’ — Hints Fed Not Done Flirting With Recession',\n",
              "   'description': 'Powell’s speech highlighted the uncertainties surrounding the economy and the complexity of the Fed’s response to it.',\n",
              "   'url': 'https://www.huffpost.com/entry/powell-says-inflation-remains-too-high-hints-recession_n_64e8f6dfe4b084283f262e20',\n",
              "   'urlToImage': 'https://img.huffingtonpost.com/asset/64e8f7582500006100c1592a.jpeg?cache=J92AjgdcZO&ops=1200_630',\n",
              "   'publishedAt': '2023-08-25T19:00:28Z',\n",
              "   'content': 'Federal Reserve Chairman Jerome Powell takes a break outside of Jackson Lake Lodge during the Jackson Hole Economic Symposium near Moran in Grand Teton National Park, Wyo., Friday, Aug. 25, 2023. (AP… [+7708 chars]'},\n",
              "  {'source': {'id': None, 'name': 'Biztoc.com'},\n",
              "   'author': 'forbes.com',\n",
              "   'title': 'Why VinFast Stock May Be 98% Too High',\n",
              "   'description': 'Investors valued VinFast, a Vietnam-based electric vehicle maker with relatively little revenue, at $69 billion following its Tuesday market debut — higher than GM’s and Ford’s combined market capitalization. Here are four reasons VinFast shares could be 98% …',\n",
              "   'url': 'https://biztoc.com/x/b5426e15aa7bf62d',\n",
              "   'urlToImage': 'https://c.biztoc.com/p/b5426e15aa7bf62d/s.webp',\n",
              "   'publishedAt': '2023-08-17T16:08:06Z',\n",
              "   'content': 'Investors valued VinFast, a Vietnam-based electric vehicle maker with relatively little revenue, at $69 billion following its Tuesday market debut higher than GMs and Fords combined market capitaliza… [+276 chars]'},\n",
              "  {'source': {'id': None, 'name': 'Forbes'},\n",
              "   'author': 'Q.ai - Powering a Personal Wealth Movement, Contributor, \\n Q.ai - Powering a Personal Wealth Movement, Contributor\\n https://www.forbes.com/sites/qai/',\n",
              "   'title': 'Why Is The Stock Market Down This Week? August Has Been Tough For Traders',\n",
              "   'description': 'Get ready for a breakdown of why the stock market has underperformed in August.',\n",
              "   'url': 'https://www.forbes.com/sites/qai/2023/08/21/why-is-the-stock-market-down-this-week-august-has-been-tough-for-traders/',\n",
              "   'urlToImage': 'https://imageio.forbes.com/specials-images/imageserve/64e377432658dda9394af6bf/0x0.jpg?format=jpg&width=1200',\n",
              "   'publishedAt': '2023-08-21T14:40:41Z',\n",
              "   'content': '(Photo by Bryan R. Smith / AFP) (Photo by BRYAN R. SMITH/AFP via Getty Images)\\r\\nAFP via Getty Images\\r\\nKey takeaways\\r\\n<ul><li>The stock markets have lost sizeable gains in August</li><li>Inflation, th… [+7043 chars]'},\n",
              "  {'source': {'id': None, 'name': 'Quartz India'},\n",
              "   'author': 'Nate DiCamillo',\n",
              "   'title': 'Margin calls: Use that leverage',\n",
              "   'description': 'Making the most of the 21st century financial system',\n",
              "   'url': 'https://qz.com/emails/quartz-obsession/1850818195/margin-calls-use-that-leverage',\n",
              "   'urlToImage': 'https://i.kinja-img.com/gawker-media/image/upload/c_fill,f_auto,fl_progressive,g_center,h_675,pg_1,q_80,w_1200/adcb9034ca91cfa5f93ccd5f1dc61c43.jpg',\n",
              "   'publishedAt': '2023-09-08T19:45:00Z',\n",
              "   'content': 'What on Earth is a margin call?\\xa0\\r\\nOne of the key features of the US stock market is the ability to invest in securities using borrowed money. Anyone can secure a loan using the stocks in their existi… [+9142 chars]'},\n",
              "  {'source': {'id': None, 'name': 'Forbes'},\n",
              "   'author': 'Trefis Team, Contributor, \\n Trefis Team, Contributor\\n https://www.forbes.com/sites/greatspeculations/people/trefis/',\n",
              "   'title': 'Will Lululemon Stock Trade Higher Post Q2?',\n",
              "   'description': 'Lululemon (NASDAQ: LULU), a company designing and selling athletic and casual apparel, is scheduled to report its fiscal second-quarter results on Thursday, August 31.',\n",
              "   'url': 'https://www.forbes.com/sites/greatspeculations/2023/08/30/will-lululemon-stock-trade-higher-post-q2/',\n",
              "   'urlToImage': 'https://imageio.forbes.com/specials-images/imageserve/64eed7bd3f4cca1d254af6bb/0x0.jpg?format=jpg&width=1200',\n",
              "   'publishedAt': '2023-08-30T11:00:43Z',\n",
              "   'content': 'NEW YORK, NY - JUNE 21: A Lululemon corporate logo hangs on the front of their store in Brookfield ... [+] Place on June 21, 2023, in New York City. (Photo by Gary Hershorn/Getty Images)\\r\\nGetty Image… [+3276 chars]'},\n",
              "  {'source': {'id': None, 'name': 'Euronews'},\n",
              "   'author': None,\n",
              "   'title': 'Stock market today: Asian shares surge after good news from US jobs market',\n",
              "   'description': 'Stocks were higher in Asia on Monday after Wall Street was boosted by a report that signalled the US jobs market, while still healthy, is showing some signs of cooling.',\n",
              "   'url': 'https://www.euronews.com/2023/09/04/stock-market-today-asian-shares-surge-after-good-news-from-us-jobs-market',\n",
              "   'urlToImage': 'https://static.euronews.com/articles/stories/07/86/83/22/1000x563_cmsv2_d09d496d-5b53-50c6-ae4c-06ccdb1bee46-7868322.jpg',\n",
              "   'publishedAt': '2023-09-04T08:24:24Z',\n",
              "   'content': 'Stocks were higher in Asia on Monday after Wall Street was boosted by a report that signalled the US jobs market, while still healthy, is showing some signs of cooling.\\r\\n The news supported investors… [+3499 chars]'},\n",
              "  {'source': {'id': None, 'name': 'iMore'},\n",
              "   'author': 'Stephen Warwick',\n",
              "   'title': \"iPhone 15 could see Apple surpass Samsung as world's largest smartphone brand\",\n",
              "   'description': 'A new report claims that at current trends, Apple will surpass Samsung as the biggest smartphone brand in 2023, holding onto that title into next year, thanks to iPhone 15.',\n",
              "   'url': 'https://www.imore.com/iphone/iphone-15/iphone-15-could-see-apple-surpass-samsung-as-worlds-largest-smartphone-brand',\n",
              "   'urlToImage': 'https://cdn.mos.cms.futurecdn.net/KptEmrCTLzYzodAKoGVkWo-1200-80.jpg',\n",
              "   'publishedAt': '2023-08-29T10:19:25Z',\n",
              "   'content': 'A new report from a top Apple insider and analyst has revealed that Apple’s upcoming iPhone 15 could propel the company to the top of the smartphone charts, surpassing Samsung to become the world’s l… [+1635 chars]'},\n",
              "  {'source': {'id': None, 'name': 'Substack.com'},\n",
              "   'author': 'Kulak',\n",
              "   'title': 'Film Review: BlackBerry',\n",
              "   'description': 'The Greatest business film ever made... in Canada',\n",
              "   'url': 'https://anarchonomicon.substack.com/p/review-blackberry',\n",
              "   'urlToImage': 'https://substackcdn.com/image/fetch/w_1200,h_600,c_fill,f_jpg,q_auto:good,fl_progressive:steep,g_auto/https%3A%2F%2Fsubstack-post-media.s3.amazonaws.com%2Fpublic%2Fimages%2F7831d87b-c212-4c35-82b1-d44ab27930c5_900x1333.jpeg',\n",
              "   'publishedAt': '2023-08-29T11:57:43Z',\n",
              "   'content': 'And we were the only ones in the theatre. Id heard nothing about this movie at all. Just oh are you up to anything, maybe theres a movie on *lets see* Nope nothing Just Guardians of the Galaxy 3. Oh … [+21498 chars]'},\n",
              "  {'source': {'id': None, 'name': 'Yahoo Entertainment'},\n",
              "   'author': 'Jane Thier',\n",
              "   'title': 'Lyft sliced its office space in half for a ‘fully flexible workplace’ so employees could live anywhere. Now its new CEO wants remote workers back in office',\n",
              "   'description': '“It’s going to be super fun, I hope,” David Risher tells Fortune of Lyft’s new hybrid work plan.',\n",
              "   'url': 'https://finance.yahoo.com/news/lyft-sliced-office-space-half-184650020.html',\n",
              "   'urlToImage': 'https://s.yimg.com/ny/api/res/1.2/XaJKVFyqH6Sbok3LE9BP0w--/YXBwaWQ9aGlnaGxhbmRlcjt3PTEyMDA7aD04MDA-/https://media.zenfs.com/en/fortune_175/44cb51e6b06fe49c929e301455510006',\n",
              "   'publishedAt': '2023-08-23T18:46:50Z',\n",
              "   'content': 'Four months ago, David Risher became CEO of ride-sharing giant Lyft at a crucial juncture. He was, as the Wall Street Journal\\xa0put it, up against eroding market share, a sliding stock price, and low e… [+4716 chars]'},\n",
              "  {'source': {'id': None, 'name': 'Forbes'},\n",
              "   'author': 'Serenity Gibbons, Contributor, \\n Serenity Gibbons, Contributor\\n https://www.forbes.com/sites/serenitygibbons/',\n",
              "   'title': '5 Ways Businesses Leverage Emotion In An Uncertain Economy',\n",
              "   'description': 'In an era of unpredictable economic landscapes, businesses are defying uncertainty by discovering the power of emotional resonance to forge lasting connections.',\n",
              "   'url': 'https://www.forbes.com/sites/serenitygibbons/2023/08/15/5-ways-businesses-leverage-emotion-in-an-uncertain-economy/',\n",
              "   'urlToImage': 'https://imageio.forbes.com/specials-images/imageserve/64d5323449f59e3a568a46df/0x0.jpg?format=jpg&width=1200',\n",
              "   'publishedAt': '2023-08-15T09:00:00Z',\n",
              "   'content': 'Its no secret that the U.S. economy is in tough territory. For only the second time in history, the ratings agency Fitch downgraded the credit rating of the United States from AAA to AA+. Were in a p… [+6703 chars]'},\n",
              "  {'source': {'id': None, 'name': 'The New Yorker'},\n",
              "   'author': 'Isaac Chotiner',\n",
              "   'title': 'Did Authoritarianism Cause China’s Economic Crisis?',\n",
              "   'description': 'Isaac Chotiner interviews Eswar Prasad, a professor at Cornell University and a senior fellow at Brookings Institute, about China’s economic slowdown.',\n",
              "   'url': 'https://www.newyorker.com/news/q-and-a/did-authoritarianism-cause-chinas-economic-crisis',\n",
              "   'urlToImage': 'https://media.newyorker.com/photos/64f8a70fbeacd4c1a93b924b/16:9/w_1280,c_limit/Chotiner-09-06-23.jpg',\n",
              "   'publishedAt': '2023-09-07T17:53:58Z',\n",
              "   'content': 'Chinas economy, the worlds second largest, is facing its most serious setback in a generation. During the past two years, economic growth appears to have been cut nearly in half. After emerging from … [+7123 chars]'},\n",
              "  {'source': {'id': None, 'name': 'Biztoc.com'},\n",
              "   'author': 'barchart.com',\n",
              "   'title': 'This Buy-Rated Fintech Stock Has Over 50% Potential Upside',\n",
              "   'description': 'Open the menu and switch the Market flag for targeted data from your country of choice. for targeted data from your country of choice.',\n",
              "   'url': 'https://biztoc.com/x/c986a965467bb62b',\n",
              "   'urlToImage': 'https://c.biztoc.com/p/c986a965467bb62b/s.webp',\n",
              "   'publishedAt': '2023-08-11T08:56:03Z',\n",
              "   'content': 'Open the menu and switch the Market flag for targeted data from your country of choice.for targeted data from your country of choice.\\r\\nThis story appeared on barchart.com, .'},\n",
              "  {'source': {'id': 'the-washington-post', 'name': 'The Washington Post'},\n",
              "   'author': 'Michelle Singletary',\n",
              "   'title': 'My husband just retired. I’m scared to death of running out of money',\n",
              "   'description': 'My husband just retired. Now comes the hard part: spending down after decades of saving.',\n",
              "   'url': 'https://www.washingtonpost.com/business/2023/08/25/fear-running-out-of-money-retirement/',\n",
              "   'urlToImage': 'https://www.washingtonpost.com/wp-apps/imrs.php?src=https://arc-anglerfish-washpost-prod-washpost.s3.amazonaws.com/public/PFLN3VATORCMRIGWVX2XAF5AUQ.jpg&w=1440',\n",
              "   'publishedAt': '2023-08-26T22:36:33Z',\n",
              "   'content': 'Comment on this story\\r\\nComment\\r\\nMy husband and I are fortunate. We have enough for retirement.\\r\\nBut ever since he retired at the end of June, Ive felt a sleep-depriving dread. I worry we will outlive… [+7297 chars]'},\n",
              "  {'source': {'id': None, 'name': 'Biztoc.com'},\n",
              "   'author': 'benzinga.com',\n",
              "   'title': \"12 Health Care Stocks Moving In Tuesday's Pre-Market Session\",\n",
              "   'description': \"Delcath Systems stock increased by 91.7% to $5.98 during Tuesday's pre-market session. The company's market cap stands at $91.3 million. As per the news, the Q2 earnings report came out 4 days ago. • Tiziana Life Sciences stock increased by 46.5% to $0.88. Th…\",\n",
              "   'url': 'https://biztoc.com/x/106bc7353cbce132',\n",
              "   'urlToImage': 'https://c.biztoc.com/p/106bc7353cbce132/s.webp',\n",
              "   'publishedAt': '2023-08-15T13:32:19Z',\n",
              "   'content': \"Delcath Systems stock increased by 91.7% to $5.98 during Tuesday's pre-market session. The company's market cap stands at $91.3 million. As per the news, the Q2 earnings report came out 4 days ago.Ti… [+335 chars]\"},\n",
              "  {'source': {'id': None, 'name': 'Yahoo Entertainment'},\n",
              "   'author': 'Ryan Vlastelica and Carly Wanna',\n",
              "   'title': 'Nvidia Slips From Record as Wall Street Awaits Key Results',\n",
              "   'description': '(Bloomberg) -- Nvidia Corp. shares fell on Tuesday, erasing an initial gain that took the chipmaker to an intraday record a day before its highly anticipated...',\n",
              "   'url': 'https://finance.yahoo.com/news/nvidia-slips-record-wall-street-201716328.html',\n",
              "   'urlToImage': 'https://media.zenfs.com/en/bloomberg_technology_68/106141d1d5c788551edf15812089601c',\n",
              "   'publishedAt': '2023-08-22T20:17:16Z',\n",
              "   'content': '(Bloomberg) -- Nvidia Corp. shares fell on Tuesday, erasing an initial gain that took the chipmaker to an intraday record a day before its highly anticipated earnings report.\\r\\nMost Read from Bloomber… [+2782 chars]'},\n",
              "  {'source': {'id': None, 'name': 'Biztoc.com'},\n",
              "   'author': 'entrepreneur.com',\n",
              "   'title': 'Is Now the Time to Invest in Realty Income (O)?',\n",
              "   'description': 'The Monthly Dividend Company, has a solid record of increasing the dividend more than 120 times since its stock market debut. However, is the stock the right... Realty Income (O), The Monthly Dividend Company, has a solid record of increasing the dividend mor…',\n",
              "   'url': 'https://biztoc.com/x/ffd336fd4fdf128f',\n",
              "   'urlToImage': 'https://c.biztoc.com/p/ffd336fd4fdf128f/s.webp',\n",
              "   'publishedAt': '2023-08-18T11:06:04Z',\n",
              "   'content': ', The Monthly Dividend Company, has a solid record of increasing the dividend more than 120 times since its stock market debut. However, is the stock the right...Realty Income (O), The Monthly Divide… [+289 chars]'},\n",
              "  {'source': {'id': None, 'name': 'Biztoc.com'},\n",
              "   'author': 'investorplace.com',\n",
              "   'title': 'How to Protect Your Portfolio From September Volatility',\n",
              "   'description': 'InvestorPlace - Stock Market News, Stock Advice & Trading Tips In today’s Market 360, I’ll share how the market historically performs in September… and the best way investors can protect their portfolios from the potential volatility. The post How to Protect …',\n",
              "   'url': 'https://biztoc.com/x/a238d493db0ed3a2',\n",
              "   'urlToImage': 'https://c.biztoc.com/p/a238d493db0ed3a2/s.webp',\n",
              "   'publishedAt': '2023-08-31T21:02:24Z',\n",
              "   'content': 'InvestorPlace - Stock Market News, Stock Advice &amp; Trading TipsIn todays Market 360, Ill share how the market historically performs in September and the best way investors can protect their portfo… [+234 chars]'},\n",
              "  {'source': {'id': None, 'name': 'Yahoo Entertainment'},\n",
              "   'author': 'Liana Baker',\n",
              "   'title': 'Arm Listing Set to Be Turning Point for IPO Market, SoftBank',\n",
              "   'description': '(Bloomberg) -- Arm Ltd. is expected to unveil its filing for an initial public offering as soon as Monday, giving the market a peek at the chip designer’s...',\n",
              "   'url': 'https://finance.yahoo.com/news/arm-listing-set-turning-point-080000499.html',\n",
              "   'urlToImage': 'https://s.yimg.com/ny/api/res/1.2/7u5TqNSuBViH_J6XjHdk6A--/YXBwaWQ9aGlnaGxhbmRlcjt3PTEyMDA7aD04MDA-/https://media.zenfs.com/en/bloomberg_technology_68/c8543c96c4795a28029089d0693aaed5',\n",
              "   'publishedAt': '2023-08-21T08:00:00Z',\n",
              "   'content': '(Bloomberg) -- Arm Ltd. is expected to unveil its filing for an initial public offering as soon as Monday, giving the market a peek at the chip designers financial health seven years after it was acq… [+4216 chars]'},\n",
              "  {'source': {'id': None, 'name': 'Biztoc.com'},\n",
              "   'author': 'investorplace.com',\n",
              "   'title': '7 Tech Stocks to Hop On After Red-Hot Earnings',\n",
              "   'description': \"InvestorPlace - Stock Market News, Stock Advice & Trading Tips Earnings season for this year's second quarter is winding down, and once again mega-cap technology companies dominated both the results and conversations around where the stock market is headed. T…\",\n",
              "   'url': 'https://biztoc.com/x/c25d5a44ae1d479f',\n",
              "   'urlToImage': 'https://c.biztoc.com/p/c25d5a44ae1d479f/s.webp',\n",
              "   'publishedAt': '2023-08-10T01:12:04Z',\n",
              "   'content': \"InvestorPlace - Stock Market News, Stock Advice &amp; Trading TipsEarnings season for this year's second quarter is winding down, and once again mega-cap technology companies dominated both the resul… [+238 chars]\"},\n",
              "  {'source': {'id': None, 'name': 'Forbes'},\n",
              "   'author': 'Trefis Team, Contributor, \\n Trefis Team, Contributor\\n https://www.forbes.com/sites/greatspeculations/people/trefis/',\n",
              "   'title': 'What To Expect From Visa Stock ?',\n",
              "   'description': 'Visa’s stock (NYSE: V) has increased 17% YTD, as compared to the 16% rise in the S&P500 over the same period.',\n",
              "   'url': 'https://www.forbes.com/sites/greatspeculations/2023/08/16/what-to-expect-from-visa-stock-/',\n",
              "   'urlToImage': 'https://imageio.forbes.com/specials-images/imageserve/64dc4d1435e14beb52d8ae21/0x0.jpg?format=jpg&width=1200',\n",
              "   'publishedAt': '2023-08-16T12:00:40Z',\n",
              "   'content': 'In this photo illustration a VISA logo is displayed on a smartphone screen above a notebook next to ... [+] glasses and a pen in Athens, Greece on June 26, 2023. (Photo illustration by Nikolas Kokovl… [+2274 chars]'},\n",
              "  {'source': {'id': None, 'name': 'Forbes'},\n",
              "   'author': 'Trefis Team, Contributor, \\n Trefis Team, Contributor\\n https://www.forbes.com/sites/greatspeculations/people/trefis/',\n",
              "   'title': 'T-Mobile Stock A Buy At $140?',\n",
              "   'description': 'T-Mobile stock has had a lackluster year, remaining roughly flat year-to-date, considerably underperforming the S&P 500 which remains up by about 17% over the same per...',\n",
              "   'url': 'https://www.forbes.com/sites/greatspeculations/2023/08/16/t-mobile-stock-a-buy-at-140/',\n",
              "   'urlToImage': 'https://imageio.forbes.com/specials-images/imageserve/64dc4bf756ac6ccebf88000c/0x0.jpg?format=jpg&width=1200',\n",
              "   'publishedAt': '2023-08-16T11:00:20Z',\n",
              "   'content': 'T-Mobile logo is seen in Katowice, Poland on July 20, 2023. (Photo by Beata Zawrzel/NurPhoto via ... [+] Getty Images)\\r\\nNurPhoto via Getty Images\\r\\nT-Mobile stock has had a lackluster year, remaining … [+2876 chars]'},\n",
              "  {'source': {'id': None, 'name': 'Windows Central'},\n",
              "   'author': 'eternalrhage@gmail.com (Cole Martin)',\n",
              "   'title': 'Celebrate Intel Gamer Days with up to $1300 in savings on certain Acer laptops and desktops',\n",
              "   'description': 'Acer is celebrating Intel Gamer Days by marking down Nitro and Predator series laptops and desktops across multiple retailers, with the Predator Orion 7000 desktop slashing $1300 off of its price tag.',\n",
              "   'url': 'https://www.windowscentral.com/hardware/celebrate-intel-gamer-days-with-up-to-dollar1300-in-savings-on-certain-acer-laptops-and-desktops',\n",
              "   'urlToImage': 'https://cdn.mos.cms.futurecdn.net/B4wpfnanm5P4X8RG4Drsei-1200-80.jpg',\n",
              "   'publishedAt': '2023-09-01T16:31:33Z',\n",
              "   'content': 'Now may be one of the best times to be in the market for a new Acer laptop or desktop. Acer has marked down several devices across the popular Nitro and Predator lines at multiple retailers to celebr… [+2701 chars]'},\n",
              "  {'source': {'id': None, 'name': 'Forbes'},\n",
              "   'author': 'Trefis Team, Contributor, \\n Trefis Team, Contributor\\n https://www.forbes.com/sites/greatspeculations/people/trefis/',\n",
              "   'title': 'What To Expect From CME Group Stock?',\n",
              "   'description': 'CME Group’s stock (NYSE: CME) has gained 21% YTD, as compared to the 15% rise in the S&P500 over the same period.',\n",
              "   'url': 'https://www.forbes.com/sites/greatspeculations/2023/08/30/what-to-expect-from-cme-group-stock/',\n",
              "   'urlToImage': 'https://imageio.forbes.com/specials-images/imageserve/63e1e0b7852f04a18f10c977/0x0.jpg?format=jpg&width=1200',\n",
              "   'publishedAt': '2023-08-30T14:00:27Z',\n",
              "   'content': 'CME Group logo displayed on a phone screen and a laptop keyboard are seen in this illustration photo ... [+] taken in Krakow, Poland on January 29, 2023. (Photo by Jakub Porzycki/NurPhoto via Getty I… [+2325 chars]'},\n",
              "  {'source': {'id': None, 'name': 'Yahoo Entertainment'},\n",
              "   'author': 'Nick Turner',\n",
              "   'title': 'Qualcomm Tumbles After China Turmoil Hits Apple, Huawei Vendors',\n",
              "   'description': '(Bloomberg) -- Qualcomm Inc., the world’s biggest supplier of smartphone chips, suffered its worst stock decline in a month after upheaval in China...',\n",
              "   'url': 'https://finance.yahoo.com/news/qualcomm-tumbles-china-turmoil-hits-151954545.html',\n",
              "   'urlToImage': 'https://s.yimg.com/ny/api/res/1.2/jAohYPkSkwjauRQ8sRyauw--/YXBwaWQ9aGlnaGxhbmRlcjt3PTEyMDA7aD04MDA-/https://media.zenfs.com/en/bloomberg_technology_68/8cde179c4dfdbf335ef8c12d1813fbc1',\n",
              "   'publishedAt': '2023-09-07T15:19:54Z',\n",
              "   'content': '(Bloomberg) -- Qualcomm Inc., the worlds biggest supplier of smartphone chips, suffered its worst stock decline in a month after upheaval in China threatened the companys sales in a critical market.\\r… [+2836 chars]'},\n",
              "  {'source': {'id': None, 'name': 'Yahoo Entertainment'},\n",
              "   'author': 'Nick Turner',\n",
              "   'title': 'Qualcomm Tumbles After China Woes Hits Apple, Huawei Vendors',\n",
              "   'description': '(Bloomberg) -- Qualcomm Inc., the world’s biggest supplier of smartphone chips, suffered its worst stock decline in a month after upheaval in China...',\n",
              "   'url': 'https://finance.yahoo.com/news/qualcomm-tumbles-china-turmoil-hits-151954996.html',\n",
              "   'urlToImage': 'https://s.yimg.com/ny/api/res/1.2/DRoK.CM8WH2iE02UgtpgWw--/YXBwaWQ9aGlnaGxhbmRlcjt3PTEyMDA7aD04MDA-/https://media.zenfs.com/en/bloomberg_markets_842/8cde179c4dfdbf335ef8c12d1813fbc1',\n",
              "   'publishedAt': '2023-09-07T20:24:54Z',\n",
              "   'content': '(Bloomberg) -- Qualcomm Inc., the worlds biggest supplier of smartphone chips, suffered its worst stock decline in a month after upheaval in China threatened the companys sales in a critical market.\\r… [+2853 chars]'},\n",
              "  {'source': {'id': None, 'name': \"Investor's Business Daily\"},\n",
              "   'author': \"Investor's Business Daily\",\n",
              "   'title': 'Dow Jones Futures Fall As Stock Market Rally Struggles; Cathie Wood Sells Nvidia Stock',\n",
              "   'description': 'Futures drifted lower as the stock market headed for a losing week.',\n",
              "   'url': 'https://www.investors.com/market-trend/stock-market-today/dow-jones-futures-stock-market-rally-struggles-cathie-wood-sells-nvidia-stock/',\n",
              "   'urlToImage': 'https://www.investors.com/wp-content/uploads/2021/11/Stock-CathieWoods-company.jpg',\n",
              "   'publishedAt': '2023-09-08T12:44:12Z',\n",
              "   'content': \"Dow Jones futures dropped Friday morning, along with S&amp;P 500 and Nasdaq futures, as the stock market headed for a losing week. Cathie Wood's Ark Invest ETFs sold more than 13,500 shares of Nvidia… [+6855 chars]\"},\n",
              "  {'source': {'id': None, 'name': 'Ritholtz.com'},\n",
              "   'author': 'Barry Ritholtz',\n",
              "   'title': '10 Weekend Reads',\n",
              "   'description': 'The weekend is here! Pour yourself a mug of \\xa0coffee, grab a seat outside, and get ready for our longer-form weekend reads: • Investment Lessons from 400 Years of “Confusion of Confusions” Three Hundred and Thirty-Five years ago, in 1688, Joseph de la Vega wro…',\n",
              "   'url': 'https://ritholtz.com/2023/08/weekend-reads-577/',\n",
              "   'urlToImage': 'https://ritholtz.com/wp-content/uploads/2023/08/dontcountonit.png',\n",
              "   'publishedAt': '2023-08-19T10:30:43Z',\n",
              "   'content': 'The weekend is here! Pour yourself a mug of \\xa0coffee, grab a seat outside, and get ready for our longer-form weekend reads:Investment Lessons from 400 Years of Confusion of Confusions” Three Hundred a… [+2591 chars]'},\n",
              "  {'source': {'id': None, 'name': 'Forbes'},\n",
              "   'author': 'Derek Saul, Forbes Staff, \\n Derek Saul, Forbes Staff\\n https://www.forbes.com/sites/dereksaul/',\n",
              "   'title': 'Palo Alto Networks Stock Rallies 16% After Earnings Fiasco Turns Out To Be Nothing',\n",
              "   'description': 'The odd saga about why a company would report earnings on a Friday evening in August concluded Monday with a recovery of most related market losses.',\n",
              "   'url': 'https://www.forbes.com/sites/dereksaul/2023/08/21/palo-alto-networks-stock-rallies-16-after-earnings-fiasco-turns-out-to-be-nothing/',\n",
              "   'urlToImage': 'https://imageio.forbes.com/specials-images/imageserve/64e36aea7bed7992c40c8ded/0x0.jpg?format=jpg&crop=4000,2249,x0,y48,safe&width=1200',\n",
              "   'publishedAt': '2023-08-21T13:53:58Z',\n",
              "   'content': 'Palo Alto Networks is on track to post one of the largest stock surges in its history Monday after an unusual scheduling incident inspired conspiracy theories and caused the technology firms stock to… [+2177 chars]'},\n",
              "  {'source': {'id': None, 'name': 'Forbes'},\n",
              "   'author': 'Peter Cohan, Senior Contributor, \\n Peter Cohan, Senior Contributor\\n https://www.forbes.com/sites/petercohan/',\n",
              "   'title': 'Hoping To Slash Debt, WeWork Stock Falls 41% In Three Weeks',\n",
              "   'description': \"WeWork locked in long-term leases in expensive buildings at a market top. Desk renters won't pay enough for WeWork to profit.\",\n",
              "   'url': 'https://www.forbes.com/sites/petercohan/2023/09/07/hoping-to-slash-debt-wework-stock-falls-41-in-three-weeks/',\n",
              "   'urlToImage': 'https://imageio.forbes.com/specials-images/imageserve/64e0efffd9f5fce5d70eda53/0x0.jpg?format=jpg&width=1200',\n",
              "   'publishedAt': '2023-09-07T20:41:37Z',\n",
              "   'content': 'SAN FRANCISCO, CALIFORNIA - OCTOBER 07: A sign is posted on the exterior of a WeWork office on ... [+] October 07, 2019 in San Francisco, California. Days after withdrawing its registration for an in… [+6078 chars]'},\n",
              "  {'source': {'id': None, 'name': 'Biztoc.com'},\n",
              "   'author': 'forbes.com',\n",
              "   'title': 'Will Lululemon Stock Trade Higher Post Q2?',\n",
              "   'description': 'Lululemon (NASDAQ: LULU), a company designing and selling athletic and casual apparel, is scheduled to report its fiscal second-quarter results on Thursday, August 31. We expect LULU stock to likely trade higher due to revenues and earnings beating market exp…',\n",
              "   'url': 'https://biztoc.com/x/16cdb3c43d945a6d',\n",
              "   'urlToImage': 'https://c.biztoc.com/p/16cdb3c43d945a6d/s.webp',\n",
              "   'publishedAt': '2023-08-30T12:02:03Z',\n",
              "   'content': 'Lululemon (NASDAQ: LULU), a company designing and selling athletic and casual apparel, is scheduled to report its fiscal second-quarter results on Thursday, August 31. We expect LULU stock to likely … [+294 chars]'},\n",
              "  {'source': {'id': None, 'name': 'Yahoo Entertainment'},\n",
              "   'author': 'Brody Ford',\n",
              "   'title': 'HP Drops on Reduced Profit, Cash Outlook as PC Woes Continue',\n",
              "   'description': '(Bloomberg) -- HP Inc. reduced its full-year cash flow and profit outlook, saying a rebound in the market for personal computers will take longer than...',\n",
              "   'url': 'https://finance.yahoo.com/news/hp-drops-reduced-profit-cash-212606754.html',\n",
              "   'urlToImage': 'https://s.yimg.com/ny/api/res/1.2/WXy2RZ7iK_LOL3KxAT5.3A--/YXBwaWQ9aGlnaGxhbmRlcjt3PTEyMDA7aD03OTk-/https://media.zenfs.com/en/bloomberg_technology_68/b3c41a2d52d79baaa210304faff63c3f',\n",
              "   'publishedAt': '2023-08-29T21:26:06Z',\n",
              "   'content': '(Bloomberg) -- HP Inc. reduced its full-year cash flow and profit outlook, saying a rebound in the market for personal computers will take longer than expected. The shares declined about 5.5% in exte… [+2280 chars]'},\n",
              "  {'source': {'id': 'google-news', 'name': 'Google News'},\n",
              "   'author': None,\n",
              "   'title': '5 things to know before the stock market opens Thursday - CNBC',\n",
              "   'description': '<ol><li>5 things to know before the stock market opens Thursday\\xa0\\xa0CNBC\\r\\n</li><li>Stocks sink as Fed minutes reveal more hikes still on table: Stock market news today\\xa0\\xa0Yahoo Finance\\r\\n</li><li>U.S. stocks open higher as Wall Street attempts to recover from back-…',\n",
              "   'url': 'https://consent.google.com/ml?continue=https://news.google.com/rss/articles/CBMiZmh0dHBzOi8vd3d3LmNuYmMuY29tLzIwMjMvMDgvMTcvNS10aGluZ3MtdG8ta25vdy1iZWZvcmUtdGhlLXN0b2NrLW1hcmtldC1vcGVucy10aHVyc2RheS1hdWd1c3QtMTcuaHRtbNIBamh0dHBzOi8vd3d3LmNuYmMuY29tL2FtcC8yMDIzLzA4LzE3LzUtdGhpbmdzLXRvLWtub3ctYmVmb3JlLXRoZS1zdG9jay1tYXJrZXQtb3BlbnMtdGh1cnNkYXktYXVndXN0LTE3Lmh0bWw?oc%3D5&gl=FR&hl=en-US&cm=2&pc=n&src=1',\n",
              "   'urlToImage': None,\n",
              "   'publishedAt': '2023-08-17T11:21:08Z',\n",
              "   'content': 'We use cookies and data to<ul><li>Deliver and maintain Google services</li><li>Track outages and protect against spam, fraud, and abuse</li><li>Measure audience engagement and site statistics to unde… [+1131 chars]'},\n",
              "  {'source': {'id': None, 'name': 'Forbes'},\n",
              "   'author': 'Trefis Team, Contributor, \\n Trefis Team, Contributor\\n https://www.forbes.com/sites/greatspeculations/people/trefis/',\n",
              "   'title': 'Home Depot Stock To See Little Movement Past Q2',\n",
              "   'description': 'Home Depot (NYSE: HD) is scheduled to report its fiscal second.-quarter results on Tuesday, August 15.',\n",
              "   'url': 'https://www.forbes.com/sites/greatspeculations/2023/08/14/home-depot-stock-to-see-little-movement-past-q2/',\n",
              "   'urlToImage': 'https://imageio.forbes.com/specials-images/imageserve/64950add896c2eb1c68f46c2/0x0.jpg?format=jpg&width=1200',\n",
              "   'publishedAt': '2023-08-14T11:00:51Z',\n",
              "   'content': 'The Home Depot logo is seen on the shop in Williston, United States on June 19, 2023. (Photo by ... [+] Jakub Porzycki/NurPhoto via Getty Images)\\r\\nNurPhoto via Getty Images\\r\\nHome Depot (NYSE: HD) is … [+3292 chars]'},\n",
              "  {'source': {'id': None, 'name': 'Forbes'},\n",
              "   'author': 'Brendan Ahern, Senior Contributor, \\n Brendan Ahern, Senior Contributor\\n https://www.forbes.com/sites/brendanahern/',\n",
              "   'title': 'Investors Remain On Sidelines Despite Market Friendly Reforms',\n",
              "   'description': 'Asian equities started the week off to a strong start except for Malaysia, which underperformed the region, and the Philippines.',\n",
              "   'url': 'https://www.forbes.com/sites/brendanahern/2023/08/28/investors-remain-on-sidelines-despite-market-friendly-reforms/',\n",
              "   'urlToImage': 'https://imageio.forbes.com/specials-images/imageserve/64ecabaa0ede4b5b64d8ae25/0x0.jpg?format=jpg&width=1200',\n",
              "   'publishedAt': '2023-08-28T14:20:13Z',\n",
              "   'content': 'China Last Night\\r\\nKraneShares\\r\\nKey News\\r\\nAsian equities started the week off to a strong start except for Malaysia, which underperformed the region, and the Philippines, which was closed for National… [+5768 chars]'},\n",
              "  {'source': {'id': None, 'name': 'iMore'},\n",
              "   'author': 'james.bentley@futurenet.com (James Bentley)',\n",
              "   'title': 'Apple Watch could get the iPhone 15 treatment as popular accessory set to be axed',\n",
              "   'description': \"The Apple Watch leather band could be axed in the future. Here's what we know about it.\",\n",
              "   'url': 'https://www.imore.com/apple/apple-watch-could-get-the-iphone-15-treatment-as-popular-accessory-set-to-be-axed',\n",
              "   'urlToImage': 'https://cdn.mos.cms.futurecdn.net/KCJEgdLNf3ZPMFNGFuGUyi-1200-80.png',\n",
              "   'publishedAt': '2023-09-05T11:20:46Z',\n",
              "   'content': 'With the iPhone 15 and brand new Apple Watches just days away from launch, a new leak from a top insider has revealed that Apple could get rid of its popular leather watch bands in favor of more eco-… [+2034 chars]'},\n",
              "  {'source': {'id': None, 'name': 'Biztoc.com'},\n",
              "   'author': 'barchart.com',\n",
              "   'title': 'PENN vs. DKNG: Which Stock is a Better Bet?',\n",
              "   'description': \"With the sports betting stock battle heating up, which company should investors place their chips on now: Disney's new partner Penn Entertainment, or stock market standout DraftKings?#disney #pennentertainment #draftkings\",\n",
              "   'url': 'https://biztoc.com/x/4b2ff120aa22449d',\n",
              "   'urlToImage': 'https://c.biztoc.com/p/4b2ff120aa22449d/s.webp',\n",
              "   'publishedAt': '2023-08-11T16:12:20Z',\n",
              "   'content': \"With the sports betting stock battle heating up, which company should investors place their chips on now: Disney's new partner Penn Entertainment, or stock market standout DraftKings?\\r\\n#disney#pennen… [+61 chars]\"},\n",
              "  {'source': {'id': None, 'name': 'PetaPixel'},\n",
              "   'author': 'Matt Growcoot',\n",
              "   'title': 'New AI Image Generator Startup Takes a ‘Responsible’ Approach to Copyright',\n",
              "   'description': 'A new AI image generator has been launched today. Bria AI has licensed visual content from Getty Images, Alamy, and Envato to build its platform as it aims to solve the copyright problems facing generative AI.\\n[Read More]',\n",
              "   'url': 'https://petapixel.com/2023/09/08/new-ai-image-generator-startup-takes-a-responsible-approach-to-copyright/',\n",
              "   'urlToImage': 'https://petapixel.com/assets/uploads/2023/09/BriaAI.jpg',\n",
              "   'publishedAt': '2023-09-08T11:43:20Z',\n",
              "   'content': 'A new AI image generator has been launched today. Bria AI has licensed visual content from Getty Images, Alamy, and Envato to build its platform as it aims to solve the copyright problems facing gene… [+2099 chars]'},\n",
              "  {'source': {'id': None, 'name': 'Forbes'},\n",
              "   'author': 'Trefis Team, Contributor, \\n Trefis Team, Contributor\\n https://www.forbes.com/sites/greatspeculations/people/trefis/',\n",
              "   'title': 'Is Nokia Stock A Buy At $4?',\n",
              "   'description': 'Nokia stock has underperformed this year, declining by about 20% since early January compared to the broader S&P 500 which gained about 15% over the same period.',\n",
              "   'url': 'https://www.forbes.com/sites/greatspeculations/2023/08/18/is-nokia-stock-a-buy-at-4/',\n",
              "   'urlToImage': 'https://imageio.forbes.com/specials-images/imageserve/64defa1d046d6ffb9ac712f8/0x0.jpg?format=jpg&width=1200',\n",
              "   'publishedAt': '2023-08-18T11:00:14Z',\n",
              "   'content': 'BARCELONA, SPAIN - MARCH 2: Congress visitors passing by the entrance of the Nokia stand that ... [+] featured the new redesigned logo. The Finnish company announced the rebranding and the change on … [+2915 chars]'},\n",
              "  {'source': {'id': None, 'name': 'Forbes'},\n",
              "   'author': 'Trefis Team, Contributor, \\n Trefis Team, Contributor\\n https://www.forbes.com/sites/greatspeculations/people/trefis/',\n",
              "   'title': 'What’s Happening With Motorola Solutions Stock?',\n",
              "   'description': 'Motorola Solutions (NYSE: MSI) - one of the largest suppliers of land-mobile-radio solutions - has seen its stock rise 11% year-to-date, underperforming the broader S&...',\n",
              "   'url': 'https://www.forbes.com/sites/greatspeculations/2023/08/15/whats-happening-with-motorola-solutions-stock/',\n",
              "   'urlToImage': 'https://imageio.forbes.com/specials-images/imageserve/64daf2edd7b62fa58a88000c/0x0.jpg?format=jpg&width=1200',\n",
              "   'publishedAt': '2023-08-15T11:00:00Z',\n",
              "   'content': 'Members of the Media, check the newly launched phones Motorola Razr 40 and Motorola Razr 40 Ultra, ... [+] during the launch event of the phones in New Delhi, India on July 3, 2023. (Photo by Kabir J… [+2659 chars]'},\n",
              "  {'source': {'id': None, 'name': 'The Indian Express'},\n",
              "   'author': 'PTI',\n",
              "   'title': 'Adani-Hindenburg row: SEBI requests SC for more time to conclude probe',\n",
              "   'description': 'Market regulator SEBI on Monday moved the Supreme Court seeking 15 more days to conclude the ongoing probe into the allegations of stock price manipulation by the Adani group.',\n",
              "   'url': 'https://indianexpress.com/article/business/market/adani-hindenburg-row-sebi-requests-supreme-court-more-time-conclude-probe-8891950/',\n",
              "   'urlToImage': 'https://images.indianexpress.com/2023/08/adanigrp-1.jpg',\n",
              "   'publishedAt': '2023-08-14T08:09:43Z',\n",
              "   'content': 'Market regulator SEBI on Monday moved the Supreme Court seeking 15 more days to conclude the ongoing probe into the allegations of stock price manipulation by the Adani group.The Securities and Excha… [+1596 chars]'},\n",
              "  {'source': {'id': None, 'name': 'Forbes'},\n",
              "   'author': 'Trefis Team, Contributor, \\n Trefis Team, Contributor\\n https://www.forbes.com/sites/greatspeculations/people/trefis/',\n",
              "   'title': 'Salesforce Stock Is Undervalued',\n",
              "   'description': 'Salesforce stock (NYSE: CRM) has gained 67% YTD, as compared to the 17% rise in the S&P500 over the same period.',\n",
              "   'url': 'https://www.forbes.com/sites/greatspeculations/2023/09/05/salesforce-stock-is-undervalued/',\n",
              "   'urlToImage': 'https://imageio.forbes.com/specials-images/imageserve/6476e15dce43a7d9047b69d7/0x0.jpg?format=jpg&width=1200',\n",
              "   'publishedAt': '2023-09-05T11:00:02Z',\n",
              "   'content': 'The Salesforce logo, the American cloud-based software company and one of the largest technology ... [+] companies in the world, displayed on their networking space during the Mobile World Congress 2… [+2339 chars]'},\n",
              "  {'source': {'id': None, 'name': 'Yahoo Entertainment'},\n",
              "   'author': 'Karen Friar',\n",
              "   'title': 'Stock futures climb as inflation slowdown pauses: Stock market news today',\n",
              "   'description': \"Stock futures rose Thursday as the July US inflation report showed prices increased more than in June, crucial to the Federal Reserve's decision making about...\",\n",
              "   'url': 'https://finance.yahoo.com/news/stock-futures-climb-as-inflation-slowdown-pauses-stock-market-news-today-124727071.html',\n",
              "   'urlToImage': 'https://s.yimg.com/ny/api/res/1.2/5xBTMLMrtwCX2ju2qPnqCw--/YXBwaWQ9aGlnaGxhbmRlcjt3PTEyMDA7aD04MDA-/https://s.yimg.com/os/creatr-uploaded-images/2023-03/dc649980-d215-11ed-9eff-3288737f2f4c',\n",
              "   'publishedAt': '2023-08-10T12:47:27Z',\n",
              "   'content': 'Stock futures were higher Thursday as newly released data showed inflation rose at a faster pace in July than it had in June.\\r\\nContracts on the Dow Jones Industrial Average (^DJI) gained about 0.5%, … [+3580 chars]'},\n",
              "  {'source': {'id': None, 'name': 'Yahoo Entertainment'},\n",
              "   'author': 'Karen Friar',\n",
              "   'title': 'Stock futures climb ahead of crucial July CPI data: Stock market news today',\n",
              "   'description': \"Stock futures rose Thursday ahead of the release of the July US inflation report, crucial to the Federal Reserve's decision making about when to pull back on...\",\n",
              "   'url': 'https://finance.yahoo.com/news/stock-futures-climb-ahead-of-crucial-july-cpi-data-stock-market-news-today-103944481.html',\n",
              "   'urlToImage': 'https://s.yimg.com/ny/api/res/1.2/5xBTMLMrtwCX2ju2qPnqCw--/YXBwaWQ9aGlnaGxhbmRlcjt3PTEyMDA7aD04MDA-/https://s.yimg.com/os/creatr-uploaded-images/2023-03/dc649980-d215-11ed-9eff-3288737f2f4c',\n",
              "   'publishedAt': '2023-08-10T10:39:44Z',\n",
              "   'content': \"Stock futures rose Thursday ahead of the release of the July US inflation report, crucial to the Federal Reserve's decision making about when to pull back on hiking interest rates.\\r\\nContracts on the … [+1312 chars]\"},\n",
              "  {'source': {'id': None, 'name': 'Yahoo Entertainment'},\n",
              "   'author': 'Brett LoGiurato',\n",
              "   'title': 'Stock losses accelerate amid China woes, retail sales beat: Stock market news today',\n",
              "   'description': \"A retail-heavy earnings week began with caution and China painted a grim picture for the world's second-largest economy.\",\n",
              "   'url': 'https://finance.yahoo.com/news/stock-losses-accelerate-amid-china-woes-retail-sales-beat-stock-market-news-today-163659365.html',\n",
              "   'urlToImage': 'https://s.yimg.com/ny/api/res/1.2/hI8euKYtjjzJpK1bi.lHCQ--/YXBwaWQ9aGlnaGxhbmRlcjt3PTEyMDA7aD04MDA-/https://s.yimg.com/os/creatr-uploaded-images/2023-07/52faadd0-2a29-11ee-b363-0571364e2f45',\n",
              "   'publishedAt': '2023-08-15T16:36:59Z',\n",
              "   'content': \"US stocks saw losses accelerate in midday trading on Tuesday as a retail-heavy week began by showing continued consumer resilience in the US, while China painted a grim picture for the world's second… [+8927 chars]\"},\n",
              "  {'source': {'id': None, 'name': 'Forbes'},\n",
              "   'author': 'John Navin, Contributor, \\n John Navin, Contributor\\n https://www.forbes.com/sites/johnnavin/',\n",
              "   'title': 'Big Energy Stocks Hit New 2023 Highs, Then Back Off',\n",
              "   'description': 'Big market capitalization energy names hit higher 2023 highs this week as oil prices continued upward.',\n",
              "   'url': 'https://www.forbes.com/sites/johnnavin/2023/09/06/big-energy-stocks-hit-new-2023-highs-then-back-off/',\n",
              "   'urlToImage': 'https://imageio.forbes.com/specials-images/imageserve/64cc51cf5a67a17f82960eaa/0x0.jpg?format=jpg&width=1200',\n",
              "   'publishedAt': '2023-09-07T02:04:53Z',\n",
              "   'content': 'Oil stocks\\r\\ngetty\\r\\nBig market capitalization energy names hit higher 2023 highs this week as oil prices continued upward. Most of these companies have been around for a long time, and they all pay di… [+2757 chars]'},\n",
              "  {'source': {'id': None, 'name': 'ReadWrite'},\n",
              "   'author': 'Brad Anderson',\n",
              "   'title': 'Best Mini Fridge for Semi Trucks in 2023',\n",
              "   'description': 'Many companies featured on ReadWrite partner with us. Opinions are our own, but compensation and in-depth research determine how products […]\\nThe post Best Mini Fridge for Semi Trucks in 2023 appeared first on ReadWrite.',\n",
              "   'url': 'https://readwrite.com/best-mini-fridge-for-semi-trucks/',\n",
              "   'urlToImage': 'https://readwrite.com/wp-content/uploads/2023/06/Untitled-design-2023-06-05T161139.776.jpg',\n",
              "   'publishedAt': '2023-08-13T02:00:00Z',\n",
              "   'content': 'Many companies featured on ReadWrite partner with us. Opinions are our own, but compensation and in-depth research determine how products may be selected and ranked.\\xa0Learn more\\xa0about how we make mone… [+22466 chars]'},\n",
              "  {'source': {'id': None, 'name': 'Yahoo Entertainment'},\n",
              "   'author': 'Josh Schafer',\n",
              "   'title': 'Stock futures point to modest gains ahead of Nvidia earnings: Stock market news today',\n",
              "   'description': \"Stock futures were higher on Wednesday with all eyes on Nvidia's results out after the bell.\",\n",
              "   'url': 'https://finance.yahoo.com/news/stock-futures-point-to-modest-gains-ahead-of-nvidia-earnings-stock-market-news-today-122345745.html',\n",
              "   'urlToImage': 'https://s.yimg.com/ny/api/res/1.2/FP6PooWXweQA9acPEMvYxA--/YXBwaWQ9aGlnaGxhbmRlcjt3PTEyMDA7aD04MDA-/https://s.yimg.com/os/creatr-uploaded-images/2023-07/13a7c470-2c03-11ee-bcbb-a59cabf4b3da',\n",
              "   'publishedAt': '2023-08-23T12:23:45Z',\n",
              "   'content': \"It's the earnings report that investors won't stop focusing on.\\r\\nNvidia will report results after the close on Wednesday, and investors are anxious to see how the company pays this quarter off after … [+1251 chars]\"},\n",
              "  {'source': {'id': 'business-insider', 'name': 'Business Insider'},\n",
              "   'author': 'tmohamed@insider.com (Theron Mohamed)',\n",
              "   'title': \"Warren Buffett's cash mountain is worth as much as Disney after its epic stock plunge\",\n",
              "   'description': 'Berkshire Hathaway had a near-record $147 billion cash pile at the end of June, about the same amount that Disney is now worth.',\n",
              "   'url': 'https://markets.businessinsider.com/news/stocks/warren-buffett-berkshire-hathaway-disney-stock-price-cash-pile-desantis-2023-9',\n",
              "   'urlToImage': 'https://i.insider.com/64f9bdb18a7840001961fa95?width=1200&format=jpeg',\n",
              "   'publishedAt': '2023-09-07T13:30:51Z',\n",
              "   'content': \"Warren Buffett's cash mountain is worth more than the entire value of Disney, reflecting the investor's financial prudence and the dramatic decline in the media behemoth's stock price.\\r\\nBuffett's Ber… [+2345 chars]\"},\n",
              "  {'source': {'id': None, 'name': 'Biztoc.com'},\n",
              "   'author': 'benzinga.com',\n",
              "   'title': \"12 Communication Services Stocks Moving In Tuesday's Pre-Market Session\",\n",
              "   'description': \"Grindr stock moved upwards by 19.8% to $5.62 during Tuesday's pre-market session. The market value of their outstanding shares is at $977.0 million. • Arena Group Holdings shares rose 18.34% to $4.0. The market value of their outstanding shares is at $87.9 mi…\",\n",
              "   'url': 'https://biztoc.com/x/0da6e3e079027b06',\n",
              "   'urlToImage': 'https://c.biztoc.com/p/0da6e3e079027b06/s.webp',\n",
              "   'publishedAt': '2023-08-15T13:32:19Z',\n",
              "   'content': \"Grindr stock moved upwards by 19.8% to $5.62 during Tuesday's pre-market session. The market value of their outstanding shares is at $977.0 million.Arena Group Holdings shares rose 18.34% to $4.0. Th… [+301 chars]\"},\n",
              "  {'source': {'id': None, 'name': 'Biztoc.com'},\n",
              "   'author': 'benzinga.com',\n",
              "   'title': \"12 Industrials Stocks Moving In Tuesday's Pre-Market Session\",\n",
              "   'description': \"Recruiter.Com Group shares increased by 28.3% to $0.26 during Tuesday's pre-market session. The company's market cap stands at $4.4 million. As per the press release, Q2 earnings came out yesterday. • GEE Group stock rose 17.62% to $0.51. The company's market…\",\n",
              "   'url': 'https://biztoc.com/x/359c439b230077ba',\n",
              "   'urlToImage': 'https://c.biztoc.com/p/359c439b230077ba/s.webp',\n",
              "   'publishedAt': '2023-08-15T13:32:19Z',\n",
              "   'content': \"Recruiter.Com Group shares increased by 28.3% to $0.26 during Tuesday's pre-market session. The company's market cap stands at $4.4 million. As per the press release, Q2 earnings came out yesterday.G… [+313 chars]\"},\n",
              "  {'source': {'id': None, 'name': 'Biztoc.com'},\n",
              "   'author': 'benzinga.com',\n",
              "   'title': \"9 Industrials Stocks Moving In Monday's Pre-Market Session\",\n",
              "   'description': \"Eos Energy Enterprises shares increased by 47.4% to $4.79 during Monday's pre-market session. The company's market cap stands at $641.8 million. • C3is stock increased by 20.35% to $0.52. The market value of their outstanding shares is at $3.3 million. As per…\",\n",
              "   'url': 'https://biztoc.com/x/441a5b58b01cbf15',\n",
              "   'urlToImage': 'https://c.biztoc.com/p/441a5b58b01cbf15/s.webp',\n",
              "   'publishedAt': '2023-09-04T13:36:17Z',\n",
              "   'content': \"Eos Energy Enterprises shares increased by 47.4% to $4.79 during Monday's pre-market session. The company's market cap stands at $641.8 million.C3is stock increased by 20.35% to $0.52. The market val… [+302 chars]\"},\n",
              "  {'source': {'id': None, 'name': 'Yahoo Entertainment'},\n",
              "   'author': None,\n",
              "   'title': 'Market Digest: BTI, MRK',\n",
              "   'description': \"Find the latest British American Tobacco  Indus (BTI) stock forecast based on top analyst's estimates, plus more investing and trading data from Yahoo Finance\",\n",
              "   'url': 'https://finance.yahoo.com/research/reports/ARGUS_37545_MarketSummary_1693566811000/',\n",
              "   'urlToImage': 'https://s.yimg.com/cv/apiv2/social/images/yahoo_default_logo.png',\n",
              "   'publishedAt': '2023-09-01T11:13:31Z',\n",
              "   'content': \"Stocks were mixed on Thursday. The Commerce Department said that the Personal Consumption Expenditures Index excluding the cost of food and energy, or so-called 'core' PCE, rose 4.2% over the prior y… [+756 chars]\"},\n",
              "  {'source': {'id': None, 'name': 'Forbes'},\n",
              "   'author': 'Peter Cohan, Contributor, \\n Peter Cohan, Contributor\\n https://www.forbes.com/sites/petercohan/',\n",
              "   'title': 'Why VinFast Stock May Be 98% Too High',\n",
              "   'description': 'With the founder still controlling more than 99% of the shares, leaving a very limited free float, it is likely to remain volatile.',\n",
              "   'url': 'https://www.forbes.com/sites/petercohan/2023/08/17/why-vinfast-stock-may-be-98-too-high/',\n",
              "   'urlToImage': 'https://imageio.forbes.com/specials-images/imageserve/64dde789aa246cd0aad8ae21/0x0.jpg?format=jpg&width=1200',\n",
              "   'publishedAt': '2023-08-17T15:29:16Z',\n",
              "   'content': 'LAS VEGAS, NEVADA - JANUARY 05: Vice Chairwoman of Vingroup and VinFast Global CEO Le Thi Thu Thuy ... [+] poses for a photo during the VinFast electric vehicle lineup and technologies reveal at CES … [+8939 chars]'},\n",
              "  {'source': {'id': None, 'name': 'Forbes'},\n",
              "   'author': 'Trefis Team, Contributor, \\n Trefis Team, Contributor\\n https://www.forbes.com/sites/greatspeculations/people/trefis/',\n",
              "   'title': 'Urban Outfitters Stock To Likely See Little Movement Post Q2',\n",
              "   'description': 'We expect the company to likely match revenue and earnings expectations with consensus in Q2.',\n",
              "   'url': 'https://www.forbes.com/sites/greatspeculations/2023/08/21/urban-outfitters-stock-to-likely-see-little-movement-post-q2/',\n",
              "   'urlToImage': 'https://imageio.forbes.com/specials-images/imageserve/64e2d36c10e8bfe245d8ae23/0x0.jpg?format=jpg&width=1200',\n",
              "   'publishedAt': '2023-08-21T12:00:00Z',\n",
              "   'content': 'LONDON,ENGLAND - June 2023: Urban Outfitters store sign External Store Sign London, England. (Photo ... [+] by Peter Dazeley/Getty Images)\\r\\nGetty Images\\r\\nNote\\r\\n: Urban Outfitters FY23 ended in Januar… [+3776 chars]'},\n",
              "  {'source': {'id': None, 'name': 'ReadWrite'},\n",
              "   'author': 'Aleksey Salaz',\n",
              "   'title': 'Maxfree T2 Laptop Tri-Screen Extender | Review',\n",
              "   'description': 'In this era of multi-tasking, expanding your digital workspace is paramount to increasing productivity. Our article delves into the extraordinary […]\\nThe post Maxfree T2 Laptop Tri-Screen Extender | Review appeared first on ReadWrite.',\n",
              "   'url': 'https://readwrite.com/maxfree-t2-laptop-tri-screen-extender-review/',\n",
              "   'urlToImage': 'https://readwrite.com/wp-content/uploads/2023/08/Best-Developer-Tools-of-2023-24.png',\n",
              "   'publishedAt': '2023-09-01T15:06:40Z',\n",
              "   'content': 'In this era of multi-tasking, expanding your digital workspace is paramount to increasing productivity. Our article delves into the extraordinary functionality of the Maxfree T2 13.3″ Laptop Tri-Scre… [+11306 chars]'},\n",
              "  {'source': {'id': None, 'name': 'Forbes'},\n",
              "   'author': 'Trefis Team, Contributor, \\n Trefis Team, Contributor\\n https://www.forbes.com/sites/greatspeculations/people/trefis/',\n",
              "   'title': 'What To Expect From Guess’ Stock Post Q2?',\n",
              "   'description': 'We expect GES stock to likely see little movement post fiscal Q2 results with revenues and earnings coming in line with expectations.',\n",
              "   'url': 'https://www.forbes.com/sites/greatspeculations/2023/08/23/what-to-expect-from-guess-stock-post-q2/',\n",
              "   'urlToImage': 'https://imageio.forbes.com/specials-images/imageserve/63c8d782c28a7a4e03922d82/0x0.jpg?format=jpg&width=1200',\n",
              "   'publishedAt': '2023-08-23T12:00:00Z',\n",
              "   'content': 'MIAMI, FLORIDA - NOVEMBER 30: The exterior of a Guess store photographed on November 30, 2022 in ... [+] Miami, Florida. (Photo by Jeremy Moeller/Getty Images)\\r\\nGetty Images\\r\\n[Note: GuessGES\\r\\n FY23 e… [+3354 chars]'},\n",
              "  {'source': {'id': None, 'name': 'Texas Monthly'},\n",
              "   'author': 'Tom Foster',\n",
              "   'title': 'Allie Beth Allman, the Queen of Highland Park',\n",
              "   'description': 'She’s ruled the world of luxury real estate in Dallas for decades. Then came coastal money, a tech revolution, a rift with a partner, and the toll of time.',\n",
              "   'url': 'https://www.texasmonthly.com/news-politics/allie-beth-allman-queen-of-highland-park-homes/',\n",
              "   'urlToImage': 'https://img.texasmonthly.com/2023/07/Allie-Beth-Allman-Highland-Park-real-estate-dining-room.jpg?auto=compress&crop=faces&fit=fit&fm=pjpg&ixlib=php-3.3.1&q=45',\n",
              "   'publishedAt': '2023-08-27T17:11:12Z',\n",
              "   'content': 'When Jason Garrett returned to Dallas as the Cowboys’ new offensive coordinator, in 2007, he knew even before he began house-hunting that one neighborhood would trump all others: Highland Park. He al… [+55760 chars]'},\n",
              "  {'source': {'id': None, 'name': 'Biztoc.com'},\n",
              "   'author': 'investorplace.com',\n",
              "   'title': 'AMC Stock Plunges 20% Ahead of APE Conversion',\n",
              "   'description': \"InvestorPlace - Stock Market News, Stock Advice & Trading Tips AMC stock continues to slide this week ahead of the company's controversial conversion of AMC Preferred Equity units into AMC common stock. The post AMC Stock Plunges 20% Ahead of APE Conversion a…\",\n",
              "   'url': 'https://biztoc.com/x/507cee3879cd6896',\n",
              "   'urlToImage': 'https://c.biztoc.com/p/507cee3879cd6896/s.webp',\n",
              "   'publishedAt': '2023-08-22T15:24:13Z',\n",
              "   'content': \"InvestorPlace - Stock Market News, Stock Advice &amp; Trading TipsAMC stock continues to slide this week ahead of the company's controversial conversion of AMC Preferred Equity units into AMC common … [+265 chars]\"},\n",
              "  {'source': {'id': None, 'name': 'Biztoc.com'},\n",
              "   'author': 'benzinga.com',\n",
              "   'title': \"Here's How Much You Would Have Made Owning Lowe's Companies Stock In The Last 15 Years\",\n",
              "   'description': \"Lowe's Companies LOW has outperformed the market over the past 15 years by 7.23% on an annualized basis producing an average annual return of 15.87%. Currently, Lowe's Companies has a market capitalization of $131.00 billion. Buying $1000 In LOW: If an invest…\",\n",
              "   'url': 'https://biztoc.com/x/b253397c54971540',\n",
              "   'urlToImage': 'https://c.biztoc.com/p/b253397c54971540/s.webp',\n",
              "   'publishedAt': '2023-08-11T16:10:03Z',\n",
              "   'content': \"Lowe's Companies LOW has outperformed the market over the past 15 years by 7.23% on an annualized basis producing an average annual return of 15.87%. Currently, Lowe's Companies has a market capitali… [+233 chars]\"},\n",
              "  {'source': {'id': None, 'name': 'Forbes'},\n",
              "   'author': 'Trefis Team, Contributor, \\n Trefis Team, Contributor\\n https://www.forbes.com/sites/greatspeculations/people/trefis/',\n",
              "   'title': 'Will Dow Stock Recover To Its Pre-Inflation Shock Highs?',\n",
              "   'description': 'Although there has been a steady decline in the inflation rate in response to the Fed’s aggressive rate hike plan, investors still have concerns about a potential rece...',\n",
              "   'url': 'https://www.forbes.com/sites/greatspeculations/2023/09/06/will-dow-stock-recover-to-its-pre-inflation-shock-highs/',\n",
              "   'urlToImage': 'https://imageio.forbes.com/specials-images/imageserve/64f806e6658706d7641e8173/0x0.jpg?format=jpg&width=1200',\n",
              "   'publishedAt': '2023-09-06T13:00:47Z',\n",
              "   'content': 'KIEV, UKRAINE - 2021/03/06: In this photo illustration of the TradingView stock market chart of Dow ... [+] Inc. displayed on a smartphone with the logo in the background. (Photo Illustration by Igor… [+5190 chars]'},\n",
              "  {'source': {'id': None, 'name': 'Forbes'},\n",
              "   'author': 'Trefis Team, Contributor, \\n Trefis Team, Contributor\\n https://www.forbes.com/sites/greatspeculations/people/trefis/',\n",
              "   'title': 'Can Guess Stock Return To Pre-Inflation Shock Highs?',\n",
              "   'description': 'GES saw its stock trading at around $14 at the end of September 2022, when the Fed kept increasing rates, and now remains 38% above that level.',\n",
              "   'url': 'https://www.forbes.com/sites/greatspeculations/2023/08/18/can-guess-stock-return-to-pre-inflation-shock-highs/',\n",
              "   'urlToImage': 'https://imageio.forbes.com/specials-images/imageserve/64defc34f35a3465bdc712f4/0x0.jpg?format=jpg&width=1200',\n",
              "   'publishedAt': '2023-08-18T12:00:08Z',\n",
              "   'content': 'MIAMI, FLORIDA - NOVEMBER 30: The exterior of a Guess store photographed on November 30, 2022 in ... [+] Miami, Florida. (Photo by Jeremy Moeller/Getty Images)\\r\\nGetty Images\\r\\n[Note: GuessGES\\r\\n FY23 e… [+4891 chars]'},\n",
              "  {'source': {'id': None, 'name': 'Biztoc.com'},\n",
              "   'author': 'dailyhodl.com',\n",
              "   'title': 'Top Analyst Says ‘Sketchy’ Stock Market on Brink of Correction, Warns Equities Could Send Crypto Lower',\n",
              "   'description': 'An analyst who correctly called Bitcoin’s (BTC) 2018 bear market bottom warns that a weak stock market could ignite another sell-off event in crypto. Pseudonymous analyst Bluntz tells his 224,600 followers on the social media platform X that the S&P 500 appea…',\n",
              "   'url': 'https://biztoc.com/x/1f4b403582c0ae40',\n",
              "   'urlToImage': 'https://c.biztoc.com/p/1f4b403582c0ae40/s.webp',\n",
              "   'publishedAt': '2023-09-06T11:52:06Z',\n",
              "   'content': 'An analyst who correctly called Bitcoins (BTC) 2018 bear market bottom warns that a weak stock market could ignite another sell-off event in crypto.Pseudonymous analyst Bluntz tells his 224,600 follo… [+281 chars]'},\n",
              "  {'source': {'id': None, 'name': 'Forbes'},\n",
              "   'author': 'Peter Cohan, Contributor, \\n Peter Cohan, Contributor\\n https://www.forbes.com/sites/petercohan/',\n",
              "   'title': 'Why Nvidia Stock Could Soar To $1,000 A Share',\n",
              "   'description': 'Nvidia stock soared in after-hours trading Wednesday.',\n",
              "   'url': 'https://www.forbes.com/sites/petercohan/2023/08/23/why-nvidia-stock-could-soar-to-1000-a-share/',\n",
              "   'urlToImage': 'https://imageio.forbes.com/specials-images/imageserve/64e39cc2c2691457f00c8ded/0x0.jpg?format=jpg&width=1200',\n",
              "   'publishedAt': '2023-08-23T20:36:50Z',\n",
              "   'content': 'SANTA CLARA, CALIFORNIA - MAY 30: An exterior view of the NVIDIA headquarters on May 30, 2023 in ... [+] Santa Clara, California. Chipmaker NVIDIA reached a $1 trillion market cap at the open bell of… [+7414 chars]'},\n",
              "  {'source': {'id': None, 'name': 'Forbes'},\n",
              "   'author': 'Peter Cohan, Contributor, \\n Peter Cohan, Contributor\\n https://www.forbes.com/sites/petercohan/',\n",
              "   'title': 'Nvidia Blasts Through Guidance, Stock Soars — Could Hit $1,000',\n",
              "   'description': 'Nvidia stock soared in after-hours trading Wednesday.',\n",
              "   'url': 'https://www.forbes.com/sites/petercohan/2023/08/23/nvidia-blasts-through-guidance-stock-soars---could-hit-1000/',\n",
              "   'urlToImage': 'https://imageio.forbes.com/specials-images/imageserve/64e39cc2c2691457f00c8ded/0x0.jpg?format=jpg&width=1200',\n",
              "   'publishedAt': '2023-08-23T20:36:50Z',\n",
              "   'content': 'SANTA CLARA, CALIFORNIA - MAY 30: An exterior view of the NVIDIA headquarters on May 30, 2023 in ... [+] Santa Clara, California. Chipmaker NVIDIA reached a $1 trillion market cap at the open bell of… [+7361 chars]'},\n",
              "  {'source': {'id': 'business-insider', 'name': 'Business Insider'},\n",
              "   'author': 'prosen@insider.com (Phil Rosen)',\n",
              "   'title': 'This chart shows how the AI hype has taken over the stock market as companies try to cash in on the investor frenzy',\n",
              "   'description': 'Two-thirds of companies that mentioned AI on earnings calls saw their stocks rally, according to a study from Wall Street Zen.',\n",
              "   'url': 'https://markets.businessinsider.com/news/stocks/ai-stock-market-bubble-chart-earnings-investors-hype-apple-nvidia-2023-9',\n",
              "   'urlToImage': 'https://i.insider.com/64f9c1f356f5190019fccc7d?width=1200&format=jpeg',\n",
              "   'publishedAt': '2023-09-07T13:30:07Z',\n",
              "   'content': 'Artificial intelligence has gripped the attention of Wall Street over the last year.\\r\\nChatGPT stormed onto the scene last November, quickly becoming a viral web tool, and companies across sectors hav… [+1783 chars]'},\n",
              "  {'source': {'id': None, 'name': 'Biztoc.com'},\n",
              "   'author': 'finance.yahoo.com',\n",
              "   'title': 'Bill Gross Says 10-Year Treasuries Are ‘Overvalued’',\n",
              "   'description': 'Bill Gross, the one-time bond king, said stock and bond bulls are wrong, as both markets are “overvalued.” • None Maui Now Looks a Lot Less Like Paradise • None Bankman-Fried in Custody After Bail Is Revoked Over Leaks • None Look to the Options Market for Si…',\n",
              "   'url': 'https://biztoc.com/x/71b4379d7ad4ac76',\n",
              "   'urlToImage': 'https://c.biztoc.com/p/71b4379d7ad4ac76/s.webp',\n",
              "   'publishedAt': '2023-08-12T12:40:07Z',\n",
              "   'content': 'Bill Gross, the one-time bond king, said stock and bond bulls are wrong, as both markets are overvalued.None Maui Now Looks a Lot Less Like ParadiseNone Bankman-Fried in Custody After Bail Is Revoked… [+287 chars]'},\n",
              "  {'source': {'id': None, 'name': 'Biztoc.com'},\n",
              "   'author': 'investorplace.com',\n",
              "   'title': 'The 7 Best Dividend-Paying Stocks to Buy in August',\n",
              "   'description': 'InvestorPlace - Stock Market News, Stock Advice & Trading Tips Amid market turbulence, these top high-yield dividend stocks emerge as a beacon for stable income for investors The post The 7 Best Dividend-Paying Stocks to Buy in August appeared first on Invest…',\n",
              "   'url': 'https://biztoc.com/x/14597e48f02133a9',\n",
              "   'urlToImage': 'https://c.biztoc.com/p/14597e48f02133a9/s.webp',\n",
              "   'publishedAt': '2023-08-13T16:00:12Z',\n",
              "   'content': 'InvestorPlace - Stock Market News, Stock Advice &amp; Trading TipsAmid market turbulence, these top high-yield dividend stocks emerge as a beacon for stable income for investors The post The 7 Best D… [+237 chars]'},\n",
              "  {'source': {'id': None, 'name': 'Biztoc.com'},\n",
              "   'author': 'investorplace.com',\n",
              "   'title': '3 Little-Known Stocks That Wall Street Can’t Get Enough Of',\n",
              "   'description': 'InvestorPlace - Stock Market News, Stock Advice & Trading Tips Finding excellent stocks that Wall Street loves before the market catches on to them can generate superior portfolio returns. The post 3 Little-Known Stocks That Wall Street Can’t Get Enough Of ap…',\n",
              "   'url': 'https://biztoc.com/x/09c692c047c5f12e',\n",
              "   'urlToImage': 'https://c.biztoc.com/p/09c692c047c5f12e/s.webp',\n",
              "   'publishedAt': '2023-09-08T22:50:21Z',\n",
              "   'content': 'InvestorPlace - Stock Market News, Stock Advice &amp; Trading TipsFinding excellent stocks that Wall Street loves before the market catches on to them can generate superior portfolio returns.The post… [+238 chars]'},\n",
              "  {'source': {'id': None, 'name': 'Biztoc.com'},\n",
              "   'author': 'investorplace.com',\n",
              "   'title': '3 Dividend Growth Stocks Worth Buying and Holding for the Long Haul',\n",
              "   'description': 'InvestorPlace - Stock Market News, Stock Advice & Trading Tips Following July’s market peak, stocks face significant pressure with 10-year Treasury yields at levels unseen since the financial crisis. Consequently, investors have a higher-yield, lower-risk alt…',\n",
              "   'url': 'https://biztoc.com/x/7e46d779417a412e',\n",
              "   'urlToImage': 'https://c.biztoc.com/p/7e46d779417a412e/s.webp',\n",
              "   'publishedAt': '2023-09-06T01:28:05Z',\n",
              "   'content': 'InvestorPlace - Stock Market News, Stock Advice &amp; Trading TipsFollowing Julys market peak, stocks face significant pressure with 10-year Treasury yields at levels unseen since the financial crisi… [+250 chars]'},\n",
              "  {'source': {'id': None, 'name': 'Forbes'},\n",
              "   'author': 'Beth Kindig, Contributor, \\n Beth Kindig, Contributor\\n https://www.forbes.com/sites/bethkindig/',\n",
              "   'title': 'Alphabet Stock: Search Giant Is Just Getting Started',\n",
              "   'description': 'For the past three quarters, sales and earnings have declined on a year-over-year basis. However, there appears to be stabilization as comps get easier and ... READ MORE',\n",
              "   'url': 'https://www.forbes.com/sites/bethkindig/2023/08/10/alphabet-stock-search-giant-is-just-getting-started/',\n",
              "   'urlToImage': 'https://imageio.forbes.com/specials-images/imageserve/64d45dd5e646969e0ab1ea3f/0x0.jpg?format=jpg&width=1200',\n",
              "   'publishedAt': '2023-08-10T11:15:00Z',\n",
              "   'content': 'Given the macro headwinds, not many investors expected the magnitude of the Nasdaq-100s rally through the first six months of 2023. Going into this year, we were positioned for bottom-line focused in… [+7485 chars]'},\n",
              "  {'source': {'id': 'business-insider', 'name': 'Business Insider'},\n",
              "   'author': 'mfox@businessinsider.com (Matthew Fox)',\n",
              "   'title': \"CHART OF THE DAY: This indicator shows the stock market is the most overvalued it's been since the dot-com bubble crash\",\n",
              "   'description': '\"Investors are clearly comparing stocks to cash and liking what they see in cash,\" Ned Davis Research said.',\n",
              "   'url': 'https://markets.businessinsider.com/news/stocks/stock-market-most-overvalued-since-dot-com-bubble-crash-indicator-2023-9',\n",
              "   'urlToImage': 'https://i.insider.com/64f9e6178a7840001962274c?width=1200&format=jpeg',\n",
              "   'publishedAt': '2023-09-07T16:13:57Z',\n",
              "   'content': 'Our Chart of the Day is from Ned Davis Research and highlights that the stock market is incredibly overvalued based on one indicator.\\r\\nThe research firm noted the relationship between the S&amp;P 500… [+1230 chars]'},\n",
              "  {'source': {'id': None, 'name': 'Scientific American'},\n",
              "   'author': 'David Robert Grimes',\n",
              "   'title': 'Republican Presidential Candidates Vow to Fiddle as the Earth Burns',\n",
              "   'description': \"Denial of climate change is driven by ideology, leaving its consequences to harm us all&mdash;especially the world's poorest\",\n",
              "   'url': 'https://www.scientificamerican.com/article/republican-presidential-candidates-vow-to-fiddle-as-the-earth-burns/',\n",
              "   'urlToImage': 'https://static.scientificamerican.com/sciam/cache/file/A414F2ED-D640-4F0E-8C0B8D1D45ECA47E.jpg',\n",
              "   'publishedAt': '2023-09-01T14:30:00Z',\n",
              "   'content': 'Debates inescapably animate the American election circus, watched more for gaffes and missteps than genuine insight into presidential aspirants.\\r\\nIn August, however, the Republican presidential candi… [+6718 chars]'},\n",
              "  {'source': {'id': None, 'name': 'Biztoc.com'},\n",
              "   'author': 'theblock.co',\n",
              "   'title': 'Bitcoin’s price rallies ahead of Nvidia results, Powell speech',\n",
              "   'description': \"Bitcoin's price is caught in the upward momentum of a stock market rebound, as investors anticipate Nvidia's earnings report. #nvidia\",\n",
              "   'url': 'https://biztoc.com/x/077a280d156d8ded',\n",
              "   'urlToImage': 'https://c.biztoc.com/p/077a280d156d8ded/s.webp',\n",
              "   'publishedAt': '2023-08-23T17:02:05Z',\n",
              "   'content': \"Bitcoin's price is caught in the upward momentum of a stock market rebound, as investors anticipate Nvidia's earnings report.\\r\\n#nvidia\\r\\nThis story appeared on theblock.co, .\"},\n",
              "  {'source': {'id': None, 'name': 'Biztoc.com'},\n",
              "   'author': 'apnews.com',\n",
              "   'title': 'Stock market today: Asia shares decline as faltering Chinese economy sets off global slide',\n",
              "   'description': \"Asian shares declined Wednesday amid worries over discouraging data on China, as well as over the future of the U.S. economy. Japan's benchmark Nikkei 225 dropped 1.3% in afternoon trading to 31,805.37. Australia's S&P/ASX 200 dove 1.6% to 7,192.10. South Kor…\",\n",
              "   'url': 'https://biztoc.com/x/d3c5fc156e4bbafe',\n",
              "   'urlToImage': 'https://c.biztoc.com/p/d3c5fc156e4bbafe/s.webp',\n",
              "   'publishedAt': '2023-08-16T07:16:04Z',\n",
              "   'content': \"Asian shares declined Wednesday amid worries over discouraging data on China, as well as over the future of the U.S. economy.Japan's benchmark Nikkei 225 dropped 1.3% in afternoon trading to 31,805.3… [+308 chars]\"},\n",
              "  {'source': {'id': None, 'name': 'Biztoc.com'},\n",
              "   'author': 'aol.com',\n",
              "   'title': 'Stock market today: Asian shares are mixed ahead of Fed Chair speech and Nvidia earnings',\n",
              "   'description': \"Asian markets were trading mixed Wednesday ahead of Fed Chair Jerome Powell's highly anticipated speech later in the week. Japan's benchmark Nikkei 225 added 0.5% to finish at 32,010.26. Australia's S&P/ASX 200 gained 0.4% to 7,148.40. South Korea's Kospi sli…\",\n",
              "   'url': 'https://biztoc.com/x/a866b0dec5ccf337',\n",
              "   'urlToImage': 'https://c.biztoc.com/p/a866b0dec5ccf337/s.webp',\n",
              "   'publishedAt': '2023-08-23T07:50:04Z',\n",
              "   'content': \"Asian markets were trading mixed Wednesday ahead of Fed Chair Jerome Powell's highly anticipated speech later in the week.Japan's benchmark Nikkei 225 added 0.5% to finish at 32,010.26. Australia's S… [+293 chars]\"},\n",
              "  {'source': {'id': None, 'name': 'Biztoc.com'},\n",
              "   'author': 'aol.com',\n",
              "   'title': 'Stock market today: Asian shares mostly decline ahead of Federal Reserve’s Powell speech',\n",
              "   'description': \"Asian shares mostly fell Friday, discouraged by a Wall Street slump that followed a blowout profit report from Nvidia and mixed reports on the United States economy. Japan's benchmark Nikkei 225 dropped 2.0% to 31,634.37 in afternoon trading. Australia's S&P/…\",\n",
              "   'url': 'https://biztoc.com/x/6509e08d152bf8e6',\n",
              "   'urlToImage': 'https://c.biztoc.com/p/6509e08d152bf8e6/s.webp',\n",
              "   'publishedAt': '2023-08-25T07:42:03Z',\n",
              "   'content': \"Asian shares mostly fell Friday, discouraged by a Wall Street slump that followed a blowout profit report from Nvidia and mixed reports on the United States economy.Japan's benchmark Nikkei 225 dropp… [+286 chars]\"},\n",
              "  {'source': {'id': None, 'name': 'Biztoc.com'},\n",
              "   'author': 'seekingalpha.com',\n",
              "   'title': 'Stock Market News Today: Markets end higher as tech stocks rebound (SP500)',\n",
              "   'description': 'U.S. equities on Monday ended higher, primarily on the back of technology stocks and megacap names. Market participants geared up for key economic data later this week in the form of retail sales and industrial production. Investors also eyed further clues ab…',\n",
              "   'url': 'https://biztoc.com/x/3e2fb09461e84f10',\n",
              "   'urlToImage': 'https://c.biztoc.com/p/3e2fb09461e84f10/og.webp',\n",
              "   'publishedAt': '2023-08-15T14:38:17Z',\n",
              "   'content': 'U.S. equities on Monday ended higher, primarily on the back of technology stocks and megacap names. Market participants geared up for key economic data later this week in the form of retail sales and… [+295 chars]'},\n",
              "  {'source': {'id': None, 'name': 'Biztoc.com'},\n",
              "   'author': 'cnbc.com',\n",
              "   'title': \"Jim Cramer's top 10 things to watch in the stock market Thursday\",\n",
              "   'description': 'My top 10 things to watch Thursday, Aug. 24 Nvidia (NVDA) is triumphant. Another blowout quarter and once again showing why it\\'s an \"own it, don\\'t trade it\" stock. Big guidance raise. Shares surged 8% early Thursday, set to open at a fresh all-time high above…',\n",
              "   'url': 'https://biztoc.com/x/4ee11895daa13788',\n",
              "   'urlToImage': 'https://c.biztoc.com/p/4ee11895daa13788/s.webp',\n",
              "   'publishedAt': '2023-08-24T13:12:04Z',\n",
              "   'content': 'My top 10 things to watch Thursday, Aug. 24 Nvidia (NVDA) is triumphant. Another blowout quarter and once again showing why it\\'s an \"own it, don\\'t trade it\" stock. Big guidance raise. Shares surged 8… [+302 chars]'},\n",
              "  {'source': {'id': None, 'name': 'Biztoc.com'},\n",
              "   'author': 'barrons.com',\n",
              "   'title': 'This Strategist Has Been Right About the Stock Market. How He Sees the Year Ending',\n",
              "   'description': 'After a huge rally to start the year, stocks’ momentum has faltered. They may struggle to find it again before the end of the year, according to one of 2023’s most successf...',\n",
              "   'url': 'https://biztoc.com/x/e18cfc22ecccf57a',\n",
              "   'urlToImage': 'https://c.biztoc.com/p/e18cfc22ecccf57a/s.webp',\n",
              "   'publishedAt': '2023-09-05T21:54:53Z',\n",
              "   'content': 'After a huge rally to start the year, stocks momentum has faltered. They may struggle to find it again before the end of the year, according to one of 2023s most successf...\\r\\nThis story appeared on b… [+12 chars]'},\n",
              "  {'source': {'id': None, 'name': 'Yahoo Entertainment'},\n",
              "   'author': None,\n",
              "   'title': 'Market Digest: CCEP, CSCO, ITRI',\n",
              "   'description': \"Find the latest Itron, Inc. (ITRI) stock forecast based on top analyst's estimates, plus more investing and trading data from Yahoo Finance\",\n",
              "   'url': 'https://finance.yahoo.com/research/reports/ARGUS_37403_MarketSummary_1692356532000/',\n",
              "   'urlToImage': 'https://s.yimg.com/cv/apiv2/social/images/yahoo_default_logo.png',\n",
              "   'publishedAt': '2023-08-18T11:02:12Z',\n",
              "   'content': 'Stocks fell sharply on Thursday, extending their recent losses. Investors weighed strong earnings from Walmart and Cisco, along with news that Blue Shield of California would drop CVS Health as its p… [+768 chars]'},\n",
              "  {'source': {'id': None, 'name': 'Yahoo Entertainment'},\n",
              "   'author': None,\n",
              "   'title': 'Market Update: NYT, RCL, DG',\n",
              "   'description': \"Find the latest Dollar General Corporation (DG) stock forecast based on top analyst's estimates, plus more investing and trading data from Yahoo Finance\",\n",
              "   'url': 'https://finance.yahoo.com/research/reports/ARGUS_37570_MarketUpdate_1693933028000/',\n",
              "   'urlToImage': 'https://s.yimg.com/cv/apiv2/social/images/yahoo_default_logo.png',\n",
              "   'publishedAt': '2023-09-05T16:57:08Z',\n",
              "   'content': 'Stocks edged lower on Tuesday morning on more disappointing data in China. The Caixin China Services PMI was 51.8 in August, reflecting the smallest rate of growth in eight months. New orders growth … [+415 chars]'},\n",
              "  {'source': {'id': None, 'name': 'Biztoc.com'},\n",
              "   'author': 'marketwatch.com',\n",
              "   'title': 'The Tell: Can the stock-market rally survive rising Treasury yields? Here’s what history says',\n",
              "   'description': 'There’s more than one way to interpret the impact that Treasury yields can have on U.S. stocks. Ed Clissold, chief U.S. strategist, and Thanh Nguyen, senior quantitative analyst, for Ned Davis Research described three scenarios in which the direction of short…',\n",
              "   'url': 'https://biztoc.com/x/ae502789b447432f',\n",
              "   'urlToImage': 'https://c.biztoc.com/p/ae502789b447432f/s.webp',\n",
              "   'publishedAt': '2023-08-10T19:54:04Z',\n",
              "   'content': 'Theres more than one way to interpret the impact that Treasury yields can have on U.S. stocks.Ed Clissold, chief U.S. strategist, and Thanh Nguyen, senior quantitative analyst, for Ned Davis Research… [+290 chars]'},\n",
              "  {'source': {'id': None, 'name': 'Biztoc.com'},\n",
              "   'author': 'cnbc.com',\n",
              "   'title': \"Jim Cramer's top 10 things to watch in the stock market Tuesday\",\n",
              "   'description': \"My top 10 things to watch Tuesday, Aug. 15 The Dow , the S & P 500 and the Nasdaq are set to open lower after disappointing China data and another interest rate cut by the Chinese central bank. Dow stock Home Depot (HD) drops despite quarterly beats. We'll he…\",\n",
              "   'url': 'https://biztoc.com/x/ee656a18179d5cbd',\n",
              "   'urlToImage': 'https://c.biztoc.com/p/ee656a18179d5cbd/s.webp',\n",
              "   'publishedAt': '2023-08-15T13:32:09Z',\n",
              "   'content': 'My top 10 things to watch Tuesday, Aug. 15 The Dow , the S &amp; P 500 and the Nasdaq are set to open lower after disappointing China data and another interest rate cut by the Chinese central bank. D… [+288 chars]'},\n",
              "  {'source': {'id': None, 'name': 'Biztoc.com'},\n",
              "   'author': 'finance.yahoo.com',\n",
              "   'title': 'Stocks open higher after three-week slump: Stock market news today',\n",
              "   'description': 'Stocks rose at the open, signaling a bounce in equities amid a brutal August for investors so far. The Dow Jones Industrial Average (^DJI) rose 0.1%, while the S&P 500 (^GSPC) was up 0.3%. The tech-heavy Nasdaq Composite (^IXIC) was up 0.4% after losing more …',\n",
              "   'url': 'https://biztoc.com/x/4237f63f2a238d11',\n",
              "   'urlToImage': 'https://c.biztoc.com/p/4237f63f2a238d11/s.webp',\n",
              "   'publishedAt': '2023-08-21T15:04:03Z',\n",
              "   'content': 'Stocks rose at the open, signaling a bounce in equities amid a brutal August for investors so far.The Dow Jones Industrial Average (^DJI) rose 0.1%, while the S&amp;P 500 (^GSPC) was up 0.3%. The tec… [+309 chars]'},\n",
              "  {'source': {'id': None, 'name': 'Biztoc.com'},\n",
              "   'author': 'marketwatch.com',\n",
              "   'title': 'Same bank, 2 different stock-market calls. Why internal disagreements rage on Wall Street',\n",
              "   'description': 'A pair of JPMorgan Chase & Co. strategists raised eyebrows earlier this month when they espoused seemingly contradictory market calls. It is the latest example of how strategists and economists working for the same Wall Street employers are increasingly comfo…',\n",
              "   'url': 'https://biztoc.com/x/8794350ba83c131a',\n",
              "   'urlToImage': 'https://c.biztoc.com/p/8794350ba83c131a/s.webp',\n",
              "   'publishedAt': '2023-08-17T16:10:06Z',\n",
              "   'content': 'A pair of JPMorgan Chase &amp; Co. strategists raised eyebrows earlier this month when they espoused seemingly contradictory market calls.It is the latest example of how strategists and economists wo… [+322 chars]'},\n",
              "  {'source': {'id': None, 'name': 'Biztoc.com'},\n",
              "   'author': 'cnbc.com',\n",
              "   'title': \"Jim Cramer's top 10 things to watch in the stock market Wednesday\",\n",
              "   'description': \"My top 10 things to watch Wednesday, Aug. 23 The Dow , the S & P 500 and the Nasdaq are set to open slightly higher as investors look forward to Wednesday's after-the-bell earnings from Club name Nvidia (NVDA). The AI chip powerhouse hit an all-time high in T…\",\n",
              "   'url': 'https://biztoc.com/x/aa8880db666b3264',\n",
              "   'urlToImage': 'https://c.biztoc.com/p/aa8880db666b3264/s.webp',\n",
              "   'publishedAt': '2023-08-23T13:36:03Z',\n",
              "   'content': \"My top 10 things to watch Wednesday, Aug. 23 The Dow , the S &amp; P 500 and the Nasdaq are set to open slightly higher as investors look forward to Wednesday's after-the-bell earnings from Club name… [+269 chars]\"},\n",
              "  {'source': {'id': None, 'name': 'Biztoc.com'},\n",
              "   'author': 'dailyhodl.com',\n",
              "   'title': 'JPMorgan Chase Issues Market Update, Says One Stock Could Soar 116%: Report',\n",
              "   'description': 'JPMorgan Chase just issued an update on the firm’s financial outlook. In a new note to clients, global investment strategist Madison Faller says JPMorgan has a “glass half-full” view after a month-long stock market dip, reports the financial technology firm T…',\n",
              "   'url': 'https://biztoc.com/x/9f67d6e6dbba732b',\n",
              "   'urlToImage': 'https://c.biztoc.com/p/9f67d6e6dbba732b/og.webp',\n",
              "   'publishedAt': '2023-08-28T10:26:05Z',\n",
              "   'content': 'JPMorgan Chase just issued an update on the firms financial outlook.In a new note to clients, global investment strategist Madison Faller says JPMorgan has a glass half-full view after a month-long s… [+302 chars]'},\n",
              "  {'source': {'id': None, 'name': 'Theregister.com'},\n",
              "   'author': 'Paul Kunert',\n",
              "   'title': 'Hands up who wants a PC? Lenovo reports declining returns',\n",
              "   'description': 'Anyone? Anyone? Bueller? Profit down 66% as execs try to clear inventory decks\\nLenovo profits took a nosedive for the second consecutive quarter as demand for personal computers continues to slump in the face of a crappy economy.…',\n",
              "   'url': 'https://www.theregister.com/2023/08/17/lenovo_pc_sales/',\n",
              "   'urlToImage': 'https://regmedia.co.uk/2020/11/03/shutterstock_lenovo_editorial_only.jpg',\n",
              "   'publishedAt': '2023-08-17T12:45:13Z',\n",
              "   'content': \"Lenovo profits took a nosedive for the second consecutive quarter as demand for personal computers continues to slump in the face of a crappy economy.\\r\\nTurnover from sales for Lenovo's Q1 of its fisc… [+2780 chars]\"},\n",
              "  {'source': {'id': None, 'name': 'Forbes'},\n",
              "   'author': 'Trefis Team, Contributor, \\n Trefis Team, Contributor\\n https://www.forbes.com/sites/greatspeculations/people/trefis/',\n",
              "   'title': 'Where Is MetLife Stock Headed?',\n",
              "   'description': 'MetLife’s stock (NYSE: MET) has lost 13% YTD as compared to the 18% increase in the S&P500 index over the same period.',\n",
              "   'url': 'https://www.forbes.com/sites/greatspeculations/2023/09/01/where-is-metlife-stock-headed/',\n",
              "   'urlToImage': 'https://imageio.forbes.com/specials-images/imageserve/64f1709581f6e0db0a85cc99/0x0.jpg?format=jpg&width=1200',\n",
              "   'publishedAt': '2023-09-01T11:00:19Z',\n",
              "   'content': 'NEW YORK, NY - JUNE 20: Northern view from the Empire State Building showing construction 270 Park ... [+] Avenue, the new headquarters for JPMorgan Chase rising on the midtown Manhattan skyline behi… [+2225 chars]'},\n",
              "  {'source': {'id': None, 'name': '9to5Mac'},\n",
              "   'author': 'Ben Lovejoy',\n",
              "   'title': 'Here’s how the Apple Trade In process works behind the scenes',\n",
              "   'description': 'If you’ve ever done an Apple Trade In of an old device when buying a new one, you may have briefly wondered what happens to it after you leave the store.\\n\\n\\n\\nWe’ve previously had a look at the post-Trade In experience for a major US carrier, and a new report g…',\n",
              "   'url': 'https://9to5mac.com/2023/08/15/apple-trade-in-process/',\n",
              "   'urlToImage': 'https://i0.wp.com/9to5mac.com/wp-content/uploads/sites/6/2023/08/Apple-Trade-In-process.jpg?resize=1200%2C628&quality=82&strip=all&ssl=1',\n",
              "   'publishedAt': '2023-08-15T14:23:17Z',\n",
              "   'content': 'If you’ve ever done an Apple Trade In of an old device when buying a new one, you may have briefly wondered what happens to it after you leave the store.\\r\\nWe’ve previously had a look at the post-Trad… [+2989 chars]'},\n",
              "  {'source': {'id': 'business-insider', 'name': 'Business Insider'},\n",
              "   'author': 'mfox@businessinsider.com (Matthew Fox)',\n",
              "   'title': \"The Fed may be done hiking rates but there's another policy move that still poses a big risk to stocks\",\n",
              "   'description': '\"When [Fed] reserves have been declining by more than $38 billion over the past four weeks, stocks have struggled,\" Ned Davis Research said.',\n",
              "   'url': 'https://markets.businessinsider.com/news/stocks/stock-market-risk-outlook-fed-balance-sheet-liquidity-drain-rates-2023-8',\n",
              "   'urlToImage': 'https://i.insider.com/638f50be8580f70019f7a248?width=1200&format=jpeg',\n",
              "   'publishedAt': '2023-08-10T20:01:08Z',\n",
              "   'content': 'The Federal Reserve may be close to the end of its rate hiking campaign based on a continued cooldown in inflation, but the central bank has one more policy move that poses a big risk for the stock m… [+2153 chars]'},\n",
              "  {'source': {'id': None, 'name': 'Biztoc.com'},\n",
              "   'author': 'wsj.com',\n",
              "   'title': 'Stock Market Today: Dow Futures Slip; Yuan Weakens After China Cuts Rates',\n",
              "   'description': 'U.S. stock futures fell early Tuesday, while benchmark Treasury yields approached their highest levels since 2008. Concerns about China’s faltering economy continued to weigh on investor sentiment, as market participants digested a fresh batch of weak Chinese…',\n",
              "   'url': 'https://biztoc.com/x/d870f93d0da090d4',\n",
              "   'urlToImage': 'https://c.biztoc.com/p/d870f93d0da090d4/og.webp',\n",
              "   'publishedAt': '2023-08-15T10:12:08Z',\n",
              "   'content': 'U.S. stock futures fell early Tuesday, while benchmark Treasury yields approached their highest levels since 2008.Concerns about Chinas faltering economy continued to weigh on investor sentiment, as … [+245 chars]'},\n",
              "  {'source': {'id': None, 'name': 'Biztoc.com'},\n",
              "   'author': 'apnews.com',\n",
              "   'title': 'Stock market today: Asian stocks mixed as traders await Fed conference for interest rate update',\n",
              "   'description': 'Asian stocks were mixed Monday as traders looked ahead to the Federal Reserve’s summer conference for signs of whether the U.S. central bank thinks inflation is under control or more interest rate hikes are needed to cool inflation. Shanghai and Hong Kong ret…',\n",
              "   'url': 'https://biztoc.com/x/3f2b35c755dbdc7f',\n",
              "   'urlToImage': 'https://c.biztoc.com/p/3f2b35c755dbdc7f/s.webp',\n",
              "   'publishedAt': '2023-08-21T04:10:05Z',\n",
              "   'content': 'Asian stocks were mixed Monday as traders looked ahead to the Federal Reserves summer conference for signs of whether the U.S. central bank thinks inflation is under control or more interest rate hik… [+296 chars]'},\n",
              "  {'source': {'id': None, 'name': 'Biztoc.com'},\n",
              "   'author': 'aol.com',\n",
              "   'title': 'Stock market today: Asian shares fall back amid selling of China property shares',\n",
              "   'description': 'Shares fell back Tuesday in Asia after U.S. markets were closed for the Labor Day holiday. U.S. futures also were lower and oil prices were mixed. Hong Kong fell more than 1% as Chinese property stocks declined as investors sold to lock in gains fueled by rec…',\n",
              "   'url': 'https://biztoc.com/x/6a7bbe291f338247',\n",
              "   'urlToImage': 'https://c.biztoc.com/p/6a7bbe291f338247/s.webp',\n",
              "   'publishedAt': '2023-09-05T04:24:33Z',\n",
              "   'content': 'Shares fell back Tuesday in Asia after U.S. markets were closed for the Labor Day holiday.U.S. futures also were lower and oil prices were mixed.Hong Kong fell more than 1% as Chinese property stocks… [+283 chars]'}]}"
            ]
          },
          "execution_count": 15,
          "metadata": {},
          "output_type": "execute_result"
        }
      ],
      "source": [
        "all_articles"
      ]
    },
    {
      "cell_type": "code",
      "execution_count": null,
      "metadata": {
        "colab": {
          "base_uri": "https://localhost:8080/"
        },
        "id": "RH9xN0YrukBW",
        "outputId": "9362f6ac-5648-4a02-e2eb-f31518a0a388"
      },
      "outputs": [
        {
          "data": {
            "text/plain": [
              "dict"
            ]
          },
          "execution_count": 8,
          "metadata": {},
          "output_type": "execute_result"
        }
      ],
      "source": [
        "type(all_articles)"
      ]
    },
    {
      "cell_type": "code",
      "execution_count": null,
      "metadata": {
        "id": "7vFsbHjYvCAI"
      },
      "outputs": [],
      "source": [
        "if all_articles['status']=='ok':\n",
        "  articles_dict = all_articles['articles']"
      ]
    },
    {
      "cell_type": "code",
      "execution_count": null,
      "metadata": {
        "colab": {
          "base_uri": "https://localhost:8080/"
        },
        "collapsed": true,
        "id": "nanF8HvdxhiP",
        "jupyter": {
          "outputs_hidden": true
        },
        "outputId": "951cd7cc-9d35-426f-f169-cd3b553cfa4f",
        "tags": []
      },
      "outputs": [
        {
          "data": {
            "text/plain": [
              "[{'source': {'id': None, 'name': 'Autoblog'},\n",
              "  'author': 'Associated Press',\n",
              "  'title': 'Profit at Honda doubles on strong global sales of cars and motorcycles',\n",
              "  'description': 'Filed under:\\n Earnings/Financials,Acura,Honda\\n Continue reading Profit at Honda doubles on strong global sales of cars and motorcycles\\nProfit at Honda doubles on strong global sales of cars and motorcycles originally appeared on Autoblog on Thu, 10 Aug 2023 0…',\n",
              "  'url': 'https://www.autoblog.com/2023/08/10/honda-profits-up-car-motorcycle-sales/',\n",
              "  'urlToImage': 'https://o.aolcdn.com/images/dims3/GLOB/legacy_thumbnail/1062x597/format/jpg/quality/100/https://s.yimg.com/os/creatr-uploaded-images/2023-08/c82abae0-377c-11ee-bdf5-43e90a973d73',\n",
              "  'publishedAt': '2023-08-10T12:52:00Z',\n",
              "  'content': 'TOKYO Honda reported Wednesday that its April-June profit more than doubled on healthy sales of its motorcycles and cars, as the Japanese company also received a perk from favorable exchange rates.\\r\\n… [+2063 chars]'},\n",
              " {'source': {'id': None, 'name': 'Quartz India'},\n",
              "  'author': 'Alanna Durkin Richer, Associated Press',\n",
              "  'title': 'Russian man with Kremlin ties gets 9 years in US prison for hacking and insider trading scheme',\n",
              "  'description': 'BOSTON (AP) — A wealthy Russian businessman with ties to the Kremlin was sentenced Thursday to nine years in prison for his role in a nearly $100 million stock market cheating scheme that relied on secret earnings information stolen through the hacking of U.S…',\n",
              "  'url': 'https://qz.com/russian-man-with-kremlin-ties-gets-9-years-in-us-prison-1850812698',\n",
              "  'urlToImage': 'https://i.kinja-img.com/gawker-media/image/upload/c_fill,f_auto,fl_progressive,g_center,h_675,pg_1,q_80,w_1200/6030ac53cf5a4916defff0262ca74401.jpg',\n",
              "  'publishedAt': '2023-09-07T17:15:42Z',\n",
              "  'content': 'BOSTON (AP) A wealthy Russian businessman with ties to the Kremlin was sentenced Thursday to nine years in prison for his role in a nearly $100 million stock market cheating scheme that relied on sec… [+5269 chars]'},\n",
              " {'source': {'id': None, 'name': 'Thedailyupside.com'},\n",
              "  'author': 'newsfeedback@fool.com (Griffin Kelly from The Daily Upside)',\n",
              "  'title': \"Beijing's Moves to Spark Stocks Have Little Staying Power\",\n",
              "  'description': 'No matter how many times they shake it, China’s Magic 8 ball keeps reading: “Outlook not so good.” Officials in Beijing are trying their best to reinvigorate China’s stock market, but it might be too little, too late to secure...',\n",
              "  'url': 'https://www.thedailyupside.com/beijings-moves-to-spark-stocks-have-little-staying-power/',\n",
              "  'urlToImage': 'https://www.thedailyupside.com/wp-content/uploads/2023/08/1_chinese_08-29-23_pexels-Liza-Summer-1200x800.png',\n",
              "  'publishedAt': '2023-08-28T23:00:13Z',\n",
              "  'content': 'No matter how many times they shake it, Chinas Magic 8 ball keeps reading: Outlook not so good.\\r\\nOfficials in Beijing are trying their best to reinvigorate Chinas stock market, but it might be too li… [+2624 chars]'},\n",
              " {'source': {'id': None, 'name': 'MarketWatch'},\n",
              "  'author': 'Steve Gelsi',\n",
              "  'title': ': Goldman Sachs CEO David Solomon says he doesn’t recognize ‘caricature’ that critics have painted of him',\n",
              "  'description': 'Solomon tells CNBC’s David Faber that he’s focused more on clients and deal-making than critical media reports, and says he’s not spending any more time as a DJ',\n",
              "  'url': 'https://www.marketwatch.com/story/goldman-sachs-ceo-david-solomon-says-he-doesnt-recognize-caricature-that-critics-have-painted-of-him-b4ab1e60',\n",
              "  'urlToImage': 'https://images.mktw.net/im-848430/social',\n",
              "  'publishedAt': '2023-09-07T21:39:00Z',\n",
              "  'content': 'Embattled Goldman Sachs Group Inc. Chief Executive David Solomon said Thursday he remains optimistic about the firms prospects despite media reports that hes difficult to work with as he continues to… [+4611 chars]'},\n",
              " {'source': {'id': None, 'name': 'MarketWatch'},\n",
              "  'author': 'Wallace Witkowski',\n",
              "  'title': 'The Ratings Game: Why is Palo Alto Networks reporting earnings Friday afternoon? The strange timing draws speculation.',\n",
              "  'description': 'Wall Street wonders why the cybersecurity company decided to report earnings and hold its conference call after the close of markets on a Friday.',\n",
              "  'url': 'https://www.marketwatch.com/story/why-is-palo-alto-networks-reporting-earnings-friday-afternoon-the-strange-timing-draws-speculation-7f557bb1',\n",
              "  'urlToImage': 'https://images.mktw.net/im-787374/social',\n",
              "  'publishedAt': '2023-08-15T19:25:00Z',\n",
              "  'content': 'Palo Alto Networks Inc. has Wall Street wondering why the cybersecurity company decided to report earnings and hold its conference call after the close of markets on a Friday. While Palo Alto Network… [+3925 chars]'},\n",
              " {'source': {'id': None, 'name': 'Biztoc.com'},\n",
              "  'author': 'investorplace.com',\n",
              "  'title': 'Bet on THIS Underrated Quantum Computing Stock for Long-Term Gains',\n",
              "  'description': \"InvestorPlace - Stock Market News, Stock Advice & Trading Tips For investors seeking a truly high-growth option in this current market, here's one quantum computing stock to consider. The post Bet on THIS Underrated Quantum Computing Stock for Long-Term Gains…\",\n",
              "  'url': 'https://biztoc.com/x/e81a91bdd5e5e637',\n",
              "  'urlToImage': 'https://c.biztoc.com/p/e81a91bdd5e5e637/s.webp',\n",
              "  'publishedAt': '2023-08-27T13:08:07Z',\n",
              "  'content': \"InvestorPlace - Stock Market News, Stock Advice &amp; Trading TipsFor investors seeking a truly high-growth option in this current market, here's one quantum computing stock to consider.The post Bet … [+236 chars]\"},\n",
              " {'source': {'id': None, 'name': 'HuffPost'},\n",
              "  'author': 'AP',\n",
              "  'title': 'OMINOUS: Powell Says Inflation ‘Remains Too High’ — Hints Fed Not Done Flirting With Recession',\n",
              "  'description': 'Powell’s speech highlighted the uncertainties surrounding the economy and the complexity of the Fed’s response to it.',\n",
              "  'url': 'https://www.huffpost.com/entry/powell-says-inflation-remains-too-high-hints-recession_n_64e8f6dfe4b084283f262e20',\n",
              "  'urlToImage': 'https://img.huffingtonpost.com/asset/64e8f7582500006100c1592a.jpeg?cache=J92AjgdcZO&ops=1200_630',\n",
              "  'publishedAt': '2023-08-25T19:00:28Z',\n",
              "  'content': 'Federal Reserve Chairman Jerome Powell takes a break outside of Jackson Lake Lodge during the Jackson Hole Economic Symposium near Moran in Grand Teton National Park, Wyo., Friday, Aug. 25, 2023. (AP… [+7708 chars]'},\n",
              " {'source': {'id': None, 'name': 'Biztoc.com'},\n",
              "  'author': 'forbes.com',\n",
              "  'title': 'Why VinFast Stock May Be 98% Too High',\n",
              "  'description': 'Investors valued VinFast, a Vietnam-based electric vehicle maker with relatively little revenue, at $69 billion following its Tuesday market debut — higher than GM’s and Ford’s combined market capitalization. Here are four reasons VinFast shares could be 98% …',\n",
              "  'url': 'https://biztoc.com/x/b5426e15aa7bf62d',\n",
              "  'urlToImage': 'https://c.biztoc.com/p/b5426e15aa7bf62d/s.webp',\n",
              "  'publishedAt': '2023-08-17T16:08:06Z',\n",
              "  'content': 'Investors valued VinFast, a Vietnam-based electric vehicle maker with relatively little revenue, at $69 billion following its Tuesday market debut higher than GMs and Fords combined market capitaliza… [+276 chars]'},\n",
              " {'source': {'id': None, 'name': 'Forbes'},\n",
              "  'author': 'Q.ai - Powering a Personal Wealth Movement, Contributor, \\n Q.ai - Powering a Personal Wealth Movement, Contributor\\n https://www.forbes.com/sites/qai/',\n",
              "  'title': 'Why Is The Stock Market Down This Week? August Has Been Tough For Traders',\n",
              "  'description': 'Get ready for a breakdown of why the stock market has underperformed in August.',\n",
              "  'url': 'https://www.forbes.com/sites/qai/2023/08/21/why-is-the-stock-market-down-this-week-august-has-been-tough-for-traders/',\n",
              "  'urlToImage': 'https://imageio.forbes.com/specials-images/imageserve/64e377432658dda9394af6bf/0x0.jpg?format=jpg&width=1200',\n",
              "  'publishedAt': '2023-08-21T14:40:41Z',\n",
              "  'content': '(Photo by Bryan R. Smith / AFP) (Photo by BRYAN R. SMITH/AFP via Getty Images)\\r\\nAFP via Getty Images\\r\\nKey takeaways\\r\\n<ul><li>The stock markets have lost sizeable gains in August</li><li>Inflation, th… [+7043 chars]'},\n",
              " {'source': {'id': None, 'name': 'Quartz India'},\n",
              "  'author': 'Nate DiCamillo',\n",
              "  'title': 'Margin calls: Use that leverage',\n",
              "  'description': 'Making the most of the 21st century financial system',\n",
              "  'url': 'https://qz.com/emails/quartz-obsession/1850818195/margin-calls-use-that-leverage',\n",
              "  'urlToImage': 'https://i.kinja-img.com/gawker-media/image/upload/c_fill,f_auto,fl_progressive,g_center,h_675,pg_1,q_80,w_1200/adcb9034ca91cfa5f93ccd5f1dc61c43.jpg',\n",
              "  'publishedAt': '2023-09-08T19:45:00Z',\n",
              "  'content': 'What on Earth is a margin call?\\xa0\\r\\nOne of the key features of the US stock market is the ability to invest in securities using borrowed money. Anyone can secure a loan using the stocks in their existi… [+9142 chars]'},\n",
              " {'source': {'id': None, 'name': 'Forbes'},\n",
              "  'author': 'Trefis Team, Contributor, \\n Trefis Team, Contributor\\n https://www.forbes.com/sites/greatspeculations/people/trefis/',\n",
              "  'title': 'Will Lululemon Stock Trade Higher Post Q2?',\n",
              "  'description': 'Lululemon (NASDAQ: LULU), a company designing and selling athletic and casual apparel, is scheduled to report its fiscal second-quarter results on Thursday, August 31.',\n",
              "  'url': 'https://www.forbes.com/sites/greatspeculations/2023/08/30/will-lululemon-stock-trade-higher-post-q2/',\n",
              "  'urlToImage': 'https://imageio.forbes.com/specials-images/imageserve/64eed7bd3f4cca1d254af6bb/0x0.jpg?format=jpg&width=1200',\n",
              "  'publishedAt': '2023-08-30T11:00:43Z',\n",
              "  'content': 'NEW YORK, NY - JUNE 21: A Lululemon corporate logo hangs on the front of their store in Brookfield ... [+] Place on June 21, 2023, in New York City. (Photo by Gary Hershorn/Getty Images)\\r\\nGetty Image… [+3276 chars]'},\n",
              " {'source': {'id': None, 'name': 'Euronews'},\n",
              "  'author': None,\n",
              "  'title': 'Stock market today: Asian shares surge after good news from US jobs market',\n",
              "  'description': 'Stocks were higher in Asia on Monday after Wall Street was boosted by a report that signalled the US jobs market, while still healthy, is showing some signs of cooling.',\n",
              "  'url': 'https://www.euronews.com/2023/09/04/stock-market-today-asian-shares-surge-after-good-news-from-us-jobs-market',\n",
              "  'urlToImage': 'https://static.euronews.com/articles/stories/07/86/83/22/1000x563_cmsv2_d09d496d-5b53-50c6-ae4c-06ccdb1bee46-7868322.jpg',\n",
              "  'publishedAt': '2023-09-04T08:24:24Z',\n",
              "  'content': 'Stocks were higher in Asia on Monday after Wall Street was boosted by a report that signalled the US jobs market, while still healthy, is showing some signs of cooling.\\r\\n The news supported investors… [+3499 chars]'},\n",
              " {'source': {'id': None, 'name': 'iMore'},\n",
              "  'author': 'Stephen Warwick',\n",
              "  'title': \"iPhone 15 could see Apple surpass Samsung as world's largest smartphone brand\",\n",
              "  'description': 'A new report claims that at current trends, Apple will surpass Samsung as the biggest smartphone brand in 2023, holding onto that title into next year, thanks to iPhone 15.',\n",
              "  'url': 'https://www.imore.com/iphone/iphone-15/iphone-15-could-see-apple-surpass-samsung-as-worlds-largest-smartphone-brand',\n",
              "  'urlToImage': 'https://cdn.mos.cms.futurecdn.net/KptEmrCTLzYzodAKoGVkWo-1200-80.jpg',\n",
              "  'publishedAt': '2023-08-29T10:19:25Z',\n",
              "  'content': 'A new report from a top Apple insider and analyst has revealed that Apple’s upcoming iPhone 15 could propel the company to the top of the smartphone charts, surpassing Samsung to become the world’s l… [+1635 chars]'},\n",
              " {'source': {'id': None, 'name': 'Substack.com'},\n",
              "  'author': 'Kulak',\n",
              "  'title': 'Film Review: BlackBerry',\n",
              "  'description': 'The Greatest business film ever made... in Canada',\n",
              "  'url': 'https://anarchonomicon.substack.com/p/review-blackberry',\n",
              "  'urlToImage': 'https://substackcdn.com/image/fetch/w_1200,h_600,c_fill,f_jpg,q_auto:good,fl_progressive:steep,g_auto/https%3A%2F%2Fsubstack-post-media.s3.amazonaws.com%2Fpublic%2Fimages%2F7831d87b-c212-4c35-82b1-d44ab27930c5_900x1333.jpeg',\n",
              "  'publishedAt': '2023-08-29T11:57:43Z',\n",
              "  'content': 'And we were the only ones in the theatre. Id heard nothing about this movie at all. Just oh are you up to anything, maybe theres a movie on *lets see* Nope nothing Just Guardians of the Galaxy 3. Oh … [+21498 chars]'},\n",
              " {'source': {'id': None, 'name': 'Yahoo Entertainment'},\n",
              "  'author': 'Jane Thier',\n",
              "  'title': 'Lyft sliced its office space in half for a ‘fully flexible workplace’ so employees could live anywhere. Now its new CEO wants remote workers back in office',\n",
              "  'description': '“It’s going to be super fun, I hope,” David Risher tells Fortune of Lyft’s new hybrid work plan.',\n",
              "  'url': 'https://finance.yahoo.com/news/lyft-sliced-office-space-half-184650020.html',\n",
              "  'urlToImage': 'https://s.yimg.com/ny/api/res/1.2/XaJKVFyqH6Sbok3LE9BP0w--/YXBwaWQ9aGlnaGxhbmRlcjt3PTEyMDA7aD04MDA-/https://media.zenfs.com/en/fortune_175/44cb51e6b06fe49c929e301455510006',\n",
              "  'publishedAt': '2023-08-23T18:46:50Z',\n",
              "  'content': 'Four months ago, David Risher became CEO of ride-sharing giant Lyft at a crucial juncture. He was, as the Wall Street Journal\\xa0put it, up against eroding market share, a sliding stock price, and low e… [+4716 chars]'},\n",
              " {'source': {'id': None, 'name': 'Forbes'},\n",
              "  'author': 'Serenity Gibbons, Contributor, \\n Serenity Gibbons, Contributor\\n https://www.forbes.com/sites/serenitygibbons/',\n",
              "  'title': '5 Ways Businesses Leverage Emotion In An Uncertain Economy',\n",
              "  'description': 'In an era of unpredictable economic landscapes, businesses are defying uncertainty by discovering the power of emotional resonance to forge lasting connections.',\n",
              "  'url': 'https://www.forbes.com/sites/serenitygibbons/2023/08/15/5-ways-businesses-leverage-emotion-in-an-uncertain-economy/',\n",
              "  'urlToImage': 'https://imageio.forbes.com/specials-images/imageserve/64d5323449f59e3a568a46df/0x0.jpg?format=jpg&width=1200',\n",
              "  'publishedAt': '2023-08-15T09:00:00Z',\n",
              "  'content': 'Its no secret that the U.S. economy is in tough territory. For only the second time in history, the ratings agency Fitch downgraded the credit rating of the United States from AAA to AA+. Were in a p… [+6703 chars]'},\n",
              " {'source': {'id': None, 'name': 'The New Yorker'},\n",
              "  'author': 'Isaac Chotiner',\n",
              "  'title': 'Did Authoritarianism Cause China’s Economic Crisis?',\n",
              "  'description': 'Isaac Chotiner interviews Eswar Prasad, a professor at Cornell University and a senior fellow at Brookings Institute, about China’s economic slowdown.',\n",
              "  'url': 'https://www.newyorker.com/news/q-and-a/did-authoritarianism-cause-chinas-economic-crisis',\n",
              "  'urlToImage': 'https://media.newyorker.com/photos/64f8a70fbeacd4c1a93b924b/16:9/w_1280,c_limit/Chotiner-09-06-23.jpg',\n",
              "  'publishedAt': '2023-09-07T17:53:58Z',\n",
              "  'content': 'Chinas economy, the worlds second largest, is facing its most serious setback in a generation. During the past two years, economic growth appears to have been cut nearly in half. After emerging from … [+7123 chars]'},\n",
              " {'source': {'id': None, 'name': 'Biztoc.com'},\n",
              "  'author': 'barchart.com',\n",
              "  'title': 'This Buy-Rated Fintech Stock Has Over 50% Potential Upside',\n",
              "  'description': 'Open the menu and switch the Market flag for targeted data from your country of choice. for targeted data from your country of choice.',\n",
              "  'url': 'https://biztoc.com/x/c986a965467bb62b',\n",
              "  'urlToImage': 'https://c.biztoc.com/p/c986a965467bb62b/s.webp',\n",
              "  'publishedAt': '2023-08-11T08:56:03Z',\n",
              "  'content': 'Open the menu and switch the Market flag for targeted data from your country of choice.for targeted data from your country of choice.\\r\\nThis story appeared on barchart.com, .'},\n",
              " {'source': {'id': 'the-washington-post', 'name': 'The Washington Post'},\n",
              "  'author': 'Michelle Singletary',\n",
              "  'title': 'My husband just retired. I’m scared to death of running out of money',\n",
              "  'description': 'My husband just retired. Now comes the hard part: spending down after decades of saving.',\n",
              "  'url': 'https://www.washingtonpost.com/business/2023/08/25/fear-running-out-of-money-retirement/',\n",
              "  'urlToImage': 'https://www.washingtonpost.com/wp-apps/imrs.php?src=https://arc-anglerfish-washpost-prod-washpost.s3.amazonaws.com/public/PFLN3VATORCMRIGWVX2XAF5AUQ.jpg&w=1440',\n",
              "  'publishedAt': '2023-08-26T22:36:33Z',\n",
              "  'content': 'Comment on this story\\r\\nComment\\r\\nMy husband and I are fortunate. We have enough for retirement.\\r\\nBut ever since he retired at the end of June, Ive felt a sleep-depriving dread. I worry we will outlive… [+7297 chars]'},\n",
              " {'source': {'id': None, 'name': 'Biztoc.com'},\n",
              "  'author': 'benzinga.com',\n",
              "  'title': \"12 Health Care Stocks Moving In Tuesday's Pre-Market Session\",\n",
              "  'description': \"Delcath Systems stock increased by 91.7% to $5.98 during Tuesday's pre-market session. The company's market cap stands at $91.3 million. As per the news, the Q2 earnings report came out 4 days ago. • Tiziana Life Sciences stock increased by 46.5% to $0.88. Th…\",\n",
              "  'url': 'https://biztoc.com/x/106bc7353cbce132',\n",
              "  'urlToImage': 'https://c.biztoc.com/p/106bc7353cbce132/s.webp',\n",
              "  'publishedAt': '2023-08-15T13:32:19Z',\n",
              "  'content': \"Delcath Systems stock increased by 91.7% to $5.98 during Tuesday's pre-market session. The company's market cap stands at $91.3 million. As per the news, the Q2 earnings report came out 4 days ago.Ti… [+335 chars]\"},\n",
              " {'source': {'id': None, 'name': 'Yahoo Entertainment'},\n",
              "  'author': 'Ryan Vlastelica and Carly Wanna',\n",
              "  'title': 'Nvidia Slips From Record as Wall Street Awaits Key Results',\n",
              "  'description': '(Bloomberg) -- Nvidia Corp. shares fell on Tuesday, erasing an initial gain that took the chipmaker to an intraday record a day before its highly anticipated...',\n",
              "  'url': 'https://finance.yahoo.com/news/nvidia-slips-record-wall-street-201716328.html',\n",
              "  'urlToImage': 'https://media.zenfs.com/en/bloomberg_technology_68/106141d1d5c788551edf15812089601c',\n",
              "  'publishedAt': '2023-08-22T20:17:16Z',\n",
              "  'content': '(Bloomberg) -- Nvidia Corp. shares fell on Tuesday, erasing an initial gain that took the chipmaker to an intraday record a day before its highly anticipated earnings report.\\r\\nMost Read from Bloomber… [+2782 chars]'},\n",
              " {'source': {'id': None, 'name': 'Biztoc.com'},\n",
              "  'author': 'entrepreneur.com',\n",
              "  'title': 'Is Now the Time to Invest in Realty Income (O)?',\n",
              "  'description': 'The Monthly Dividend Company, has a solid record of increasing the dividend more than 120 times since its stock market debut. However, is the stock the right... Realty Income (O), The Monthly Dividend Company, has a solid record of increasing the dividend mor…',\n",
              "  'url': 'https://biztoc.com/x/ffd336fd4fdf128f',\n",
              "  'urlToImage': 'https://c.biztoc.com/p/ffd336fd4fdf128f/s.webp',\n",
              "  'publishedAt': '2023-08-18T11:06:04Z',\n",
              "  'content': ', The Monthly Dividend Company, has a solid record of increasing the dividend more than 120 times since its stock market debut. However, is the stock the right...Realty Income (O), The Monthly Divide… [+289 chars]'},\n",
              " {'source': {'id': None, 'name': 'Biztoc.com'},\n",
              "  'author': 'investorplace.com',\n",
              "  'title': 'How to Protect Your Portfolio From September Volatility',\n",
              "  'description': 'InvestorPlace - Stock Market News, Stock Advice & Trading Tips In today’s Market 360, I’ll share how the market historically performs in September… and the best way investors can protect their portfolios from the potential volatility. The post How to Protect …',\n",
              "  'url': 'https://biztoc.com/x/a238d493db0ed3a2',\n",
              "  'urlToImage': 'https://c.biztoc.com/p/a238d493db0ed3a2/s.webp',\n",
              "  'publishedAt': '2023-08-31T21:02:24Z',\n",
              "  'content': 'InvestorPlace - Stock Market News, Stock Advice &amp; Trading TipsIn todays Market 360, Ill share how the market historically performs in September and the best way investors can protect their portfo… [+234 chars]'},\n",
              " {'source': {'id': None, 'name': 'Yahoo Entertainment'},\n",
              "  'author': 'Liana Baker',\n",
              "  'title': 'Arm Listing Set to Be Turning Point for IPO Market, SoftBank',\n",
              "  'description': '(Bloomberg) -- Arm Ltd. is expected to unveil its filing for an initial public offering as soon as Monday, giving the market a peek at the chip designer’s...',\n",
              "  'url': 'https://finance.yahoo.com/news/arm-listing-set-turning-point-080000499.html',\n",
              "  'urlToImage': 'https://s.yimg.com/ny/api/res/1.2/7u5TqNSuBViH_J6XjHdk6A--/YXBwaWQ9aGlnaGxhbmRlcjt3PTEyMDA7aD04MDA-/https://media.zenfs.com/en/bloomberg_technology_68/c8543c96c4795a28029089d0693aaed5',\n",
              "  'publishedAt': '2023-08-21T08:00:00Z',\n",
              "  'content': '(Bloomberg) -- Arm Ltd. is expected to unveil its filing for an initial public offering as soon as Monday, giving the market a peek at the chip designers financial health seven years after it was acq… [+4216 chars]'},\n",
              " {'source': {'id': None, 'name': 'Biztoc.com'},\n",
              "  'author': 'investorplace.com',\n",
              "  'title': '7 Tech Stocks to Hop On After Red-Hot Earnings',\n",
              "  'description': \"InvestorPlace - Stock Market News, Stock Advice & Trading Tips Earnings season for this year's second quarter is winding down, and once again mega-cap technology companies dominated both the results and conversations around where the stock market is headed. T…\",\n",
              "  'url': 'https://biztoc.com/x/c25d5a44ae1d479f',\n",
              "  'urlToImage': 'https://c.biztoc.com/p/c25d5a44ae1d479f/s.webp',\n",
              "  'publishedAt': '2023-08-10T01:12:04Z',\n",
              "  'content': \"InvestorPlace - Stock Market News, Stock Advice &amp; Trading TipsEarnings season for this year's second quarter is winding down, and once again mega-cap technology companies dominated both the resul… [+238 chars]\"},\n",
              " {'source': {'id': None, 'name': 'Forbes'},\n",
              "  'author': 'Trefis Team, Contributor, \\n Trefis Team, Contributor\\n https://www.forbes.com/sites/greatspeculations/people/trefis/',\n",
              "  'title': 'What To Expect From Visa Stock ?',\n",
              "  'description': 'Visa’s stock (NYSE: V) has increased 17% YTD, as compared to the 16% rise in the S&P500 over the same period.',\n",
              "  'url': 'https://www.forbes.com/sites/greatspeculations/2023/08/16/what-to-expect-from-visa-stock-/',\n",
              "  'urlToImage': 'https://imageio.forbes.com/specials-images/imageserve/64dc4d1435e14beb52d8ae21/0x0.jpg?format=jpg&width=1200',\n",
              "  'publishedAt': '2023-08-16T12:00:40Z',\n",
              "  'content': 'In this photo illustration a VISA logo is displayed on a smartphone screen above a notebook next to ... [+] glasses and a pen in Athens, Greece on June 26, 2023. (Photo illustration by Nikolas Kokovl… [+2274 chars]'},\n",
              " {'source': {'id': None, 'name': 'Forbes'},\n",
              "  'author': 'Trefis Team, Contributor, \\n Trefis Team, Contributor\\n https://www.forbes.com/sites/greatspeculations/people/trefis/',\n",
              "  'title': 'T-Mobile Stock A Buy At $140?',\n",
              "  'description': 'T-Mobile stock has had a lackluster year, remaining roughly flat year-to-date, considerably underperforming the S&P 500 which remains up by about 17% over the same per...',\n",
              "  'url': 'https://www.forbes.com/sites/greatspeculations/2023/08/16/t-mobile-stock-a-buy-at-140/',\n",
              "  'urlToImage': 'https://imageio.forbes.com/specials-images/imageserve/64dc4bf756ac6ccebf88000c/0x0.jpg?format=jpg&width=1200',\n",
              "  'publishedAt': '2023-08-16T11:00:20Z',\n",
              "  'content': 'T-Mobile logo is seen in Katowice, Poland on July 20, 2023. (Photo by Beata Zawrzel/NurPhoto via ... [+] Getty Images)\\r\\nNurPhoto via Getty Images\\r\\nT-Mobile stock has had a lackluster year, remaining … [+2876 chars]'},\n",
              " {'source': {'id': None, 'name': 'Windows Central'},\n",
              "  'author': 'eternalrhage@gmail.com (Cole Martin)',\n",
              "  'title': 'Celebrate Intel Gamer Days with up to $1300 in savings on certain Acer laptops and desktops',\n",
              "  'description': 'Acer is celebrating Intel Gamer Days by marking down Nitro and Predator series laptops and desktops across multiple retailers, with the Predator Orion 7000 desktop slashing $1300 off of its price tag.',\n",
              "  'url': 'https://www.windowscentral.com/hardware/celebrate-intel-gamer-days-with-up-to-dollar1300-in-savings-on-certain-acer-laptops-and-desktops',\n",
              "  'urlToImage': 'https://cdn.mos.cms.futurecdn.net/B4wpfnanm5P4X8RG4Drsei-1200-80.jpg',\n",
              "  'publishedAt': '2023-09-01T16:31:33Z',\n",
              "  'content': 'Now may be one of the best times to be in the market for a new Acer laptop or desktop. Acer has marked down several devices across the popular Nitro and Predator lines at multiple retailers to celebr… [+2701 chars]'},\n",
              " {'source': {'id': None, 'name': 'Forbes'},\n",
              "  'author': 'Trefis Team, Contributor, \\n Trefis Team, Contributor\\n https://www.forbes.com/sites/greatspeculations/people/trefis/',\n",
              "  'title': 'What To Expect From CME Group Stock?',\n",
              "  'description': 'CME Group’s stock (NYSE: CME) has gained 21% YTD, as compared to the 15% rise in the S&P500 over the same period.',\n",
              "  'url': 'https://www.forbes.com/sites/greatspeculations/2023/08/30/what-to-expect-from-cme-group-stock/',\n",
              "  'urlToImage': 'https://imageio.forbes.com/specials-images/imageserve/63e1e0b7852f04a18f10c977/0x0.jpg?format=jpg&width=1200',\n",
              "  'publishedAt': '2023-08-30T14:00:27Z',\n",
              "  'content': 'CME Group logo displayed on a phone screen and a laptop keyboard are seen in this illustration photo ... [+] taken in Krakow, Poland on January 29, 2023. (Photo by Jakub Porzycki/NurPhoto via Getty I… [+2325 chars]'},\n",
              " {'source': {'id': None, 'name': 'Yahoo Entertainment'},\n",
              "  'author': 'Nick Turner',\n",
              "  'title': 'Qualcomm Tumbles After China Turmoil Hits Apple, Huawei Vendors',\n",
              "  'description': '(Bloomberg) -- Qualcomm Inc., the world’s biggest supplier of smartphone chips, suffered its worst stock decline in a month after upheaval in China...',\n",
              "  'url': 'https://finance.yahoo.com/news/qualcomm-tumbles-china-turmoil-hits-151954545.html',\n",
              "  'urlToImage': 'https://s.yimg.com/ny/api/res/1.2/jAohYPkSkwjauRQ8sRyauw--/YXBwaWQ9aGlnaGxhbmRlcjt3PTEyMDA7aD04MDA-/https://media.zenfs.com/en/bloomberg_technology_68/8cde179c4dfdbf335ef8c12d1813fbc1',\n",
              "  'publishedAt': '2023-09-07T15:19:54Z',\n",
              "  'content': '(Bloomberg) -- Qualcomm Inc., the worlds biggest supplier of smartphone chips, suffered its worst stock decline in a month after upheaval in China threatened the companys sales in a critical market.\\r… [+2836 chars]'},\n",
              " {'source': {'id': None, 'name': 'Yahoo Entertainment'},\n",
              "  'author': 'Nick Turner',\n",
              "  'title': 'Qualcomm Tumbles After China Woes Hits Apple, Huawei Vendors',\n",
              "  'description': '(Bloomberg) -- Qualcomm Inc., the world’s biggest supplier of smartphone chips, suffered its worst stock decline in a month after upheaval in China...',\n",
              "  'url': 'https://finance.yahoo.com/news/qualcomm-tumbles-china-turmoil-hits-151954996.html',\n",
              "  'urlToImage': 'https://s.yimg.com/ny/api/res/1.2/DRoK.CM8WH2iE02UgtpgWw--/YXBwaWQ9aGlnaGxhbmRlcjt3PTEyMDA7aD04MDA-/https://media.zenfs.com/en/bloomberg_markets_842/8cde179c4dfdbf335ef8c12d1813fbc1',\n",
              "  'publishedAt': '2023-09-07T20:24:54Z',\n",
              "  'content': '(Bloomberg) -- Qualcomm Inc., the worlds biggest supplier of smartphone chips, suffered its worst stock decline in a month after upheaval in China threatened the companys sales in a critical market.\\r… [+2853 chars]'},\n",
              " {'source': {'id': None, 'name': \"Investor's Business Daily\"},\n",
              "  'author': \"Investor's Business Daily\",\n",
              "  'title': 'Dow Jones Futures Fall As Stock Market Rally Struggles; Cathie Wood Sells Nvidia Stock',\n",
              "  'description': 'Futures drifted lower as the stock market headed for a losing week.',\n",
              "  'url': 'https://www.investors.com/market-trend/stock-market-today/dow-jones-futures-stock-market-rally-struggles-cathie-wood-sells-nvidia-stock/',\n",
              "  'urlToImage': 'https://www.investors.com/wp-content/uploads/2021/11/Stock-CathieWoods-company.jpg',\n",
              "  'publishedAt': '2023-09-08T12:44:12Z',\n",
              "  'content': \"Dow Jones futures dropped Friday morning, along with S&amp;P 500 and Nasdaq futures, as the stock market headed for a losing week. Cathie Wood's Ark Invest ETFs sold more than 13,500 shares of Nvidia… [+6855 chars]\"},\n",
              " {'source': {'id': None, 'name': 'Ritholtz.com'},\n",
              "  'author': 'Barry Ritholtz',\n",
              "  'title': '10 Weekend Reads',\n",
              "  'description': 'The weekend is here! Pour yourself a mug of \\xa0coffee, grab a seat outside, and get ready for our longer-form weekend reads: • Investment Lessons from 400 Years of “Confusion of Confusions” Three Hundred and Thirty-Five years ago, in 1688, Joseph de la Vega wro…',\n",
              "  'url': 'https://ritholtz.com/2023/08/weekend-reads-577/',\n",
              "  'urlToImage': 'https://ritholtz.com/wp-content/uploads/2023/08/dontcountonit.png',\n",
              "  'publishedAt': '2023-08-19T10:30:43Z',\n",
              "  'content': 'The weekend is here! Pour yourself a mug of \\xa0coffee, grab a seat outside, and get ready for our longer-form weekend reads:Investment Lessons from 400 Years of Confusion of Confusions” Three Hundred a… [+2591 chars]'},\n",
              " {'source': {'id': None, 'name': 'Forbes'},\n",
              "  'author': 'Derek Saul, Forbes Staff, \\n Derek Saul, Forbes Staff\\n https://www.forbes.com/sites/dereksaul/',\n",
              "  'title': 'Palo Alto Networks Stock Rallies 16% After Earnings Fiasco Turns Out To Be Nothing',\n",
              "  'description': 'The odd saga about why a company would report earnings on a Friday evening in August concluded Monday with a recovery of most related market losses.',\n",
              "  'url': 'https://www.forbes.com/sites/dereksaul/2023/08/21/palo-alto-networks-stock-rallies-16-after-earnings-fiasco-turns-out-to-be-nothing/',\n",
              "  'urlToImage': 'https://imageio.forbes.com/specials-images/imageserve/64e36aea7bed7992c40c8ded/0x0.jpg?format=jpg&crop=4000,2249,x0,y48,safe&width=1200',\n",
              "  'publishedAt': '2023-08-21T13:53:58Z',\n",
              "  'content': 'Palo Alto Networks is on track to post one of the largest stock surges in its history Monday after an unusual scheduling incident inspired conspiracy theories and caused the technology firms stock to… [+2177 chars]'},\n",
              " {'source': {'id': None, 'name': 'Forbes'},\n",
              "  'author': 'Peter Cohan, Senior Contributor, \\n Peter Cohan, Senior Contributor\\n https://www.forbes.com/sites/petercohan/',\n",
              "  'title': 'Hoping To Slash Debt, WeWork Stock Falls 41% In Three Weeks',\n",
              "  'description': \"WeWork locked in long-term leases in expensive buildings at a market top. Desk renters won't pay enough for WeWork to profit.\",\n",
              "  'url': 'https://www.forbes.com/sites/petercohan/2023/09/07/hoping-to-slash-debt-wework-stock-falls-41-in-three-weeks/',\n",
              "  'urlToImage': 'https://imageio.forbes.com/specials-images/imageserve/64e0efffd9f5fce5d70eda53/0x0.jpg?format=jpg&width=1200',\n",
              "  'publishedAt': '2023-09-07T20:41:37Z',\n",
              "  'content': 'SAN FRANCISCO, CALIFORNIA - OCTOBER 07: A sign is posted on the exterior of a WeWork office on ... [+] October 07, 2019 in San Francisco, California. Days after withdrawing its registration for an in… [+6078 chars]'},\n",
              " {'source': {'id': None, 'name': 'Biztoc.com'},\n",
              "  'author': 'forbes.com',\n",
              "  'title': 'Will Lululemon Stock Trade Higher Post Q2?',\n",
              "  'description': 'Lululemon (NASDAQ: LULU), a company designing and selling athletic and casual apparel, is scheduled to report its fiscal second-quarter results on Thursday, August 31. We expect LULU stock to likely trade higher due to revenues and earnings beating market exp…',\n",
              "  'url': 'https://biztoc.com/x/16cdb3c43d945a6d',\n",
              "  'urlToImage': 'https://c.biztoc.com/p/16cdb3c43d945a6d/s.webp',\n",
              "  'publishedAt': '2023-08-30T12:02:03Z',\n",
              "  'content': 'Lululemon (NASDAQ: LULU), a company designing and selling athletic and casual apparel, is scheduled to report its fiscal second-quarter results on Thursday, August 31. We expect LULU stock to likely … [+294 chars]'},\n",
              " {'source': {'id': None, 'name': 'Yahoo Entertainment'},\n",
              "  'author': 'Brody Ford',\n",
              "  'title': 'HP Drops on Reduced Profit, Cash Outlook as PC Woes Continue',\n",
              "  'description': '(Bloomberg) -- HP Inc. reduced its full-year cash flow and profit outlook, saying a rebound in the market for personal computers will take longer than...',\n",
              "  'url': 'https://finance.yahoo.com/news/hp-drops-reduced-profit-cash-212606754.html',\n",
              "  'urlToImage': 'https://s.yimg.com/ny/api/res/1.2/WXy2RZ7iK_LOL3KxAT5.3A--/YXBwaWQ9aGlnaGxhbmRlcjt3PTEyMDA7aD03OTk-/https://media.zenfs.com/en/bloomberg_technology_68/b3c41a2d52d79baaa210304faff63c3f',\n",
              "  'publishedAt': '2023-08-29T21:26:06Z',\n",
              "  'content': '(Bloomberg) -- HP Inc. reduced its full-year cash flow and profit outlook, saying a rebound in the market for personal computers will take longer than expected. The shares declined about 5.5% in exte… [+2280 chars]'},\n",
              " {'source': {'id': 'google-news', 'name': 'Google News'},\n",
              "  'author': None,\n",
              "  'title': '5 things to know before the stock market opens Thursday - CNBC',\n",
              "  'description': '<ol><li>5 things to know before the stock market opens Thursday\\xa0\\xa0CNBC\\r\\n</li><li>Stocks sink as Fed minutes reveal more hikes still on table: Stock market news today\\xa0\\xa0Yahoo Finance\\r\\n</li><li>U.S. stocks open higher as Wall Street attempts to recover from back-…',\n",
              "  'url': 'https://consent.google.com/ml?continue=https://news.google.com/rss/articles/CBMiZmh0dHBzOi8vd3d3LmNuYmMuY29tLzIwMjMvMDgvMTcvNS10aGluZ3MtdG8ta25vdy1iZWZvcmUtdGhlLXN0b2NrLW1hcmtldC1vcGVucy10aHVyc2RheS1hdWd1c3QtMTcuaHRtbNIBamh0dHBzOi8vd3d3LmNuYmMuY29tL2FtcC8yMDIzLzA4LzE3LzUtdGhpbmdzLXRvLWtub3ctYmVmb3JlLXRoZS1zdG9jay1tYXJrZXQtb3BlbnMtdGh1cnNkYXktYXVndXN0LTE3Lmh0bWw?oc%3D5&gl=FR&hl=en-US&cm=2&pc=n&src=1',\n",
              "  'urlToImage': None,\n",
              "  'publishedAt': '2023-08-17T11:21:08Z',\n",
              "  'content': 'We use cookies and data to<ul><li>Deliver and maintain Google services</li><li>Track outages and protect against spam, fraud, and abuse</li><li>Measure audience engagement and site statistics to unde… [+1131 chars]'},\n",
              " {'source': {'id': None, 'name': 'Forbes'},\n",
              "  'author': 'Trefis Team, Contributor, \\n Trefis Team, Contributor\\n https://www.forbes.com/sites/greatspeculations/people/trefis/',\n",
              "  'title': 'Home Depot Stock To See Little Movement Past Q2',\n",
              "  'description': 'Home Depot (NYSE: HD) is scheduled to report its fiscal second.-quarter results on Tuesday, August 15.',\n",
              "  'url': 'https://www.forbes.com/sites/greatspeculations/2023/08/14/home-depot-stock-to-see-little-movement-past-q2/',\n",
              "  'urlToImage': 'https://imageio.forbes.com/specials-images/imageserve/64950add896c2eb1c68f46c2/0x0.jpg?format=jpg&width=1200',\n",
              "  'publishedAt': '2023-08-14T11:00:51Z',\n",
              "  'content': 'The Home Depot logo is seen on the shop in Williston, United States on June 19, 2023. (Photo by ... [+] Jakub Porzycki/NurPhoto via Getty Images)\\r\\nNurPhoto via Getty Images\\r\\nHome Depot (NYSE: HD) is … [+3292 chars]'},\n",
              " {'source': {'id': None, 'name': 'Forbes'},\n",
              "  'author': 'Brendan Ahern, Senior Contributor, \\n Brendan Ahern, Senior Contributor\\n https://www.forbes.com/sites/brendanahern/',\n",
              "  'title': 'Investors Remain On Sidelines Despite Market Friendly Reforms',\n",
              "  'description': 'Asian equities started the week off to a strong start except for Malaysia, which underperformed the region, and the Philippines.',\n",
              "  'url': 'https://www.forbes.com/sites/brendanahern/2023/08/28/investors-remain-on-sidelines-despite-market-friendly-reforms/',\n",
              "  'urlToImage': 'https://imageio.forbes.com/specials-images/imageserve/64ecabaa0ede4b5b64d8ae25/0x0.jpg?format=jpg&width=1200',\n",
              "  'publishedAt': '2023-08-28T14:20:13Z',\n",
              "  'content': 'China Last Night\\r\\nKraneShares\\r\\nKey News\\r\\nAsian equities started the week off to a strong start except for Malaysia, which underperformed the region, and the Philippines, which was closed for National… [+5768 chars]'},\n",
              " {'source': {'id': None, 'name': 'iMore'},\n",
              "  'author': 'james.bentley@futurenet.com (James Bentley)',\n",
              "  'title': 'Apple Watch could get the iPhone 15 treatment as popular accessory set to be axed',\n",
              "  'description': \"The Apple Watch leather band could be axed in the future. Here's what we know about it.\",\n",
              "  'url': 'https://www.imore.com/apple/apple-watch-could-get-the-iphone-15-treatment-as-popular-accessory-set-to-be-axed',\n",
              "  'urlToImage': 'https://cdn.mos.cms.futurecdn.net/KCJEgdLNf3ZPMFNGFuGUyi-1200-80.png',\n",
              "  'publishedAt': '2023-09-05T11:20:46Z',\n",
              "  'content': 'With the iPhone 15 and brand new Apple Watches just days away from launch, a new leak from a top insider has revealed that Apple could get rid of its popular leather watch bands in favor of more eco-… [+2034 chars]'},\n",
              " {'source': {'id': None, 'name': 'Biztoc.com'},\n",
              "  'author': 'barchart.com',\n",
              "  'title': 'PENN vs. DKNG: Which Stock is a Better Bet?',\n",
              "  'description': \"With the sports betting stock battle heating up, which company should investors place their chips on now: Disney's new partner Penn Entertainment, or stock market standout DraftKings?#disney #pennentertainment #draftkings\",\n",
              "  'url': 'https://biztoc.com/x/4b2ff120aa22449d',\n",
              "  'urlToImage': 'https://c.biztoc.com/p/4b2ff120aa22449d/s.webp',\n",
              "  'publishedAt': '2023-08-11T16:12:20Z',\n",
              "  'content': \"With the sports betting stock battle heating up, which company should investors place their chips on now: Disney's new partner Penn Entertainment, or stock market standout DraftKings?\\r\\n#disney#pennen… [+61 chars]\"},\n",
              " {'source': {'id': None, 'name': 'PetaPixel'},\n",
              "  'author': 'Matt Growcoot',\n",
              "  'title': 'New AI Image Generator Startup Takes a ‘Responsible’ Approach to Copyright',\n",
              "  'description': 'A new AI image generator has been launched today. Bria AI has licensed visual content from Getty Images, Alamy, and Envato to build its platform as it aims to solve the copyright problems facing generative AI.\\n[Read More]',\n",
              "  'url': 'https://petapixel.com/2023/09/08/new-ai-image-generator-startup-takes-a-responsible-approach-to-copyright/',\n",
              "  'urlToImage': 'https://petapixel.com/assets/uploads/2023/09/BriaAI.jpg',\n",
              "  'publishedAt': '2023-09-08T11:43:20Z',\n",
              "  'content': 'A new AI image generator has been launched today. Bria AI has licensed visual content from Getty Images, Alamy, and Envato to build its platform as it aims to solve the copyright problems facing gene… [+2099 chars]'},\n",
              " {'source': {'id': None, 'name': 'Forbes'},\n",
              "  'author': 'Trefis Team, Contributor, \\n Trefis Team, Contributor\\n https://www.forbes.com/sites/greatspeculations/people/trefis/',\n",
              "  'title': 'Is Nokia Stock A Buy At $4?',\n",
              "  'description': 'Nokia stock has underperformed this year, declining by about 20% since early January compared to the broader S&P 500 which gained about 15% over the same period.',\n",
              "  'url': 'https://www.forbes.com/sites/greatspeculations/2023/08/18/is-nokia-stock-a-buy-at-4/',\n",
              "  'urlToImage': 'https://imageio.forbes.com/specials-images/imageserve/64defa1d046d6ffb9ac712f8/0x0.jpg?format=jpg&width=1200',\n",
              "  'publishedAt': '2023-08-18T11:00:14Z',\n",
              "  'content': 'BARCELONA, SPAIN - MARCH 2: Congress visitors passing by the entrance of the Nokia stand that ... [+] featured the new redesigned logo. The Finnish company announced the rebranding and the change on … [+2915 chars]'},\n",
              " {'source': {'id': None, 'name': 'Forbes'},\n",
              "  'author': 'Trefis Team, Contributor, \\n Trefis Team, Contributor\\n https://www.forbes.com/sites/greatspeculations/people/trefis/',\n",
              "  'title': 'What’s Happening With Motorola Solutions Stock?',\n",
              "  'description': 'Motorola Solutions (NYSE: MSI) - one of the largest suppliers of land-mobile-radio solutions - has seen its stock rise 11% year-to-date, underperforming the broader S&...',\n",
              "  'url': 'https://www.forbes.com/sites/greatspeculations/2023/08/15/whats-happening-with-motorola-solutions-stock/',\n",
              "  'urlToImage': 'https://imageio.forbes.com/specials-images/imageserve/64daf2edd7b62fa58a88000c/0x0.jpg?format=jpg&width=1200',\n",
              "  'publishedAt': '2023-08-15T11:00:00Z',\n",
              "  'content': 'Members of the Media, check the newly launched phones Motorola Razr 40 and Motorola Razr 40 Ultra, ... [+] during the launch event of the phones in New Delhi, India on July 3, 2023. (Photo by Kabir J… [+2659 chars]'},\n",
              " {'source': {'id': None, 'name': 'The Indian Express'},\n",
              "  'author': 'PTI',\n",
              "  'title': 'Adani-Hindenburg row: SEBI requests SC for more time to conclude probe',\n",
              "  'description': 'Market regulator SEBI on Monday moved the Supreme Court seeking 15 more days to conclude the ongoing probe into the allegations of stock price manipulation by the Adani group.',\n",
              "  'url': 'https://indianexpress.com/article/business/market/adani-hindenburg-row-sebi-requests-supreme-court-more-time-conclude-probe-8891950/',\n",
              "  'urlToImage': 'https://images.indianexpress.com/2023/08/adanigrp-1.jpg',\n",
              "  'publishedAt': '2023-08-14T08:09:43Z',\n",
              "  'content': 'Market regulator SEBI on Monday moved the Supreme Court seeking 15 more days to conclude the ongoing probe into the allegations of stock price manipulation by the Adani group.The Securities and Excha… [+1596 chars]'},\n",
              " {'source': {'id': None, 'name': 'Forbes'},\n",
              "  'author': 'Trefis Team, Contributor, \\n Trefis Team, Contributor\\n https://www.forbes.com/sites/greatspeculations/people/trefis/',\n",
              "  'title': 'Salesforce Stock Is Undervalued',\n",
              "  'description': 'Salesforce stock (NYSE: CRM) has gained 67% YTD, as compared to the 17% rise in the S&P500 over the same period.',\n",
              "  'url': 'https://www.forbes.com/sites/greatspeculations/2023/09/05/salesforce-stock-is-undervalued/',\n",
              "  'urlToImage': 'https://imageio.forbes.com/specials-images/imageserve/6476e15dce43a7d9047b69d7/0x0.jpg?format=jpg&width=1200',\n",
              "  'publishedAt': '2023-09-05T11:00:02Z',\n",
              "  'content': 'The Salesforce logo, the American cloud-based software company and one of the largest technology ... [+] companies in the world, displayed on their networking space during the Mobile World Congress 2… [+2339 chars]'},\n",
              " {'source': {'id': None, 'name': 'Yahoo Entertainment'},\n",
              "  'author': 'Karen Friar',\n",
              "  'title': 'Stock futures climb as inflation slowdown pauses: Stock market news today',\n",
              "  'description': \"Stock futures rose Thursday as the July US inflation report showed prices increased more than in June, crucial to the Federal Reserve's decision making about...\",\n",
              "  'url': 'https://finance.yahoo.com/news/stock-futures-climb-as-inflation-slowdown-pauses-stock-market-news-today-124727071.html',\n",
              "  'urlToImage': 'https://s.yimg.com/ny/api/res/1.2/5xBTMLMrtwCX2ju2qPnqCw--/YXBwaWQ9aGlnaGxhbmRlcjt3PTEyMDA7aD04MDA-/https://s.yimg.com/os/creatr-uploaded-images/2023-03/dc649980-d215-11ed-9eff-3288737f2f4c',\n",
              "  'publishedAt': '2023-08-10T12:47:27Z',\n",
              "  'content': 'Stock futures were higher Thursday as newly released data showed inflation rose at a faster pace in July than it had in June.\\r\\nContracts on the Dow Jones Industrial Average (^DJI) gained about 0.5%, … [+3580 chars]'},\n",
              " {'source': {'id': None, 'name': 'Yahoo Entertainment'},\n",
              "  'author': 'Karen Friar',\n",
              "  'title': 'Stock futures climb ahead of crucial July CPI data: Stock market news today',\n",
              "  'description': \"Stock futures rose Thursday ahead of the release of the July US inflation report, crucial to the Federal Reserve's decision making about when to pull back on...\",\n",
              "  'url': 'https://finance.yahoo.com/news/stock-futures-climb-ahead-of-crucial-july-cpi-data-stock-market-news-today-103944481.html',\n",
              "  'urlToImage': 'https://s.yimg.com/ny/api/res/1.2/5xBTMLMrtwCX2ju2qPnqCw--/YXBwaWQ9aGlnaGxhbmRlcjt3PTEyMDA7aD04MDA-/https://s.yimg.com/os/creatr-uploaded-images/2023-03/dc649980-d215-11ed-9eff-3288737f2f4c',\n",
              "  'publishedAt': '2023-08-10T10:39:44Z',\n",
              "  'content': \"Stock futures rose Thursday ahead of the release of the July US inflation report, crucial to the Federal Reserve's decision making about when to pull back on hiking interest rates.\\r\\nContracts on the … [+1312 chars]\"},\n",
              " {'source': {'id': None, 'name': 'Yahoo Entertainment'},\n",
              "  'author': 'Brett LoGiurato',\n",
              "  'title': 'Stock losses accelerate amid China woes, retail sales beat: Stock market news today',\n",
              "  'description': \"A retail-heavy earnings week began with caution and China painted a grim picture for the world's second-largest economy.\",\n",
              "  'url': 'https://finance.yahoo.com/news/stock-losses-accelerate-amid-china-woes-retail-sales-beat-stock-market-news-today-163659365.html',\n",
              "  'urlToImage': 'https://s.yimg.com/ny/api/res/1.2/hI8euKYtjjzJpK1bi.lHCQ--/YXBwaWQ9aGlnaGxhbmRlcjt3PTEyMDA7aD04MDA-/https://s.yimg.com/os/creatr-uploaded-images/2023-07/52faadd0-2a29-11ee-b363-0571364e2f45',\n",
              "  'publishedAt': '2023-08-15T16:36:59Z',\n",
              "  'content': \"US stocks saw losses accelerate in midday trading on Tuesday as a retail-heavy week began by showing continued consumer resilience in the US, while China painted a grim picture for the world's second… [+8927 chars]\"},\n",
              " {'source': {'id': None, 'name': 'Forbes'},\n",
              "  'author': 'John Navin, Contributor, \\n John Navin, Contributor\\n https://www.forbes.com/sites/johnnavin/',\n",
              "  'title': 'Big Energy Stocks Hit New 2023 Highs, Then Back Off',\n",
              "  'description': 'Big market capitalization energy names hit higher 2023 highs this week as oil prices continued upward.',\n",
              "  'url': 'https://www.forbes.com/sites/johnnavin/2023/09/06/big-energy-stocks-hit-new-2023-highs-then-back-off/',\n",
              "  'urlToImage': 'https://imageio.forbes.com/specials-images/imageserve/64cc51cf5a67a17f82960eaa/0x0.jpg?format=jpg&width=1200',\n",
              "  'publishedAt': '2023-09-07T02:04:53Z',\n",
              "  'content': 'Oil stocks\\r\\ngetty\\r\\nBig market capitalization energy names hit higher 2023 highs this week as oil prices continued upward. Most of these companies have been around for a long time, and they all pay di… [+2757 chars]'},\n",
              " {'source': {'id': None, 'name': 'ReadWrite'},\n",
              "  'author': 'Brad Anderson',\n",
              "  'title': 'Best Mini Fridge for Semi Trucks in 2023',\n",
              "  'description': 'Many companies featured on ReadWrite partner with us. Opinions are our own, but compensation and in-depth research determine how products […]\\nThe post Best Mini Fridge for Semi Trucks in 2023 appeared first on ReadWrite.',\n",
              "  'url': 'https://readwrite.com/best-mini-fridge-for-semi-trucks/',\n",
              "  'urlToImage': 'https://readwrite.com/wp-content/uploads/2023/06/Untitled-design-2023-06-05T161139.776.jpg',\n",
              "  'publishedAt': '2023-08-13T02:00:00Z',\n",
              "  'content': 'Many companies featured on ReadWrite partner with us. Opinions are our own, but compensation and in-depth research determine how products may be selected and ranked.\\xa0Learn more\\xa0about how we make mone… [+22466 chars]'},\n",
              " {'source': {'id': None, 'name': 'Yahoo Entertainment'},\n",
              "  'author': 'Josh Schafer',\n",
              "  'title': 'Stock futures point to modest gains ahead of Nvidia earnings: Stock market news today',\n",
              "  'description': \"Stock futures were higher on Wednesday with all eyes on Nvidia's results out after the bell.\",\n",
              "  'url': 'https://finance.yahoo.com/news/stock-futures-point-to-modest-gains-ahead-of-nvidia-earnings-stock-market-news-today-122345745.html',\n",
              "  'urlToImage': 'https://s.yimg.com/ny/api/res/1.2/FP6PooWXweQA9acPEMvYxA--/YXBwaWQ9aGlnaGxhbmRlcjt3PTEyMDA7aD04MDA-/https://s.yimg.com/os/creatr-uploaded-images/2023-07/13a7c470-2c03-11ee-bcbb-a59cabf4b3da',\n",
              "  'publishedAt': '2023-08-23T12:23:45Z',\n",
              "  'content': \"It's the earnings report that investors won't stop focusing on.\\r\\nNvidia will report results after the close on Wednesday, and investors are anxious to see how the company pays this quarter off after … [+1251 chars]\"},\n",
              " {'source': {'id': 'business-insider', 'name': 'Business Insider'},\n",
              "  'author': 'tmohamed@insider.com (Theron Mohamed)',\n",
              "  'title': \"Warren Buffett's cash mountain is worth as much as Disney after its epic stock plunge\",\n",
              "  'description': 'Berkshire Hathaway had a near-record $147 billion cash pile at the end of June, about the same amount that Disney is now worth.',\n",
              "  'url': 'https://markets.businessinsider.com/news/stocks/warren-buffett-berkshire-hathaway-disney-stock-price-cash-pile-desantis-2023-9',\n",
              "  'urlToImage': 'https://i.insider.com/64f9bdb18a7840001961fa95?width=1200&format=jpeg',\n",
              "  'publishedAt': '2023-09-07T13:30:51Z',\n",
              "  'content': \"Warren Buffett's cash mountain is worth more than the entire value of Disney, reflecting the investor's financial prudence and the dramatic decline in the media behemoth's stock price.\\r\\nBuffett's Ber… [+2345 chars]\"},\n",
              " {'source': {'id': None, 'name': 'Biztoc.com'},\n",
              "  'author': 'benzinga.com',\n",
              "  'title': \"12 Communication Services Stocks Moving In Tuesday's Pre-Market Session\",\n",
              "  'description': \"Grindr stock moved upwards by 19.8% to $5.62 during Tuesday's pre-market session. The market value of their outstanding shares is at $977.0 million. • Arena Group Holdings shares rose 18.34% to $4.0. The market value of their outstanding shares is at $87.9 mi…\",\n",
              "  'url': 'https://biztoc.com/x/0da6e3e079027b06',\n",
              "  'urlToImage': 'https://c.biztoc.com/p/0da6e3e079027b06/s.webp',\n",
              "  'publishedAt': '2023-08-15T13:32:19Z',\n",
              "  'content': \"Grindr stock moved upwards by 19.8% to $5.62 during Tuesday's pre-market session. The market value of their outstanding shares is at $977.0 million.Arena Group Holdings shares rose 18.34% to $4.0. Th… [+301 chars]\"},\n",
              " {'source': {'id': None, 'name': 'Biztoc.com'},\n",
              "  'author': 'benzinga.com',\n",
              "  'title': \"12 Industrials Stocks Moving In Tuesday's Pre-Market Session\",\n",
              "  'description': \"Recruiter.Com Group shares increased by 28.3% to $0.26 during Tuesday's pre-market session. The company's market cap stands at $4.4 million. As per the press release, Q2 earnings came out yesterday. • GEE Group stock rose 17.62% to $0.51. The company's market…\",\n",
              "  'url': 'https://biztoc.com/x/359c439b230077ba',\n",
              "  'urlToImage': 'https://c.biztoc.com/p/359c439b230077ba/s.webp',\n",
              "  'publishedAt': '2023-08-15T13:32:19Z',\n",
              "  'content': \"Recruiter.Com Group shares increased by 28.3% to $0.26 during Tuesday's pre-market session. The company's market cap stands at $4.4 million. As per the press release, Q2 earnings came out yesterday.G… [+313 chars]\"},\n",
              " {'source': {'id': None, 'name': 'Biztoc.com'},\n",
              "  'author': 'benzinga.com',\n",
              "  'title': \"9 Industrials Stocks Moving In Monday's Pre-Market Session\",\n",
              "  'description': \"Eos Energy Enterprises shares increased by 47.4% to $4.79 during Monday's pre-market session. The company's market cap stands at $641.8 million. • C3is stock increased by 20.35% to $0.52. The market value of their outstanding shares is at $3.3 million. As per…\",\n",
              "  'url': 'https://biztoc.com/x/441a5b58b01cbf15',\n",
              "  'urlToImage': 'https://c.biztoc.com/p/441a5b58b01cbf15/s.webp',\n",
              "  'publishedAt': '2023-09-04T13:36:17Z',\n",
              "  'content': \"Eos Energy Enterprises shares increased by 47.4% to $4.79 during Monday's pre-market session. The company's market cap stands at $641.8 million.C3is stock increased by 20.35% to $0.52. The market val… [+302 chars]\"},\n",
              " {'source': {'id': None, 'name': 'Yahoo Entertainment'},\n",
              "  'author': None,\n",
              "  'title': 'Market Digest: BTI, MRK',\n",
              "  'description': \"Find the latest British American Tobacco  Indus (BTI) stock forecast based on top analyst's estimates, plus more investing and trading data from Yahoo Finance\",\n",
              "  'url': 'https://finance.yahoo.com/research/reports/ARGUS_37545_MarketSummary_1693566811000/',\n",
              "  'urlToImage': 'https://s.yimg.com/cv/apiv2/social/images/yahoo_default_logo.png',\n",
              "  'publishedAt': '2023-09-01T11:13:31Z',\n",
              "  'content': \"Stocks were mixed on Thursday. The Commerce Department said that the Personal Consumption Expenditures Index excluding the cost of food and energy, or so-called 'core' PCE, rose 4.2% over the prior y… [+756 chars]\"},\n",
              " {'source': {'id': None, 'name': 'Forbes'},\n",
              "  'author': 'Peter Cohan, Contributor, \\n Peter Cohan, Contributor\\n https://www.forbes.com/sites/petercohan/',\n",
              "  'title': 'Why VinFast Stock May Be 98% Too High',\n",
              "  'description': 'With the founder still controlling more than 99% of the shares, leaving a very limited free float, it is likely to remain volatile.',\n",
              "  'url': 'https://www.forbes.com/sites/petercohan/2023/08/17/why-vinfast-stock-may-be-98-too-high/',\n",
              "  'urlToImage': 'https://imageio.forbes.com/specials-images/imageserve/64dde789aa246cd0aad8ae21/0x0.jpg?format=jpg&width=1200',\n",
              "  'publishedAt': '2023-08-17T15:29:16Z',\n",
              "  'content': 'LAS VEGAS, NEVADA - JANUARY 05: Vice Chairwoman of Vingroup and VinFast Global CEO Le Thi Thu Thuy ... [+] poses for a photo during the VinFast electric vehicle lineup and technologies reveal at CES … [+8939 chars]'},\n",
              " {'source': {'id': None, 'name': 'Forbes'},\n",
              "  'author': 'Trefis Team, Contributor, \\n Trefis Team, Contributor\\n https://www.forbes.com/sites/greatspeculations/people/trefis/',\n",
              "  'title': 'Urban Outfitters Stock To Likely See Little Movement Post Q2',\n",
              "  'description': 'We expect the company to likely match revenue and earnings expectations with consensus in Q2.',\n",
              "  'url': 'https://www.forbes.com/sites/greatspeculations/2023/08/21/urban-outfitters-stock-to-likely-see-little-movement-post-q2/',\n",
              "  'urlToImage': 'https://imageio.forbes.com/specials-images/imageserve/64e2d36c10e8bfe245d8ae23/0x0.jpg?format=jpg&width=1200',\n",
              "  'publishedAt': '2023-08-21T12:00:00Z',\n",
              "  'content': 'LONDON,ENGLAND - June 2023: Urban Outfitters store sign External Store Sign London, England. (Photo ... [+] by Peter Dazeley/Getty Images)\\r\\nGetty Images\\r\\nNote\\r\\n: Urban Outfitters FY23 ended in Januar… [+3776 chars]'},\n",
              " {'source': {'id': None, 'name': 'ReadWrite'},\n",
              "  'author': 'Aleksey Salaz',\n",
              "  'title': 'Maxfree T2 Laptop Tri-Screen Extender | Review',\n",
              "  'description': 'In this era of multi-tasking, expanding your digital workspace is paramount to increasing productivity. Our article delves into the extraordinary […]\\nThe post Maxfree T2 Laptop Tri-Screen Extender | Review appeared first on ReadWrite.',\n",
              "  'url': 'https://readwrite.com/maxfree-t2-laptop-tri-screen-extender-review/',\n",
              "  'urlToImage': 'https://readwrite.com/wp-content/uploads/2023/08/Best-Developer-Tools-of-2023-24.png',\n",
              "  'publishedAt': '2023-09-01T15:06:40Z',\n",
              "  'content': 'In this era of multi-tasking, expanding your digital workspace is paramount to increasing productivity. Our article delves into the extraordinary functionality of the Maxfree T2 13.3″ Laptop Tri-Scre… [+11306 chars]'},\n",
              " {'source': {'id': None, 'name': 'Forbes'},\n",
              "  'author': 'Trefis Team, Contributor, \\n Trefis Team, Contributor\\n https://www.forbes.com/sites/greatspeculations/people/trefis/',\n",
              "  'title': 'What To Expect From Guess’ Stock Post Q2?',\n",
              "  'description': 'We expect GES stock to likely see little movement post fiscal Q2 results with revenues and earnings coming in line with expectations.',\n",
              "  'url': 'https://www.forbes.com/sites/greatspeculations/2023/08/23/what-to-expect-from-guess-stock-post-q2/',\n",
              "  'urlToImage': 'https://imageio.forbes.com/specials-images/imageserve/63c8d782c28a7a4e03922d82/0x0.jpg?format=jpg&width=1200',\n",
              "  'publishedAt': '2023-08-23T12:00:00Z',\n",
              "  'content': 'MIAMI, FLORIDA - NOVEMBER 30: The exterior of a Guess store photographed on November 30, 2022 in ... [+] Miami, Florida. (Photo by Jeremy Moeller/Getty Images)\\r\\nGetty Images\\r\\n[Note: GuessGES\\r\\n FY23 e… [+3354 chars]'},\n",
              " {'source': {'id': None, 'name': 'Texas Monthly'},\n",
              "  'author': 'Tom Foster',\n",
              "  'title': 'Allie Beth Allman, the Queen of Highland Park',\n",
              "  'description': 'She’s ruled the world of luxury real estate in Dallas for decades. Then came coastal money, a tech revolution, a rift with a partner, and the toll of time.',\n",
              "  'url': 'https://www.texasmonthly.com/news-politics/allie-beth-allman-queen-of-highland-park-homes/',\n",
              "  'urlToImage': 'https://img.texasmonthly.com/2023/07/Allie-Beth-Allman-Highland-Park-real-estate-dining-room.jpg?auto=compress&crop=faces&fit=fit&fm=pjpg&ixlib=php-3.3.1&q=45',\n",
              "  'publishedAt': '2023-08-27T17:11:12Z',\n",
              "  'content': 'When Jason Garrett returned to Dallas as the Cowboys’ new offensive coordinator, in 2007, he knew even before he began house-hunting that one neighborhood would trump all others: Highland Park. He al… [+55760 chars]'},\n",
              " {'source': {'id': None, 'name': 'Biztoc.com'},\n",
              "  'author': 'investorplace.com',\n",
              "  'title': 'AMC Stock Plunges 20% Ahead of APE Conversion',\n",
              "  'description': \"InvestorPlace - Stock Market News, Stock Advice & Trading Tips AMC stock continues to slide this week ahead of the company's controversial conversion of AMC Preferred Equity units into AMC common stock. The post AMC Stock Plunges 20% Ahead of APE Conversion a…\",\n",
              "  'url': 'https://biztoc.com/x/507cee3879cd6896',\n",
              "  'urlToImage': 'https://c.biztoc.com/p/507cee3879cd6896/s.webp',\n",
              "  'publishedAt': '2023-08-22T15:24:13Z',\n",
              "  'content': \"InvestorPlace - Stock Market News, Stock Advice &amp; Trading TipsAMC stock continues to slide this week ahead of the company's controversial conversion of AMC Preferred Equity units into AMC common … [+265 chars]\"},\n",
              " {'source': {'id': None, 'name': 'Biztoc.com'},\n",
              "  'author': 'benzinga.com',\n",
              "  'title': \"Here's How Much You Would Have Made Owning Lowe's Companies Stock In The Last 15 Years\",\n",
              "  'description': \"Lowe's Companies LOW has outperformed the market over the past 15 years by 7.23% on an annualized basis producing an average annual return of 15.87%. Currently, Lowe's Companies has a market capitalization of $131.00 billion. Buying $1000 In LOW: If an invest…\",\n",
              "  'url': 'https://biztoc.com/x/b253397c54971540',\n",
              "  'urlToImage': 'https://c.biztoc.com/p/b253397c54971540/s.webp',\n",
              "  'publishedAt': '2023-08-11T16:10:03Z',\n",
              "  'content': \"Lowe's Companies LOW has outperformed the market over the past 15 years by 7.23% on an annualized basis producing an average annual return of 15.87%. Currently, Lowe's Companies has a market capitali… [+233 chars]\"},\n",
              " {'source': {'id': None, 'name': 'Forbes'},\n",
              "  'author': 'Trefis Team, Contributor, \\n Trefis Team, Contributor\\n https://www.forbes.com/sites/greatspeculations/people/trefis/',\n",
              "  'title': 'Will Dow Stock Recover To Its Pre-Inflation Shock Highs?',\n",
              "  'description': 'Although there has been a steady decline in the inflation rate in response to the Fed’s aggressive rate hike plan, investors still have concerns about a potential rece...',\n",
              "  'url': 'https://www.forbes.com/sites/greatspeculations/2023/09/06/will-dow-stock-recover-to-its-pre-inflation-shock-highs/',\n",
              "  'urlToImage': 'https://imageio.forbes.com/specials-images/imageserve/64f806e6658706d7641e8173/0x0.jpg?format=jpg&width=1200',\n",
              "  'publishedAt': '2023-09-06T13:00:47Z',\n",
              "  'content': 'KIEV, UKRAINE - 2021/03/06: In this photo illustration of the TradingView stock market chart of Dow ... [+] Inc. displayed on a smartphone with the logo in the background. (Photo Illustration by Igor… [+5190 chars]'},\n",
              " {'source': {'id': None, 'name': 'Forbes'},\n",
              "  'author': 'Trefis Team, Contributor, \\n Trefis Team, Contributor\\n https://www.forbes.com/sites/greatspeculations/people/trefis/',\n",
              "  'title': 'Can Guess Stock Return To Pre-Inflation Shock Highs?',\n",
              "  'description': 'GES saw its stock trading at around $14 at the end of September 2022, when the Fed kept increasing rates, and now remains 38% above that level.',\n",
              "  'url': 'https://www.forbes.com/sites/greatspeculations/2023/08/18/can-guess-stock-return-to-pre-inflation-shock-highs/',\n",
              "  'urlToImage': 'https://imageio.forbes.com/specials-images/imageserve/64defc34f35a3465bdc712f4/0x0.jpg?format=jpg&width=1200',\n",
              "  'publishedAt': '2023-08-18T12:00:08Z',\n",
              "  'content': 'MIAMI, FLORIDA - NOVEMBER 30: The exterior of a Guess store photographed on November 30, 2022 in ... [+] Miami, Florida. (Photo by Jeremy Moeller/Getty Images)\\r\\nGetty Images\\r\\n[Note: GuessGES\\r\\n FY23 e… [+4891 chars]'},\n",
              " {'source': {'id': None, 'name': 'Biztoc.com'},\n",
              "  'author': 'dailyhodl.com',\n",
              "  'title': 'Top Analyst Says ‘Sketchy’ Stock Market on Brink of Correction, Warns Equities Could Send Crypto Lower',\n",
              "  'description': 'An analyst who correctly called Bitcoin’s (BTC) 2018 bear market bottom warns that a weak stock market could ignite another sell-off event in crypto. Pseudonymous analyst Bluntz tells his 224,600 followers on the social media platform X that the S&P 500 appea…',\n",
              "  'url': 'https://biztoc.com/x/1f4b403582c0ae40',\n",
              "  'urlToImage': 'https://c.biztoc.com/p/1f4b403582c0ae40/s.webp',\n",
              "  'publishedAt': '2023-09-06T11:52:06Z',\n",
              "  'content': 'An analyst who correctly called Bitcoins (BTC) 2018 bear market bottom warns that a weak stock market could ignite another sell-off event in crypto.Pseudonymous analyst Bluntz tells his 224,600 follo… [+281 chars]'},\n",
              " {'source': {'id': None, 'name': 'Forbes'},\n",
              "  'author': 'Peter Cohan, Contributor, \\n Peter Cohan, Contributor\\n https://www.forbes.com/sites/petercohan/',\n",
              "  'title': 'Why Nvidia Stock Could Soar To $1,000 A Share',\n",
              "  'description': 'Nvidia stock soared in after-hours trading Wednesday.',\n",
              "  'url': 'https://www.forbes.com/sites/petercohan/2023/08/23/why-nvidia-stock-could-soar-to-1000-a-share/',\n",
              "  'urlToImage': 'https://imageio.forbes.com/specials-images/imageserve/64e39cc2c2691457f00c8ded/0x0.jpg?format=jpg&width=1200',\n",
              "  'publishedAt': '2023-08-23T20:36:50Z',\n",
              "  'content': 'SANTA CLARA, CALIFORNIA - MAY 30: An exterior view of the NVIDIA headquarters on May 30, 2023 in ... [+] Santa Clara, California. Chipmaker NVIDIA reached a $1 trillion market cap at the open bell of… [+7414 chars]'},\n",
              " {'source': {'id': None, 'name': 'Forbes'},\n",
              "  'author': 'Peter Cohan, Contributor, \\n Peter Cohan, Contributor\\n https://www.forbes.com/sites/petercohan/',\n",
              "  'title': 'Nvidia Blasts Through Guidance, Stock Soars — Could Hit $1,000',\n",
              "  'description': 'Nvidia stock soared in after-hours trading Wednesday.',\n",
              "  'url': 'https://www.forbes.com/sites/petercohan/2023/08/23/nvidia-blasts-through-guidance-stock-soars---could-hit-1000/',\n",
              "  'urlToImage': 'https://imageio.forbes.com/specials-images/imageserve/64e39cc2c2691457f00c8ded/0x0.jpg?format=jpg&width=1200',\n",
              "  'publishedAt': '2023-08-23T20:36:50Z',\n",
              "  'content': 'SANTA CLARA, CALIFORNIA - MAY 30: An exterior view of the NVIDIA headquarters on May 30, 2023 in ... [+] Santa Clara, California. Chipmaker NVIDIA reached a $1 trillion market cap at the open bell of… [+7361 chars]'},\n",
              " {'source': {'id': 'business-insider', 'name': 'Business Insider'},\n",
              "  'author': 'prosen@insider.com (Phil Rosen)',\n",
              "  'title': 'This chart shows how the AI hype has taken over the stock market as companies try to cash in on the investor frenzy',\n",
              "  'description': 'Two-thirds of companies that mentioned AI on earnings calls saw their stocks rally, according to a study from Wall Street Zen.',\n",
              "  'url': 'https://markets.businessinsider.com/news/stocks/ai-stock-market-bubble-chart-earnings-investors-hype-apple-nvidia-2023-9',\n",
              "  'urlToImage': 'https://i.insider.com/64f9c1f356f5190019fccc7d?width=1200&format=jpeg',\n",
              "  'publishedAt': '2023-09-07T13:30:07Z',\n",
              "  'content': 'Artificial intelligence has gripped the attention of Wall Street over the last year.\\r\\nChatGPT stormed onto the scene last November, quickly becoming a viral web tool, and companies across sectors hav… [+1783 chars]'},\n",
              " {'source': {'id': None, 'name': 'Biztoc.com'},\n",
              "  'author': 'finance.yahoo.com',\n",
              "  'title': 'Bill Gross Says 10-Year Treasuries Are ‘Overvalued’',\n",
              "  'description': 'Bill Gross, the one-time bond king, said stock and bond bulls are wrong, as both markets are “overvalued.” • None Maui Now Looks a Lot Less Like Paradise • None Bankman-Fried in Custody After Bail Is Revoked Over Leaks • None Look to the Options Market for Si…',\n",
              "  'url': 'https://biztoc.com/x/71b4379d7ad4ac76',\n",
              "  'urlToImage': 'https://c.biztoc.com/p/71b4379d7ad4ac76/s.webp',\n",
              "  'publishedAt': '2023-08-12T12:40:07Z',\n",
              "  'content': 'Bill Gross, the one-time bond king, said stock and bond bulls are wrong, as both markets are overvalued.None Maui Now Looks a Lot Less Like ParadiseNone Bankman-Fried in Custody After Bail Is Revoked… [+287 chars]'},\n",
              " {'source': {'id': None, 'name': 'Biztoc.com'},\n",
              "  'author': 'investorplace.com',\n",
              "  'title': 'The 7 Best Dividend-Paying Stocks to Buy in August',\n",
              "  'description': 'InvestorPlace - Stock Market News, Stock Advice & Trading Tips Amid market turbulence, these top high-yield dividend stocks emerge as a beacon for stable income for investors The post The 7 Best Dividend-Paying Stocks to Buy in August appeared first on Invest…',\n",
              "  'url': 'https://biztoc.com/x/14597e48f02133a9',\n",
              "  'urlToImage': 'https://c.biztoc.com/p/14597e48f02133a9/s.webp',\n",
              "  'publishedAt': '2023-08-13T16:00:12Z',\n",
              "  'content': 'InvestorPlace - Stock Market News, Stock Advice &amp; Trading TipsAmid market turbulence, these top high-yield dividend stocks emerge as a beacon for stable income for investors The post The 7 Best D… [+237 chars]'},\n",
              " {'source': {'id': None, 'name': 'Biztoc.com'},\n",
              "  'author': 'investorplace.com',\n",
              "  'title': '3 Little-Known Stocks That Wall Street Can’t Get Enough Of',\n",
              "  'description': 'InvestorPlace - Stock Market News, Stock Advice & Trading Tips Finding excellent stocks that Wall Street loves before the market catches on to them can generate superior portfolio returns. The post 3 Little-Known Stocks That Wall Street Can’t Get Enough Of ap…',\n",
              "  'url': 'https://biztoc.com/x/09c692c047c5f12e',\n",
              "  'urlToImage': 'https://c.biztoc.com/p/09c692c047c5f12e/s.webp',\n",
              "  'publishedAt': '2023-09-08T22:50:21Z',\n",
              "  'content': 'InvestorPlace - Stock Market News, Stock Advice &amp; Trading TipsFinding excellent stocks that Wall Street loves before the market catches on to them can generate superior portfolio returns.The post… [+238 chars]'},\n",
              " {'source': {'id': None, 'name': 'Biztoc.com'},\n",
              "  'author': 'investorplace.com',\n",
              "  'title': '3 Dividend Growth Stocks Worth Buying and Holding for the Long Haul',\n",
              "  'description': 'InvestorPlace - Stock Market News, Stock Advice & Trading Tips Following July’s market peak, stocks face significant pressure with 10-year Treasury yields at levels unseen since the financial crisis. Consequently, investors have a higher-yield, lower-risk alt…',\n",
              "  'url': 'https://biztoc.com/x/7e46d779417a412e',\n",
              "  'urlToImage': 'https://c.biztoc.com/p/7e46d779417a412e/s.webp',\n",
              "  'publishedAt': '2023-09-06T01:28:05Z',\n",
              "  'content': 'InvestorPlace - Stock Market News, Stock Advice &amp; Trading TipsFollowing Julys market peak, stocks face significant pressure with 10-year Treasury yields at levels unseen since the financial crisi… [+250 chars]'},\n",
              " {'source': {'id': None, 'name': 'Forbes'},\n",
              "  'author': 'Beth Kindig, Contributor, \\n Beth Kindig, Contributor\\n https://www.forbes.com/sites/bethkindig/',\n",
              "  'title': 'Alphabet Stock: Search Giant Is Just Getting Started',\n",
              "  'description': 'For the past three quarters, sales and earnings have declined on a year-over-year basis. However, there appears to be stabilization as comps get easier and ... READ MORE',\n",
              "  'url': 'https://www.forbes.com/sites/bethkindig/2023/08/10/alphabet-stock-search-giant-is-just-getting-started/',\n",
              "  'urlToImage': 'https://imageio.forbes.com/specials-images/imageserve/64d45dd5e646969e0ab1ea3f/0x0.jpg?format=jpg&width=1200',\n",
              "  'publishedAt': '2023-08-10T11:15:00Z',\n",
              "  'content': 'Given the macro headwinds, not many investors expected the magnitude of the Nasdaq-100s rally through the first six months of 2023. Going into this year, we were positioned for bottom-line focused in… [+7485 chars]'},\n",
              " {'source': {'id': 'business-insider', 'name': 'Business Insider'},\n",
              "  'author': 'mfox@businessinsider.com (Matthew Fox)',\n",
              "  'title': \"CHART OF THE DAY: This indicator shows the stock market is the most overvalued it's been since the dot-com bubble crash\",\n",
              "  'description': '\"Investors are clearly comparing stocks to cash and liking what they see in cash,\" Ned Davis Research said.',\n",
              "  'url': 'https://markets.businessinsider.com/news/stocks/stock-market-most-overvalued-since-dot-com-bubble-crash-indicator-2023-9',\n",
              "  'urlToImage': 'https://i.insider.com/64f9e6178a7840001962274c?width=1200&format=jpeg',\n",
              "  'publishedAt': '2023-09-07T16:13:57Z',\n",
              "  'content': 'Our Chart of the Day is from Ned Davis Research and highlights that the stock market is incredibly overvalued based on one indicator.\\r\\nThe research firm noted the relationship between the S&amp;P 500… [+1230 chars]'},\n",
              " {'source': {'id': None, 'name': 'Scientific American'},\n",
              "  'author': 'David Robert Grimes',\n",
              "  'title': 'Republican Presidential Candidates Vow to Fiddle as the Earth Burns',\n",
              "  'description': \"Denial of climate change is driven by ideology, leaving its consequences to harm us all&mdash;especially the world's poorest\",\n",
              "  'url': 'https://www.scientificamerican.com/article/republican-presidential-candidates-vow-to-fiddle-as-the-earth-burns/',\n",
              "  'urlToImage': 'https://static.scientificamerican.com/sciam/cache/file/A414F2ED-D640-4F0E-8C0B8D1D45ECA47E.jpg',\n",
              "  'publishedAt': '2023-09-01T14:30:00Z',\n",
              "  'content': 'Debates inescapably animate the American election circus, watched more for gaffes and missteps than genuine insight into presidential aspirants.\\r\\nIn August, however, the Republican presidential candi… [+6718 chars]'},\n",
              " {'source': {'id': None, 'name': 'Biztoc.com'},\n",
              "  'author': 'theblock.co',\n",
              "  'title': 'Bitcoin’s price rallies ahead of Nvidia results, Powell speech',\n",
              "  'description': \"Bitcoin's price is caught in the upward momentum of a stock market rebound, as investors anticipate Nvidia's earnings report. #nvidia\",\n",
              "  'url': 'https://biztoc.com/x/077a280d156d8ded',\n",
              "  'urlToImage': 'https://c.biztoc.com/p/077a280d156d8ded/s.webp',\n",
              "  'publishedAt': '2023-08-23T17:02:05Z',\n",
              "  'content': \"Bitcoin's price is caught in the upward momentum of a stock market rebound, as investors anticipate Nvidia's earnings report.\\r\\n#nvidia\\r\\nThis story appeared on theblock.co, .\"},\n",
              " {'source': {'id': None, 'name': 'Biztoc.com'},\n",
              "  'author': 'apnews.com',\n",
              "  'title': 'Stock market today: Asia shares decline as faltering Chinese economy sets off global slide',\n",
              "  'description': \"Asian shares declined Wednesday amid worries over discouraging data on China, as well as over the future of the U.S. economy. Japan's benchmark Nikkei 225 dropped 1.3% in afternoon trading to 31,805.37. Australia's S&P/ASX 200 dove 1.6% to 7,192.10. South Kor…\",\n",
              "  'url': 'https://biztoc.com/x/d3c5fc156e4bbafe',\n",
              "  'urlToImage': 'https://c.biztoc.com/p/d3c5fc156e4bbafe/s.webp',\n",
              "  'publishedAt': '2023-08-16T07:16:04Z',\n",
              "  'content': \"Asian shares declined Wednesday amid worries over discouraging data on China, as well as over the future of the U.S. economy.Japan's benchmark Nikkei 225 dropped 1.3% in afternoon trading to 31,805.3… [+308 chars]\"},\n",
              " {'source': {'id': None, 'name': 'Biztoc.com'},\n",
              "  'author': 'aol.com',\n",
              "  'title': 'Stock market today: Asian shares are mixed ahead of Fed Chair speech and Nvidia earnings',\n",
              "  'description': \"Asian markets were trading mixed Wednesday ahead of Fed Chair Jerome Powell's highly anticipated speech later in the week. Japan's benchmark Nikkei 225 added 0.5% to finish at 32,010.26. Australia's S&P/ASX 200 gained 0.4% to 7,148.40. South Korea's Kospi sli…\",\n",
              "  'url': 'https://biztoc.com/x/a866b0dec5ccf337',\n",
              "  'urlToImage': 'https://c.biztoc.com/p/a866b0dec5ccf337/s.webp',\n",
              "  'publishedAt': '2023-08-23T07:50:04Z',\n",
              "  'content': \"Asian markets were trading mixed Wednesday ahead of Fed Chair Jerome Powell's highly anticipated speech later in the week.Japan's benchmark Nikkei 225 added 0.5% to finish at 32,010.26. Australia's S… [+293 chars]\"},\n",
              " {'source': {'id': None, 'name': 'Biztoc.com'},\n",
              "  'author': 'aol.com',\n",
              "  'title': 'Stock market today: Asian shares mostly decline ahead of Federal Reserve’s Powell speech',\n",
              "  'description': \"Asian shares mostly fell Friday, discouraged by a Wall Street slump that followed a blowout profit report from Nvidia and mixed reports on the United States economy. Japan's benchmark Nikkei 225 dropped 2.0% to 31,634.37 in afternoon trading. Australia's S&P/…\",\n",
              "  'url': 'https://biztoc.com/x/6509e08d152bf8e6',\n",
              "  'urlToImage': 'https://c.biztoc.com/p/6509e08d152bf8e6/s.webp',\n",
              "  'publishedAt': '2023-08-25T07:42:03Z',\n",
              "  'content': \"Asian shares mostly fell Friday, discouraged by a Wall Street slump that followed a blowout profit report from Nvidia and mixed reports on the United States economy.Japan's benchmark Nikkei 225 dropp… [+286 chars]\"},\n",
              " {'source': {'id': None, 'name': 'Biztoc.com'},\n",
              "  'author': 'seekingalpha.com',\n",
              "  'title': 'Stock Market News Today: Markets end higher as tech stocks rebound (SP500)',\n",
              "  'description': 'U.S. equities on Monday ended higher, primarily on the back of technology stocks and megacap names. Market participants geared up for key economic data later this week in the form of retail sales and industrial production. Investors also eyed further clues ab…',\n",
              "  'url': 'https://biztoc.com/x/3e2fb09461e84f10',\n",
              "  'urlToImage': 'https://c.biztoc.com/p/3e2fb09461e84f10/og.webp',\n",
              "  'publishedAt': '2023-08-15T14:38:17Z',\n",
              "  'content': 'U.S. equities on Monday ended higher, primarily on the back of technology stocks and megacap names. Market participants geared up for key economic data later this week in the form of retail sales and… [+295 chars]'},\n",
              " {'source': {'id': None, 'name': 'Biztoc.com'},\n",
              "  'author': 'cnbc.com',\n",
              "  'title': \"Jim Cramer's top 10 things to watch in the stock market Thursday\",\n",
              "  'description': 'My top 10 things to watch Thursday, Aug. 24 Nvidia (NVDA) is triumphant. Another blowout quarter and once again showing why it\\'s an \"own it, don\\'t trade it\" stock. Big guidance raise. Shares surged 8% early Thursday, set to open at a fresh all-time high above…',\n",
              "  'url': 'https://biztoc.com/x/4ee11895daa13788',\n",
              "  'urlToImage': 'https://c.biztoc.com/p/4ee11895daa13788/s.webp',\n",
              "  'publishedAt': '2023-08-24T13:12:04Z',\n",
              "  'content': 'My top 10 things to watch Thursday, Aug. 24 Nvidia (NVDA) is triumphant. Another blowout quarter and once again showing why it\\'s an \"own it, don\\'t trade it\" stock. Big guidance raise. Shares surged 8… [+302 chars]'},\n",
              " {'source': {'id': None, 'name': 'Biztoc.com'},\n",
              "  'author': 'barrons.com',\n",
              "  'title': 'This Strategist Has Been Right About the Stock Market. How He Sees the Year Ending',\n",
              "  'description': 'After a huge rally to start the year, stocks’ momentum has faltered. They may struggle to find it again before the end of the year, according to one of 2023’s most successf...',\n",
              "  'url': 'https://biztoc.com/x/e18cfc22ecccf57a',\n",
              "  'urlToImage': 'https://c.biztoc.com/p/e18cfc22ecccf57a/s.webp',\n",
              "  'publishedAt': '2023-09-05T21:54:53Z',\n",
              "  'content': 'After a huge rally to start the year, stocks momentum has faltered. They may struggle to find it again before the end of the year, according to one of 2023s most successf...\\r\\nThis story appeared on b… [+12 chars]'},\n",
              " {'source': {'id': None, 'name': 'Yahoo Entertainment'},\n",
              "  'author': None,\n",
              "  'title': 'Market Digest: CCEP, CSCO, ITRI',\n",
              "  'description': \"Find the latest Itron, Inc. (ITRI) stock forecast based on top analyst's estimates, plus more investing and trading data from Yahoo Finance\",\n",
              "  'url': 'https://finance.yahoo.com/research/reports/ARGUS_37403_MarketSummary_1692356532000/',\n",
              "  'urlToImage': 'https://s.yimg.com/cv/apiv2/social/images/yahoo_default_logo.png',\n",
              "  'publishedAt': '2023-08-18T11:02:12Z',\n",
              "  'content': 'Stocks fell sharply on Thursday, extending their recent losses. Investors weighed strong earnings from Walmart and Cisco, along with news that Blue Shield of California would drop CVS Health as its p… [+768 chars]'},\n",
              " {'source': {'id': None, 'name': 'Yahoo Entertainment'},\n",
              "  'author': None,\n",
              "  'title': 'Market Update: NYT, RCL, DG',\n",
              "  'description': \"Find the latest Dollar General Corporation (DG) stock forecast based on top analyst's estimates, plus more investing and trading data from Yahoo Finance\",\n",
              "  'url': 'https://finance.yahoo.com/research/reports/ARGUS_37570_MarketUpdate_1693933028000/',\n",
              "  'urlToImage': 'https://s.yimg.com/cv/apiv2/social/images/yahoo_default_logo.png',\n",
              "  'publishedAt': '2023-09-05T16:57:08Z',\n",
              "  'content': 'Stocks edged lower on Tuesday morning on more disappointing data in China. The Caixin China Services PMI was 51.8 in August, reflecting the smallest rate of growth in eight months. New orders growth … [+415 chars]'},\n",
              " {'source': {'id': None, 'name': 'Biztoc.com'},\n",
              "  'author': 'marketwatch.com',\n",
              "  'title': 'The Tell: Can the stock-market rally survive rising Treasury yields? Here’s what history says',\n",
              "  'description': 'There’s more than one way to interpret the impact that Treasury yields can have on U.S. stocks. Ed Clissold, chief U.S. strategist, and Thanh Nguyen, senior quantitative analyst, for Ned Davis Research described three scenarios in which the direction of short…',\n",
              "  'url': 'https://biztoc.com/x/ae502789b447432f',\n",
              "  'urlToImage': 'https://c.biztoc.com/p/ae502789b447432f/s.webp',\n",
              "  'publishedAt': '2023-08-10T19:54:04Z',\n",
              "  'content': 'Theres more than one way to interpret the impact that Treasury yields can have on U.S. stocks.Ed Clissold, chief U.S. strategist, and Thanh Nguyen, senior quantitative analyst, for Ned Davis Research… [+290 chars]'},\n",
              " {'source': {'id': None, 'name': 'Biztoc.com'},\n",
              "  'author': 'cnbc.com',\n",
              "  'title': \"Jim Cramer's top 10 things to watch in the stock market Tuesday\",\n",
              "  'description': \"My top 10 things to watch Tuesday, Aug. 15 The Dow , the S & P 500 and the Nasdaq are set to open lower after disappointing China data and another interest rate cut by the Chinese central bank. Dow stock Home Depot (HD) drops despite quarterly beats. We'll he…\",\n",
              "  'url': 'https://biztoc.com/x/ee656a18179d5cbd',\n",
              "  'urlToImage': 'https://c.biztoc.com/p/ee656a18179d5cbd/s.webp',\n",
              "  'publishedAt': '2023-08-15T13:32:09Z',\n",
              "  'content': 'My top 10 things to watch Tuesday, Aug. 15 The Dow , the S &amp; P 500 and the Nasdaq are set to open lower after disappointing China data and another interest rate cut by the Chinese central bank. D… [+288 chars]'},\n",
              " {'source': {'id': None, 'name': 'Biztoc.com'},\n",
              "  'author': 'finance.yahoo.com',\n",
              "  'title': 'Stocks open higher after three-week slump: Stock market news today',\n",
              "  'description': 'Stocks rose at the open, signaling a bounce in equities amid a brutal August for investors so far. The Dow Jones Industrial Average (^DJI) rose 0.1%, while the S&P 500 (^GSPC) was up 0.3%. The tech-heavy Nasdaq Composite (^IXIC) was up 0.4% after losing more …',\n",
              "  'url': 'https://biztoc.com/x/4237f63f2a238d11',\n",
              "  'urlToImage': 'https://c.biztoc.com/p/4237f63f2a238d11/s.webp',\n",
              "  'publishedAt': '2023-08-21T15:04:03Z',\n",
              "  'content': 'Stocks rose at the open, signaling a bounce in equities amid a brutal August for investors so far.The Dow Jones Industrial Average (^DJI) rose 0.1%, while the S&amp;P 500 (^GSPC) was up 0.3%. The tec… [+309 chars]'},\n",
              " {'source': {'id': None, 'name': 'Biztoc.com'},\n",
              "  'author': 'marketwatch.com',\n",
              "  'title': 'Same bank, 2 different stock-market calls. Why internal disagreements rage on Wall Street',\n",
              "  'description': 'A pair of JPMorgan Chase & Co. strategists raised eyebrows earlier this month when they espoused seemingly contradictory market calls. It is the latest example of how strategists and economists working for the same Wall Street employers are increasingly comfo…',\n",
              "  'url': 'https://biztoc.com/x/8794350ba83c131a',\n",
              "  'urlToImage': 'https://c.biztoc.com/p/8794350ba83c131a/s.webp',\n",
              "  'publishedAt': '2023-08-17T16:10:06Z',\n",
              "  'content': 'A pair of JPMorgan Chase &amp; Co. strategists raised eyebrows earlier this month when they espoused seemingly contradictory market calls.It is the latest example of how strategists and economists wo… [+322 chars]'},\n",
              " {'source': {'id': None, 'name': 'Biztoc.com'},\n",
              "  'author': 'cnbc.com',\n",
              "  'title': \"Jim Cramer's top 10 things to watch in the stock market Wednesday\",\n",
              "  'description': \"My top 10 things to watch Wednesday, Aug. 23 The Dow , the S & P 500 and the Nasdaq are set to open slightly higher as investors look forward to Wednesday's after-the-bell earnings from Club name Nvidia (NVDA). The AI chip powerhouse hit an all-time high in T…\",\n",
              "  'url': 'https://biztoc.com/x/aa8880db666b3264',\n",
              "  'urlToImage': 'https://c.biztoc.com/p/aa8880db666b3264/s.webp',\n",
              "  'publishedAt': '2023-08-23T13:36:03Z',\n",
              "  'content': \"My top 10 things to watch Wednesday, Aug. 23 The Dow , the S &amp; P 500 and the Nasdaq are set to open slightly higher as investors look forward to Wednesday's after-the-bell earnings from Club name… [+269 chars]\"},\n",
              " {'source': {'id': None, 'name': 'Biztoc.com'},\n",
              "  'author': 'dailyhodl.com',\n",
              "  'title': 'JPMorgan Chase Issues Market Update, Says One Stock Could Soar 116%: Report',\n",
              "  'description': 'JPMorgan Chase just issued an update on the firm’s financial outlook. In a new note to clients, global investment strategist Madison Faller says JPMorgan has a “glass half-full” view after a month-long stock market dip, reports the financial technology firm T…',\n",
              "  'url': 'https://biztoc.com/x/9f67d6e6dbba732b',\n",
              "  'urlToImage': 'https://c.biztoc.com/p/9f67d6e6dbba732b/og.webp',\n",
              "  'publishedAt': '2023-08-28T10:26:05Z',\n",
              "  'content': 'JPMorgan Chase just issued an update on the firms financial outlook.In a new note to clients, global investment strategist Madison Faller says JPMorgan has a glass half-full view after a month-long s… [+302 chars]'},\n",
              " {'source': {'id': None, 'name': 'Theregister.com'},\n",
              "  'author': 'Paul Kunert',\n",
              "  'title': 'Hands up who wants a PC? Lenovo reports declining returns',\n",
              "  'description': 'Anyone? Anyone? Bueller? Profit down 66% as execs try to clear inventory decks\\nLenovo profits took a nosedive for the second consecutive quarter as demand for personal computers continues to slump in the face of a crappy economy.…',\n",
              "  'url': 'https://www.theregister.com/2023/08/17/lenovo_pc_sales/',\n",
              "  'urlToImage': 'https://regmedia.co.uk/2020/11/03/shutterstock_lenovo_editorial_only.jpg',\n",
              "  'publishedAt': '2023-08-17T12:45:13Z',\n",
              "  'content': \"Lenovo profits took a nosedive for the second consecutive quarter as demand for personal computers continues to slump in the face of a crappy economy.\\r\\nTurnover from sales for Lenovo's Q1 of its fisc… [+2780 chars]\"},\n",
              " {'source': {'id': None, 'name': 'Forbes'},\n",
              "  'author': 'Trefis Team, Contributor, \\n Trefis Team, Contributor\\n https://www.forbes.com/sites/greatspeculations/people/trefis/',\n",
              "  'title': 'Where Is MetLife Stock Headed?',\n",
              "  'description': 'MetLife’s stock (NYSE: MET) has lost 13% YTD as compared to the 18% increase in the S&P500 index over the same period.',\n",
              "  'url': 'https://www.forbes.com/sites/greatspeculations/2023/09/01/where-is-metlife-stock-headed/',\n",
              "  'urlToImage': 'https://imageio.forbes.com/specials-images/imageserve/64f1709581f6e0db0a85cc99/0x0.jpg?format=jpg&width=1200',\n",
              "  'publishedAt': '2023-09-01T11:00:19Z',\n",
              "  'content': 'NEW YORK, NY - JUNE 20: Northern view from the Empire State Building showing construction 270 Park ... [+] Avenue, the new headquarters for JPMorgan Chase rising on the midtown Manhattan skyline behi… [+2225 chars]'},\n",
              " {'source': {'id': None, 'name': '9to5Mac'},\n",
              "  'author': 'Ben Lovejoy',\n",
              "  'title': 'Here’s how the Apple Trade In process works behind the scenes',\n",
              "  'description': 'If you’ve ever done an Apple Trade In of an old device when buying a new one, you may have briefly wondered what happens to it after you leave the store.\\n\\n\\n\\nWe’ve previously had a look at the post-Trade In experience for a major US carrier, and a new report g…',\n",
              "  'url': 'https://9to5mac.com/2023/08/15/apple-trade-in-process/',\n",
              "  'urlToImage': 'https://i0.wp.com/9to5mac.com/wp-content/uploads/sites/6/2023/08/Apple-Trade-In-process.jpg?resize=1200%2C628&quality=82&strip=all&ssl=1',\n",
              "  'publishedAt': '2023-08-15T14:23:17Z',\n",
              "  'content': 'If you’ve ever done an Apple Trade In of an old device when buying a new one, you may have briefly wondered what happens to it after you leave the store.\\r\\nWe’ve previously had a look at the post-Trad… [+2989 chars]'},\n",
              " {'source': {'id': 'business-insider', 'name': 'Business Insider'},\n",
              "  'author': 'mfox@businessinsider.com (Matthew Fox)',\n",
              "  'title': \"The Fed may be done hiking rates but there's another policy move that still poses a big risk to stocks\",\n",
              "  'description': '\"When [Fed] reserves have been declining by more than $38 billion over the past four weeks, stocks have struggled,\" Ned Davis Research said.',\n",
              "  'url': 'https://markets.businessinsider.com/news/stocks/stock-market-risk-outlook-fed-balance-sheet-liquidity-drain-rates-2023-8',\n",
              "  'urlToImage': 'https://i.insider.com/638f50be8580f70019f7a248?width=1200&format=jpeg',\n",
              "  'publishedAt': '2023-08-10T20:01:08Z',\n",
              "  'content': 'The Federal Reserve may be close to the end of its rate hiking campaign based on a continued cooldown in inflation, but the central bank has one more policy move that poses a big risk for the stock m… [+2153 chars]'},\n",
              " {'source': {'id': None, 'name': 'Biztoc.com'},\n",
              "  'author': 'wsj.com',\n",
              "  'title': 'Stock Market Today: Dow Futures Slip; Yuan Weakens After China Cuts Rates',\n",
              "  'description': 'U.S. stock futures fell early Tuesday, while benchmark Treasury yields approached their highest levels since 2008. Concerns about China’s faltering economy continued to weigh on investor sentiment, as market participants digested a fresh batch of weak Chinese…',\n",
              "  'url': 'https://biztoc.com/x/d870f93d0da090d4',\n",
              "  'urlToImage': 'https://c.biztoc.com/p/d870f93d0da090d4/og.webp',\n",
              "  'publishedAt': '2023-08-15T10:12:08Z',\n",
              "  'content': 'U.S. stock futures fell early Tuesday, while benchmark Treasury yields approached their highest levels since 2008.Concerns about Chinas faltering economy continued to weigh on investor sentiment, as … [+245 chars]'},\n",
              " {'source': {'id': None, 'name': 'Biztoc.com'},\n",
              "  'author': 'apnews.com',\n",
              "  'title': 'Stock market today: Asian stocks mixed as traders await Fed conference for interest rate update',\n",
              "  'description': 'Asian stocks were mixed Monday as traders looked ahead to the Federal Reserve’s summer conference for signs of whether the U.S. central bank thinks inflation is under control or more interest rate hikes are needed to cool inflation. Shanghai and Hong Kong ret…',\n",
              "  'url': 'https://biztoc.com/x/3f2b35c755dbdc7f',\n",
              "  'urlToImage': 'https://c.biztoc.com/p/3f2b35c755dbdc7f/s.webp',\n",
              "  'publishedAt': '2023-08-21T04:10:05Z',\n",
              "  'content': 'Asian stocks were mixed Monday as traders looked ahead to the Federal Reserves summer conference for signs of whether the U.S. central bank thinks inflation is under control or more interest rate hik… [+296 chars]'},\n",
              " {'source': {'id': None, 'name': 'Biztoc.com'},\n",
              "  'author': 'aol.com',\n",
              "  'title': 'Stock market today: Asian shares fall back amid selling of China property shares',\n",
              "  'description': 'Shares fell back Tuesday in Asia after U.S. markets were closed for the Labor Day holiday. U.S. futures also were lower and oil prices were mixed. Hong Kong fell more than 1% as Chinese property stocks declined as investors sold to lock in gains fueled by rec…',\n",
              "  'url': 'https://biztoc.com/x/6a7bbe291f338247',\n",
              "  'urlToImage': 'https://c.biztoc.com/p/6a7bbe291f338247/s.webp',\n",
              "  'publishedAt': '2023-09-05T04:24:33Z',\n",
              "  'content': 'Shares fell back Tuesday in Asia after U.S. markets were closed for the Labor Day holiday.U.S. futures also were lower and oil prices were mixed.Hong Kong fell more than 1% as Chinese property stocks… [+283 chars]'}]"
            ]
          },
          "execution_count": 17,
          "metadata": {},
          "output_type": "execute_result"
        }
      ],
      "source": [
        "articles_dict"
      ]
    },
    {
      "cell_type": "code",
      "execution_count": null,
      "metadata": {
        "colab": {
          "base_uri": "https://localhost:8080/"
        },
        "id": "1BBZBRPbyRjb",
        "outputId": "2ce80640-feb1-42e7-9eba-6c8ad760bdb4"
      },
      "outputs": [
        {
          "data": {
            "text/plain": [
              "{'source': {'id': None, 'name': 'Autoblog'},\n",
              " 'author': 'Associated Press',\n",
              " 'title': 'Profit at Honda doubles on strong global sales of cars and motorcycles',\n",
              " 'description': 'Filed under:\\n Earnings/Financials,Acura,Honda\\n Continue reading Profit at Honda doubles on strong global sales of cars and motorcycles\\nProfit at Honda doubles on strong global sales of cars and motorcycles originally appeared on Autoblog on Thu, 10 Aug 2023 0…',\n",
              " 'url': 'https://www.autoblog.com/2023/08/10/honda-profits-up-car-motorcycle-sales/',\n",
              " 'urlToImage': 'https://o.aolcdn.com/images/dims3/GLOB/legacy_thumbnail/1062x597/format/jpg/quality/100/https://s.yimg.com/os/creatr-uploaded-images/2023-08/c82abae0-377c-11ee-bdf5-43e90a973d73',\n",
              " 'publishedAt': '2023-08-10T12:52:00Z',\n",
              " 'content': 'TOKYO Honda reported Wednesday that its April-June profit more than doubled on healthy sales of its motorcycles and cars, as the Japanese company also received a perk from favorable exchange rates.\\r\\n… [+2063 chars]'}"
            ]
          },
          "execution_count": 18,
          "metadata": {},
          "output_type": "execute_result"
        }
      ],
      "source": [
        "articles_dict[0]"
      ]
    },
    {
      "cell_type": "code",
      "execution_count": null,
      "metadata": {
        "colab": {
          "base_uri": "https://localhost:8080/",
          "height": 53
        },
        "id": "ez43OVgkyWwv",
        "outputId": "f77df820-1e6a-4805-f450-13659df88cfc"
      },
      "outputs": [
        {
          "data": {
            "application/vnd.google.colaboratory.intrinsic+json": {
              "type": "string"
            },
            "text/plain": [
              "'TOKYO Honda reported Wednesday that its April-June profit more than doubled on healthy sales of its motorcycles and cars, as the Japanese company also received a perk from favorable exchange rates.\\r\\n… [+2063 chars]'"
            ]
          },
          "execution_count": 19,
          "metadata": {},
          "output_type": "execute_result"
        }
      ],
      "source": [
        "articles_dict[0]['content'] # the content is not enough to get the sentiment."
      ]
    },
    {
      "cell_type": "code",
      "execution_count": null,
      "metadata": {
        "colab": {
          "base_uri": "https://localhost:8080/",
          "height": 35
        },
        "id": "SoVj44sM7m6p",
        "outputId": "fb2fe155-b590-440d-b05a-0de929f8b86d"
      },
      "outputs": [
        {
          "data": {
            "application/vnd.google.colaboratory.intrinsic+json": {
              "type": "string"
            },
            "text/plain": [
              "'https://www.autoblog.com/2023/08/10/honda-profits-up-car-motorcycle-sales/'"
            ]
          },
          "execution_count": 20,
          "metadata": {},
          "output_type": "execute_result"
        }
      ],
      "source": [
        "articles_dict[0]['url']"
      ]
    },
    {
      "cell_type": "markdown",
      "metadata": {
        "id": "RuytCkb58-DI"
      },
      "source": [
        "# Newdsata.io"
      ]
    },
    {
      "cell_type": "code",
      "execution_count": null,
      "metadata": {
        "colab": {
          "base_uri": "https://localhost:8080/"
        },
        "id": "rMU7ZqzR9krj",
        "outputId": "809bcec8-60f2-4758-87d1-792352a1c834"
      },
      "outputs": [
        {
          "name": "stdout",
          "output_type": "stream",
          "text": [
            "Collecting newsdataapi\n",
            "  Downloading newsdataapi-0.1.8-py3-none-any.whl (7.8 kB)\n",
            "Requirement already satisfied: requests<3.0.0 in /usr/local/lib/python3.10/dist-packages (from newsdataapi) (2.31.0)\n",
            "Requirement already satisfied: charset-normalizer<4,>=2 in /usr/local/lib/python3.10/dist-packages (from requests<3.0.0->newsdataapi) (3.2.0)\n",
            "Requirement already satisfied: idna<4,>=2.5 in /usr/local/lib/python3.10/dist-packages (from requests<3.0.0->newsdataapi) (3.4)\n",
            "Requirement already satisfied: urllib3<3,>=1.21.1 in /usr/local/lib/python3.10/dist-packages (from requests<3.0.0->newsdataapi) (2.0.4)\n",
            "Requirement already satisfied: certifi>=2017.4.17 in /usr/local/lib/python3.10/dist-packages (from requests<3.0.0->newsdataapi) (2023.7.22)\n",
            "Installing collected packages: newsdataapi\n",
            "Successfully installed newsdataapi-0.1.8\n"
          ]
        }
      ],
      "source": [
        "!pip install newsdataapi"
      ]
    },
    {
      "cell_type": "code",
      "execution_count": null,
      "metadata": {
        "id": "TEisHrfA9paa"
      },
      "outputs": [],
      "source": [
        "from newsdataapi import NewsDataApiClient"
      ]
    },
    {
      "cell_type": "code",
      "execution_count": null,
      "metadata": {
        "id": "5J7kwa_Q9ru4"
      },
      "outputs": [],
      "source": [
        "# API key authorization, Initialize the client with your API key\n",
        "\n",
        "api = NewsDataApiClient(apikey=\"pub_2915202f68e543f70bb9aba9611735142c1fd\")"
      ]
    },
    {
      "cell_type": "code",
      "execution_count": null,
      "metadata": {
        "id": "ZaUygPYo9wwd"
      },
      "outputs": [],
      "source": [
        "?api.news_api"
      ]
    },
    {
      "cell_type": "markdown",
      "metadata": {
        "id": "yhmM4fg1A3Bz"
      },
      "source": [
        "```python\n",
        "api.news_api(q: Optional[str] = None,\n",
        "\n",
        " qInTitle: Optional[str] = None,\n",
        "\n",
        " country: Union[str, list, NoneType] = None,\n",
        "\n",
        " category: Union[str, list, NoneType] = None,\n",
        " language: Union[str, list, NoneType] = None,\n",
        " domain: Union[str, list, NoneType] = None,\n",
        " timeframe: Optional[int] = None,\n",
        " size: Optional[int] = None,\n",
        " domainurl: Union[str, list, NoneType] = None,\n",
        " excludedomain: Union[str, list, NoneType] = None,\n",
        " timezone: Optional[str] = None,\n",
        " full_content: Optional[bool] = None,\n",
        " image: Optional[bool] = None,\n",
        " video: Optional[bool] = None,\n",
        " prioritydomain: Optional[str] = None,\n",
        " page: Optional[str] = None,\n",
        " scroll: Optional[bool] = False, max_result: Optional[int] = None,\n",
        " qInMeta: Optional[str] = None) -> dict\n",
        "```"
      ]
    },
    {
      "cell_type": "code",
      "execution_count": null,
      "metadata": {
        "id": "9BUDyt3a9tNW"
      },
      "outputs": [],
      "source": [
        "# You can pass empty or with request parameters {ex. (country = \"us\")}\n",
        "response = api.news_api( q= \"finance\" ,\n",
        "                        country = \"us\",\n",
        "                         language = 'en',\n",
        "                         full_content = True,\n",
        "                         )"
      ]
    },
    {
      "cell_type": "code",
      "execution_count": null,
      "metadata": {
        "id": "EOL-22yGBb3G",
        "jupyter": {
          "outputs_hidden": true
        },
        "tags": []
      },
      "outputs": [],
      "source": [
        "response"
      ]
    },
    {
      "cell_type": "code",
      "execution_count": null,
      "metadata": {
        "id": "ZLksJ_msCAmK"
      },
      "outputs": [],
      "source": [
        "import json"
      ]
    },
    {
      "cell_type": "code",
      "execution_count": null,
      "metadata": {
        "id": "4_FhBXQTB-nU"
      },
      "outputs": [],
      "source": [
        "# # Serializing json\n",
        "# json_object = json.dumps(response, indent = 4)\n",
        "# print(json_object)"
      ]
    },
    {
      "cell_type": "code",
      "execution_count": null,
      "metadata": {
        "id": "urjbUGQ-CIHU"
      },
      "outputs": [],
      "source": [
        "# writing to a file\n",
        "with open(\"sample.json\", \"w\") as outfile:\n",
        "    json.dump(response, outfile)"
      ]
    },
    {
      "cell_type": "code",
      "execution_count": null,
      "metadata": {
        "id": "fL966ViTEDqN"
      },
      "outputs": [],
      "source": [
        "keywords = [\n",
        "    \"GDP\",\n",
        "    \"CPI\",\n",
        "    \"PPI\",\n",
        "    \"Unemployment Rate\",\n",
        "    \"Interest Rates\",\n",
        "    \"Inflation\",\n",
        "    \"Trade Balance\",\n",
        "    \"Retail Sales\",\n",
        "    \"Manufacturing Index\",\n",
        "    \"Earnings Reports\",\n",
        "    \"Revenue Growth\",\n",
        "    \"Profit Margins\",\n",
        "    \"Earnings Surprises\",\n",
        "    \"Geopolitical Events\",\n",
        "    \"Trade Tensions\",\n",
        "    \"Elections\",\n",
        "    \"Natural Disasters\",\n",
        "    \"Global Health Crises\",\n",
        "    \"Oil Prices\",\n",
        "    \"Gold Prices\",\n",
        "    \"Precious Metals\",\n",
        "    \"Agricultural Commodities\",\n",
        "    \"Federal Reserve\",\n",
        "    \"ECB\",\n",
        "    \"Forex Market\",\n",
        "    \"Exchange Rates\",\n",
        "    \"Currency Pairs\",\n",
        "    \"Tech Company Earnings\",\n",
        "    \"Tech Innovations\",\n",
        "    \"Retail Trends\",\n",
        "    \"Consumer Sentiment\",\n",
        "    \"Financial Regulations\",\n",
        "    \"Government Policies\",\n",
        "    \"Technical Analysis\",\n",
        "    \"Fundamental Analysis\",\n",
        "    \"Cryptocurrency News\",\n",
        "    \"Bitcoin\",\n",
        "    \"Altcoins\",\n",
        "    \"Cryptocurrency Regulations\",\n",
        "    \"S&P 500\",\n",
        "    \"Dow Jones\",\n",
        "    \"NASDAQ\",\n",
        "    \"Market Analysis\",\n",
        "    \"Stock Market Indices\"\n",
        "]\n",
        "\n"
      ]
    },
    {
      "cell_type": "code",
      "execution_count": null,
      "metadata": {
        "colab": {
          "base_uri": "https://localhost:8080/"
        },
        "id": "Dz20GIHmEGgH",
        "outputId": "135fb31f-b994-4aa4-9ba2-b44c1e6a9d1c"
      },
      "outputs": [
        {
          "name": "stdout",
          "output_type": "stream",
          "text": [
            "CPU times: user 3 µs, sys: 0 ns, total: 3 µs\n",
            "Wall time: 6.68 µs\n"
          ]
        }
      ],
      "source": [
        "%time\n",
        "for keyword in keywords:\n",
        "  response = api.news_api( q= keyword ,\n",
        "                          country = \"us\",\n",
        "                           language = 'en',\n",
        "                           full_content = True,\n",
        "                           )\n",
        "  # writing to a file\n",
        "  with open(f\"response_{keyword}.json\", \"w\") as outfile:\n",
        "      json.dump(response, outfile)\n",
        "\n",
        "  keywords.remove(keyword)"
      ]
    },
    {
      "cell_type": "markdown",
      "source": [
        "# adding other domains for different news channel"
      ],
      "metadata": {
        "id": "vT1Pt2N_bNxS"
      }
    },
    {
      "cell_type": "code",
      "source": [
        "!pip install newsdataapi"
      ],
      "metadata": {
        "colab": {
          "base_uri": "https://localhost:8080/"
        },
        "id": "yR-dTJyUbaEl",
        "outputId": "39d3e16e-7e18-41dc-d0fe-fb8ee9fdd55a"
      },
      "execution_count": null,
      "outputs": [
        {
          "output_type": "stream",
          "name": "stdout",
          "text": [
            "Collecting newsdataapi\n",
            "  Downloading newsdataapi-0.1.8-py3-none-any.whl (7.8 kB)\n",
            "Requirement already satisfied: requests<3.0.0 in /usr/local/lib/python3.10/dist-packages (from newsdataapi) (2.31.0)\n",
            "Requirement already satisfied: charset-normalizer<4,>=2 in /usr/local/lib/python3.10/dist-packages (from requests<3.0.0->newsdataapi) (3.3.0)\n",
            "Requirement already satisfied: idna<4,>=2.5 in /usr/local/lib/python3.10/dist-packages (from requests<3.0.0->newsdataapi) (3.4)\n",
            "Requirement already satisfied: urllib3<3,>=1.21.1 in /usr/local/lib/python3.10/dist-packages (from requests<3.0.0->newsdataapi) (2.0.6)\n",
            "Requirement already satisfied: certifi>=2017.4.17 in /usr/local/lib/python3.10/dist-packages (from requests<3.0.0->newsdataapi) (2023.7.22)\n",
            "Installing collected packages: newsdataapi\n",
            "Successfully installed newsdataapi-0.1.8\n"
          ]
        }
      ]
    },
    {
      "cell_type": "code",
      "source": [
        "from newsdataapi import NewsDataApiClient"
      ],
      "metadata": {
        "id": "BMc8jKw8bXTJ"
      },
      "execution_count": null,
      "outputs": []
    },
    {
      "cell_type": "code",
      "source": [
        "# API key authorization, Initialize the client with your API key\n",
        "api = NewsDataApiClient(apikey=\"pub_2915202f68e543f70bb9aba9611735142c1fd\")"
      ],
      "metadata": {
        "id": "2y-9tnaDbZRs"
      },
      "execution_count": null,
      "outputs": []
    },
    {
      "cell_type": "code",
      "source": [
        "# here we are trying ot fetch the latest news\n",
        "response = api.news_api(\n",
        "    # domain=['bbc', 'forbes' , 'businessinsider_us'],  # 'bbc', 'forbes' , 'businessinsider_us',\n",
        "    domainurl=['bbc.com', 'forbes.com', 'businessinsider.com'], # 'bbc.com', 'forbes.com', 'businessinsider.com',\n",
        "    category='business' ,\n",
        "    # country = \"us\",\n",
        "    timeframe=48,\n",
        "    language = 'en',\n",
        "    full_content = True,\n",
        "    size=10\n",
        "    )"
      ],
      "metadata": {
        "id": "butESJrSbNMT"
      },
      "execution_count": null,
      "outputs": []
    },
    {
      "cell_type": "code",
      "source": [
        "print(response)"
      ],
      "metadata": {
        "colab": {
          "base_uri": "https://localhost:8080/"
        },
        "id": "0HjCz26AdJXp",
        "outputId": "3df7acc3-557c-4e8c-c8d4-d7e6d12a9cb1"
      },
      "execution_count": null,
      "outputs": [
        {
          "output_type": "stream",
          "name": "stdout",
          "text": [
            "{'status': 'success', 'totalResults': 54, 'results': [{'article_id': 'f300e49c111c85f67f67177a9cb215da', 'title': \"Energy firms holding £8.1bn of customers' money\", 'link': 'https://www.bbc.co.uk/news/business-66992865?at_medium=RSS&at_campaign=KARANGA', 'keywords': None, 'creator': None, 'video_url': None, 'description': 'A father-of-three reveals that it took six weeks to have £800 refunded by his energy supplier.', 'content': 'Energy firms holding £8.1bn of customers\\' money Published 2 hours ago Share close panel Share page Copy link About sharing Image caption, Dan Malcolm said it took six weeks to get £800 refunded by his energy supplier By Dan Whitworth Money Box reporter, BBC Radio 4 Energy firms held a combined £8.1bn of customers\\' bill overpayments at the start of 2023, new Ofgem figures show. Many households pay a set monthly amount, building up credit in the summer to cover higher winter bills. Companies can hold onto those overpayments, but MP Angus MacNeil accused them of holding \"too much money\" and \"sitting on a nest egg\". Industry group Energy UK said direct debits were based on forecasts made when unit prices were volatile. Customers can request refunds, it added. The system is designed so customers have higher amounts of credit in September and October heading into the winter, but it should balance out close to zero in April and May heading into the summer. Energy regulator Ofgem said that \"customers have the right to request their balance back at any time and be refunded in a timely fashion\". But one customer, Dan Malcolm, told the BBC it took six weeks and hours spent on multiple phone calls to get just some of his money back. The father-of-three from Dunfermline unknowingly built up £1,100 of credit with his supplier in September 2022. \"It was £800 I wanted back and I thought that was fair and they made me jump through hoops to get it - it\\'s disgusting,\" he said. \"It was so, so frustrating. Energy companies saying, \\'it\\'s your money, you can get it back when you want\\' - it\\'s lies.\" \\'Customers\\' money\\' MP Angus MacNeil, who chairs Parliament\\'s energy security and net zero committee, said Mr Malcolm\\'s story was \"very concerning indeed\". \"Something is very wrong,\" he said. \"If this is writ large across consumers across the UK then energy companies have a tidy wee nest egg sitting there with customers\\' money.\" Energy companies holding on to people\\'s money can be a good thing, explained Ellen Fraser, an energy consultant and partner at management consultancy Baringa. \"You keep your payments flat in the summer when your actual bills are smaller and intentionally build up credit on your account,\" she said. \"You then spend that credit in the winter when your bills are bigger but you stay paying the same monthly amount which helps smooth out your bills, especially over Christmas which is an expensive time of year,\" she said. But she would expect a household\\'s credit balance to be at, or at least close to zero, around what the industry calls \"the end of usage season\" in April or May. Ofgem\\'s figure of £8.1bn in customers\\' accounts between January and March this year suggested people were \"either not aware of a large credit balance, or aren\\'t being successful in their requests for refunds\", said Ms Fraser. \"Neither position is good for customers nor acceptable from suppliers,\" she added. \\'Extremely uncertain\\' Energy UK, which represents firms, said suppliers were obliged to set direct debits that are, over a 12-month period, estimated to result in a balanced account. \"These forecasts are based on estimated usage and expectations of future prices. At the time [Q1 2023] prices were extremely uncertain and the level of government support was unknown,\" a statement said. Ofgem said in a statement: \"Earlier this year, we strengthened rules regarding direct debits, which should prevent excessive accumulation of consumer credit balances. Suppliers should be basing their direct debits on the most accurate available information.\" The watchdog was unable to tell the BBC how much of the £8.1bn held in credit was from households and how much was from businesses, although it said it expected the majority was from households. It said if customers were not happy with how they were treated by their energy supplier or the problem was not fixed in eight weeks, they could complain to the Energy Ombudsman . Energy is regulated differently in Northern Ireland where the Northern Ireland Authority for Utility Regulation ( NIAUR ), an independent public body, oversees the electricity, gas, and water and sewerage industries. How to claim back credit from your energy supplier First consider whether it will be difficult to pay your bills without keeping the credit on your account Contact your supplier and tell them how much credit you\\'d like them to refund you Make sure you have an up-to-date meter reading to give them If your supplier says they won\\'t give you a refund, they must explain their decision There is more information from Citizens Advice here If you want to share your experiences on this issue please email moneybox@bbc.co.uk You can listen back to Saturday\\'s programme to find out more by clicking here or follow Money Box or Dan Whitworth on X (formerly Twitter). Related Topics Money Ofgem Energy service companies More on this story What can I do if I can\\'t pay my energy bill? Published 27 September Five tips for cutting energy costs this winter Published 24 August', 'pubDate': '2023-10-07 03:05:58', 'image_url': None, 'source_id': 'bbc', 'source_priority': 103, 'country': ['united kingdom'], 'category': ['business'], 'language': 'english'}, {'article_id': '3062edbb54fcb7ca9d401ec2aece7fb8', 'title': 'Sonic Innovator Mija Releases ‘No Rules’ EP And Talks Her Genre-Bending Sound', 'link': 'https://www.forbes.com/sites/lisakocay/2023/10/06/sonic-innovator-mija-releases-no-rules-ep-and-talks-her-genre-bending-sound/', 'keywords': ['Arts', '/arts', 'Lifestyle', '/lifestyle', 'Arts', '/arts', 'lifestyle', 'Lifestyle', 'standard'], 'creator': ['Lisa Kocay', ' Contributor'], 'video_url': None, 'description': '“I feel like now, for the first time, I am actually honing in on my sound and figuring out what it sounds like instead of [making] a million random different things.\"', 'content': 'Forbes Lifestyle Arts Sonic Innovator Mija Releases ‘No Rules’ EP And Talks Her Genre-Bending Sound Lisa Kocay Contributor Opinions expressed by Forbes Contributors are their own. Writing about all things dance music, food and wine. Following Oct 6, 2023, 08:09pm EDT | Press play to listen to this article! Got it! Share to Facebook Share to Twitter Share to Linkedin Mija. Amber Giles When it comes to defining an artist’s sound, there isn’t one for Mija. Her catalog cannot be categorized as one style. Amber Giles, the brainchild of Mija, creates everything from dancefloor-ready tunes to bass-forward music, elated melodies, calming tempos, experimental beats, emotional rhythms and more. Today, October 6, the genre-defying tastemaker releases her NO RULES EP, further showcasing her versatile sonic capabilities. The four-track body of work boasts pounding, bouncy and deep basslines, samples from poets and drag queens, funky and swiveling synths, catchy toplines and a nod to ballroom culture—a late 20th-century underground queer subculture where people walk, compete, perform, dance, lip-sync and model in different categories. The producer, singer and songwriter says the title of the EP is based on her “fk a genre” ethos, which has given her the space to explore and release different styles of music throughout her illustrious career. “ I WANNA BE A BIG STAR (feat. Cakes Da Killa and Wreckno) ” pays homage to “Paris Is Burning,” a 1990 documentary that chronicles ballroom culture, as well as the African-American, Latino, gay and transgender communities involved in it. Giles says it is her favorite documentary of all time because she believes it “gives an incredible insight into dance music culture, how it started with disco and [the history of] ballroom’s New York City culture.” “I think that community deserves so much praise and respect for being some of the pioneers in the foundation of everything that we listen to and enjoy today,” the artist says. “I have a lot of drag queen friends, and I wanted to make a song for them that would amplify them and make them feel good.” MORE FOR YOU Cooper Flagg, Nation’s No. 1 Hoops Recruit, Closing In On College Decision Chinese Billionaire s Texas Company Owes Millions On Unpaid Bills The T 64 Ukraine s Most Important Tank Could Go Extinct In Three Or Four Years “[It’s] the most emotional song for me. It definitely makes me want to cry and rave at the same time,” she adds about “I WANNA BE A BIG STAR.” The sound designer says it’s important for dance music fans to know the roots of the scene’s culture, noting that “we stand on the shoulders of giants” but that narrative is “one of the parts that gets left out in a lot of the stories when people talk about the history.” She says the gay community is the one she resonates with the most, and she feels empowered by it. The EP’s “ A WOMAN COMES INTO THE ROOM ” features a ‘70s poem by American poet Alice Notley. Giles says she initially discovered the poem through a track by acid house duo Medicine 8, but she wasn’t able to find the record for 10 years. She recently unearthed it and decided she needed to do a “deep dive” into it. While it was difficult to locate Medicine 8, she eventually found one of its artists. He dug into his old record collection and found that Notley was the poet on the song. Giles found Notley and got her permission to use her sample. Impressively, No Rules was entirely funded by selling digital collectibles on web3 and by raising Ethereum—a truly innovative feat. The beatmaker, who is currently ranked No. 9 and was formerly rated No. 2 on the chart for top artists in web3, says she’s been selling NFTs for almost two years. Giles believes that web3 won’t be sustainable because many artists do not interact with the people buying their works, so she decided to “flip the script.” She did this by uploading her music to web3 the same way she would post her tracks on SoundCloud . In turn, she learned that there was an entire fan base on the technology side who would consistently buy her NFTs because they knew she was “going to come back” and release more. The multi-genre maestro connects daily with her NFT buyers through a telegram chat with about 150 people. This has allowed her to become close with her community and make friends with some of them. She even met bloody white and DEEGAN through mutual friends in the web3 space, and both artists are featured on the EP. Giles says they are “smaller” acts on NO RULES but there are also “legends” on it, such as Cakes Da Killa and Wreckno . Her web3 work has not only allowed her to make new connections but it has also proven to be profitable. Giles makes royalties on this secondary market, noting that it can be of big financial gain if one is consistent with it. She defines it as a “long-term game.” She has seen remarkable success through selling her NFTs as it has funded everything as far as marketing, recording feature costs, touring and more. The producer has the power to sell her NFTs and raise an abundance of Ethereum because she’s been an independent artist throughout the majority of her career, giving her the rights to retail her catalog. \"I started [raving] so young. I was like 15,\" Mija says. \"When I went to my first rave, I was a full ... [+] kandi kid. Phoenix was wild. We had a big, big underground rave scene.\" Dylan Villarreal The heavyweight champion of genre-less music says the biggest advantages of being an independent artist are putting out music whenever and with whoever she wants, not having middlemen in her release process, not having people trying to guide where her art goes and not having her albums scrapped. Giles believes music makers should have autonomy over their own creativity. However, she does see the benefits of working with labels, which she does with smaller projects. An example of this is when she released “ Groove ” on LP Giobbi\\'s Femme House imprint. The label provided her with a non-exclusive deal for the song, which was presented on the LP Giobbi x Insomniac Records Presents Femme House compilation . “I want to collaborate with other artists, with other labels and [with] communities,” Giles says. “I want to be able to do that, but I don\\'t ever want to do it exclusively. When you\\'re able to do a non-exclusive, it\\'s cool [because] we can work together in a few years if I want to remix this or do something.” Giles believes that her purpose in life is to “make people feel good, make people feel seen and make them feel like they can express themselves without being judged.” She tries to emulate this through her deejaying, noting that she feels in control of those spaces when performing. She adds that by giving off that energy in her sets, people reciprocate that vibe back and it fills the room. The genre-bending maven says her sound is less “curated or anticipated” as it’s based on different phases she has gone through in her life. Giles says it’s cyclical and that each time she returns to a style, she has more knowledge from when she previously produced it. This allows her to become better at making those tunes by evolving her sound design. Her “fk a genre” concept began when she was 23 years old because she wanted to learn as much as possible. This ideology has certainly empowered her to transcend stylistic borders throughout her growth as an artist. “What looks like I\\'m chaotic and doing all sorts of things at the same time…I kind of am,” Giles says. “I feel like now, for the first time, I am actually honing in on my sound and figuring out what it sounds like instead of [making] a million random different things. It is starting to feel more cohesive. So I\\'m not sure if it\\'s really intentional, but in the beginning, it was because I didn\\'t know what I wanted to do yet and I wasn\\'t sure where I stood.” Follow me on Twitter or LinkedIn . Check out my website . Lisa Kocay Editorial Standards Print Reprints & Permissions', 'pubDate': '2023-10-07 00:09:45', 'image_url': 'https://imageio.forbes.com/specials-images/imageserve/651ff05c926529d84a107d55/0x0.jpg?width=960', 'source_id': 'forbes', 'source_priority': 57, 'country': ['united states of america'], 'category': ['business'], 'language': 'english'}, {'article_id': '1bd50e23798463ee5867240e22a9fc35', 'title': 'Apple On Track To Lead On Smarter, Cooler Augmented Reality', 'link': 'https://www.forbes.com/sites/jonmarkman/2023/10/06/apple-on-track-to-lead-on-smarter-cooler-augmented-reality/', 'keywords': ['Investing', '/investing', 'Money', '/money', 'Investing', '/investing', 'Money', 'Investing', 'standard'], 'creator': ['Jon Markman', ' Contributor'], 'video_url': None, 'description': 'Augmented reality is finally ready for the mass market.', 'content': 'Forbes Money Investing Apple On Track To Lead On Smarter, Cooler Augmented Reality Jon Markman Contributor Opinions expressed by Forbes Contributors are their own. Analyzing tech stocks through the prism of cultural change. Following Oct 6, 2023, 07:58pm EDT | Press play to listen to this article! Got it! Share to Facebook Share to Twitter Share to Linkedin The logo of is seen on a screen next to an illustration of the stock market. is one of the biggest ... [+] companies in the world. (Photo by Alexander Pohl/NurPhoto via Getty Images) NurPhoto via Getty Images Augmented reality is finally ready for the mass market. New AR AR devices are coming soon that will change the way we learn, play and see the world. A viral video leaked last week shows the amazing potential of AR to bridge the gap between our physical world and the wealth of digital information now available. It’s the beginning of a gigantic new business segment. Investors should consider buying Apple AAPL shares for the long-term on big pullbacks. Tim Cook, chief executive officer first expressed interest in AR in 2016 when he told analysts the platform could be huge . Cook promised Apple would make investments accordingly. Since then the Cupertino, Calif.-based company filed numerous patents, bought start-ups, hired new executives and launched ARKit , its AR software developer kit. The purchase of Camerai in 2019, and Next VR during 2020 added computer vision building blocks plus teams of dedicated developers. Bloomberg reported in Jan. 2021 that all of those investments could bear fruit as early as 2023, when Apple is set to release its first AR device. Updated reports in early September suggest three new Apple headsets will straddle both the augmented and virtual worlds. The first is a goggles-like device code-named Reality Pro that will feature two 4K micro-OLED displays with Apple microprocessors, 15 optical modules, Wi-Fi 6E connectivity, eye and object tracking, plus handheld gesture controls. MORE FOR YOU Cooper Flagg, Nation’s No. 1 Hoops Recruit, Closing In On College Decision Chinese Billionaire s Texas Company Owes Millions On Unpaid Bills The T 64 Ukraine s Most Important Tank Could Go Extinct In Three Or Four Years Gestures play a big part of the video that is making the rounds in social media . The video was made by a company called Varjo , and shows a user interacting with a digital version of the human anatomy. The data is superimposed over the physical world. It is rich at tactile. The experience is fully immersive. The headset wearer easily manipulates musculature, portions of the skeleton, organs, and even elements of the circulatory system. The video is viral because it shows how AR solves a problem: The Harvard Business Review notes that human reality is three-dimensional. We now have access to more information than at any time our history, yet most of it is trapped in a two-dimensional world of pages and screens. AR unlocks that information by making it 3D. Cook recognized the potential long ago. More importantly, he saw an opportunity to scale AR into a huge new business vertical for Apple. New iPhones and iPads now come equipped with state-of-the-art LiDar sensors. These light-detecting radar sensors can easily 3D map rooms, people and objects in space. Using software developed through corporate acquisitions, it’s a snap to ad AR digital information in real time. The rest of the integration is happening in Cupertino. Changes to the core operating system code allow AR content to be viewed on devices as old as the first-generation iPhone SE. For those not keeping track, that smartphone predates iPhone 6. There are some challenges, though.According to Bloomberg , the Reality Pro headset might cost as much as $3,000. There is also the pesky problem of ultimately convincing users to wear computers on their face. Apple product managers have never been shy about pricing company gear above the competition. The average selling price of iPhones far exceeds Androids, yet in 2021 the company shipped 228 million units. And the marketing team somehow convinced tens of millions of customers to buy AirPods. The original wireless white earbuds launched in 2016, and looked like a pair of golf tees dangling from the wearer’s ears. Three years later Dan Ives, an analyst at Wedbush estimated that Apple sold 60 million units, making AirPods a $12 billion business. AR has that kind of potential, only bigger. AR fundamentally changes the way people interact with digital media. There are big new opportunities in education, gaming, and general productivity. Also, the large ecosystem of iPhone and iPad users provides a convenient transition to headsets. At a price of $150.43, Apple shares trade at 23.3x forward earnings, and 6.3x sales. Technology stocks have had a rough time in 2022, and Apple is down 15% year-to-date. Given the AR opportunity, shares are definitely attractive over the longer-term. When the broad rebound in the market arrives, be sure to have Apple on your shopping list. Are you ready to take control of your financial future? Our Strategic Advantage newsletter provides the insights and guidance you need to succeed. Try it now for just $1! Check out my website . Jon Markman Editorial Standards Print Reprints & Permissions', 'pubDate': '2023-10-06 23:58:41', 'image_url': 'https://imageio.forbes.com/specials-images/imageserve/65209ea27c7925fdecdcb44d/0x0.jpg?width=960', 'source_id': 'forbes', 'source_priority': 57, 'country': ['united states of america'], 'category': ['business'], 'language': 'english'}, {'article_id': '1865be97fe0f96fa621389b98bed57a4', 'title': '10 Events In Texas For October’s ‘Ring Of Fire’ And April’s Total Solar Eclipse', 'link': 'https://www.forbes.com/sites/jamiecartereurope/2023/10/06/10-events-in-texas-for-octobers-ring-of-fire-and-aprils-total-solar-eclipse/', 'keywords': ['Science', '/science', 'Innovation', '/innovation', 'Science', '/science', 'Lifestyle', '/lifestyle', 'Travel', '/travel', 'science', 'science', 'standard'], 'creator': ['Jamie Carter', ' Senior Contributor'], 'video_url': None, 'description': \"On October 14 the path of the “ring of fire” solar eclipse will surge across Texas Hill Country. 177 days later a total solar eclipse will follow. Here's where to be.\", 'content': 'Forbes Innovation Science 10 Events In Texas For October’s ‘Ring Of Fire’ And April’s Total Solar Eclipse Jamie Carter Senior Contributor Opinions expressed by Forbes Contributors are their own. I inspire people to go stargazing and experience solar eclipses Following Oct 6, 2023, 07:15pm EDT | Press play to listen to this article! Got it! Share to Facebook Share to Twitter Share to Linkedin The paths of the annular and total solar eclipses on October 14 and April 8, respectively, cross in ... [+] Texas Hill Country. NASA\\'s Scientific Visualization Studio A “ring of fire” annular solar eclipse is coming to Texas and you don’t have much time left to make a plan . On October 14, 2023, the 125 miles wide path of the “ring of fire” solar eclipse will surge across the Lone Star state between 11:41 a.m. CDT and 12:00 p.m. CDT, according to GreatAmericanEclipse.com , with a long partial solar eclipse either side. Remote West Texas, San Antonio, Corpus Christi and Padre Island National Seashore will all see the “ring of fire,” but so will Texas Hill Country—and for this particular region of rolling hills and vineyards, it’s merely a warm-up. For just 177 days later something even rare and much more impactful will be seen from the likes of Kerrville, Bandera, Uvalde, Vanderpool, Junction and Rocksprings. On April 8, 2024—for the second time in under six months—these locations will see another partial solar eclipse, but at the event’s peak the sun will totally eclipsed. MORE FROM FORBES 8 Places To Watch The \\'Ring Of Fire\\' In San Antonio, Texas By Jamie Carter Celestial Good Luck Given that total solar eclipses occur about once every 400 years in any given place on Earth, this is celestial good luck of the highest order. Not only that, but this region is considered to have the best prospects of a clear sky of the entire path through the U.S. (though it also crosses Mexico, where the odds are higher again). For both eclipses, NASA will be live streaming from Kerrville. Statistically, Junction and Kerrville have the best prospects of a clear sky for both eclipses, according to eclipse meteorologist Jay Anderson at Eclipsophile.com . MORE FOR YOU Cooper Flagg, Nation’s No. 1 Hoops Recruit, Closing In On College Decision Chinese Billionaire s Texas Company Owes Millions On Unpaid Bills The T 64 Ukraine s Most Important Tank Could Go Extinct In Three Or Four Years Check out this interactive Google map showing both eclipse paths and you’ll see exactly what’s going on as the 120 miles wide paths of the two solar eclipses, on October 14 and April 8, respectively, cross to create 14,000 square miles of lucky country. About 25,000-50,000 visitors are expected around October 14 and over 100,000 around April 8, according to MySanAntonio . The paths of the two solar eclipses cross in Texas Hill Country. Michael Zeiler/GreatAmericanEclipse.com Here are 10 festivals and events in the crosshairs of the two eclipses, so being held twice—once for the “ring of fire” (considered something of a warm-up) and again in April for the total solar eclipse, America’s last until 2044: 1. Solar Eclipse Village, Uvalde “Ring of fire” on October 14: 11:49 a.m. CDT, 4 minutes 35 seconds Totality on April 8, 2024: 1:30 p.m. CDT, 4 minutes 26 seconds Bang on the centerline close to the Frio River in garner State Park, Solar Eclipse Village (October 14-16, free) is the place to head of you’re a science buff. A full program of lectures, activities and guided eclipse viewing, astrophotography sessions and a guided stargazing tour on the Saturday will be followed on Sunday by a preview of April 8’s total solar eclipse. Expect talks from eclipse experts including solar and astrophysicists, eclipse chasers, local weather experts, amateur astronomers, photographers, education providers and local planners. More information . 2. Kerrville River Festival “Ring of fire” on October 14: 11:50 a.m. CDT, 3 minutes 57 seconds Totality on April 8, 2024: 1:32 p.m. CDT, 4 minutes 23 seconds Held at Kerrville’s Louise Hays Park on the Guadalupe River is, this free event on October 14 will include a free kids zone, festival vendors, drinks, live music, with NASA in attendance to live stream the eclipse on a national broadcast. Camping is available at nearby Kerrville-Schreiner Park . Expect something similar on April 8. More information . 3. TexEclipse PreParty & TexEclipse Music Festival, Junction “Ring of fire” on October 14: 11:48 a.m. CDT, 4 minutes 15 seconds Totality on April 8, 2024: 1:32 p.m. CDT, 3 minutes 9 seconds Two solar eclipses in under six months will be visible from Junction in the Texas Hill Country, which will host the TexEclipse PreParty for the “ring of fire” and, come April 8, 2024, the bigger TexEclipse Music Festival. The chilli-themed TexEclipse PreParty on October 13-14, 2023 costs $20 per day and will feature a chilli cook-off, best salsa contest, best chilli pepper outfit contest a margarita mix-off. More information . 4. Welcome Home Festival 2023 & KerrEclipse 2024 Folk Festival, Medina “Ring of fire” on October 14: 11:50 a.m. CDT, 4 minutes 24 seconds Totality on April 8, 2024: 1:31 p.m. CDT, 4 minutes 23 seconds Each spring since 1972 the 18-day Kerrville Folk Festival has been staged at Quiet Valley Ranch at Medina near Kerrville. Next year it gets a very special headliner when a totally eclipsed sun makes a guest appearance. It’s being held on April 5-8 with Welcome Home Fest preceding it on October 12-15. More information . 5. Stonehenge II Eclipse Celebrations , Ingram “Ring of fire” on October 14: 11:50 a.m. CDT, 4 minutes 9 seconds Totality on April 8, 2024: 1:31 p.m. CDT, 4 minutes 25 seconds The original 5,000 years old Neolithic monument in Salisbury Plains, England won’t get see a major solar eclipse until June 10, 2393, but this concrete art project run by the Hill Country Arts Foundation in Ingram will get two in six months. Expect parking ($20 in October/$100 in April), some RV sites, food trucks, a beer tent and a performance in October by the New Buddy Holly Band. More information . 6. Eclipse UTOPiA, Utopia “Ring of fire” on October 14: 11:49 a.m. CDT, 4 minutes 49 seconds Totality on April 8, 2024: 1:30 p.m. CDT, 4 minutes 24 seconds The Four Sisters Ranch near Bandera, Texas is hosting the family-friendly Eclipse UTOPIA , a campout promising music and unparalleled views for a maximum of 1,500 guests. Return on April 8, 2024 to experience a total solar eclipse at the same location. 7. Bandera: DinoSolar Eclipse “Ring of fire” on October 14: 11:50 a.m. CDT, 4 minutes 34 seconds Totality on April 8, 2024: 1:31 p.m. CDT, 4 minutes 6 seconds The self-proclaimed “cowboy capital of the world,” Bandera’s Natural History Museum’s DinoSolar Eclipse on October 14 ($50 per car/truck) will include free crafts, t-shirts and dino tours, with an astronomer onsite for discussion and safe viewing via projections and a solar-filtered telescope. Venues across Bandera will host smaller events, including the 11th Street Cowboy Bar, Pipe Creek Roadhouse & Backyard, Pipe Creek Dance Hall, Bandera Brewery and Red Horse Saloon. April sees Bandera’s Mansfield Park Rodeo Arena host the Ground Zero Music Festival , which includes 20 bands, a full cowboy rodeo, stunt shows and a car and truck show. 8. Ring of Fire Eclipse Firewalk and Star Party, Tarpley “Ring of fire” on October 14: 11:50 a.m. CDT, 4 minutes 47 seconds Totality on April 8, 2024: 1:31 p.m. CDT, 4 minutes 15 seconds This scenic camping event at Luminous Heart Ranchette near Tarpley, Texas costs $293 for two nights (October 13-15). After the “ring of fire” a path of glowing embers will be prepared for a barefoot firewalk. More information . 9. Kickapoo Cavern State Park, Kickapoo “Ring of fire” on October 14: 11:49 a.m. CDT, 3 minutes 2 seconds Totality on April 8, 2024: 1:29 p.m. CDT, 3 minutes 46 seconds A park containing fourteen caves—though only one is open to the public–doesn’t at first glance seem like a great place to watch a solar eclipse. However, an organized viewing event on October 14 will take place not below ground, but at a bat deck where, suggests the website, observers may see some bats confused by the drop in light levels. The effect will be much more pronounced six months later. Passes for April’s event can be purchased up to 30 days in advance . 10. Creation Celebration, Medina “Ring of fire” on October 14: 11:50 a.m. CDT, 4 minutes 39 seconds Totality on April 8, 2024: 1:31 p.m. CDT, 4 minutes 19 seconds This festival featuring Christian music (October 13-15, with a similar event in April) will include speakers, worship sessions and food trucks. More information . The path of the \"ring of fire\" annular solar eclipse through the U.S Southwest on October 14, 2023. Michael Zeiler/GreatAmericanEclipse.com Where To See The ‘Ring Of Fire’ Solar Eclipse This annular solar eclipse must be viewed inside a narrow path across the surface of Earth that crosses Oregon, northern California, Nevada, Utah, northeastern Arizona, southwestern Colorado, New Mexico and Texas. After it leaves the U.S. it will be visible from Mexico’s Yucatan Peninsula, Belize, Honduras, Nicaragua, Panama, Colombia and Brazil. I’m an expert on eclipses—the editor of WhenIsTheNextEclipse.com and author of The Complete Guide To The Great North American Eclipse of April 8, 2024 . For the very latest on the “ring of fire” solar eclipse check my main feed for new articles each day. Wishing you clear skies and wide eyes. Follow me on Twitter or LinkedIn . Check out my website or some of my other work here . Jamie Carter Editorial Standards Print Reprints & Permissions', 'pubDate': '2023-10-06 23:15:00', 'image_url': 'https://imageio.forbes.com/specials-images/imageserve/651281dfb2d2499dcff0ea4e/0x0.png?width=960&precrop=640%2C300%2Cx312%2Cy351', 'source_id': 'forbes', 'source_priority': 57, 'country': ['united states of america'], 'category': ['business'], 'language': 'english'}, {'article_id': 'f072726a91498d0daebb267e8ed880d1', 'title': 'The Best Food Subscription Boxes That Are Perfect For The Gift-Giving Season', 'link': 'https://www.forbes.com/sites/forbes-personal-shopper/article/best-food-subscription-boxes/', 'keywords': ['Forbes Vetted', '/vetted', 'Forbes Vetted', '/vetted', 'Home', '/vetted/home', 'Kitchen & Dining', '/vetted/home/kitchen-dining', 'Shopping Recirc', 'shopping-recirc', 'shopping', 'shopping', 'finds'], 'creator': ['Margaret Eby', ' Contributor'], 'video_url': None, 'description': \"Whether you're a cheese lover, a tinned fish enthusiast or a serious tea drinker, there's a food subscription box made for you. Here are our top picks.\", 'content': 'We independently select all products and services. If you click through links we provide, we may earn a commission. Learn more Forbes Vetted The Best Food Subscription Boxes That Are Perfect For The Gift-Giving Season Margaret Eby Contributor Forbes Vetted Contributor Group Opinions expressed by Forbes Contributors are their own. Following Oct 6, 2023, 07:00pm EDT | Share to Facebook Share to Twitter Share to Linkedin The only thing more exciting than bringing in a package of items you ordered online is getting regular packages filled to the brim with all kinds of treats and snacks you’ve likely never tried. These days, you can find tons of top-tier food subscriptions that send thoughtfully curated culinary experiences straight to your door—there are boxes for big-time snackers, cheese lovers and tinned fish enthusiasts. And if you have someone in your life who loves to cook or simply eat, food subscription boxes make for memorable gifts (and yes, the recipient can be yourself). If you\\'re looking to up your snack game, Bokksu\\'s subscription box delivers 20-plus Japanese snacks, ... [+] teas and candies to your doorstep every month. Illustration: Forbes / Image: Retailers Does someone in your life have a big sweet tooth? You might consider subscription services for fruit or chocolate. Is your recipient a serious tea drinker? There’s a box for that, too. Ahead, here are nine of the best subscription boxes for foodies that are guaranteed to make their pantry a little bit fuller and their day infinitely brighter. Best Snack Subscription Box: Bokksu Snack Box Subscription Best Cheese Subscription Box: Murray’s Cheese Globetrotter’s Cheese Club Best Pasta Subscription Box: Sfoglini Pasta Of The Month Club Best Tinned Fish Subscription Box: Cratejoy Tinned Fish Club Best Fruit Subscription Box: Harry & David Fruit Of The Month Club Best Tea Subscription Box: Art Of Tea Tea Of The Month Subscription Best Butter Subscription Box: Banner Butter Grass-Fed Cultured Cream Butter Subscription Best Spice Subscription Box: Piquant Post Spice Subscription Box Best Chocolate Subscription Box: Compartes Gourmet Chocolate Of The Month Club MORE FROM FORBES VETTED Dyson Hair Straightener Deal: Take $100 Off The Corrale By Annie Davidson Watson Contributor The Best Massage Guns For At-Home Relief, Based On Extensive Testing By Cam Vigliotta Forbes Staff Best Snack Subscription Box A Box Full Of Japanese Snacks, Candies And More Bokksu Bokksu Snack Box Subscription Buy From Bokksu Subscription length: 1, 3 or 12 months Whether you regularly snack on Pocky and rice crackers or you’ve never tried a Japanese Kit Kat, this subscription box from Bokksu is guaranteed to up your snack game. Every month, Bokksu ships out a curated selection of 20 to 22 Japanese snacks, teas and candies, all made by small family-run businesses. In one box, you might get a matcha cake, a packet of handmade yuzu-sake candies and sesame mochi; in another, your box could include a Yokohama butter sandwich cookie, Genmaicha green tea and potato chips flavored with smoked pickled radish. Each box also includes a booklet that tells you a little about each treat, including its origin, flavor profile and whether it contains any common allergens. Best Cheese Subscription Box Hand-Selected Cheeses From NYC\\'s Premier Fromagerie Murray\\'s Murray\\'s Cheese Globetrotter\\'s Cheese Club Buy From Murray\\'s Cheese Subscription length: 3, 6 or 12 months If you have a drawer in your fridge dedicated solely to cheese, there’s a good chance you’re familiar with Murray’s Cheese, New York City’s premier fromagerie. For those who don’t have access to high-quality cheeses, Murray’s Cheese offers five subscriptions, including the Cheese Explorer’s Club and the Mac And Cheese Club . If you want to try some of the best cheeses from around the world, the Globetrotter’s Cheese Club is the best option: Every month, you get three half-pound pieces of cheese from an iconic cheesemaking region. And if you want to upgrade your subscription, you can also add on cheese paper bags, sea salt crackers and prosciutto to each delivery. Best Pasta Subscription Box Premium Pasta In Playful Shapes And Flavors Sfoglini Sfoglini Pasta Of The Month Club Buy From Sfoglini Subscription length: 6 or 12 months Sfoglini makes some of the highest quality dried pasta out there, thanks to their commitment to using premium organic semolina and grains grown on North American farms. (Also, their pasta shapes are fun.) When you belong to the New York-based brand’s Pasta Of The Month Club, every three months, you receive three boxes of semolina pasta and three boxes of \"specialty\" pasta (think limited-edition offerings), plus six recipes to spark inspiration in the kitchen. Whether you opt for the 6- or 12-month plan, you’re guaranteed to fall in love with the brand’s playful shapes and delicious flavors. Best Tinned Fish Subscription Box High-End Tins Of Spiced Sardines, Tuna Pate And More Cratejoy Cratejoy Tinned Fish Club Buy From Cratejoy Subscription length: 1, 3, 6 or 12 months If you’ve ever visited Portugal or you’re the kind of person who always keeps a few tins of high-quality anchovies and sardines in the pantry, you know that great tinned fish can rival the fresh stuff. To discover new kinds you can’t typically find in the average stateside grocery store, Cratejoy’s Tinned Fish Club ships you three tins of the good stuff every month—think smoked salmon in olive oil and sardines in tomato sauce. Alongside the tins, each box comes with a booklet of recipes and a few condiments that pair beautifully with the selections. If you can’t decide between the subscription lengths, consider the 3-month option: At $32.99 per box, it’s the club’s most popular. Best Fruit Subscription Box The Freshest Seasonal Fruits From A Beloved Brand Harry & David Harry & David Fruit Of The Month Club Buy From Harry & David Subscription length: 3, 6, 9 or 12 months You know your fruit bowl’s about to be overflowing when a Harry & David box shows up at your door. When you join the brand’s Fruit Of The Month Club, you’ll never go a day without the freshest seasonal fruits—think Bosc pears in January, Cara Cara oranges in March and honey mangoes in June. And for an added fee, you can upgrade your first box to include pairings like chocolates and cheeses. Best Tea Subscription Box Premium Leaves To Help You Explore The Vast World Of Tea Art of Tea Art Of Tea\\'s Tea Of The Month Subscription Buy From Art of Tea Subscription length: 3, 6 or 12 months The world of tea is vast, extending far beyond Earl Grey, Matcha and chamomile. To discover new favorites, consider Art Of Tea’s Tea Of The Month Subscription. Every month—for a duration of 3, 6 or 12 months—the brands ships you 2 to 4 ounces of seasonal tea (that’s enough for about 12 teabags) with offerings like Orchid Oolong and Caramelized Pear. What\\'s more, you can customize the program: If you have a favorite type of tea, you can receive exclusively classic teas, caffeine-free teas, single-origin teas or wellness-oriented teas, to name a few options. Best Butter Subscription Box A Full Year Of Rich Cultured Butter Food52 Banner Butter Grass-Fed Cultured Cream Butter Subscription Buy From Food52 Subscription length: 12 months Whether you’re spreading it over a fresh loaf of crusty bread or whipping up a velvety pasta sauce, butter makes everything better—just ask Julia Child (or your taste buds). If you want the best of the best, look no further than Banner Butter’s Grass-Fed Cultured Butter Subscription. Every three months, you receive four blocks of rich small-batch butter, including one salted butter, one sweet butter, one flavored with roasted garlic and one seasonal flavor like lavender or lemon-chive. Best Spice Subscription Box Fresh Spice Blends Paired With Delicious Recipes Piquant Post Piquant Post Spice Subscription Box Buy From Piquant Post Subscription length: 3, 6 or 12 months Spices are a vital part of a well-stocked kitchen, and there’s a seemingly endless number of blends to try. Piquant Post’s spice professionals do the heavy lifting by sending fresh spice blends like Japanese curry and orange cardamom to your door every month. Each curated shipment includes four blends from a specific country or region, plus four complementary recipe cards. Best Chocolate Subscription Box Beautiful Chocolate Bars With Innovative Flavors Compartes Chocolates Compartes Gourmet Chocolate Of The Month Club Buy From Compartes Subscription length: 3, 6 or 12 months Compartes doesn’t make your average chocolate bars. Instead, the popular Los Angeles-based brand is beloved for its unique flavors like strawberry shortcake and potato chip crisp. When you sign up for their Gourmet Chocolate of the Month Club (which has durations of 3, 6 and 12 months), you receive a monthly box filled with an assortment of the brand’s latest innovative flavors, all wrapped up in playful, beautiful packaging. Coupons Sears Link to Coupon Margaret Eby Editorial Standards Print Reprints & Permissions', 'pubDate': '2023-10-06 23:00:15', 'image_url': 'https://imageio.forbes.com/specials-images/imageserve/651f1553278814306f596dcc/0x0.jpg?width=960', 'source_id': 'forbes', 'source_priority': 57, 'country': ['united states of america'], 'category': ['business'], 'language': 'english'}, {'article_id': '6e92958936fc0560094de0f6279895c1', 'title': 'Geneva-Based Luxury Watch Brand Frédérique Constant Celebrates 35th Anniversary', 'link': 'https://www.forbes.com/sites/kyleroderick/2023/10/06/geneva-based-luxury-watch-brand-frdrique-constant-celebrates-35th-anniversary/', 'keywords': ['Watches & Jewelry', '/watches-jewelry', 'Lifestyle', '/lifestyle', 'Watches & Jewelry', '/watches-jewelry', 'lifestyle', 'kyleroderickblog', 'standard'], 'creator': ['Kyle Roderick', ' Contributor'], 'video_url': None, 'description': 'Swiss luxury watchmaker Frédérique Constant marks its 35th anniversary with a focus on its in-house Manufacture collection and its 31st in-house caliber.', 'content': 'Forbes Lifestyle Watches & Jewelry Geneva-Based Luxury Watch Brand Frédérique Constant Celebrates 35th Anniversary Kyle Roderick Contributor Opinions expressed by Forbes Contributors are their own. I cover upmarket jewelry, timepieces & ethical, sustainable jewelry. Following Oct 6, 2023, 06:56pm EDT | Press play to listen to this article! Got it! Share to Facebook Share to Twitter Share to Linkedin Frédérique Constant\\'s newest in-house caliber is also its 31st. The FC-735 lives within the Classic ... [+] Power Reserve Big Date. Frédérique Constant The intrepid Swiss watchmaker Frédérique Constant has spent 2023 marking its 35 th anniversary with festive events that celebrate the innovative watch brand’s luxurious, technically advanced; artistically pure philosophy and products. Indeed, Frédérique Constant has come a long way since its 1988 founding and the 1992 launch of its first six models. (Owned by Japan-based Citizen Group, the brand’s extensive collections for men and women include superb tourbillons, classic dress watches, retro tool watches and even smartwatches.) Along with appearing for the first time at Geneva’s 2023 Watches and Wonders event, Frédérique Constant hosted an anniversary blow-out in its home city of Geneva, during which suppliers, customers, retailers and members of the press partied heartily. Jeffrey Cohen, CEO of Citizen Watch America, Constant’s parent company, and Niels Eggerding, CEO of Frédérique Constant, took time out from their time-crunched schedules to explain the high points of the brand’s banner year. The Frederique Constant Classic Tourbillon Manufacture FC-980N3H6 retails for $15,695.00. Frédérique Constant “The Frédérique Constant 35th anniversary is being celebrated globally with a focus on our in-house Manufacture collection,” Cohen wrote in an email. “Frédérique Constant offers classic luxury Swiss-made timepieces at an accessible price and includes quartz, automatic and in-house movements.” Considering its relative youth, the firm boasts an impressive 31 in-house calibers. These embody a rich array of luxury materials, such as platinum, gold and meteorite, along with embellishments like Côtes de Genève and perlage . “Then there are its various complications, such as Worldtimer, perpetual calendar, tourbillon, flyback, moon phase and big date,” Cohen added. Whether consumers are looking for understated, classic elegance or want a major mechanical prestige timepiece, Frédérique Constant delivers a Swiss watch that meets diverse design aesthetics and technical preferences. The Classic Power Reserve Big Date Manufacture is an elegant, stainless steel timepiece that ... [+] measures 40mm in diameter, 12.19 in thickness, with a moon phase dial. Frédérique Constant In this special year, the brand is also presenting the debut of its 31st in-house caliber, the FC-735, which lives within the Classic Power Reserve Big Date. “We introduced four editions of this during Geneva Watches and Wonders,” Cohen explained. The Classic Power Reserve Big Date Manufacture is an elegant, stainless steel timepiece that measures 40mm in diameter, 12.19 in thickness, with a moon phase dial that injects celestial chic into the mix. Like all Frédérique Constant timepieces, it was created in the brand’s four-story, 34,444 square foot Geneva manufacture, which among other departments, includes movement component production, movement assembly, watch assembly, and quality control. MORE FOR YOU Cooper Flagg, Nation’s No. 1 Hoops Recruit, Closing In On College Decision Chinese Billionaire s Texas Company Owes Millions On Unpaid Bills The T 64 Ukraine s Most Important Tank Could Go Extinct In Three Or Four Years In the course of a Zoom interview, Frédérique Constant’s longtime CEO Niels Eggerding explained, “This is our first caliber that offers a big date, a moon phase and a power reserve indicator, for a total of 50 hours. The power reserve,” he continued, “is shown at 9 o’ clock by a slim, dedicated hand moving along an arc marked out at 0 to 50, ending in a red zone that warns when it’s time to wind the watch before it stops.” While the first two editions feature a platinum case and meteorite dial or a rose gold case and gray anthracite dial, they come in limited editions of 35 and 350 respectively. The two others, embodied in steel cases with blue or silver dials, form part of the brand’s standard collection. Frédérique Constant\\'s WorldTimer manufacture helps those with cosmopolitan business obligations by ... [+] keeping them in time with anywhere and everywhere. Aurélien Poncet/Frédérique Constant The three complications, time set function and winding mechanism are all adjusted via the crown at 3 o’ clock. Free of pushers, correctors or styluses, “The FC-735 movement is sophisticated, contemporary, ergonomic, and designed for everyday use,” Eggerding said. To this writer, it seems to encapsulate Frédérique Constant’s intriguing luxury philosophy: prestige, hyper-efficient yet chic watches can also be relatively affordable and hence worn with ease and enjoyment, by watch lovers on every continent. Jeffrey Cohen, CEO of Citizen Watch America, Frédérique Constant’s parent company. © Guillaume Gaudet/Frédérique Constant During its 35 th year, Frédérique Constant also unveiled a new and novel version of a timepiece that embodies the brand’s savoir-faire and philosophy: the Classic Tourbillon Manufacture. Developed and hand-assembled in-house at Constant’s 32,000 square foot Swiss facility, this tourbillon is available in a limited edition of 150 pieces and features three hands housed in a 39-millimeter, 18-karat rose gold case. “In this anniversary year,” Eggerding said, “we feel that the design and technical elements of the Classic Tourbillon Manufacture symbolize our evolution since the brand’s 1988 founding. Shortly after it debuted in 2008,” Eggerding recounted, “our FC-980 movement became one of Constant’s most internationally admired developments, and so we are using it now to power our new Classic Tourbillon Manufacture.” The cage of this highly collectible timepiece comprises 81 components, including a graceful hand passing above the tourbillon cage that counts the seconds. The cage is engraved with the individual serial number of the watch, as is the sapphire case back, which showcases the inner workings of the FC-980 caliber. Endowed with such traditional fine watchmaking elements as beveling, beading, circular graining, straight-grained flanks and mirror polishing, the movement has a 38-hour power reserve. “We are a young, dynamic brand and our team is a family that’s on a creative and technical adventure,” Eggerding said. Niels Eggerding, dynamic CEO of Frédérique Constant, credits his innovative, energetic andhighly ... [+] responsive team for the company\\'s success. Frédérique Constant Echoing the words of Frédérique Constant watchmaker Romain Valette, who is quoted on the brand’s website, Eggerding continued,“The art of watchmaking is our passion, innovation is our mission, and the tourbillon is one of the most beautiful interpretations.” Thanks to its skilled team, professional camaraderie and strong interest in innovation,” he added, “Frédérique Constant has become one of the top 25 Swiss watchmaking brands.” In fact, Constant was the first Swiss brand to produce a perpetual calendar watch priced under 10,000 euros. In 2015, it produced the first horological smartwatch, and in 2018, Frédérique Constant brought out the first perpetual calendar tourbillon priced under 20,000 euros. This year, the firm introduced the 39mm Classic Tourbillon at Watches and Wonders, with the steel case version retailing under $16,000. “Nothing else on the market comes close to this,” Cohen asserted. “We also have our top selling Highlife collection, with automatic timepieces under $2,000 that all come with a quick release bracelet and an additional strap to create a versatile look.” Frédérique Constant\\'s Classics Carrée Ladies timepiece embodies timeless elegance and 34 diamonds ... [+] for the appealing price of $2,795.00. Frédérique Constant What’s more, Cohen continued, Frédérique Constant’s Classics collection recently launched a COSC or chronometer (high precision watch) version of the Vintage Rally Healey Automatic. Priced at just under $2,000, this limited edition timepiece comes in a special set with a miniature replica of the Healey NOJ393. For those who may be wondering, COSC stands for “Controle Officielle Suisse des Chronomètres, the Official Swiss Chronometer Testing Institute. “COSC certification,” Cohen explained, “guarantees perfect isochronism over a given time and at given positions. In effect, this guarantees their ability to tell the time correctly, consistently and precisely, within the strict limits enforced by an ISO standard.” In addition to certifying the supreme precision and uniqueness of timekeeping instruments, the certified \"chronometer” title is a guarantee of superb horological quality and consummate savoir-faire throughout the production process. In the retail world, a COSC-certified chronometer possesses a third-party proof of superb value which distinguishes it from its competitors. While few chronometers are COSC-certified, all COSC-certified watches are indeed chronometers. Frédérique Constant\\'s Slimline Monolithic Manufacture delivers aesthetic purity, technical ... [+] virtuosity and ergonomic integrity. Frédérique Constant Also coinciding with Frédérique Constant’s 35 th anniversary, Citizen Watch America will be opening its first, multi-brand flagship store in New York City in December 2023. According to Cohen, “The store will be located at 605 Fifth Avenue, across from Rockefeller Center. As New York City is one of the world’s great cultural epicenters, it’s the ideal backdrop for Citizen Watch America’s first US-based, multi-brand flagship.” The 7000 square ft., three story boutique will feature dedicated spaces for Frédérique Constant, along with those for Citizen Watch America’s other brands, which are Citizen, Bulova, Accutron and Alpina. On the first two floors, customers will be able to choose from sport, style, and luxury collections offered by Citizen brands, including timepieces that are sold only at this store. The third level will feature a museum archive and dedicated areas for on-site programming, events and community experiences. Cohen noted that the timing is right for Frédérique Constant’s flagship opening because, “The brand is growing in the US and is attracting young collectors and watch enthusiasts looking for a high-quality timepiece with Swiss cachet that’s still relatively niche. We continue to see young consumers making significant investments in timepieces with entry level investments ranging from $1200 to $5000,” he wrote. “Automatics have particular resonance with younger consumers.” While each Frédérique Constant collection attracts a different kind of client, Eggerding added that, “Over the last three or four years, we’ve seen traditional buying patterns for men’s and women’s watches fade as gender identities have become freer; less rigidly defined. Constant’s market research has found that our small women’s watches with diamonds are increasingly being purchased by men,” he detailed, “and it’s also true that more women are self-purchasing Frédérique Constant men’s watches with large dials because these suit their identities, style preferences and budgets.” The Frédérique Constant Geneva Manufacture Frédérique Constant As Frédérique Constant gears up to end its 35 th anniversary year with the opening of Citizen America’s multi-brand flagship on Fifth Avenue, it seems likely that this bold, multi-level emporium will attract myriad people into the uniquely luxurious and precise time zone of Constant and its compatriots in the Citizen America group. Follow me on LinkedIn . Check out my website . Kyle Roderick Editorial Standards Print Reprints & Permissions', 'pubDate': '2023-10-06 22:56:40', 'image_url': 'https://imageio.forbes.com/specials-images/imageserve/652073f4dc6123aa37b6f4f6/0x0.jpg?width=960', 'source_id': 'forbes', 'source_priority': 57, 'country': ['united states of america'], 'category': ['business'], 'language': 'english'}, {'article_id': '7a555a8f4107eaa728be05c90b0d82f9', 'title': 'FTX: Should Sam Bankman-Fried Be Prosecuted For Credit Fraud?', 'link': 'https://www.forbes.com/sites/annrutledge/2023/10/06/ftx-should-sam-bankman-fried-be-prosecuted-for-credit-fraud/', 'keywords': ['Markets', '/markets', 'Money', '/money', 'Markets', '/markets', 'asia', 'standard'], 'creator': ['Ann Rutledge', ' Contributor'], 'video_url': None, 'description': 'FTX founder Sam Bankman-Fried is on trial this week for committing or conspiring to commit wire fraud, securities fraud and money laundering. What about credit fraud?', 'content': \"Forbes Money Markets FTX: Should Sam Bankman-Fried Be Prosecuted For Credit Fraud? Ann Rutledge Contributor Opinions expressed by Forbes Contributors are their own. I shed light on hidden credit intent. Following Oct 6, 2023, 06:49pm EDT | Press play to listen to this article! Got it! Share to Facebook Share to Twitter Share to Linkedin This week, FTX founder Sam Bankman-Fried is on trial for committing or conspiring to commit wire fraud, securities fraud and money laundering. The media is focused on the topics readers can all relate to— his immorality, or that of crypto; the sums of money involved; or the nature of the charges, which are not everyday words. The last point—charges—is closest to what this trial is really about. They are: wire fraud, a scam that reaps wrongful or criminal financial gain via the internet or old-fashioned telephone. Money laundering: disguising financial assets generated from criminal activity so they look legitimate. Securities fraud: the go-to theory for litigating financial misconduct, being easy to bring to court with big payoff potential, as Bloomberg’s Matt Levine has famously argued. NEW YORK, NEW YORK - JUNE 23: Sam Bankman-Fried speaks onstage during the first annual Moonlight ... [+] Gala benefitting CARE - Children With Special Needs - hosted by Michael Cayre, Roy Nachum and MegaMoon Museum at Casa Cipriani on June 23, 2022 in New York City. (Photo by Craig Barritt/Getty Images for CARE For Special Children ) Getty Images for CARE For Special Children But, dig deeper. Not one of these charges touches on the essential violation underlying all mega-crises of our day, from LTCM to the 2008 GFC, to now, FTX. Giving an illusion of solvency from a position of insolvency— FTX was first incubated in the crypto trading firm Berkeley-based Alameda Research, which Bankman-Fried set up in 2017 with Jane Street Capital colleagues. Alameda found early success buying low bitcoin prices and selling them high. When the bitcoin arbitrage strategy dried up (as all arbitrage does, at scale) Bankman-Fried and Zixiao Gary Wang established FTX in May 2019 as an offshore exchange for traders to buy, sell or take synthetic positions in a wide range of fiat and crypto currencies and nonfungible tokens (NFTs). Its revenue model was supposedly that of an exchange: FTX would generate earnings from trading, lending and interchange fees through the use of branded debit cards and making markets in NFTs. In July 2021, FTX raised USD 900 MM (later claimed USD 1.0 BN) from over 60 investors at an $18 BN valuation. Their pitch deck supported the narrative: MORE FOR YOU Cooper Flagg, Nation’s No. 1 Hoops Recruit, Closing In On College Decision Chinese Billionaire s Texas Company Owes Millions On Unpaid Bills The T 64 Ukraine s Most Important Tank Could Go Extinct In Three Or Four Years “ After years of using other exchanges, team realizes they could build a better exchange. FTX is launched. ” In October 2021, an FTX press release announced a Series B-1 round of USD 420 MM, and in January 2022, a Series C USD 400 MM round, at respective valuations of USD 25 and 32 BN. Claims of dramatic growth in the user base and trade volume boosted the valuations. Trading levels were now said to average USD 14 BN daily. Believers (participants in one or more rounds) in the narrative were Softbank, Sequoia Capital, Paradigm, Temasek, Tiger Global Management, Lightspeed Venture Partners, Ontario Teachers’ Pension Plan, Patriots owner Robert Kraft, hedge fund legend Paul Tudor Jones, and Coinbase Ventures, investment arm of the competitor crypto exchange founded in 2012. FTX also opened a USD 2 BN venture fund in early 2022. Within the year, FTX filed for bankruptcy in early November 2022. John J. Ray III, CEO appointed to the FTX bankrupt estate and former chair of Enron Creditors Recovery Corp., would go on to say how FTX suffered “a complete failure of corporate controls,” and that he had never seen anything as bad as FTX. Details of the balance sheet links between of Alameda Research and FTX are still coming to light, including a secret “ backdoor ” to withdraw FTX customer funds to fund Alameda’s USD 65 BN balance sheet hole. What is so interesting about fraud is always the surface narrative— Fraud can be arcane, dazzling, beguiling. This is the money-laundering part where criminality is repackaged into complex financial assets (CDOs or cryptocurrencies) designed to intimidate and confuse. Going viral is the wire-fraud part. Using your savings and mine is the securities fraud part. But the essential fraud is none of these. The essential fraud can be sussed out by asking two simple credit questions: Does the financial value proposition make sense? Are the enterprise operations sustainable? If the answers are “yes,” then the work gets much harder. Expertise in valuing FTX’s investments in gamification, visualization, databases and other investee firms; valuing exotic currencies held in custody for FTX customers; and assigning a credible present value to the future stream of bread-and-butter exchange revenues are all needed. But first, the answers to the simple financial and operational questions must both be “yes.” If the answer to either question is “no,” suspect fraud. Start with the financial valuation. A claim of USD 14 BN in daily trading supporting the high valuations is dubious. The New York Stock Exchange (NYSE) closing auction averages under USD 20 BN in trading volume. For FTX to approach 75% of the NYSE’s largest daily liquidity event is impressive. Is it believable? Reality check: the NYSE is 231 years old, has 2400 listings and its market cap is about USD 23 TN. Alternatively, one could back into the enterprise valuations by bootstrapping the trade fee data. Given 260 working days in a year, an average trading fee of 3.5 BP, an average trade size of $10 MM, and an estimated one trade a day, the earnout would be approximately 2 million years. Given an average trade size of $500 MM at the rate of one trade a minute, it would still take 27 years. Unfortunately, FTX did not live so long. An even simpler question is—with USD 14 BN in daily trading volumes, assuming an average 3.5 BP fee again, FTX should be throwing off about USD 50 MM a day in fees. Why raise more equity rounds at all when, in theory, funding equal to the Series B-1 and C amounts could be internally generated in under a month. To appraise operational sustainability, start with the business definition. What kind of exchange is FTX? I have a bit of an expert edge here having worked in and for exchanges, and having taught exchange mechanics to Chinese delegations in the ‘90s, but here is a shortcut. Ask, what kind of a research institute was Alameda? In the words of Bankman-Fried in 2021: “If you named your company ‘We Do Cryptocurrency Bitcoin BTC Arbitrage Multinational Stuff, no one’s going to give you a bank account.[…] But everyone wants a Research Institute. Given that Alameda is not a research institute, why would anyone believe FTX is an exchange? Exchange viability comes down to its credit and liquidity position— Exchanges are the quintessential structured finance vehicle, built to mitigate counterparty credit risk and give market participants liquid access to assets at transparent prices and low to negligible exposure to operating risk. All well-functioning exchanges have balance sheets with the following line items— · Assets : cash and equivalents (the largest bucket), financial assets, accounts receivable, investments in other enterprises, fixed assets and goodwill. · Liabilities : customer funds on deposit (the largest bucket), accounts payable, clearing member funds on account, leases, loans, share capital and equity attributable to shareholders. Viable exchanges are solvent with multiple levels of risk protection. Customer and shareholder money are the biggest liabilities, and they are protected by robust trust and custody arrangements. Exchanges require customers to cash-collateralize their accounts based on current levels of market and asset volatility, and to settle their accounts daily, to ensure that the exchange, clearinghouse, members and customers, always know the end-of-day net risk and value positions, and manage accordingly. FTX didn’t even have an accounting department or audited financial statements. Its assets and liabilities published on unofficial balance sheets were blatantly atypical. They showed an excess of self-generated cryptocurrencies (FTTs), which masked unauthorized loans from customers to the exchange. FTX did not provide legitimate custody services at all but engaged in self-dealing. There was no margining system: FTX simply closed out customer accounts when the value dried up and probably pirated the difference. Some of these details may have been nonpublic until before the bankruptcy filing, but a simple due diligence check before any of the financing rounds would have revealed that this “Exchange” was not only insolvent but operationally unsustainable. Time to rethink criminalizing insolvency? Juxtapose the FTX story with how “everyone knows” the world is drowning in debt. Global public debt was USD 92 Trillion in 2022. Few believe it can all be repaid because the money required to repay it lies outside the economics of the loans. We cannot call this securities fraud. Yet lending money without a visible means of repayment is clearly an abuse of the credit function. It’s as if we didn’t recognize credit risk when we see it. Which is probably true. Since the 1600s, natural persons have gone to jail for insolvency. Today we have serial organized criminal credit activity perpetrated by seemingly legitimate institutions that manufacture gains by masquerading as solvent operations to siphon off funds from unsuspecting clients—as much as possible for as long as possible. Charges like wire fraud, securities fraud and money laundering fail to address the criminal essence—the construction of vehicles that mimic financial and operational viability but lack essential safeguards. If we want the law to become more effective, it is essential to be able to prosecute credit fraud. From years of plaintiff-side expertise in structured finance litigations, I know intentionality in credit frauds is hard to prove—much harder than negligence. This is, I believe, not because they are in fact difficult to prove. Demonstrating insolvency is actually relatively easy. It is because the criminal intent behind false representations of credit strength has not been taken seriously. It should be. Maybe putting Sam Bankman-Fried on trial is a beginning. New York Post Sam Bankman-Fried ordered $65B 'secret backdoor line of credit,' lawyer says CB Insights Research In FTX's bankruptcy, here are the top 10 investment and M&A holdings creditors should be looking at - CB Insights Research Follow me on Twitter or LinkedIn . Check out my website . Ann Rutledge Editorial Standards Print Reprints & Permissions\", 'pubDate': '2023-10-06 22:49:46', 'image_url': 'https://imageio.forbes.com/specials-images/imageserve/65208ef39b031b8afd3e8887/0x0.jpg?width=960&precrop=1925%2C1083%2Cx0%2Cy95', 'source_id': 'forbes', 'source_priority': 57, 'country': ['united states of america'], 'category': ['business'], 'language': 'english'}, {'article_id': 'd32160111d50a32d509493a422d99a5c', 'title': 'The 46 Best Sales To Shop Over The Long Weekend', 'link': 'https://www.forbes.com/sites/forbes-personal-shopper/2023/10/06/columbus-day-sales/', 'keywords': ['Forbes Vetted', '/vetted', 'Forbes Vetted', '/vetted', 'Deals', '/vetted/deals', 'Big Sales', '/vetted/deals/big-sales', 'Shopping Recirc', 'shopping-recirc', 'shopping', 'shopping', 'finds'], 'creator': ['Jordan Thomas', ' Forbes Staff'], 'video_url': None, 'description': 'This three-day weekend is an opportunity to shop some seriously good sales on everything from furniture to fall fashion.', 'content': \"We independently select all products and services. If you click through links we provide, we may earn a commission. Learn more Forbes Vetted The 46 Best Sales To Shop Over The Long Weekend Jordan Thomas Forbes Staff Forbes Vetted Contributor Group Opinions expressed by Forbes Contributors are their own. Following Oct 6, 2023, 05:52pm EDT | Share to Facebook Share to Twitter Share to Linkedin With Indigenous Peoples’ Day right around the corner, many folks have a long weekend. And per usual, there are tons of great holiday weekend sales taking place. A lot of retailers have also launched early competitor sales ahead of October Prime Day. As a result, you can find some killer deals in just about every product category you can think of. Here are the best sales to shop this weekend whether you're looking to invest in a new mattress or ... [+] some fall clothes. Illustration: Forbes / Photos: Retailers We’ve sorted through all of the offers that are live so far and listed the best savings events to shop in every category. With steep discounts available at retailers like DreamCloud , Wayfair , Anthropologie and Ulta Beauty , the next few days are an excellent opportunity to check off some items on your shopping list. MORE FROM FORBES VETTED Dyson Hair Straightener Deal: Take $100 Off The Corrale By Annie Davidson Watson Contributor The Best Massage Guns For At-Home Relief, Based On Extensive Testing By Cam Vigliotta Forbes Staff The Best Long Weekend Sales: Mattresses Casper Casper Wave Hybrid Mattress (Queen) Buy From Casper Casper : During the retailer’s Everything Sale, you can save up to 50% sitewide. DreamCloud : If you’ve never shopped DreamCloud before, you can save 40% on your first mattress, including our pick for the best medium-firm mattress . Helix : Code FALL20 will take 20% all mattresses this weekend, including our favorite mattress for side sleepers . You’ll also get two free pillows bundled in for free. Nectar : Nectar makes our pick for the best mattress overall . Right now, new customers can take 33% off our pick and everything else on Nectar’s site. Leesa : Shop its Fall Back To Sleep Sale to save up to $700 on your mattress, plus get two free pillows. Avocado : Check out Avocado’s Organic Mattress Sale this weekend to save $800 on an organic model. Brooklyn Bedding : Now through October 9, save 25% sitewide for its Anniversary Sale. Awara : Take $400 off Awara’s eco-friendly mattresses for its Fall Sale. The Best Long Weekend Sales: Appliances Wayfair Bissell CrossWave All-in-One Multi-Surface Stick Vacuum Buy From Wayfair Wayfair : During the retailer’s current sale, you can save up to 70% on kitchen and home appliances, like the Bissell vacuum above. Amazon : Next week Amazon is hosting an October Prime Day event, but it’s already rolling out early deals over the weekend—including major savings on small appliances. Samsung : Save up to $1,700 on major appliances for your home during Samsung’s Fall Savings Event. Home Depot : Shop appliances bundles to save up to $2,000 or save up to 30% on laundry sets and refrigerators . Best Buy : Take up to $1,200 off select Samsung refrigerators this weekend at Best Buy. Lowe’s : Lowe’s is offering up to $800 off select kitchen appliances and laundry sets right now. Macy’s : Shop Macy’s Fab Fall Sale to save 25 to 60% across all categories, including kitchen appliances. The Best Long Weekend Sales: Home Anthropologie Anthropologie Waterfall Coupe Glasses (Set Of 4) Buy From Anthropologie Anthropologie : Fill your home with eclectic designs, from small pieces of décor to furniture, for up to 40% off this weekend. Wayfair : Save up to 70% at Wayfair all weekend long, like 50% off living room, kitchen and bedroom furniture. Lulu And Georgia : Celebrate Lulu & Georgia’s Anniversary Sale with 25% off chic pieces for your home. Cozy Earth : During its Fall Sale save up to 25% sitewide. That includes cozy bedding, soft pajamas and more. Target : Shop Target’s annual Circle Week event to save 20% on bedding, bath and other home goods. Burrow : Update your home with some new modular furniture at up to 60% off during Burrow’s Fall Sale. Buffy : Score up to 40% off its cult-favorite sheets, pillows, blankets and more. Arhaus : Save thousands on designer pieces for your home, inside and out, during Arhaus’ Fall Sale. The Best Long Weekend Sales: Fashion Tory Burch Tory Burch Perry Triple-Compartment Tote Buy From Tory Burch Tory Burch : For Tory Burch’s Fall Event, take 25% off orders of $200 or more and 30% off orders of $500 or more. Abercrombie : Shop select men’s and women’s styles for up to 25% off this weekend. Nordstrom : Now through October 10, save on women’s jackets for fall or check out Nordstrom’s sale section to save on hundreds of styles for men, women and kids. Shopbop : Save up to 70% on chic designer styles and accessories from Reformation, Theory and more. Madewell : Take 40% off fall essentials or use code EXTRA20 to take an additional 20% off sale styles during Madewell’s current sale. Hanna Andersson : Save 30% on cozy pjs for the holidays or 40% on Halloween costumes and pajama sets . Backcountry : Snag a 20% discount on one full-priced item and one sale item with code FALL20 when you sign up for Backcountry’s loyalty program. Lululemon : The activewear retailer’s “We Made Too Much” section is full of deals for up to 50% off. The Best Long Weekend Sales: Tech Amazon Echo Show 5 (3rd Gen) + Philips Hue Smart Color Bulb Buy From Amazon Amazon : Amazon’s October Prime Day is just around the corner, but it’s already rolling out major discounts on Amazon devices like e-readers , smart plugs and thermostats . Lenovo : Save up to 76% on laptops, monitors, servers and more with Doorbuster deals from Lenovo. Best Buy : Take up to 50% off popular tech, like Ring cameras , Amazon smart speakers , Samsung smart TVs and more. Walmart : Walmart’s Rollback section is full of great deals on everything from laptops and tablets to Apple Watches. Target : Save on Apple gear , Nintendo games and more during Target’s Circle Week event. If you have a Target RedCard, remember to use it to save an additional 5%. HP : Score an HP laptop and other computer peripherals for up to 69% off this weekend. Ecoflow : Take up to 58% off top portable power stations and solar generators during its Fall Into Savings event. Samsung : Now through October 8, save up to $1,300 on Samsung TVs, sound bars and more. The Best Long Weekend: Beauty SkinStore Grande Cosmetics LASH-MD Lash Enhancing Serum Buy From SkinStore Skinstore : Use code FRIENDS to save up to 25% on an array of cleansers, serums and moisturizers during Skinstore’s Friends And Family Sale. Ulta Beauty : Shop Ulta’s Gorgeous Hair Event to save up to 50% on select creams, conditioners and styling tools each day this weekend. Fenty : Today is your last day to save 20% on select skincare and beauty favorites from Fenty, like its Pro Filt’r Instant Retouch Setting Powder . Sephora : Sephora is also offering up to 50% off a variety of haircare products every day now through Sunday. Nordstrom : Shop deals on beauty products from top brands like NARS, Anastasia Beverly Hills and Bobbi Brown. Soko Glam : Shop Soko Glam’s K-beauty favorites to save up to 30%. Isdin : Check out its Fall Sale to save up to 20% on its popular sun care, body care and face care products. Coupons Bake Me a Wish Link to Coupon Send me a secure tip . Jordan Thomas Editorial Standards Print Reprints & Permissions\", 'pubDate': '2023-10-06 21:52:34', 'image_url': 'https://imageio.forbes.com/specials-images/imageserve/651f28a2ebb33e140bf15a62/0x0.jpg?width=960', 'source_id': 'forbes', 'source_priority': 57, 'country': ['united states of america'], 'category': ['business'], 'language': 'english'}, {'article_id': 'fbae5ee4f76720635dbff403dc3882d9', 'title': '49 Anniversary Gifts For Her That Will Stand The Test Of Time', 'link': 'https://www.forbes.com/sites/forbes-personal-shopper/article/anniversary-gifts-for-her/', 'keywords': ['Forbes Vetted', '/vetted', 'Forbes Vetted', '/vetted', 'shopping', 'shopping', 'finds'], 'creator': ['Samantha Simon', ' Contributor'], 'video_url': None, 'description': 'The best anniversary gifts for her will inspire memories and add a little sparkle to her life. Here are our top picks for 2023.', 'content': 'We independently select all products and services. If you click through links we provide, we may earn a commission. Learn more Forbes Vetted 49 Anniversary Gifts For Her That Will Stand The Test Of Time Samantha Simon Contributor Forbes Vetted Contributor Group Opinions expressed by Forbes Contributors are their own. Following Oct 6, 2023, 05:38pm EDT | Share to Facebook Share to Twitter Share to Linkedin No matter how long you and your partner have been a couple, every anniversary is a milestone worth celebrating. Sure, six months together might call for a level of romance (and presents) that’s different from, say, 50 years—but really, you just want to show your girlfriend, fiancée or wife how much you care. And finding the best anniversary gifts for her is a great place to start. Shop 49 unique anniversary gifts for her to show the woman in your life just how much she means to ... [+] you. ILLUSTRATION: FORBES / PHOTO: RETAILERS Shopping for the ultimate token of your love isn’t always easy, and it’s important to stay focused on who she is as a person as you browse. Think about all of her favorite things, from her go-to hobbies to her most-shopped brands. Would she appreciate a new piece of jewelry , or do you think she’d prefer perfume ? Has she been dropping hints about anything that she wants? Or, is there something that she needs and doesn’t even realize it yet? Your anniversary is an opportunity to give your significant other a thoughtful gift that she wouldn’t typically buy herself. So, whether you opt for something sweet but practical—new running shoes and insanely plush bath towels come to mind—or over-the-top luxe, like splurge-worthy pajamas , the right present is out there. You just have to find it, and as luck would have it, we’ve already rounded up some pretty great options for you. Here are 49 of the best anniversary gifts for her to get you started. Best Anniversary Gift For The True Romantic A Personalized Necklace That Spells Out Your Love MOST POPULAR Catbird Catbird The Smallest Love Letter Charm Buy From Catbird How charming is this Catbird charm? Made from 100% recycled gold, it’s designed to resemble the littlest love letter that’s sealed with a heart. Now for the truly special part: It can be personalized with an engraving of up to 10 characters, perfect for a brief—albeit heartfelt—message. (The charm is sold on its own, but you can add a chain for an additional cost.) Best Anniversary Gift For The Lover Of Luxury A Palm Beach-Inspired Silk Pajama Set Petite Plume Colony Hotel x Petite Plume Silk Women’s Pajamas Buy From Petite Plume There’s something inherently rich about silk sleepwear, and this Petite Plume pajama set designed in collaboration with Palm Beach’s legendary pink Colony Hotel is downright decadent. If you really want to go the extra mile, you might as well look into booking a Palm Beach getaway so she can put her chic new loungewear to use on site. Best Anniversary Gift For The Happy Hour Devotee An Unrivaled Spritz Glass For Summer Gatherings Maison Balzac Maison Balzac Le Spritz Glass Buy From SSENSE The only thing that can make a great cocktail even better? Stylish drinkware. And this handblown Maison Balzac glass is as fun as it gets, with a bright blue stem and a faux orange slice that will have all the neighbors jealous of each and every spritz she pours. Best Anniversary Gift For The Activity Lover A DIY Sushi Platter For A Fresh Take On Date Night Goldbelly Blue Ribbon Special Sushi DIY Kit Buy From Goldbelly Take your anniversary as an opportunity to do something different—like preparing a full-on at-home sushi feast together. This platter from Blue Ribbon comes with everything you need to whip up the rolls of your dreams (plus crispy rice, nigiri sushi and sashimi, to boot). All of the essentials are included, but there are additional add-ons if you feel more adventurous. Best Anniversary Gift For The Fitness Enthusiast A Pair Of Running Sneakers That Are Actually Pretty Hoka Hoka Bondi 8 Running Sneakers Buy From Hoka You’d be hard-pressed to go to the gym and not see at least a few pairs of Hokas—and for good reason. Not only do the popular sneakers go above and beyond in performance, but they also manage to look cool in a way that many running shoes just…don’t. The women’s Bondi 8 style is a cushioned dream, and the cheerful color combos are sure to brighten up her daily workouts. Best Anniversary Gift For The Fashion Plate A Dress That Will Liven Up Her Fall Wardrobe La Ligne La Ligne x Don’t Let Disco Disco Dress Buy From La Ligne This A-line midi is a collaboration between the go-to brand for chic essentials, La Ligne, and playful jewelry label Don’t Let Disco. Available in kelly green and black, each dress features vintage African brass beads along its subtle square neckline, as well as handmade ceramic beads—created by a women-owned business in the Ukraine—on its double straps. With a smocked back panel and in-seam pockets, this gift won’t just look good; it’ll also do good, with a portion of proceeds benefiting The Lower Eastside Girls Club. Best Anniversary Gift For The Long-Distance Love A Message Box That Lets You Connect From Afar Amazon Keith Haring Lovebox Messenger Color & Photo Buy From Amazon Star-crossed lovers, you’re in for a treat. Featuring artwork by the iconic Keith Haring, the bamboo Lovebox connects to WiFi so you can send messages and photos from anywhere in the world to your intended. As soon as the message comes through, the red wooden heart on the box will spin until she lifts its lid to view your message. Then, she can let you know that it was received by spinning the heart herself. Best Anniversary Gift For The One Who Exudes Quiet Luxury A Beautifully Crafted Bag That Will Always Be In Style Saks Fifth Avenue Bottega Veneta Casette Intrecciato Leather Shoulder Bag Buy From Saks Fifth Avenue If she embraced quiet luxury long before it had a name, this bag is exactly what her wardrobe needs. Bottega Veneta has given the trendy baguette silhouette its iconic woven leather treatment, and the result is a timeless style—available in chic neutrals as well as the label’s signature bright green—that she’ll reach for constantly. Best Anniversary Gift For The One Who Wears Her Heart On Her Sleeve A Bracelet That Will Do It For Her BaubleBar BaubleBar 18K Gold Heart Bracelet Buy From BaubleBar You don’t have to spend a lot to show your significant other how much you care—and this BaubleBar bracelet is proof. It’s simple and dainty, with an 18kt gold-plated sterling silver chain that boasts a small heart pendant covered in cubic zirconia stones. It’s a sweet addition to her jewelry box, and it’s one that she’ll treasure forever. Best Anniversary Gift For The Fragrance Collector A Fresh Floral Scent To Add To The Mix Jimmy Choo Jimmy Choo Rose Passion Perfume Buy From Jimmy Choo Inspired by the French Riviera, Jimmy Choo’s Rose Passion perfume just might be the next best thing to a glamorous getaway. With fresh notes of coconut water, frangipani flower, orchid and jasmine, the pretty-in-pink bottle of this elixir will go a long way. Best Anniversary Gift For The Footwear Fanatic A Pair Of Heels That Will Dazzle Her Loeffler Randall Loeffler Randall Penny Champagne Pleated Bow Heel Buy From Loeffler Randall You can—and should—toast to your anniversary with champagne. But there’s no harm in throwing a sparkly champagne-hued heel into the mix now, is there? This lamé Loeffler Randall sandal is as effortless as it is comfortable, and it will instantly jazz up any outfit. It’s a present that’s literally wrapped up in a bow. Best Anniversary Gift For The Lady Who Appreciates A Bouquet An Arrangement That Will Last Until Next Year’s Celebration Venus et Fleur Venus Et Fleur Sylvie Porcelain Vase Eternity Flower Arrangement Buy From Venus Et Fleur As nice as a fresh flower delivery can be, it’s a fleeting gift. Why not opt for a bouquet that lasts for over a year instead? Venus et Fleur’s Sylvie arrangement comes with a stunning mix of eternity flowers, including calla lilies, roses, hydrangeas and dianthus. Think of it as a symbol of your love that you can keep on display until next year’s anniversary, at the very least. Best Anniversary Gift For The Trendsetter A Pair Of The Season’s Coolest Sunglasses JENNY BIRD Jenny Bird The Round Sunglasses Buy From Jenny Bird When cool-girl jewelry brand Jenny Bird first branched out into eyewear, we knew it was going to be, well, cool. As expected, these minimalist round shades—with frames made from gold-plated recycled steel and copper tips—manage to look effortlessly stylish for any outdoor occasion. Best Anniversary Gift For Your Other Half A Quirky Tote That Reflects Your Relationship Boredwalk Boredwalk Made For Each Other Peanut Butter And Jelly Tote Bag By Ex-Boyfriend Buy From Boredwalk Featuring an adorable peanut butter and jelly duo who were clearly meant to be, this canvas tote says it all. For just $10, it’s an extremely endearing gift—plus, she could always use another cute bag. Best Anniversary Gift For The Lady Who Loves Words Of Affirmation A Trinket Tray That Spells Out Exactly How You Feel Neiman Marcus Mariposa I Love You Statement Tray Buy From Neiman Marcus If there’s one thing that’s certain, it’s that she could always use another trinket tray. This one from Mariposa is handcrafted from recycled aluminum and features those three little words that she loves to hear you say. An elegant catchall for her nightstand, it’ll serve as a great spot for her to stash the jewelry that you present her with on other occasions (wink, wink). Best Anniversary Gift For The Homebody An Ornate Candle To Liven Up Her Favorite Room Baobab Collection Baobab Collection Candle Tomorrowland Buy From Baobab Collection This Baobab candle is practically a work of art. With a nature-inspired print in shades of green, it looks as enchanting as its scent, which features notes of lily of the valley and pear. She’ll appreciate it as statement décor when she’s not busy lighting it for a relaxing night at home. Best Anniversary Gift For The Woman Who Appreciates A Personal Touch A Truly Unique Ring With Her Initial In Diamonds MATEO NEW YORK Mateo New York 14K Gold Diamond Initial Ring Buy From Goop Whether or not you’ve already given her the ring, this personalized sparkler by Mateo New York will rock her world. Handmade from solid 14kt yellow gold, it’s set with emerald-cut crystal quartz that features a “hidden” pavé diamond initial underneath. It’s the epitome of elegance. Best Anniversary Gift For The Wine Connoisseur A Bottle Of White Meant To Awaken The Senses The Prisoner Wine Company Blindfold Blanc De Noir White Wine Buy From The Prisoner Wine Company When giving a bottle of wine as a gift, the bottle itself has to be special. And Blindfold’s Blanc de Noir is one to remember. The light and zesty white-pressed pinot noir is housed in a bottle that lives up to its name, and there’s no denying that it’ll set your anniversary date night mood just right . Best Anniversary Gift For The Beauty Junkie A Silky Lipstick That Delivers Results In A Single Swipe PAT McGRATH LABS Pat McGrath Labs SatinAllure Lipstick Buy From Pat McGrath Labs If you’d prefer to stick to the basics instead of going over-the-top, a new lipstick is the way to go. This one from Pat McGrath Labs’ limited-edition Love Collection is an obvious choice, based on its name alone (and the gold bow-adorned packaging). Choose from 18 flattering shades like the scarlet red Crimson Ecstasy and the natural Nude Venus. Best Anniversary Gift For The Jet-Setter A Convenient Carry-On That Makes Travel A Breeze Béis Béis The Carry-On Roller Buy From Béis This Béis carry-on is a bestseller for a reason, and it’s a great choice if she travels frequently for work or pleasure. The monochromatic design is as chic as it gets, and its smooth-rolling wheels, trolley handle and roomy interior will give her something to smile about as she waits in line at airport security. Best Anniversary Gift For The Minimalist A Pair Of Simple Yet Sophisticated Gold Hoops Jennifer Fisher Jennifer Fisher Fine Walk Huggies Buy From Jennifer Fisher Jennifer Fisher’s hoops are iconic for a reason—and her fine jewelry makes the ultimate subtle style statement, in particular. This 14kt yellow gold pair of huggies has a polished finish and is super lightweight, so she can wear them all day (or night) long without being weighed down. Best Anniversary Gift For The Barbie To Your Ken A Pretty-In-Pink, Buttery-Soft Bodysuit Skims Skims Fits Everybody Lace Cami Bodysuit Buy From Skims Cute wardrobe staples are always a nice present, and Skims has some of the softest, most comfortable options out there. This super-soft bodysuit has romantic lace trim and comes in this very happy shade of bubblegum pink, as well as a regal purple and classic black. The cami and onesie versions are also worth another look. Best Anniversary Gift For The Glam Lover A Sleek Smart Mirror That Will Become Her New BFF simplehuman Simplehuman 5x Sensor Mirror Buy From Simplehuman Whether she recreates the GRWM videos that she sees on TikTok or sticks to her tried-and-true beauty regimen, Simplehuman’s smart mirror will change her routine for the better. For starters, it’ll light up automatically as soon as her face approaches, simulating natural sunlight so she’ll know that her makeup is flawless upon leaving the house. Additional touch-control brightness settings, five-time magnification and a single charge that delivers up to five weeks of LED goodness further seal the deal. Best Anniversary Gift For The Fan Of A Little Blue Box A Ring That Comes In One—And Packs A Sweet Message Tiffany & Co. Tiffany & Co. Paloma’s Graffiti Love Ring Buy From Tiffany & Co. Put your love where she can see it with this ring from Tiffany & Co. Featuring Paloma Picasso’s handwriting in 18kt yellow gold, the street art-inspired design will make her think of you every time she looks down at her hand. A sweet reminder that she’ll cherish from the moment she glimpses the robin’s egg hue of its packaging. Best Anniversary Gift For The Bath Enthusiast A Dreamy Set For Her Most Relaxing Soak Yet Goop Esker The Works Bundle Buy From Goop If taking a bath is her favorite way to unwind, this set will bring her ritual to a new height. Treat her to this luxe Esker kit that features a handy dry brush, sparkling bath salts, body wash and oil, plus a chic whitewashed bath board that will store all of the essentials while she finds her zen. It even has a mirror that flips up so she can apply her face masks in the tub. Best Anniversary Gift For The One Who Always Smells Amazing A Romantic Scent With An Even More Romantic Name Saks Fifth Avenue Kilian Can’t Stop Loving You Eau De Parfum Buy From Saks Fifth Avenue With a name like “Can’t Stop Loving You,” there’s just no way that this Kilian perfume won’t be an anniversary hit. A romantic scent with top notes of orange blossom flower—a symbol of eternal love, naturally—as well as heartier notes of honey, vanilla and oak moss, she’ll be over the moon for it (and so will you). Best Anniversary Gift For The One With A Sweet Tooth A Decadent Cake That Is As Good As It Looks Goldbelly Lady M \"Slice of the Best\" Crêpes Cake: Passion Collection Skip the standard store-bought cake and celebrate with one of Lady M’s incredible confections this year. An indulgent new take on the Japanese-French bakery’s beloved cake, the Amedei Chocolate Mille Crêpes features twenty handmade cocoa crêpes, layered with a pastry cream made from rich Italian chocolate. Topped off with chocolate shavings and chocolate ganache, it’s almost too pretty to eat. Best Anniversary Gift For The Wellness Devotee A Filtered Showerhead That Will Transform Her Daily Routine Jolie Skin Co. The Jolie Filtered Showerhead Buy From Jolie Skin Co. File this gift under both functional and glamorous. The Jolie filtered showerhead will change showers as she knows them for good, removing chlorine, heavy metals and contaminants to give her glowing skin and oh-so-soft hair. She’ll just feel better, and all you have to do is make the purchase—and, of course, install it. Best Anniversary Gift For The Stone Crab Lover A Ready-Made Feast From A Beloved Miami Landmark Goldbelly Joe\\'s Stone Crab Claws For Celebration Package Buy From Goldbelly Dinner for two, anyone? The legendary Miami Beach restaurant Joe’s Stone Crab has just joined Goldbelly, meaning that you can have a full-on feast delivered right to your door. The “Claws for Celebration” package includes your choice of stone crabs (medium, large or jumbo) alongside the landmark’s signature mustard sauce, plus all of the equipment you’ll need to enjoy them (cocktail forks, bibs, a mallet and a cracking board). It’s sure to thrill anyone who appreciates a good—no, great —shellfish moment. Best Anniversary Gift For The Home Chef A Stylish Set Of Monochrome Cookware Caraway Caraway x Tan France Monochrome Cookware Set Buy From Caraway If she likes cooking—and this is important, because you don’t want to gift something that reminds her of a chore—she’ll be blown away by Caraway’s latest cookware collection. Designed in collaboration with Queer Eye star Tan France, the limited-edition set offers a new monochromatic take on four of the brand’s key non-stick ceramic-coated pieces—a fry pan, saucepan, sauté pan and dutch oven—in shades of moss, blush and créme. Even better, each set comes with magnetic pan racks and a canvas lid holder for convenient storage. Best Anniversary Gift For The One Who Gives You Butterflies A Pair Of Unforgettable Diamond Earrings Eriness Jewelry Eriness Diamond Butterfly Studs Buy From Eriness Anything from Eriness will charm the jewelry lover in your life, but these 14kt gold butterfly-shaped pave diamond studs are especially sweet—and on-trend. Not only will they add some whimsy to her ear stack, they’ll have her queuing up “Butterflies” by Kacey Musgraves and thinking about you whenever she wears them. The brand’s sunshine-inspired butterfly necklace would also do the trick. Best Anniversary Gift For The One You’re Moving In With A Luxe Cooling Bedding Bundle Sijo Sijo AiryWeight Eucalyptus Move In Bundle Buy From Sijo If your partner runs warm, this cooling bedding bundle from Sijo will be a welcome gift (and if you’re the hot sleeper of the couple, she’ll still appreciate the fact that everyone can get a better night’s sleep). The set includes a comforter, duvet cover, sheets, two pillows and pillowcases—all made from sustainable eucalyptus fibers. It’s soft, lightweight, moisture-wicking and comes in a nice range of colors. Best Anniversary Gift For The One Who Always Sparkles A Subtle New Band To Add To Her Rotation Angara Angara Pavé Set Diamond Bar Ring Buy From Angara Even if you’ve already given her the diamond ring of her dreams, that doesn’t mean she wouldn’t like another stunning piece to complement it. Made from 14kt yellow gold, this sleek Angara ring features a simple bar design with pavé set diamonds and milgrain details. You can customize it to her liking, choosing from four levels of gemstone quality and three carat weights (if she’s not a yellow gold fan, it’s also available in four other metals). No matter which options you ultimately select, know that it’ll look great stacked alongside her other favorite bands. Best Anniversary Gift For The Fan Of All Things Designer A Robe That Will Have Her Lounging In Luxury Bloomingdale\\'s Versace I Heart Baroque Bath Robe Buy From Bloomingdale\\'s There’s no way she’ll wear this Versace bathrobe without feeling totally regal. Featuring a baroque print trim and the fashion house’s logo, she’ll be in glam mode as soon as she puts it on. There’s something undeniably luxe about the black option, but it’s worth noting that it also comes in shades of red, gold and white. No matter which color you choose, the best part is that it’s machine-washable—and for a Versace piece, that’s pretty hard to beat. Best Anniversary Gift For The Ultimate Barbie Girl A Set Of Dreamhouse-Worthy Sleep Essentials Saks Fifth Avenue Barefoot Dreams x Barbie Accessories Limited Edition Loungewear 4-Piece Set Buy From Saks Fifth Avenue If she can’t stop talking about the Barbie movie, why not indulge her with something she can wear around her very own dreamhouse? This set from Barefoot Dreams includes an eye mask, scrunchie and socks in the brand’s signature CozyChic fabric, plus an equally fuzzy pouch that’s bound to become her go-to toiletry bag. Best Anniversary Gift For The Yin To Your Yang A Precious Bracelet With A Symbolic Charm Sydney Evan Sydney Evan Gold & Enamel Yin Yang Heart On Lavender Amethyst Don’t let the trendy lavender shade of this Sydney Evan bracelet fool you—it’s a timeless piece that she’ll treasure forever. The amethyst beads are strung on an easy-to-wear, stretchy cord and the sole charm is a 14kt yellow gold yin yang heart that represents the balance between two opposites. It’s a pretty and thoughtful present for your other half. Best Anniversary Gift For The One Who Can Never Make Up Her Mind A Box That’s Overflowing With Purse-Size Perfumes Bloomingdale\\'s Bond No. 9 New York Grand Bon-Bon Gift Set Buy From Bloomingdale\\'s Hey, just because she likes having options doesn’t mean she’s indecisive. Either way, this Bond No. 9 fragrance set will have her feeling like a kid in a candy store. It’s filled with 30 of the brand’s best-selling, colorfully-wrapped scents in mini “bon bon” sizes that she can stash in her bag on the go. Best Anniversary Gift For The One Who\\'s Always Cold A Cardigan That Goes With Everything Minnie Rose Minnie Rose Cotton Cable Cardigan If she never leaves home without a sweater, treat her to a new one just in time for cooler days ahead. This 100% cotton cable-knit cardigan from Minnie Rose is perfect for layering, and with its unique distressed trim, it feels more casual than buttoned-up. This neutral camel will go with any outfit, but it’s available in a wide range of colors, too. Best Anniversary Gift For The Subtle Sophisticate A Simple Chain Necklace With One Charming Pearl Monica Vinader Monica Vinader Nura Round Pearl Fine Chain Necklace Buy From Monica Vinader Diamonds may be a girl’s best friend, but pearls are right behind them. This Monica Vinader necklace is the epitome of sophistication, with a beautiful freshwater pearl draped on a simple, classic chain. Made from 18kt gold vermeil, the durable metal looks and feels like solid gold; price-wise, it clocks in blissfully lower. Best Anniversary Gift For The One Who Deserves A Vacation A Luxurious Trip To A Top-Rated Mexican Resort Nizuc NIZUC Resort & Spa In Cancún Reserve At NIZUC Resort & Spa If she could use a relaxing getaway—and let’s be real, she does—book a trip to NIZUC Resort & Spa in Cancún, stat. Nestled in the secluded enclave of Punta NIZUC, the ultra-chic Mexican oasis is built on the ancient base of Mayan astronomers and once served as a presidential retreat. Celebrating an anniversary of its own this year—lucky number 10—the resort has everything you could possibly ask for: Stunning private beaches, luxe swimming pools and oceanfront suites and private villas that boast incredible views. The lush 29-acre property is also home to six gourmet restaurants but in between meals, you can indulge in a Mayan-inspired couples’ massage at the spa by ESPA and experience a rejuvenating hydrotherapy circuit before heading back to the sand. It’s the definition of paradise—and a gift for her and for you. Best Anniversary Gift For The Handbag Collector A Sleek And Versatile One With Interchangeable Straps KAAI KAAI Ikon Clutch Buy From KAAI When it comes to purses, the more options, the better. And this brilliant bag from KAAI is as versatile as they come. You don’t even have to choose between getting her a clutch, shoulder bag or crossbody— thanks to interchangeable straps, this style blissfully functions as all three. In this maple brown hue, the glossy croc-printed leather looks especially striking—but it would serve her equally well in any of the other available colors or finishes (there are ten versions total). Best Anniversary Gift For The Fan Of A Striking Scent A Bold Floral Fragrance That Will Become Her Go-To Bloomingdale\\'s Creed Carmina Eau De Parfum Buy From Bloomingdale\\'s It’s easy to see why Carmina, the newest women’s fragrance from Creed, has made a name for itself. The modern floral scent is downright captivating, with sweeter notes of black cherry and Rose de Mai blending with warm cashmere wood, seductive amber and smoldering musk. Whether you opt for the 1-ounce bottle or spring for 2.5, she’ll be spritzing away happily. Best Anniversary Gift For The Social Butterfly A Revolving Wardrobe For Her Many Events Nuuly Nuuly 1-Month Subscription Buy From Nuuly When it comes to gift-giving, a clothing rental subscription is an underrated option—but it’s actually a practical choice, and one that’s universally appreciated. The busy bee in your life will be thrilled to receive a one-month subscription to Nuuly, where she can choose six pieces from an online closet of more than 15,000 styles from over 300 cool girl-approved brands (Favorite Daughter even just launched an exclusive collab with the site). Nuuly handles the logistics (laundry, shipping labels), so all she has to do is wear her new outfits on repeat before sending them back after four weeks. Best Anniversary Gift For The Statement Maker A Simple Yet Glamorous Pair Of Sunglasses Oscar & Frank US Oscar x Frank Las Palmas Sunglasses Buy From Oscar x Frank She’ll feel like a million bucks in these extremely cool shades from Australian eyewear brand Oscar x Frank. With wide arms and 24kt gold details, the oversized glossy black frames make a cool retro statement without feeling like they’re trying too hard (plus, they flatter any face shape). It’s no wonder the label’s sunglasses have been worn by everyone from Justin and Hailey Bieber to Beyoncé. Best Anniversary Gift For Your Lucky Charm A Custom Necklace That Inspires Good Fortune Marlo Laz Marlo Laz Bespoke Lucky Charm Buy From Marlo Laz There’s something about Marlo Laz’s jewelry that feels worthy of an occasion—and this personalized charm is as special as they come. You can design the piece of her dreams from scratch, starting with the type of gold and center gemstone, right down to the language and color of the engraving that represents “good luck” (choose from French, Spanish or Italian in 10 shades of enamel, or opt for simple raised gold). Have the back engraved with a custom message or add a halo of diamonds for good measure. Best Anniversary Gift For The One Who Won\\'t Sacrifice Style For Comfort A Pair Of Incredibly Luxe Cashmere Joggers The White Company US The White Company Cashmere Cuffed Joggers Buy From The White Company These cashmere joggers are great for anyone who appreciates lounging around in style. The pale gray marl serves as the ultimate neutral, and the comfy elastic waistband and flattering ribbed cuffs make for the ultimate finishing touches. In fact, they’re so chic that we bet she’ll even end up wearing them outside of the house—perhaps with the matching hoodie , should you feel inclined to make it a set. Best Anniversary Gift For Your Mane Squeeze A Flat Iron That Will Style Her Hair In Under 10 Minutes Bio Ionic Bio Ionic 10X Styling Iron Buy From Bio Ionic Thanks to its time-saving technology, Bio Ionic’s revolutionary hair straightener is a gift for her and for you. The one-inch tool features sonic vibrating plates that are infused with a volcanic mineral complex and seal in moisture as they work, so her hair will actually be conditioned as she styles it wavy or straight. Best Anniversary Gift For The One Who Prefers Silver A Bracelet That Brings On The Shine Amazon Uno De 50 Bracelet Buy From Amazon Silver is staging a major comeback, and if she’s been partial to the metal all along, then this is her true moment to shine. She’ll do just that wearing this unique handmade bracelet from the Madrid-based brand Uno de 50. With two contrasting crystals—one white, one wine-hued—at each end of its open-cuff, exposed-spring design, it’ll add just the right amount of color to her jewelry box. Best Anniversary Gift For The Woman Who Loves A Style Staple A Personalized Jacket She’ll Wear On Repeat Sezane Sézane Will Jacket Buy From Sézane Sézane’s designs are known for being practical, effortless and incredibly chic. The brand’s Will jacket is no exception (the proof lies in the celebrity sightings, and everyone from Naomi Watts to Sofia Richie Grainge has stepped out wearing it in recent months). It’s available in assorted fabrics and colors, but if you choose one of the denim shades, you can have it embroidered with her initials or a personal message. MORE FROM FORBES VETTED The Best Food Subscription Boxes That Are Perfect For The Gift-Giving Season By Margaret Eby Contributor The 46 Best Sales To Shop Over The Long Weekend By Jordan Thomas Forbes Staff More Anniversary Gifts Guides To Shop: Best Gifts For Women Best 50th Anniversary Gifts Best Flower Delivery Services Best Luxury Gifts Best Anniversary Gifts For Him Coupons Personalization Mall Link to Coupon Check out my website . Samantha Simon Editorial Standards Print Reprints & Permissions', 'pubDate': '2023-10-06 21:38:06', 'image_url': 'https://imageio.forbes.com/specials-images/imageserve/65205fdbc18fe5e25ee3cb90/0x0.jpg?width=960&precrop=1600%2C900%2Cx0%2Cy0', 'source_id': 'forbes', 'source_priority': 57, 'country': ['united states of america'], 'category': ['business'], 'language': 'english'}, {'article_id': '7c7d772b6829f03f8daa7124e066560f', 'title': '5 Lost Formula Energy Stocks To Consider For The 4th Quarter', 'link': 'https://www.forbes.com/sites/gurufocus/2023/10/06/5-lost-formula-energy-stocks-to-consider-for-the-4th-quarter/', 'keywords': ['Investing', '/investing', 'Money', '/money', 'Investing', '/investing', 'investing', 'investing', 'standard'], 'creator': ['GuruFocus', ' Contributor'], 'video_url': None, 'description': \"Exxon Mobil, EOG, Diamondback Energy and others may offer good value based on Benjamin Graham's criteria.\", 'content': 'Forbes Money Investing 5 Lost Formula Energy Stocks To Consider For The 4th Quarter GuruFocus Contributor Opinions expressed by Forbes Contributors are their own. Following Oct 6, 2023, 05:16pm EDT | Press play to listen to this article! Got it! Share to Facebook Share to Twitter Share to Linkedin These companies may offer good value based on Benjamin Graham\\'s criteria Summary Exxon Mobil, EOG, Diamondback Energy FANG , Coterra Energy and EQT EQT qualified for the screener. While the energy sector is up again this year after a blowout 2022, oil prices fell further on Friday on the back of macroeconomic-related demand fears as well as the Russian government lifting part of its diesel export ban. Brent crude futures declined 0.56% to $83.60 on Friday. Futures for West Texas Intermediate crude retreated 0.67% to $81.76. Oil price trends year to date GuruFocus.com Due to these developments, investors may be interested in potential opportunities in energy companies that qualify for Benjamin Graham’s Lost Formula screen, a Premium GuruFocus feature. Prior to his death in 1976, the renowned investor and author of \"Security Analysis\" and \"The Intelligent Investor\" developed a refined formula that screened for companies with a price-earnings ratio of less than 10 and an equity-to-asset ratio of at least 0.5. The formula got its name from the fact he was unable to publish it before his passing; therefore, it was lost from public knowledge for a time. Since Graham also prioritized a minimum interest coverage of 5 with the companies he invested in, that element was included in the criteria as well. MORE FOR YOU Will Ozempic Users Really Buy Fewer Groceries? Major Food Stocks Drop After Walmart Exec’s Claim. Who Is Anthony Pratt The Australian Billionaire Trump Reportedly Told U S Nuclear Secrets Why Safe Haven Utilities Stocks Are Having Their Worst Year Since 2008 A backtest of the strategy from 1926 to 1976 showed it would have outperformed the Dow benchmark by approximately twice as much. The screener found health care companies that met the criteria as of Oct. 6 included Exxon Mobil Corp. ( XOM , Financial ), EOG Resources Inc. ( EOG , Financial ), Diamondback Energy Inc. ( FANG , Financial ), Coterra Energy Inc. ( CTRA , Financial ) and EQT Corp. ( EQT , Financial ). Exxon Mobil Exxon Mobil ( XOM , Financial ) has a $421.89 billion market cap; its shares were trading around $105.83 on Friday with a price-earnings ratio of 8.47, a price-book ratio of 2.13, a price-sales ratio of 1.20 and an equity-to-asset ratio of 0.55. Founded in 1999, the Irving, Texas-based company explores for, produces and refines oil and natural gas. It has operations around the world. The GF Value Line VALU suggests the stock is fairly valued currently based on its historical ratios, past financial performance and analysts’ future earnings estimates. Exxon Mobil\\'s GF Value Line GuruFocus.com At 82 out of 100, the GF Score indicates the company has good outperformance potential, driven by high ratings for profitability, financial strength, momentum and growth. The value rank, however, is low. Exxon Mobil\\'s GF Score GuruFocus.com Of the gurus invested in Exxon Mobil, First Eagle Investment ( Trades , Portfolio ) has the largest stake with 0.33% of its outstanding shares. Ken Fisher ( Trades , Portfolio ) and the T Rowe Price Equity Income Fund ( Trades , Portfolio ) also have notable holdings. EOG Resources EOG Resources ( EOG , Financial ) has a market cap of $69.85 billion; its shares traded around $119.97 on Friday with a price-earnings ratio of 8.08, a price-book ratio of 2.66, a price-sales ratio of 2.78 and an equity-to-asset ratio of 0.63. The oil and gas producer headquartered in Houston has operations in the Permian Basin of West Texas, along with the Eagle Ford and Bakken plays. According to the GF Value Line , the stock is fairly valued currently. EOG\\'s GF Value Line GuruFocus.com The company also has good outperformance potential with on a GF Score of 88, receiving high ratings for four of the criteria and a low value rank. EOG\\'s GF Score GuruFocus.com With a 0.57% stake, Bill Nygren ( Trades , Portfolio ) is EOG’s largest guru shareholder . The stock is also being held by PRIMECAP Management ( Trades , Portfolio ), Yacktman Asset Management ( Trades , Portfolio ) and T. Rowe Price, among others. Diamondback Energy Diamondback Energy ( FANG , Financial ) has a $26.90 billion market cap; its shares were trading around $150.42 on Friday with a price-earnings ratio of 7.81, a price-book ratio of 1.73, a price-sales ratio of 3.33 and an equity-to-asset ratio of 0.56. The Midland, Texas-based company, which was established in 2007, produces oil and gas products in the Permian Basin of West Texas. Based on the GF Value Line , the stock appears to be modestly overvalued currently. Diamondback Energy\\'s GF Value Line GuruFocus.com The GF Score of 74 implies the company is expected to have average performance going forward. Although the ratings for profitability, growth and momentum are high, it has moderate financial strength and a low value rank. Diamondback Energy\\'s GF Score GuruFocus.com Yacktman Asset Management ( Trades , Portfolio ) has the largest position in Diamondback with 0.81% of its outstanding shares. Other guru investors include Steven Cohen ( Trades , Portfolio ), Fisher, Arnold Van Den Berg ( Trades , Portfolio ), Ray Dalio ( Trades , Portfolio )’s Renaissance Technologies and Jefferies Group ( Trades , Portfolio ). Coterra Energy Coterra Energy CTRA ( CTRA , Financial ) has a market cap of $20.36 billion; its shares traded around $26.97 on Friday with a price-earnings ratio of 6.79, a price-book ratio of 1.61, a price-sales ratio of 2.75 and an equity-to-asset ratio of 0.64. The oil and gas producer headquartered in Houston has operations in the Permian and Anadarko Basins as well as the Marcellus Shale play. The GF Value Line suggests the stock is significantly undervalued currently. Coterra Energy\\'s GF Value Line GuruFocus.com Supported by solid ratings across the board, the GF Score of 93 means the company has high outperformance potential. Coterra Energy\\'s GF Score GuruFocus.com Holding a 0.66% stake, Jim Simons ( Trades , Portfolio )’ Renaissance Technologies has the largest stake in Coterra. Diamond Hill Capital ( Trades , Portfolio ), PRIMECAP and Cohen also have large positions in the stock. EQT EQT has a $17.63 billion market cap; its shares were trading around $42.82 on Friday with a price-earnings ratio of 4.82, a price-book ratio of 1.29, a price-sales ratio of 2 and an equity-to-asset ratio of 0.56. The Pittsburgh-based company produces natural gas and has pipeline transportation operations. According to the GF Value Line , the stock is significantly overvalued currently. EQT\\'s GF Value Line GuruFocus.com The GF Score of 70 indicates the company has poor performance potential. While it received high ratings for profitability and momentum, the growth and financial strength ranks are more moderate and value is low. EQT\\'s GF Score GuruFocus.com David Tepper ( Trades , Portfolio ) is EQT’s largest guru shareholder with a 0.57% stake. Simons’ firm, T. Rowe Price, Cohen, David Nierenberg ( Trades , Portfolio ) and several other gurus also own the stock. Other potential opportunities Additional stocks that made the screener included Marathon Oil MRO Corp. ( MRO , Financial ), Chesapeake Energy CHK Corp. ( CHK , Financial ), HF Sinclair DINO Corp. ( DINO , Financial ), Range Resources RRC Corp. ( RRC , Financial ) and Antero Resources AR Corp. ( AR AR , Financial ). Disclosures I/we have no positions in any stocks mentioned, and have no plans to buy any new positions in the stocks mentioned within the next 72 hours. Follow me on Twitter . GuruFocus Editorial Standards Print Reprints & Permissions', 'pubDate': '2023-10-06 21:16:48', 'image_url': 'https://imageio.forbes.com/specials-images/imageserve/65207921d68c5f865e25ee2c/0x0.jpg?width=960&precrop=3499%2C1967%2Cx0%2Cy91', 'source_id': 'forbes', 'source_priority': 57, 'country': ['united states of america'], 'category': ['business'], 'language': 'english'}], 'nextPage': '1696627008971772165'}\n"
          ]
        }
      ]
    },
    {
      "cell_type": "markdown",
      "source": [
        "##### latest news for domain"
      ],
      "metadata": {
        "id": "MNOrr1g7wpWz"
      }
    },
    {
      "cell_type": "markdown",
      "source": [
        "<details>\n",
        "  <summary>only for domain</summary>\n",
        "\n",
        "```json\n",
        "\n",
        "{\n",
        "    'status': 'success',\n",
        "    'totalResults': 55,\n",
        "    'results': [{\n",
        "            'article_id': 'f300e49c111c85f67f67177a9cb215da',\n",
        "            'title': \"Energy firms holding £8.1bn of customers' money\",\n",
        "            'link': 'https://www.bbc.co.uk/news/business-66992865?at_medium=RSS&at_campaign=KARANGA',\n",
        "            'keywords': None,\n",
        "            'creator': None,\n",
        "            'video_url': None,\n",
        "            'description': 'A father-of-three reveals that it took six weeks to have £800 refunded by his energy supplier.',\n",
        "            'content': 'Energy firms holding £8.1bn of customers\\' money Published 2 hours ago Share close panel Share page Copy link About sharing Image caption, Dan Malcolm said it took six weeks to get £800 refunded by his energy supplier By Dan Whitworth Money Box reporter, BBC Radio 4 Energy firms held a combined £8.1bn of customers\\' bill overpayments at the start of 2023, new Ofgem figures show. Many households pay a set monthly amount, building up credit in the summer to cover higher winter bills. Companies can hold onto those overpayments, but MP Angus MacNeil accused them of holding \"too much money\" and \"sitting on a nest egg\". Industry group Energy UK said direct debits were based on forecasts made when unit prices were volatile. Customers can request refunds, it added. The system is designed so customers have higher amounts of credit in September and October heading into the winter, but it should balance out close to zero in April and May heading into the summer. Energy regulator Ofgem said that \"customers have the right to request their balance back at any time and be refunded in a timely fashion\". But one customer, Dan Malcolm, told the BBC it took six weeks and hours spent on multiple phone calls to get just some of his money back. The father-of-three from Dunfermline unknowingly built up £1,100 of credit with his supplier in September 2022. \"It was £800 I wanted back and I thought that was fair and they made me jump through hoops to get it - it\\'s disgusting,\" he said. \"It was so, so frustrating. Energy companies saying, \\'it\\'s your money, you can get it back when you want\\' - it\\'s lies.\" \\'Customers\\' money\\' MP Angus MacNeil, who chairs Parliament\\'s energy security and net zero committee, said Mr Malcolm\\'s story was \"very concerning indeed\". \"Something is very wrong,\" he said. \"If this is writ large across consumers across the UK then energy companies have a tidy wee nest egg sitting there with customers\\' money.\" Energy companies holding on to people\\'s money can be a good thing, explained Ellen Fraser, an energy consultant and partner at management consultancy Baringa. \"You keep your payments flat in the summer when your actual bills are smaller and intentionally build up credit on your account,\" she said. \"You then spend that credit in the winter when your bills are bigger but you stay paying the same monthly amount which helps smooth out your bills, especially over Christmas which is an expensive time of year,\" she said. But she would expect a household\\'s credit balance to be at, or at least close to zero, around what the industry calls \"the end of usage season\" in April or May. Ofgem\\'s figure of £8.1bn in customers\\' accounts between January and March this year suggested people were \"either not aware of a large credit balance, or aren\\'t being successful in their requests for refunds\", said Ms Fraser. \"Neither position is good for customers nor acceptable from suppliers,\" she added. \\'Extremely uncertain\\' Energy UK, which represents firms, said suppliers were obliged to set direct debits that are, over a 12-month period, estimated to result in a balanced account. \"These forecasts are based on estimated usage and expectations of future prices. At the time [Q1 2023] prices were extremely uncertain and the level of government support was unknown,\" a statement said. Ofgem said in a statement: \"Earlier this year, we strengthened rules regarding direct debits, which should prevent excessive accumulation of consumer credit balances. Suppliers should be basing their direct debits on the most accurate available information.\" The watchdog was unable to tell the BBC how much of the £8.1bn held in credit was from households and how much was from businesses, although it said it expected the majority was from households. It said if customers were not happy with how they were treated by their energy supplier or the problem was not fixed in eight weeks, they could complain to the Energy Ombudsman . Energy is regulated differently in Northern Ireland where the Northern Ireland Authority for Utility Regulation ( NIAUR ), an independent public body, oversees the electricity, gas, and water and sewerage industries. How to claim back credit from your energy supplier First consider whether it will be difficult to pay your bills without keeping the credit on your account Contact your supplier and tell them how much credit you\\'d like them to refund you Make sure you have an up-to-date meter reading to give them If your supplier says they won\\'t give you a refund, they must explain their decision There is more information from Citizens Advice here If you want to share your experiences on this issue please email moneybox@bbc.co.uk You can listen back to Saturday\\'s programme to find out more by clicking here or follow Money Box or Dan Whitworth on X (formerly Twitter). Related Topics Money Ofgem Energy service companies More on this story What can I do if I can\\'t pay my energy bill? Published 27 September Five tips for cutting energy costs this winter Published 24 August',\n",
        "            'pubDate': '2023-10-07 03:05:58',\n",
        "            'image_url': None,\n",
        "            'source_id': 'bbc',\n",
        "            'source_priority': 103,\n",
        "            'country': ['united kingdom'],\n",
        "            'category': ['business'],\n",
        "            'language': 'english'\n",
        "        }, {\n",
        "            'article_id': '3062edbb54fcb7ca9d401ec2aece7fb8',\n",
        "            'title': 'Sonic Innovator Mija Releases ‘No Rules’ EP And Talks Her Genre-Bending Sound',\n",
        "            'link': 'https://www.forbes.com/sites/lisakocay/2023/10/06/sonic-innovator-mija-releases-no-rules-ep-and-talks-her-genre-bending-sound/',\n",
        "            'keywords': ['Arts', '/arts', 'Lifestyle', '/lifestyle', 'Arts', '/arts', 'lifestyle', 'Lifestyle', 'standard'],\n",
        "            'creator': ['Lisa Kocay', ' Contributor'],\n",
        "            'video_url': None,\n",
        "            'description': '“I feel like now, for the first time, I am actually honing in on my sound and figuring out what it sounds like instead of [making] a million random different things.\"',\n",
        "            'content': 'Forbes Lifestyle Arts Sonic Innovator Mija Releases ‘No Rules’ EP And Talks Her Genre-Bending Sound Lisa Kocay Contributor Opinions expressed by Forbes Contributors are their own. Writing about all things dance music, food and wine. Following Oct 6, 2023, 08:09pm EDT | Press play to listen to this article! Got it! Share to Facebook Share to Twitter Share to Linkedin Mija. Amber Giles When it comes to defining an artist’s sound, there isn’t one for Mija. Her catalog cannot be categorized as one style. Amber Giles, the brainchild of Mija, creates everything from dancefloor-ready tunes to bass-forward music, elated melodies, calming tempos, experimental beats, emotional rhythms and more. Today, October 6, the genre-defying tastemaker releases her NO RULES EP, further showcasing her versatile sonic capabilities. The four-track body of work boasts pounding, bouncy and deep basslines, samples from poets and drag queens, funky and swiveling synths, catchy toplines and a nod to ballroom culture—a late 20th-century underground queer subculture where people walk, compete, perform, dance, lip-sync and model in different categories. The producer, singer and songwriter says the title of the EP is based on her “fk a genre” ethos, which has given her the space to explore and release different styles of music throughout her illustrious career. “ I WANNA BE A BIG STAR (feat. Cakes Da Killa and Wreckno) ” pays homage to “Paris Is Burning,” a 1990 documentary that chronicles ballroom culture, as well as the African-American, Latino, gay and transgender communities involved in it. Giles says it is her favorite documentary of all time because she believes it “gives an incredible insight into dance music culture, how it started with disco and [the history of] ballroom’s New York City culture.” “I think that community deserves so much praise and respect for being some of the pioneers in the foundation of everything that we listen to and enjoy today,” the artist says. “I have a lot of drag queen friends, and I wanted to make a song for them that would amplify them and make them feel good.” MORE FOR YOU Cooper Flagg, Nation’s No. 1 Hoops Recruit, Closing In On College Decision Chinese Billionaire s Texas Company Owes Millions On Unpaid Bills The T 64 Ukraine s Most Important Tank Could Go Extinct In Three Or Four Years “[It’s] the most emotional song for me. It definitely makes me want to cry and rave at the same time,” she adds about “I WANNA BE A BIG STAR.” The sound designer says it’s important for dance music fans to know the roots of the scene’s culture, noting that “we stand on the shoulders of giants” but that narrative is “one of the parts that gets left out in a lot of the stories when people talk about the history.” She says the gay community is the one she resonates with the most, and she feels empowered by it. The EP’s “ A WOMAN COMES INTO THE ROOM ” features a ‘70s poem by American poet Alice Notley. Giles says she initially discovered the poem through a track by acid house duo Medicine 8, but she wasn’t able to find the record for 10 years. She recently unearthed it and decided she needed to do a “deep dive” into it. While it was difficult to locate Medicine 8, she eventually found one of its artists. He dug into his old record collection and found that Notley was the poet on the song. Giles found Notley and got her permission to use her sample. Impressively, No Rules was entirely funded by selling digital collectibles on web3 and by raising Ethereum—a truly innovative feat. The beatmaker, who is currently ranked No. 9 and was formerly rated No. 2 on the chart for top artists in web3, says she’s been selling NFTs for almost two years. Giles believes that web3 won’t be sustainable because many artists do not interact with the people buying their works, so she decided to “flip the script.” She did this by uploading her music to web3 the same way she would post her tracks on SoundCloud . In turn, she learned that there was an entire fan base on the technology side who would consistently buy her NFTs because they knew she was “going to come back” and release more. The multi-genre maestro connects daily with her NFT buyers through a telegram chat with about 150 people. This has allowed her to become close with her community and make friends with some of them. She even met bloody white and DEEGAN through mutual friends in the web3 space, and both artists are featured on the EP. Giles says they are “smaller” acts on NO RULES but there are also “legends” on it, such as Cakes Da Killa and Wreckno . Her web3 work has not only allowed her to make new connections but it has also proven to be profitable. Giles makes royalties on this secondary market, noting that it can be of big financial gain if one is consistent with it. She defines it as a “long-term game.” She has seen remarkable success through selling her NFTs as it has funded everything as far as marketing, recording feature costs, touring and more. The producer has the power to sell her NFTs and raise an abundance of Ethereum because she’s been an independent artist throughout the majority of her career, giving her the rights to retail her catalog. \"I started [raving] so young. I was like 15,\" Mija says. \"When I went to my first rave, I was a full ... [+] kandi kid. Phoenix was wild. We had a big, big underground rave scene.\" Dylan Villarreal The heavyweight champion of genre-less music says the biggest advantages of being an independent artist are putting out music whenever and with whoever she wants, not having middlemen in her release process, not having people trying to guide where her art goes and not having her albums scrapped. Giles believes music makers should have autonomy over their own creativity. However, she does see the benefits of working with labels, which she does with smaller projects. An example of this is when she released “ Groove ” on LP Giobbi\\'s Femme House imprint. The label provided her with a non-exclusive deal for the song, which was presented on the LP Giobbi x Insomniac Records Presents Femme House compilation . “I want to collaborate with other artists, with other labels and [with] communities,” Giles says. “I want to be able to do that, but I don\\'t ever want to do it exclusively. When you\\'re able to do a non-exclusive, it\\'s cool [because] we can work together in a few years if I want to remix this or do something.” Giles believes that her purpose in life is to “make people feel good, make people feel seen and make them feel like they can express themselves without being judged.” She tries to emulate this through her deejaying, noting that she feels in control of those spaces when performing. She adds that by giving off that energy in her sets, people reciprocate that vibe back and it fills the room. The genre-bending maven says her sound is less “curated or anticipated” as it’s based on different phases she has gone through in her life. Giles says it’s cyclical and that each time she returns to a style, she has more knowledge from when she previously produced it. This allows her to become better at making those tunes by evolving her sound design. Her “fk a genre” concept began when she was 23 years old because she wanted to learn as much as possible. This ideology has certainly empowered her to transcend stylistic borders throughout her growth as an artist. “What looks like I\\'m chaotic and doing all sorts of things at the same time…I kind of am,” Giles says. “I feel like now, for the first time, I am actually honing in on my sound and figuring out what it sounds like instead of [making] a million random different things. It is starting to feel more cohesive. So I\\'m not sure if it\\'s really intentional, but in the beginning, it was because I didn\\'t know what I wanted to do yet and I wasn\\'t sure where I stood.” Follow me on Twitter or LinkedIn . Check out my website . Lisa Kocay Editorial Standards Print Reprints & Permissions',\n",
        "            'pubDate': '2023-10-07 00:09:45',\n",
        "            'image_url': 'https://imageio.forbes.com/specials-images/imageserve/651ff05c926529d84a107d55/0x0.jpg?width=960',\n",
        "            'source_id': 'forbes',\n",
        "            'source_priority': 57,\n",
        "            'country': ['united states of america'],\n",
        "            'category': ['business'],\n",
        "            'language': 'english'\n",
        "        }, {\n",
        "            'article_id': '1bd50e23798463ee5867240e22a9fc35',\n",
        "            'title': 'Apple On Track To Lead On Smarter, Cooler Augmented Reality',\n",
        "            'link': 'https://www.forbes.com/sites/jonmarkman/2023/10/06/apple-on-track-to-lead-on-smarter-cooler-augmented-reality/',\n",
        "            'keywords': ['Investing', '/investing', 'Money', '/money', 'Investing', '/investing', 'Money', 'Investing', 'standard'],\n",
        "            'creator': ['Jon Markman', ' Contributor'],\n",
        "            'video_url': None,\n",
        "            'description': 'Augmented reality is finally ready for the mass market.',\n",
        "            'content': 'Forbes Money Investing Apple On Track To Lead On Smarter, Cooler Augmented Reality Jon Markman Contributor Opinions expressed by Forbes Contributors are their own. Analyzing tech stocks through the prism of cultural change. Following Oct 6, 2023, 07:58pm EDT | Press play to listen to this article! Got it! Share to Facebook Share to Twitter Share to Linkedin The logo of is seen on a screen next to an illustration of the stock market. is one of the biggest ... [+] companies in the world. (Photo by Alexander Pohl/NurPhoto via Getty Images) NurPhoto via Getty Images Augmented reality is finally ready for the mass market. New AR AR devices are coming soon that will change the way we learn, play and see the world. A viral video leaked last week shows the amazing potential of AR to bridge the gap between our physical world and the wealth of digital information now available. It’s the beginning of a gigantic new business segment. Investors should consider buying Apple AAPL shares for the long-term on big pullbacks. Tim Cook, chief executive officer first expressed interest in AR in 2016 when he told analysts the platform could be huge . Cook promised Apple would make investments accordingly. Since then the Cupertino, Calif.-based company filed numerous patents, bought start-ups, hired new executives and launched ARKit , its AR software developer kit. The purchase of Camerai in 2019, and Next VR during 2020 added computer vision building blocks plus teams of dedicated developers. Bloomberg reported in Jan. 2021 that all of those investments could bear fruit as early as 2023, when Apple is set to release its first AR device. Updated reports in early September suggest three new Apple headsets will straddle both the augmented and virtual worlds. The first is a goggles-like device code-named Reality Pro that will feature two 4K micro-OLED displays with Apple microprocessors, 15 optical modules, Wi-Fi 6E connectivity, eye and object tracking, plus handheld gesture controls. MORE FOR YOU Cooper Flagg, Nation’s No. 1 Hoops Recruit, Closing In On College Decision Chinese Billionaire s Texas Company Owes Millions On Unpaid Bills The T 64 Ukraine s Most Important Tank Could Go Extinct In Three Or Four Years Gestures play a big part of the video that is making the rounds in social media . The video was made by a company called Varjo , and shows a user interacting with a digital version of the human anatomy. The data is superimposed over the physical world. It is rich at tactile. The experience is fully immersive. The headset wearer easily manipulates musculature, portions of the skeleton, organs, and even elements of the circulatory system. The video is viral because it shows how AR solves a problem: The Harvard Business Review notes that human reality is three-dimensional. We now have access to more information than at any time our history, yet most of it is trapped in a two-dimensional world of pages and screens. AR unlocks that information by making it 3D. Cook recognized the potential long ago. More importantly, he saw an opportunity to scale AR into a huge new business vertical for Apple. New iPhones and iPads now come equipped with state-of-the-art LiDar sensors. These light-detecting radar sensors can easily 3D map rooms, people and objects in space. Using software developed through corporate acquisitions, it’s a snap to ad AR digital information in real time. The rest of the integration is happening in Cupertino. Changes to the core operating system code allow AR content to be viewed on devices as old as the first-generation iPhone SE. For those not keeping track, that smartphone predates iPhone 6. There are some challenges, though.According to Bloomberg , the Reality Pro headset might cost as much as $3,000. There is also the pesky problem of ultimately convincing users to wear computers on their face. Apple product managers have never been shy about pricing company gear above the competition. The average selling price of iPhones far exceeds Androids, yet in 2021 the company shipped 228 million units. And the marketing team somehow convinced tens of millions of customers to buy AirPods. The original wireless white earbuds launched in 2016, and looked like a pair of golf tees dangling from the wearer’s ears. Three years later Dan Ives, an analyst at Wedbush estimated that Apple sold 60 million units, making AirPods a $12 billion business. AR has that kind of potential, only bigger. AR fundamentally changes the way people interact with digital media. There are big new opportunities in education, gaming, and general productivity. Also, the large ecosystem of iPhone and iPad users provides a convenient transition to headsets. At a price of $150.43, Apple shares trade at 23.3x forward earnings, and 6.3x sales. Technology stocks have had a rough time in 2022, and Apple is down 15% year-to-date. Given the AR opportunity, shares are definitely attractive over the longer-term. When the broad rebound in the market arrives, be sure to have Apple on your shopping list. Are you ready to take control of your financial future? Our Strategic Advantage newsletter provides the insights and guidance you need to succeed. Try it now for just $1! Check out my website . Jon Markman Editorial Standards Print Reprints & Permissions',\n",
        "            'pubDate': '2023-10-06 23:58:41',\n",
        "            'image_url': 'https://imageio.forbes.com/specials-images/imageserve/65209ea27c7925fdecdcb44d/0x0.jpg?width=960',\n",
        "            'source_id': 'forbes',\n",
        "            'source_priority': 57,\n",
        "            'country': ['united states of america'],\n",
        "            'category': ['business'],\n",
        "            'language': 'english'\n",
        "        }, {\n",
        "            'article_id': '1865be97fe0f96fa621389b98bed57a4',\n",
        "            'title': '10 Events In Texas For October’s ‘Ring Of Fire’ And April’s Total Solar Eclipse',\n",
        "            'link': 'https://www.forbes.com/sites/jamiecartereurope/2023/10/06/10-events-in-texas-for-octobers-ring-of-fire-and-aprils-total-solar-eclipse/',\n",
        "            'keywords': ['Science', '/science', 'Innovation', '/innovation', 'Science', '/science', 'Lifestyle', '/lifestyle', 'Travel', '/travel', 'science', 'science', 'standard'],\n",
        "            'creator': ['Jamie Carter', ' Senior Contributor'],\n",
        "            'video_url': None,\n",
        "            'description': \"On October 14 the path of the “ring of fire” solar eclipse will surge across Texas Hill Country. 177 days later a total solar eclipse will follow. Here's where to be.\",\n",
        "            'content': 'Forbes Innovation Science 10 Events In Texas For October’s ‘Ring Of Fire’ And April’s Total Solar Eclipse Jamie Carter Senior Contributor Opinions expressed by Forbes Contributors are their own. I inspire people to go stargazing and experience solar eclipses Following Oct 6, 2023, 07:15pm EDT | Press play to listen to this article! Got it! Share to Facebook Share to Twitter Share to Linkedin The paths of the annular and total solar eclipses on October 14 and April 8, respectively, cross in ... [+] Texas Hill Country. NASA\\'s Scientific Visualization Studio A “ring of fire” annular solar eclipse is coming to Texas and you don’t have much time left to make a plan . On October 14, 2023, the 125 miles wide path of the “ring of fire” solar eclipse will surge across the Lone Star state between 11:41 a.m. CDT and 12:00 p.m. CDT, according to GreatAmericanEclipse.com , with a long partial solar eclipse either side. Remote West Texas, San Antonio, Corpus Christi and Padre Island National Seashore will all see the “ring of fire,” but so will Texas Hill Country—and for this particular region of rolling hills and vineyards, it’s merely a warm-up. For just 177 days later something even rare and much more impactful will be seen from the likes of Kerrville, Bandera, Uvalde, Vanderpool, Junction and Rocksprings. On April 8, 2024—for the second time in under six months—these locations will see another partial solar eclipse, but at the event’s peak the sun will totally eclipsed. MORE FROM FORBES 8 Places To Watch The \\'Ring Of Fire\\' In San Antonio, Texas By Jamie Carter Celestial Good Luck Given that total solar eclipses occur about once every 400 years in any given place on Earth, this is celestial good luck of the highest order. Not only that, but this region is considered to have the best prospects of a clear sky of the entire path through the U.S. (though it also crosses Mexico, where the odds are higher again). For both eclipses, NASA will be live streaming from Kerrville. Statistically, Junction and Kerrville have the best prospects of a clear sky for both eclipses, according to eclipse meteorologist Jay Anderson at Eclipsophile.com . MORE FOR YOU Cooper Flagg, Nation’s No. 1 Hoops Recruit, Closing In On College Decision Chinese Billionaire s Texas Company Owes Millions On Unpaid Bills The T 64 Ukraine s Most Important Tank Could Go Extinct In Three Or Four Years Check out this interactive Google map showing both eclipse paths and you’ll see exactly what’s going on as the 120 miles wide paths of the two solar eclipses, on October 14 and April 8, respectively, cross to create 14,000 square miles of lucky country. About 25,000-50,000 visitors are expected around October 14 and over 100,000 around April 8, according to MySanAntonio . The paths of the two solar eclipses cross in Texas Hill Country. Michael Zeiler/GreatAmericanEclipse.com Here are 10 festivals and events in the crosshairs of the two eclipses, so being held twice—once for the “ring of fire” (considered something of a warm-up) and again in April for the total solar eclipse, America’s last until 2044: 1. Solar Eclipse Village, Uvalde “Ring of fire” on October 14: 11:49 a.m. CDT, 4 minutes 35 seconds Totality on April 8, 2024: 1:30 p.m. CDT, 4 minutes 26 seconds Bang on the centerline close to the Frio River in garner State Park, Solar Eclipse Village (October 14-16, free) is the place to head of you’re a science buff. A full program of lectures, activities and guided eclipse viewing, astrophotography sessions and a guided stargazing tour on the Saturday will be followed on Sunday by a preview of April 8’s total solar eclipse. Expect talks from eclipse experts including solar and astrophysicists, eclipse chasers, local weather experts, amateur astronomers, photographers, education providers and local planners. More information . 2. Kerrville River Festival “Ring of fire” on October 14: 11:50 a.m. CDT, 3 minutes 57 seconds Totality on April 8, 2024: 1:32 p.m. CDT, 4 minutes 23 seconds Held at Kerrville’s Louise Hays Park on the Guadalupe River is, this free event on October 14 will include a free kids zone, festival vendors, drinks, live music, with NASA in attendance to live stream the eclipse on a national broadcast. Camping is available at nearby Kerrville-Schreiner Park . Expect something similar on April 8. More information . 3. TexEclipse PreParty & TexEclipse Music Festival, Junction “Ring of fire” on October 14: 11:48 a.m. CDT, 4 minutes 15 seconds Totality on April 8, 2024: 1:32 p.m. CDT, 3 minutes 9 seconds Two solar eclipses in under six months will be visible from Junction in the Texas Hill Country, which will host the TexEclipse PreParty for the “ring of fire” and, come April 8, 2024, the bigger TexEclipse Music Festival. The chilli-themed TexEclipse PreParty on October 13-14, 2023 costs $20 per day and will feature a chilli cook-off, best salsa contest, best chilli pepper outfit contest a margarita mix-off. More information . 4. Welcome Home Festival 2023 & KerrEclipse 2024 Folk Festival, Medina “Ring of fire” on October 14: 11:50 a.m. CDT, 4 minutes 24 seconds Totality on April 8, 2024: 1:31 p.m. CDT, 4 minutes 23 seconds Each spring since 1972 the 18-day Kerrville Folk Festival has been staged at Quiet Valley Ranch at Medina near Kerrville. Next year it gets a very special headliner when a totally eclipsed sun makes a guest appearance. It’s being held on April 5-8 with Welcome Home Fest preceding it on October 12-15. More information . 5. Stonehenge II Eclipse Celebrations , Ingram “Ring of fire” on October 14: 11:50 a.m. CDT, 4 minutes 9 seconds Totality on April 8, 2024: 1:31 p.m. CDT, 4 minutes 25 seconds The original 5,000 years old Neolithic monument in Salisbury Plains, England won’t get see a major solar eclipse until June 10, 2393, but this concrete art project run by the Hill Country Arts Foundation in Ingram will get two in six months. Expect parking ($20 in October/$100 in April), some RV sites, food trucks, a beer tent and a performance in October by the New Buddy Holly Band. More information . 6. Eclipse UTOPiA, Utopia “Ring of fire” on October 14: 11:49 a.m. CDT, 4 minutes 49 seconds Totality on April 8, 2024: 1:30 p.m. CDT, 4 minutes 24 seconds The Four Sisters Ranch near Bandera, Texas is hosting the family-friendly Eclipse UTOPIA , a campout promising music and unparalleled views for a maximum of 1,500 guests. Return on April 8, 2024 to experience a total solar eclipse at the same location. 7. Bandera: DinoSolar Eclipse “Ring of fire” on October 14: 11:50 a.m. CDT, 4 minutes 34 seconds Totality on April 8, 2024: 1:31 p.m. CDT, 4 minutes 6 seconds The self-proclaimed “cowboy capital of the world,” Bandera’s Natural History Museum’s DinoSolar Eclipse on October 14 ($50 per car/truck) will include free crafts, t-shirts and dino tours, with an astronomer onsite for discussion and safe viewing via projections and a solar-filtered telescope. Venues across Bandera will host smaller events, including the 11th Street Cowboy Bar, Pipe Creek Roadhouse & Backyard, Pipe Creek Dance Hall, Bandera Brewery and Red Horse Saloon. April sees Bandera’s Mansfield Park Rodeo Arena host the Ground Zero Music Festival , which includes 20 bands, a full cowboy rodeo, stunt shows and a car and truck show. 8. Ring of Fire Eclipse Firewalk and Star Party, Tarpley “Ring of fire” on October 14: 11:50 a.m. CDT, 4 minutes 47 seconds Totality on April 8, 2024: 1:31 p.m. CDT, 4 minutes 15 seconds This scenic camping event at Luminous Heart Ranchette near Tarpley, Texas costs $293 for two nights (October 13-15). After the “ring of fire” a path of glowing embers will be prepared for a barefoot firewalk. More information . 9. Kickapoo Cavern State Park, Kickapoo “Ring of fire” on October 14: 11:49 a.m. CDT, 3 minutes 2 seconds Totality on April 8, 2024: 1:29 p.m. CDT, 3 minutes 46 seconds A park containing fourteen caves—though only one is open to the public–doesn’t at first glance seem like a great place to watch a solar eclipse. However, an organized viewing event on October 14 will take place not below ground, but at a bat deck where, suggests the website, observers may see some bats confused by the drop in light levels. The effect will be much more pronounced six months later. Passes for April’s event can be purchased up to 30 days in advance . 10. Creation Celebration, Medina “Ring of fire” on October 14: 11:50 a.m. CDT, 4 minutes 39 seconds Totality on April 8, 2024: 1:31 p.m. CDT, 4 minutes 19 seconds This festival featuring Christian music (October 13-15, with a similar event in April) will include speakers, worship sessions and food trucks. More information . The path of the \"ring of fire\" annular solar eclipse through the U.S Southwest on October 14, 2023. Michael Zeiler/GreatAmericanEclipse.com Where To See The ‘Ring Of Fire’ Solar Eclipse This annular solar eclipse must be viewed inside a narrow path across the surface of Earth that crosses Oregon, northern California, Nevada, Utah, northeastern Arizona, southwestern Colorado, New Mexico and Texas. After it leaves the U.S. it will be visible from Mexico’s Yucatan Peninsula, Belize, Honduras, Nicaragua, Panama, Colombia and Brazil. I’m an expert on eclipses—the editor of WhenIsTheNextEclipse.com and author of The Complete Guide To The Great North American Eclipse of April 8, 2024 . For the very latest on the “ring of fire” solar eclipse check my main feed for new articles each day. Wishing you clear skies and wide eyes. Follow me on Twitter or LinkedIn . Check out my website or some of my other work here . Jamie Carter Editorial Standards Print Reprints & Permissions',\n",
        "            'pubDate': '2023-10-06 23:15:00',\n",
        "            'image_url': 'https://imageio.forbes.com/specials-images/imageserve/651281dfb2d2499dcff0ea4e/0x0.png?width=960&precrop=640%2C300%2Cx312%2Cy351',\n",
        "            'source_id': 'forbes',\n",
        "            'source_priority': 57,\n",
        "            'country': ['united states of america'],\n",
        "            'category': ['business'],\n",
        "            'language': 'english'\n",
        "        }, {\n",
        "            'article_id': 'f072726a91498d0daebb267e8ed880d1',\n",
        "            'title': 'The Best Food Subscription Boxes That Are Perfect For The Gift-Giving Season',\n",
        "            'link': 'https://www.forbes.com/sites/forbes-personal-shopper/article/best-food-subscription-boxes/',\n",
        "            'keywords': ['Forbes Vetted', '/vetted', 'Forbes Vetted', '/vetted', 'Home', '/vetted/home', 'Kitchen & Dining', '/vetted/home/kitchen-dining', 'Shopping Recirc', 'shopping-recirc', 'shopping', 'shopping', 'finds'],\n",
        "            'creator': ['Margaret Eby', ' Contributor'],\n",
        "            'video_url': None,\n",
        "            'description': \"Whether you're a cheese lover, a tinned fish enthusiast or a serious tea drinker, there's a food subscription box made for you. Here are our top picks.\",\n",
        "            'content': 'We independently select all products and services. If you click through links we provide, we may earn a commission. Learn more Forbes Vetted The Best Food Subscription Boxes That Are Perfect For The Gift-Giving Season Margaret Eby Contributor Forbes Vetted Contributor Group Opinions expressed by Forbes Contributors are their own. Following Oct 6, 2023, 07:00pm EDT | Share to Facebook Share to Twitter Share to Linkedin The only thing more exciting than bringing in a package of items you ordered online is getting regular packages filled to the brim with all kinds of treats and snacks you’ve likely never tried. These days, you can find tons of top-tier food subscriptions that send thoughtfully curated culinary experiences straight to your door—there are boxes for big-time snackers, cheese lovers and tinned fish enthusiasts. And if you have someone in your life who loves to cook or simply eat, food subscription boxes make for memorable gifts (and yes, the recipient can be yourself). If you\\'re looking to up your snack game, Bokksu\\'s subscription box delivers 20-plus Japanese snacks, ... [+] teas and candies to your doorstep every month. Illustration: Forbes / Image: Retailers Does someone in your life have a big sweet tooth? You might consider subscription services for fruit or chocolate. Is your recipient a serious tea drinker? There’s a box for that, too. Ahead, here are nine of the best subscription boxes for foodies that are guaranteed to make their pantry a little bit fuller and their day infinitely brighter. Best Snack Subscription Box: Bokksu Snack Box Subscription Best Cheese Subscription Box: Murray’s Cheese Globetrotter’s Cheese Club Best Pasta Subscription Box: Sfoglini Pasta Of The Month Club Best Tinned Fish Subscription Box: Cratejoy Tinned Fish Club Best Fruit Subscription Box: Harry & David Fruit Of The Month Club Best Tea Subscription Box: Art Of Tea Tea Of The Month Subscription Best Butter Subscription Box: Banner Butter Grass-Fed Cultured Cream Butter Subscription Best Spice Subscription Box: Piquant Post Spice Subscription Box Best Chocolate Subscription Box: Compartes Gourmet Chocolate Of The Month Club MORE FROM FORBES VETTED Dyson Hair Straightener Deal: Take $100 Off The Corrale By Annie Davidson Watson Contributor The Best Massage Guns For At-Home Relief, Based On Extensive Testing By Cam Vigliotta Forbes Staff Best Snack Subscription Box A Box Full Of Japanese Snacks, Candies And More Bokksu Bokksu Snack Box Subscription Buy From Bokksu Subscription length: 1, 3 or 12 months Whether you regularly snack on Pocky and rice crackers or you’ve never tried a Japanese Kit Kat, this subscription box from Bokksu is guaranteed to up your snack game. Every month, Bokksu ships out a curated selection of 20 to 22 Japanese snacks, teas and candies, all made by small family-run businesses. In one box, you might get a matcha cake, a packet of handmade yuzu-sake candies and sesame mochi; in another, your box could include a Yokohama butter sandwich cookie, Genmaicha green tea and potato chips flavored with smoked pickled radish. Each box also includes a booklet that tells you a little about each treat, including its origin, flavor profile and whether it contains any common allergens. Best Cheese Subscription Box Hand-Selected Cheeses From NYC\\'s Premier Fromagerie Murray\\'s Murray\\'s Cheese Globetrotter\\'s Cheese Club Buy From Murray\\'s Cheese Subscription length: 3, 6 or 12 months If you have a drawer in your fridge dedicated solely to cheese, there’s a good chance you’re familiar with Murray’s Cheese, New York City’s premier fromagerie. For those who don’t have access to high-quality cheeses, Murray’s Cheese offers five subscriptions, including the Cheese Explorer’s Club and the Mac And Cheese Club . If you want to try some of the best cheeses from around the world, the Globetrotter’s Cheese Club is the best option: Every month, you get three half-pound pieces of cheese from an iconic cheesemaking region. And if you want to upgrade your subscription, you can also add on cheese paper bags, sea salt crackers and prosciutto to each delivery. Best Pasta Subscription Box Premium Pasta In Playful Shapes And Flavors Sfoglini Sfoglini Pasta Of The Month Club Buy From Sfoglini Subscription length: 6 or 12 months Sfoglini makes some of the highest quality dried pasta out there, thanks to their commitment to using premium organic semolina and grains grown on North American farms. (Also, their pasta shapes are fun.) When you belong to the New York-based brand’s Pasta Of The Month Club, every three months, you receive three boxes of semolina pasta and three boxes of \"specialty\" pasta (think limited-edition offerings), plus six recipes to spark inspiration in the kitchen. Whether you opt for the 6- or 12-month plan, you’re guaranteed to fall in love with the brand’s playful shapes and delicious flavors. Best Tinned Fish Subscription Box High-End Tins Of Spiced Sardines, Tuna Pate And More Cratejoy Cratejoy Tinned Fish Club Buy From Cratejoy Subscription length: 1, 3, 6 or 12 months If you’ve ever visited Portugal or you’re the kind of person who always keeps a few tins of high-quality anchovies and sardines in the pantry, you know that great tinned fish can rival the fresh stuff. To discover new kinds you can’t typically find in the average stateside grocery store, Cratejoy’s Tinned Fish Club ships you three tins of the good stuff every month—think smoked salmon in olive oil and sardines in tomato sauce. Alongside the tins, each box comes with a booklet of recipes and a few condiments that pair beautifully with the selections. If you can’t decide between the subscription lengths, consider the 3-month option: At $32.99 per box, it’s the club’s most popular. Best Fruit Subscription Box The Freshest Seasonal Fruits From A Beloved Brand Harry & David Harry & David Fruit Of The Month Club Buy From Harry & David Subscription length: 3, 6, 9 or 12 months You know your fruit bowl’s about to be overflowing when a Harry & David box shows up at your door. When you join the brand’s Fruit Of The Month Club, you’ll never go a day without the freshest seasonal fruits—think Bosc pears in January, Cara Cara oranges in March and honey mangoes in June. And for an added fee, you can upgrade your first box to include pairings like chocolates and cheeses. Best Tea Subscription Box Premium Leaves To Help You Explore The Vast World Of Tea Art of Tea Art Of Tea\\'s Tea Of The Month Subscription Buy From Art of Tea Subscription length: 3, 6 or 12 months The world of tea is vast, extending far beyond Earl Grey, Matcha and chamomile. To discover new favorites, consider Art Of Tea’s Tea Of The Month Subscription. Every month—for a duration of 3, 6 or 12 months—the brands ships you 2 to 4 ounces of seasonal tea (that’s enough for about 12 teabags) with offerings like Orchid Oolong and Caramelized Pear. What\\'s more, you can customize the program: If you have a favorite type of tea, you can receive exclusively classic teas, caffeine-free teas, single-origin teas or wellness-oriented teas, to name a few options. Best Butter Subscription Box A Full Year Of Rich Cultured Butter Food52 Banner Butter Grass-Fed Cultured Cream Butter Subscription Buy From Food52 Subscription length: 12 months Whether you’re spreading it over a fresh loaf of crusty bread or whipping up a velvety pasta sauce, butter makes everything better—just ask Julia Child (or your taste buds). If you want the best of the best, look no further than Banner Butter’s Grass-Fed Cultured Butter Subscription. Every three months, you receive four blocks of rich small-batch butter, including one salted butter, one sweet butter, one flavored with roasted garlic and one seasonal flavor like lavender or lemon-chive. Best Spice Subscription Box Fresh Spice Blends Paired With Delicious Recipes Piquant Post Piquant Post Spice Subscription Box Buy From Piquant Post Subscription length: 3, 6 or 12 months Spices are a vital part of a well-stocked kitchen, and there’s a seemingly endless number of blends to try. Piquant Post’s spice professionals do the heavy lifting by sending fresh spice blends like Japanese curry and orange cardamom to your door every month. Each curated shipment includes four blends from a specific country or region, plus four complementary recipe cards. Best Chocolate Subscription Box Beautiful Chocolate Bars With Innovative Flavors Compartes Chocolates Compartes Gourmet Chocolate Of The Month Club Buy From Compartes Subscription length: 3, 6 or 12 months Compartes doesn’t make your average chocolate bars. Instead, the popular Los Angeles-based brand is beloved for its unique flavors like strawberry shortcake and potato chip crisp. When you sign up for their Gourmet Chocolate of the Month Club (which has durations of 3, 6 and 12 months), you receive a monthly box filled with an assortment of the brand’s latest innovative flavors, all wrapped up in playful, beautiful packaging. Coupons Sears Link to Coupon Margaret Eby Editorial Standards Print Reprints & Permissions',\n",
        "            'pubDate': '2023-10-06 23:00:15',\n",
        "            'image_url': 'https://imageio.forbes.com/specials-images/imageserve/651f1553278814306f596dcc/0x0.jpg?width=960',\n",
        "            'source_id': 'forbes',\n",
        "            'source_priority': 57,\n",
        "            'country': ['united states of america'],\n",
        "            'category': ['business'],\n",
        "            'language': 'english'\n",
        "        }, {\n",
        "            'article_id': '6e92958936fc0560094de0f6279895c1',\n",
        "            'title': 'Geneva-Based Luxury Watch Brand Frédérique Constant Celebrates 35th Anniversary',\n",
        "            'link': 'https://www.forbes.com/sites/kyleroderick/2023/10/06/geneva-based-luxury-watch-brand-frdrique-constant-celebrates-35th-anniversary/',\n",
        "            'keywords': ['Watches & Jewelry', '/watches-jewelry', 'Lifestyle', '/lifestyle', 'Watches & Jewelry', '/watches-jewelry', 'lifestyle', 'kyleroderickblog', 'standard'],\n",
        "            'creator': ['Kyle Roderick', ' Contributor'],\n",
        "            'video_url': None,\n",
        "            'description': 'Swiss luxury watchmaker Frédérique Constant marks its 35th anniversary with a focus on its in-house Manufacture collection and its 31st in-house caliber.',\n",
        "            'content': 'Forbes Lifestyle Watches & Jewelry Geneva-Based Luxury Watch Brand Frédérique Constant Celebrates 35th Anniversary Kyle Roderick Contributor Opinions expressed by Forbes Contributors are their own. I cover upmarket jewelry, timepieces & ethical, sustainable jewelry. Following Oct 6, 2023, 06:56pm EDT | Press play to listen to this article! Got it! Share to Facebook Share to Twitter Share to Linkedin Frédérique Constant\\'s newest in-house caliber is also its 31st. The FC-735 lives within the Classic ... [+] Power Reserve Big Date. Frédérique Constant The intrepid Swiss watchmaker Frédérique Constant has spent 2023 marking its 35 th anniversary with festive events that celebrate the innovative watch brand’s luxurious, technically advanced; artistically pure philosophy and products. Indeed, Frédérique Constant has come a long way since its 1988 founding and the 1992 launch of its first six models. (Owned by Japan-based Citizen Group, the brand’s extensive collections for men and women include superb tourbillons, classic dress watches, retro tool watches and even smartwatches.) Along with appearing for the first time at Geneva’s 2023 Watches and Wonders event, Frédérique Constant hosted an anniversary blow-out in its home city of Geneva, during which suppliers, customers, retailers and members of the press partied heartily. Jeffrey Cohen, CEO of Citizen Watch America, Constant’s parent company, and Niels Eggerding, CEO of Frédérique Constant, took time out from their time-crunched schedules to explain the high points of the brand’s banner year. The Frederique Constant Classic Tourbillon Manufacture FC-980N3H6 retails for $15,695.00. Frédérique Constant “The Frédérique Constant 35th anniversary is being celebrated globally with a focus on our in-house Manufacture collection,” Cohen wrote in an email. “Frédérique Constant offers classic luxury Swiss-made timepieces at an accessible price and includes quartz, automatic and in-house movements.” Considering its relative youth, the firm boasts an impressive 31 in-house calibers. These embody a rich array of luxury materials, such as platinum, gold and meteorite, along with embellishments like Côtes de Genève and perlage . “Then there are its various complications, such as Worldtimer, perpetual calendar, tourbillon, flyback, moon phase and big date,” Cohen added. Whether consumers are looking for understated, classic elegance or want a major mechanical prestige timepiece, Frédérique Constant delivers a Swiss watch that meets diverse design aesthetics and technical preferences. The Classic Power Reserve Big Date Manufacture is an elegant, stainless steel timepiece that ... [+] measures 40mm in diameter, 12.19 in thickness, with a moon phase dial. Frédérique Constant In this special year, the brand is also presenting the debut of its 31st in-house caliber, the FC-735, which lives within the Classic Power Reserve Big Date. “We introduced four editions of this during Geneva Watches and Wonders,” Cohen explained. The Classic Power Reserve Big Date Manufacture is an elegant, stainless steel timepiece that measures 40mm in diameter, 12.19 in thickness, with a moon phase dial that injects celestial chic into the mix. Like all Frédérique Constant timepieces, it was created in the brand’s four-story, 34,444 square foot Geneva manufacture, which among other departments, includes movement component production, movement assembly, watch assembly, and quality control. MORE FOR YOU Cooper Flagg, Nation’s No. 1 Hoops Recruit, Closing In On College Decision Chinese Billionaire s Texas Company Owes Millions On Unpaid Bills The T 64 Ukraine s Most Important Tank Could Go Extinct In Three Or Four Years In the course of a Zoom interview, Frédérique Constant’s longtime CEO Niels Eggerding explained, “This is our first caliber that offers a big date, a moon phase and a power reserve indicator, for a total of 50 hours. The power reserve,” he continued, “is shown at 9 o’ clock by a slim, dedicated hand moving along an arc marked out at 0 to 50, ending in a red zone that warns when it’s time to wind the watch before it stops.” While the first two editions feature a platinum case and meteorite dial or a rose gold case and gray anthracite dial, they come in limited editions of 35 and 350 respectively. The two others, embodied in steel cases with blue or silver dials, form part of the brand’s standard collection. Frédérique Constant\\'s WorldTimer manufacture helps those with cosmopolitan business obligations by ... [+] keeping them in time with anywhere and everywhere. Aurélien Poncet/Frédérique Constant The three complications, time set function and winding mechanism are all adjusted via the crown at 3 o’ clock. Free of pushers, correctors or styluses, “The FC-735 movement is sophisticated, contemporary, ergonomic, and designed for everyday use,” Eggerding said. To this writer, it seems to encapsulate Frédérique Constant’s intriguing luxury philosophy: prestige, hyper-efficient yet chic watches can also be relatively affordable and hence worn with ease and enjoyment, by watch lovers on every continent. Jeffrey Cohen, CEO of Citizen Watch America, Frédérique Constant’s parent company. © Guillaume Gaudet/Frédérique Constant During its 35 th year, Frédérique Constant also unveiled a new and novel version of a timepiece that embodies the brand’s savoir-faire and philosophy: the Classic Tourbillon Manufacture. Developed and hand-assembled in-house at Constant’s 32,000 square foot Swiss facility, this tourbillon is available in a limited edition of 150 pieces and features three hands housed in a 39-millimeter, 18-karat rose gold case. “In this anniversary year,” Eggerding said, “we feel that the design and technical elements of the Classic Tourbillon Manufacture symbolize our evolution since the brand’s 1988 founding. Shortly after it debuted in 2008,” Eggerding recounted, “our FC-980 movement became one of Constant’s most internationally admired developments, and so we are using it now to power our new Classic Tourbillon Manufacture.” The cage of this highly collectible timepiece comprises 81 components, including a graceful hand passing above the tourbillon cage that counts the seconds. The cage is engraved with the individual serial number of the watch, as is the sapphire case back, which showcases the inner workings of the FC-980 caliber. Endowed with such traditional fine watchmaking elements as beveling, beading, circular graining, straight-grained flanks and mirror polishing, the movement has a 38-hour power reserve. “We are a young, dynamic brand and our team is a family that’s on a creative and technical adventure,” Eggerding said. Niels Eggerding, dynamic CEO of Frédérique Constant, credits his innovative, energetic andhighly ... [+] responsive team for the company\\'s success. Frédérique Constant Echoing the words of Frédérique Constant watchmaker Romain Valette, who is quoted on the brand’s website, Eggerding continued,“The art of watchmaking is our passion, innovation is our mission, and the tourbillon is one of the most beautiful interpretations.” Thanks to its skilled team, professional camaraderie and strong interest in innovation,” he added, “Frédérique Constant has become one of the top 25 Swiss watchmaking brands.” In fact, Constant was the first Swiss brand to produce a perpetual calendar watch priced under 10,000 euros. In 2015, it produced the first horological smartwatch, and in 2018, Frédérique Constant brought out the first perpetual calendar tourbillon priced under 20,000 euros. This year, the firm introduced the 39mm Classic Tourbillon at Watches and Wonders, with the steel case version retailing under $16,000. “Nothing else on the market comes close to this,” Cohen asserted. “We also have our top selling Highlife collection, with automatic timepieces under $2,000 that all come with a quick release bracelet and an additional strap to create a versatile look.” Frédérique Constant\\'s Classics Carrée Ladies timepiece embodies timeless elegance and 34 diamonds ... [+] for the appealing price of $2,795.00. Frédérique Constant What’s more, Cohen continued, Frédérique Constant’s Classics collection recently launched a COSC or chronometer (high precision watch) version of the Vintage Rally Healey Automatic. Priced at just under $2,000, this limited edition timepiece comes in a special set with a miniature replica of the Healey NOJ393. For those who may be wondering, COSC stands for “Controle Officielle Suisse des Chronomètres, the Official Swiss Chronometer Testing Institute. “COSC certification,” Cohen explained, “guarantees perfect isochronism over a given time and at given positions. In effect, this guarantees their ability to tell the time correctly, consistently and precisely, within the strict limits enforced by an ISO standard.” In addition to certifying the supreme precision and uniqueness of timekeeping instruments, the certified \"chronometer” title is a guarantee of superb horological quality and consummate savoir-faire throughout the production process. In the retail world, a COSC-certified chronometer possesses a third-party proof of superb value which distinguishes it from its competitors. While few chronometers are COSC-certified, all COSC-certified watches are indeed chronometers. Frédérique Constant\\'s Slimline Monolithic Manufacture delivers aesthetic purity, technical ... [+] virtuosity and ergonomic integrity. Frédérique Constant Also coinciding with Frédérique Constant’s 35 th anniversary, Citizen Watch America will be opening its first, multi-brand flagship store in New York City in December 2023. According to Cohen, “The store will be located at 605 Fifth Avenue, across from Rockefeller Center. As New York City is one of the world’s great cultural epicenters, it’s the ideal backdrop for Citizen Watch America’s first US-based, multi-brand flagship.” The 7000 square ft., three story boutique will feature dedicated spaces for Frédérique Constant, along with those for Citizen Watch America’s other brands, which are Citizen, Bulova, Accutron and Alpina. On the first two floors, customers will be able to choose from sport, style, and luxury collections offered by Citizen brands, including timepieces that are sold only at this store. The third level will feature a museum archive and dedicated areas for on-site programming, events and community experiences. Cohen noted that the timing is right for Frédérique Constant’s flagship opening because, “The brand is growing in the US and is attracting young collectors and watch enthusiasts looking for a high-quality timepiece with Swiss cachet that’s still relatively niche. We continue to see young consumers making significant investments in timepieces with entry level investments ranging from $1200 to $5000,” he wrote. “Automatics have particular resonance with younger consumers.” While each Frédérique Constant collection attracts a different kind of client, Eggerding added that, “Over the last three or four years, we’ve seen traditional buying patterns for men’s and women’s watches fade as gender identities have become freer; less rigidly defined. Constant’s market research has found that our small women’s watches with diamonds are increasingly being purchased by men,” he detailed, “and it’s also true that more women are self-purchasing Frédérique Constant men’s watches with large dials because these suit their identities, style preferences and budgets.” The Frédérique Constant Geneva Manufacture Frédérique Constant As Frédérique Constant gears up to end its 35 th anniversary year with the opening of Citizen America’s multi-brand flagship on Fifth Avenue, it seems likely that this bold, multi-level emporium will attract myriad people into the uniquely luxurious and precise time zone of Constant and its compatriots in the Citizen America group. Follow me on LinkedIn . Check out my website . Kyle Roderick Editorial Standards Print Reprints & Permissions',\n",
        "            'pubDate': '2023-10-06 22:56:40',\n",
        "            'image_url': 'https://imageio.forbes.com/specials-images/imageserve/652073f4dc6123aa37b6f4f6/0x0.jpg?width=960',\n",
        "            'source_id': 'forbes',\n",
        "            'source_priority': 57,\n",
        "            'country': ['united states of america'],\n",
        "            'category': ['business'],\n",
        "            'language': 'english'\n",
        "        }, {\n",
        "            'article_id': '7a555a8f4107eaa728be05c90b0d82f9',\n",
        "            'title': 'FTX: Should Sam Bankman-Fried Be Prosecuted For Credit Fraud?',\n",
        "            'link': 'https://www.forbes.com/sites/annrutledge/2023/10/06/ftx-should-sam-bankman-fried-be-prosecuted-for-credit-fraud/',\n",
        "            'keywords': ['Markets', '/markets', 'Money', '/money', 'Markets', '/markets', 'asia', 'standard'],\n",
        "            'creator': ['Ann Rutledge', ' Contributor'],\n",
        "            'video_url': None,\n",
        "            'description': 'FTX founder Sam Bankman-Fried is on trial this week for committing or conspiring to commit wire fraud, securities fraud and money laundering. What about credit fraud?',\n",
        "            'content': \"Forbes Money Markets FTX: Should Sam Bankman-Fried Be Prosecuted For Credit Fraud? Ann Rutledge Contributor Opinions expressed by Forbes Contributors are their own. I shed light on hidden credit intent. Following Oct 6, 2023, 06:49pm EDT | Press play to listen to this article! Got it! Share to Facebook Share to Twitter Share to Linkedin This week, FTX founder Sam Bankman-Fried is on trial for committing or conspiring to commit wire fraud, securities fraud and money laundering. The media is focused on the topics readers can all relate to— his immorality, or that of crypto; the sums of money involved; or the nature of the charges, which are not everyday words. The last point—charges—is closest to what this trial is really about. They are: wire fraud, a scam that reaps wrongful or criminal financial gain via the internet or old-fashioned telephone. Money laundering: disguising financial assets generated from criminal activity so they look legitimate. Securities fraud: the go-to theory for litigating financial misconduct, being easy to bring to court with big payoff potential, as Bloomberg’s Matt Levine has famously argued. NEW YORK, NEW YORK - JUNE 23: Sam Bankman-Fried speaks onstage during the first annual Moonlight ... [+] Gala benefitting CARE - Children With Special Needs - hosted by Michael Cayre, Roy Nachum and MegaMoon Museum at Casa Cipriani on June 23, 2022 in New York City. (Photo by Craig Barritt/Getty Images for CARE For Special Children ) Getty Images for CARE For Special Children But, dig deeper. Not one of these charges touches on the essential violation underlying all mega-crises of our day, from LTCM to the 2008 GFC, to now, FTX. Giving an illusion of solvency from a position of insolvency— FTX was first incubated in the crypto trading firm Berkeley-based Alameda Research, which Bankman-Fried set up in 2017 with Jane Street Capital colleagues. Alameda found early success buying low bitcoin prices and selling them high. When the bitcoin arbitrage strategy dried up (as all arbitrage does, at scale) Bankman-Fried and Zixiao Gary Wang established FTX in May 2019 as an offshore exchange for traders to buy, sell or take synthetic positions in a wide range of fiat and crypto currencies and nonfungible tokens (NFTs). Its revenue model was supposedly that of an exchange: FTX would generate earnings from trading, lending and interchange fees through the use of branded debit cards and making markets in NFTs. In July 2021, FTX raised USD 900 MM (later claimed USD 1.0 BN) from over 60 investors at an $18 BN valuation. Their pitch deck supported the narrative: MORE FOR YOU Cooper Flagg, Nation’s No. 1 Hoops Recruit, Closing In On College Decision Chinese Billionaire s Texas Company Owes Millions On Unpaid Bills The T 64 Ukraine s Most Important Tank Could Go Extinct In Three Or Four Years “ After years of using other exchanges, team realizes they could build a better exchange. FTX is launched. ” In October 2021, an FTX press release announced a Series B-1 round of USD 420 MM, and in January 2022, a Series C USD 400 MM round, at respective valuations of USD 25 and 32 BN. Claims of dramatic growth in the user base and trade volume boosted the valuations. Trading levels were now said to average USD 14 BN daily. Believers (participants in one or more rounds) in the narrative were Softbank, Sequoia Capital, Paradigm, Temasek, Tiger Global Management, Lightspeed Venture Partners, Ontario Teachers’ Pension Plan, Patriots owner Robert Kraft, hedge fund legend Paul Tudor Jones, and Coinbase Ventures, investment arm of the competitor crypto exchange founded in 2012. FTX also opened a USD 2 BN venture fund in early 2022. Within the year, FTX filed for bankruptcy in early November 2022. John J. Ray III, CEO appointed to the FTX bankrupt estate and former chair of Enron Creditors Recovery Corp., would go on to say how FTX suffered “a complete failure of corporate controls,” and that he had never seen anything as bad as FTX. Details of the balance sheet links between of Alameda Research and FTX are still coming to light, including a secret “ backdoor ” to withdraw FTX customer funds to fund Alameda’s USD 65 BN balance sheet hole. What is so interesting about fraud is always the surface narrative— Fraud can be arcane, dazzling, beguiling. This is the money-laundering part where criminality is repackaged into complex financial assets (CDOs or cryptocurrencies) designed to intimidate and confuse. Going viral is the wire-fraud part. Using your savings and mine is the securities fraud part. But the essential fraud is none of these. The essential fraud can be sussed out by asking two simple credit questions: Does the financial value proposition make sense? Are the enterprise operations sustainable? If the answers are “yes,” then the work gets much harder. Expertise in valuing FTX’s investments in gamification, visualization, databases and other investee firms; valuing exotic currencies held in custody for FTX customers; and assigning a credible present value to the future stream of bread-and-butter exchange revenues are all needed. But first, the answers to the simple financial and operational questions must both be “yes.” If the answer to either question is “no,” suspect fraud. Start with the financial valuation. A claim of USD 14 BN in daily trading supporting the high valuations is dubious. The New York Stock Exchange (NYSE) closing auction averages under USD 20 BN in trading volume. For FTX to approach 75% of the NYSE’s largest daily liquidity event is impressive. Is it believable? Reality check: the NYSE is 231 years old, has 2400 listings and its market cap is about USD 23 TN. Alternatively, one could back into the enterprise valuations by bootstrapping the trade fee data. Given 260 working days in a year, an average trading fee of 3.5 BP, an average trade size of $10 MM, and an estimated one trade a day, the earnout would be approximately 2 million years. Given an average trade size of $500 MM at the rate of one trade a minute, it would still take 27 years. Unfortunately, FTX did not live so long. An even simpler question is—with USD 14 BN in daily trading volumes, assuming an average 3.5 BP fee again, FTX should be throwing off about USD 50 MM a day in fees. Why raise more equity rounds at all when, in theory, funding equal to the Series B-1 and C amounts could be internally generated in under a month. To appraise operational sustainability, start with the business definition. What kind of exchange is FTX? I have a bit of an expert edge here having worked in and for exchanges, and having taught exchange mechanics to Chinese delegations in the ‘90s, but here is a shortcut. Ask, what kind of a research institute was Alameda? In the words of Bankman-Fried in 2021: “If you named your company ‘We Do Cryptocurrency Bitcoin BTC Arbitrage Multinational Stuff, no one’s going to give you a bank account.[…] But everyone wants a Research Institute. Given that Alameda is not a research institute, why would anyone believe FTX is an exchange? Exchange viability comes down to its credit and liquidity position— Exchanges are the quintessential structured finance vehicle, built to mitigate counterparty credit risk and give market participants liquid access to assets at transparent prices and low to negligible exposure to operating risk. All well-functioning exchanges have balance sheets with the following line items— · Assets : cash and equivalents (the largest bucket), financial assets, accounts receivable, investments in other enterprises, fixed assets and goodwill. · Liabilities : customer funds on deposit (the largest bucket), accounts payable, clearing member funds on account, leases, loans, share capital and equity attributable to shareholders. Viable exchanges are solvent with multiple levels of risk protection. Customer and shareholder money are the biggest liabilities, and they are protected by robust trust and custody arrangements. Exchanges require customers to cash-collateralize their accounts based on current levels of market and asset volatility, and to settle their accounts daily, to ensure that the exchange, clearinghouse, members and customers, always know the end-of-day net risk and value positions, and manage accordingly. FTX didn’t even have an accounting department or audited financial statements. Its assets and liabilities published on unofficial balance sheets were blatantly atypical. They showed an excess of self-generated cryptocurrencies (FTTs), which masked unauthorized loans from customers to the exchange. FTX did not provide legitimate custody services at all but engaged in self-dealing. There was no margining system: FTX simply closed out customer accounts when the value dried up and probably pirated the difference. Some of these details may have been nonpublic until before the bankruptcy filing, but a simple due diligence check before any of the financing rounds would have revealed that this “Exchange” was not only insolvent but operationally unsustainable. Time to rethink criminalizing insolvency? Juxtapose the FTX story with how “everyone knows” the world is drowning in debt. Global public debt was USD 92 Trillion in 2022. Few believe it can all be repaid because the money required to repay it lies outside the economics of the loans. We cannot call this securities fraud. Yet lending money without a visible means of repayment is clearly an abuse of the credit function. It’s as if we didn’t recognize credit risk when we see it. Which is probably true. Since the 1600s, natural persons have gone to jail for insolvency. Today we have serial organized criminal credit activity perpetrated by seemingly legitimate institutions that manufacture gains by masquerading as solvent operations to siphon off funds from unsuspecting clients—as much as possible for as long as possible. Charges like wire fraud, securities fraud and money laundering fail to address the criminal essence—the construction of vehicles that mimic financial and operational viability but lack essential safeguards. If we want the law to become more effective, it is essential to be able to prosecute credit fraud. From years of plaintiff-side expertise in structured finance litigations, I know intentionality in credit frauds is hard to prove—much harder than negligence. This is, I believe, not because they are in fact difficult to prove. Demonstrating insolvency is actually relatively easy. It is because the criminal intent behind false representations of credit strength has not been taken seriously. It should be. Maybe putting Sam Bankman-Fried on trial is a beginning. New York Post Sam Bankman-Fried ordered $65B 'secret backdoor line of credit,' lawyer says CB Insights Research In FTX's bankruptcy, here are the top 10 investment and M&A holdings creditors should be looking at - CB Insights Research Follow me on Twitter or LinkedIn . Check out my website . Ann Rutledge Editorial Standards Print Reprints & Permissions\",\n",
        "            'pubDate': '2023-10-06 22:49:46',\n",
        "            'image_url': 'https://imageio.forbes.com/specials-images/imageserve/65208ef39b031b8afd3e8887/0x0.jpg?width=960&precrop=1925%2C1083%2Cx0%2Cy95',\n",
        "            'source_id': 'forbes',\n",
        "            'source_priority': 57,\n",
        "            'country': ['united states of america'],\n",
        "            'category': ['business'],\n",
        "            'language': 'english'\n",
        "        }, {\n",
        "            'article_id': 'd32160111d50a32d509493a422d99a5c',\n",
        "            'title': 'The 46 Best Sales To Shop Over The Long Weekend',\n",
        "            'link': 'https://www.forbes.com/sites/forbes-personal-shopper/2023/10/06/columbus-day-sales/',\n",
        "            'keywords': ['Forbes Vetted', '/vetted', 'Forbes Vetted', '/vetted', 'Deals', '/vetted/deals', 'Big Sales', '/vetted/deals/big-sales', 'Shopping Recirc', 'shopping-recirc', 'shopping', 'shopping', 'finds'],\n",
        "            'creator': ['Jordan Thomas', ' Forbes Staff'],\n",
        "            'video_url': None,\n",
        "            'description': 'This three-day weekend is an opportunity to shop some seriously good sales on everything from furniture to fall fashion.',\n",
        "            'content': \"We independently select all products and services. If you click through links we provide, we may earn a commission. Learn more Forbes Vetted The 46 Best Sales To Shop Over The Long Weekend Jordan Thomas Forbes Staff Forbes Vetted Contributor Group Opinions expressed by Forbes Contributors are their own. Following Oct 6, 2023, 05:52pm EDT | Share to Facebook Share to Twitter Share to Linkedin With Indigenous Peoples’ Day right around the corner, many folks have a long weekend. And per usual, there are tons of great holiday weekend sales taking place. A lot of retailers have also launched early competitor sales ahead of October Prime Day. As a result, you can find some killer deals in just about every product category you can think of. Here are the best sales to shop this weekend whether you're looking to invest in a new mattress or ... [+] some fall clothes. Illustration: Forbes / Photos: Retailers We’ve sorted through all of the offers that are live so far and listed the best savings events to shop in every category. With steep discounts available at retailers like DreamCloud , Wayfair , Anthropologie and Ulta Beauty , the next few days are an excellent opportunity to check off some items on your shopping list. MORE FROM FORBES VETTED Dyson Hair Straightener Deal: Take $100 Off The Corrale By Annie Davidson Watson Contributor The Best Massage Guns For At-Home Relief, Based On Extensive Testing By Cam Vigliotta Forbes Staff The Best Long Weekend Sales: Mattresses Casper Casper Wave Hybrid Mattress (Queen) Buy From Casper Casper : During the retailer’s Everything Sale, you can save up to 50% sitewide. DreamCloud : If you’ve never shopped DreamCloud before, you can save 40% on your first mattress, including our pick for the best medium-firm mattress . Helix : Code FALL20 will take 20% all mattresses this weekend, including our favorite mattress for side sleepers . You’ll also get two free pillows bundled in for free. Nectar : Nectar makes our pick for the best mattress overall . Right now, new customers can take 33% off our pick and everything else on Nectar’s site. Leesa : Shop its Fall Back To Sleep Sale to save up to $700 on your mattress, plus get two free pillows. Avocado : Check out Avocado’s Organic Mattress Sale this weekend to save $800 on an organic model. Brooklyn Bedding : Now through October 9, save 25% sitewide for its Anniversary Sale. Awara : Take $400 off Awara’s eco-friendly mattresses for its Fall Sale. The Best Long Weekend Sales: Appliances Wayfair Bissell CrossWave All-in-One Multi-Surface Stick Vacuum Buy From Wayfair Wayfair : During the retailer’s current sale, you can save up to 70% on kitchen and home appliances, like the Bissell vacuum above. Amazon : Next week Amazon is hosting an October Prime Day event, but it’s already rolling out early deals over the weekend—including major savings on small appliances. Samsung : Save up to $1,700 on major appliances for your home during Samsung’s Fall Savings Event. Home Depot : Shop appliances bundles to save up to $2,000 or save up to 30% on laundry sets and refrigerators . Best Buy : Take up to $1,200 off select Samsung refrigerators this weekend at Best Buy. Lowe’s : Lowe’s is offering up to $800 off select kitchen appliances and laundry sets right now. Macy’s : Shop Macy’s Fab Fall Sale to save 25 to 60% across all categories, including kitchen appliances. The Best Long Weekend Sales: Home Anthropologie Anthropologie Waterfall Coupe Glasses (Set Of 4) Buy From Anthropologie Anthropologie : Fill your home with eclectic designs, from small pieces of décor to furniture, for up to 40% off this weekend. Wayfair : Save up to 70% at Wayfair all weekend long, like 50% off living room, kitchen and bedroom furniture. Lulu And Georgia : Celebrate Lulu & Georgia’s Anniversary Sale with 25% off chic pieces for your home. Cozy Earth : During its Fall Sale save up to 25% sitewide. That includes cozy bedding, soft pajamas and more. Target : Shop Target’s annual Circle Week event to save 20% on bedding, bath and other home goods. Burrow : Update your home with some new modular furniture at up to 60% off during Burrow’s Fall Sale. Buffy : Score up to 40% off its cult-favorite sheets, pillows, blankets and more. Arhaus : Save thousands on designer pieces for your home, inside and out, during Arhaus’ Fall Sale. The Best Long Weekend Sales: Fashion Tory Burch Tory Burch Perry Triple-Compartment Tote Buy From Tory Burch Tory Burch : For Tory Burch’s Fall Event, take 25% off orders of $200 or more and 30% off orders of $500 or more. Abercrombie : Shop select men’s and women’s styles for up to 25% off this weekend. Nordstrom : Now through October 10, save on women’s jackets for fall or check out Nordstrom’s sale section to save on hundreds of styles for men, women and kids. Shopbop : Save up to 70% on chic designer styles and accessories from Reformation, Theory and more. Madewell : Take 40% off fall essentials or use code EXTRA20 to take an additional 20% off sale styles during Madewell’s current sale. Hanna Andersson : Save 30% on cozy pjs for the holidays or 40% on Halloween costumes and pajama sets . Backcountry : Snag a 20% discount on one full-priced item and one sale item with code FALL20 when you sign up for Backcountry’s loyalty program. Lululemon : The activewear retailer’s “We Made Too Much” section is full of deals for up to 50% off. The Best Long Weekend Sales: Tech Amazon Echo Show 5 (3rd Gen) + Philips Hue Smart Color Bulb Buy From Amazon Amazon : Amazon’s October Prime Day is just around the corner, but it’s already rolling out major discounts on Amazon devices like e-readers , smart plugs and thermostats . Lenovo : Save up to 76% on laptops, monitors, servers and more with Doorbuster deals from Lenovo. Best Buy : Take up to 50% off popular tech, like Ring cameras , Amazon smart speakers , Samsung smart TVs and more. Walmart : Walmart’s Rollback section is full of great deals on everything from laptops and tablets to Apple Watches. Target : Save on Apple gear , Nintendo games and more during Target’s Circle Week event. If you have a Target RedCard, remember to use it to save an additional 5%. HP : Score an HP laptop and other computer peripherals for up to 69% off this weekend. Ecoflow : Take up to 58% off top portable power stations and solar generators during its Fall Into Savings event. Samsung : Now through October 8, save up to $1,300 on Samsung TVs, sound bars and more. The Best Long Weekend: Beauty SkinStore Grande Cosmetics LASH-MD Lash Enhancing Serum Buy From SkinStore Skinstore : Use code FRIENDS to save up to 25% on an array of cleansers, serums and moisturizers during Skinstore’s Friends And Family Sale. Ulta Beauty : Shop Ulta’s Gorgeous Hair Event to save up to 50% on select creams, conditioners and styling tools each day this weekend. Fenty : Today is your last day to save 20% on select skincare and beauty favorites from Fenty, like its Pro Filt’r Instant Retouch Setting Powder . Sephora : Sephora is also offering up to 50% off a variety of haircare products every day now through Sunday. Nordstrom : Shop deals on beauty products from top brands like NARS, Anastasia Beverly Hills and Bobbi Brown. Soko Glam : Shop Soko Glam’s K-beauty favorites to save up to 30%. Isdin : Check out its Fall Sale to save up to 20% on its popular sun care, body care and face care products. Coupons Bake Me a Wish Link to Coupon Send me a secure tip . Jordan Thomas Editorial Standards Print Reprints & Permissions\",\n",
        "            'pubDate': '2023-10-06 21:52:34',\n",
        "            'image_url': 'https://imageio.forbes.com/specials-images/imageserve/651f28a2ebb33e140bf15a62/0x0.jpg?width=960',\n",
        "            'source_id': 'forbes',\n",
        "            'source_priority': 57,\n",
        "            'country': ['united states of america'],\n",
        "            'category': ['business'],\n",
        "            'language': 'english'\n",
        "        }, {\n",
        "            'article_id': 'fbae5ee4f76720635dbff403dc3882d9',\n",
        "            'title': '49 Anniversary Gifts For Her That Will Stand The Test Of Time',\n",
        "            'link': 'https://www.forbes.com/sites/forbes-personal-shopper/article/anniversary-gifts-for-her/',\n",
        "            'keywords': ['Forbes Vetted', '/vetted', 'Forbes Vetted', '/vetted', 'shopping', 'shopping', 'finds'],\n",
        "            'creator': ['Samantha Simon', ' Contributor'],\n",
        "            'video_url': None,\n",
        "            'description': 'The best anniversary gifts for her will inspire memories and add a little sparkle to her life. Here are our top picks for 2023.',\n",
        "            'content': 'We independently select all products and services. If you click through links we provide, we may earn a commission. Learn more Forbes Vetted 49 Anniversary Gifts For Her That Will Stand The Test Of Time Samantha Simon Contributor Forbes Vetted Contributor Group Opinions expressed by Forbes Contributors are their own. Following Oct 6, 2023, 05:38pm EDT | Share to Facebook Share to Twitter Share to Linkedin No matter how long you and your partner have been a couple, every anniversary is a milestone worth celebrating. Sure, six months together might call for a level of romance (and presents) that’s different from, say, 50 years—but really, you just want to show your girlfriend, fiancée or wife how much you care. And finding the best anniversary gifts for her is a great place to start. Shop 49 unique anniversary gifts for her to show the woman in your life just how much she means to ... [+] you. ILLUSTRATION: FORBES / PHOTO: RETAILERS Shopping for the ultimate token of your love isn’t always easy, and it’s important to stay focused on who she is as a person as you browse. Think about all of her favorite things, from her go-to hobbies to her most-shopped brands. Would she appreciate a new piece of jewelry , or do you think she’d prefer perfume ? Has she been dropping hints about anything that she wants? Or, is there something that she needs and doesn’t even realize it yet? Your anniversary is an opportunity to give your significant other a thoughtful gift that she wouldn’t typically buy herself. So, whether you opt for something sweet but practical—new running shoes and insanely plush bath towels come to mind—or over-the-top luxe, like splurge-worthy pajamas , the right present is out there. You just have to find it, and as luck would have it, we’ve already rounded up some pretty great options for you. Here are 49 of the best anniversary gifts for her to get you started. Best Anniversary Gift For The True Romantic A Personalized Necklace That Spells Out Your Love MOST POPULAR Catbird Catbird The Smallest Love Letter Charm Buy From Catbird How charming is this Catbird charm? Made from 100% recycled gold, it’s designed to resemble the littlest love letter that’s sealed with a heart. Now for the truly special part: It can be personalized with an engraving of up to 10 characters, perfect for a brief—albeit heartfelt—message. (The charm is sold on its own, but you can add a chain for an additional cost.) Best Anniversary Gift For The Lover Of Luxury A Palm Beach-Inspired Silk Pajama Set Petite Plume Colony Hotel x Petite Plume Silk Women’s Pajamas Buy From Petite Plume There’s something inherently rich about silk sleepwear, and this Petite Plume pajama set designed in collaboration with Palm Beach’s legendary pink Colony Hotel is downright decadent. If you really want to go the extra mile, you might as well look into booking a Palm Beach getaway so she can put her chic new loungewear to use on site. Best Anniversary Gift For The Happy Hour Devotee An Unrivaled Spritz Glass For Summer Gatherings Maison Balzac Maison Balzac Le Spritz Glass Buy From SSENSE The only thing that can make a great cocktail even better? Stylish drinkware. And this handblown Maison Balzac glass is as fun as it gets, with a bright blue stem and a faux orange slice that will have all the neighbors jealous of each and every spritz she pours. Best Anniversary Gift For The Activity Lover A DIY Sushi Platter For A Fresh Take On Date Night Goldbelly Blue Ribbon Special Sushi DIY Kit Buy From Goldbelly Take your anniversary as an opportunity to do something different—like preparing a full-on at-home sushi feast together. This platter from Blue Ribbon comes with everything you need to whip up the rolls of your dreams (plus crispy rice, nigiri sushi and sashimi, to boot). All of the essentials are included, but there are additional add-ons if you feel more adventurous. Best Anniversary Gift For The Fitness Enthusiast A Pair Of Running Sneakers That Are Actually Pretty Hoka Hoka Bondi 8 Running Sneakers Buy From Hoka You’d be hard-pressed to go to the gym and not see at least a few pairs of Hokas—and for good reason. Not only do the popular sneakers go above and beyond in performance, but they also manage to look cool in a way that many running shoes just…don’t. The women’s Bondi 8 style is a cushioned dream, and the cheerful color combos are sure to brighten up her daily workouts. Best Anniversary Gift For The Fashion Plate A Dress That Will Liven Up Her Fall Wardrobe La Ligne La Ligne x Don’t Let Disco Disco Dress Buy From La Ligne This A-line midi is a collaboration between the go-to brand for chic essentials, La Ligne, and playful jewelry label Don’t Let Disco. Available in kelly green and black, each dress features vintage African brass beads along its subtle square neckline, as well as handmade ceramic beads—created by a women-owned business in the Ukraine—on its double straps. With a smocked back panel and in-seam pockets, this gift won’t just look good; it’ll also do good, with a portion of proceeds benefiting The Lower Eastside Girls Club. Best Anniversary Gift For The Long-Distance Love A Message Box That Lets You Connect From Afar Amazon Keith Haring Lovebox Messenger Color & Photo Buy From Amazon Star-crossed lovers, you’re in for a treat. Featuring artwork by the iconic Keith Haring, the bamboo Lovebox connects to WiFi so you can send messages and photos from anywhere in the world to your intended. As soon as the message comes through, the red wooden heart on the box will spin until she lifts its lid to view your message. Then, she can let you know that it was received by spinning the heart herself. Best Anniversary Gift For The One Who Exudes Quiet Luxury A Beautifully Crafted Bag That Will Always Be In Style Saks Fifth Avenue Bottega Veneta Casette Intrecciato Leather Shoulder Bag Buy From Saks Fifth Avenue If she embraced quiet luxury long before it had a name, this bag is exactly what her wardrobe needs. Bottega Veneta has given the trendy baguette silhouette its iconic woven leather treatment, and the result is a timeless style—available in chic neutrals as well as the label’s signature bright green—that she’ll reach for constantly. Best Anniversary Gift For The One Who Wears Her Heart On Her Sleeve A Bracelet That Will Do It For Her BaubleBar BaubleBar 18K Gold Heart Bracelet Buy From BaubleBar You don’t have to spend a lot to show your significant other how much you care—and this BaubleBar bracelet is proof. It’s simple and dainty, with an 18kt gold-plated sterling silver chain that boasts a small heart pendant covered in cubic zirconia stones. It’s a sweet addition to her jewelry box, and it’s one that she’ll treasure forever. Best Anniversary Gift For The Fragrance Collector A Fresh Floral Scent To Add To The Mix Jimmy Choo Jimmy Choo Rose Passion Perfume Buy From Jimmy Choo Inspired by the French Riviera, Jimmy Choo’s Rose Passion perfume just might be the next best thing to a glamorous getaway. With fresh notes of coconut water, frangipani flower, orchid and jasmine, the pretty-in-pink bottle of this elixir will go a long way. Best Anniversary Gift For The Footwear Fanatic A Pair Of Heels That Will Dazzle Her Loeffler Randall Loeffler Randall Penny Champagne Pleated Bow Heel Buy From Loeffler Randall You can—and should—toast to your anniversary with champagne. But there’s no harm in throwing a sparkly champagne-hued heel into the mix now, is there? This lamé Loeffler Randall sandal is as effortless as it is comfortable, and it will instantly jazz up any outfit. It’s a present that’s literally wrapped up in a bow. Best Anniversary Gift For The Lady Who Appreciates A Bouquet An Arrangement That Will Last Until Next Year’s Celebration Venus et Fleur Venus Et Fleur Sylvie Porcelain Vase Eternity Flower Arrangement Buy From Venus Et Fleur As nice as a fresh flower delivery can be, it’s a fleeting gift. Why not opt for a bouquet that lasts for over a year instead? Venus et Fleur’s Sylvie arrangement comes with a stunning mix of eternity flowers, including calla lilies, roses, hydrangeas and dianthus. Think of it as a symbol of your love that you can keep on display until next year’s anniversary, at the very least. Best Anniversary Gift For The Trendsetter A Pair Of The Season’s Coolest Sunglasses JENNY BIRD Jenny Bird The Round Sunglasses Buy From Jenny Bird When cool-girl jewelry brand Jenny Bird first branched out into eyewear, we knew it was going to be, well, cool. As expected, these minimalist round shades—with frames made from gold-plated recycled steel and copper tips—manage to look effortlessly stylish for any outdoor occasion. Best Anniversary Gift For Your Other Half A Quirky Tote That Reflects Your Relationship Boredwalk Boredwalk Made For Each Other Peanut Butter And Jelly Tote Bag By Ex-Boyfriend Buy From Boredwalk Featuring an adorable peanut butter and jelly duo who were clearly meant to be, this canvas tote says it all. For just $10, it’s an extremely endearing gift—plus, she could always use another cute bag. Best Anniversary Gift For The Lady Who Loves Words Of Affirmation A Trinket Tray That Spells Out Exactly How You Feel Neiman Marcus Mariposa I Love You Statement Tray Buy From Neiman Marcus If there’s one thing that’s certain, it’s that she could always use another trinket tray. This one from Mariposa is handcrafted from recycled aluminum and features those three little words that she loves to hear you say. An elegant catchall for her nightstand, it’ll serve as a great spot for her to stash the jewelry that you present her with on other occasions (wink, wink). Best Anniversary Gift For The Homebody An Ornate Candle To Liven Up Her Favorite Room Baobab Collection Baobab Collection Candle Tomorrowland Buy From Baobab Collection This Baobab candle is practically a work of art. With a nature-inspired print in shades of green, it looks as enchanting as its scent, which features notes of lily of the valley and pear. She’ll appreciate it as statement décor when she’s not busy lighting it for a relaxing night at home. Best Anniversary Gift For The Woman Who Appreciates A Personal Touch A Truly Unique Ring With Her Initial In Diamonds MATEO NEW YORK Mateo New York 14K Gold Diamond Initial Ring Buy From Goop Whether or not you’ve already given her the ring, this personalized sparkler by Mateo New York will rock her world. Handmade from solid 14kt yellow gold, it’s set with emerald-cut crystal quartz that features a “hidden” pavé diamond initial underneath. It’s the epitome of elegance. Best Anniversary Gift For The Wine Connoisseur A Bottle Of White Meant To Awaken The Senses The Prisoner Wine Company Blindfold Blanc De Noir White Wine Buy From The Prisoner Wine Company When giving a bottle of wine as a gift, the bottle itself has to be special. And Blindfold’s Blanc de Noir is one to remember. The light and zesty white-pressed pinot noir is housed in a bottle that lives up to its name, and there’s no denying that it’ll set your anniversary date night mood just right . Best Anniversary Gift For The Beauty Junkie A Silky Lipstick That Delivers Results In A Single Swipe PAT McGRATH LABS Pat McGrath Labs SatinAllure Lipstick Buy From Pat McGrath Labs If you’d prefer to stick to the basics instead of going over-the-top, a new lipstick is the way to go. This one from Pat McGrath Labs’ limited-edition Love Collection is an obvious choice, based on its name alone (and the gold bow-adorned packaging). Choose from 18 flattering shades like the scarlet red Crimson Ecstasy and the natural Nude Venus. Best Anniversary Gift For The Jet-Setter A Convenient Carry-On That Makes Travel A Breeze Béis Béis The Carry-On Roller Buy From Béis This Béis carry-on is a bestseller for a reason, and it’s a great choice if she travels frequently for work or pleasure. The monochromatic design is as chic as it gets, and its smooth-rolling wheels, trolley handle and roomy interior will give her something to smile about as she waits in line at airport security. Best Anniversary Gift For The Minimalist A Pair Of Simple Yet Sophisticated Gold Hoops Jennifer Fisher Jennifer Fisher Fine Walk Huggies Buy From Jennifer Fisher Jennifer Fisher’s hoops are iconic for a reason—and her fine jewelry makes the ultimate subtle style statement, in particular. This 14kt yellow gold pair of huggies has a polished finish and is super lightweight, so she can wear them all day (or night) long without being weighed down. Best Anniversary Gift For The Barbie To Your Ken A Pretty-In-Pink, Buttery-Soft Bodysuit Skims Skims Fits Everybody Lace Cami Bodysuit Buy From Skims Cute wardrobe staples are always a nice present, and Skims has some of the softest, most comfortable options out there. This super-soft bodysuit has romantic lace trim and comes in this very happy shade of bubblegum pink, as well as a regal purple and classic black. The cami and onesie versions are also worth another look. Best Anniversary Gift For The Glam Lover A Sleek Smart Mirror That Will Become Her New BFF simplehuman Simplehuman 5x Sensor Mirror Buy From Simplehuman Whether she recreates the GRWM videos that she sees on TikTok or sticks to her tried-and-true beauty regimen, Simplehuman’s smart mirror will change her routine for the better. For starters, it’ll light up automatically as soon as her face approaches, simulating natural sunlight so she’ll know that her makeup is flawless upon leaving the house. Additional touch-control brightness settings, five-time magnification and a single charge that delivers up to five weeks of LED goodness further seal the deal. Best Anniversary Gift For The Fan Of A Little Blue Box A Ring That Comes In One—And Packs A Sweet Message Tiffany & Co. Tiffany & Co. Paloma’s Graffiti Love Ring Buy From Tiffany & Co. Put your love where she can see it with this ring from Tiffany & Co. Featuring Paloma Picasso’s handwriting in 18kt yellow gold, the street art-inspired design will make her think of you every time she looks down at her hand. A sweet reminder that she’ll cherish from the moment she glimpses the robin’s egg hue of its packaging. Best Anniversary Gift For The Bath Enthusiast A Dreamy Set For Her Most Relaxing Soak Yet Goop Esker The Works Bundle Buy From Goop If taking a bath is her favorite way to unwind, this set will bring her ritual to a new height. Treat her to this luxe Esker kit that features a handy dry brush, sparkling bath salts, body wash and oil, plus a chic whitewashed bath board that will store all of the essentials while she finds her zen. It even has a mirror that flips up so she can apply her face masks in the tub. Best Anniversary Gift For The One Who Always Smells Amazing A Romantic Scent With An Even More Romantic Name Saks Fifth Avenue Kilian Can’t Stop Loving You Eau De Parfum Buy From Saks Fifth Avenue With a name like “Can’t Stop Loving You,” there’s just no way that this Kilian perfume won’t be an anniversary hit. A romantic scent with top notes of orange blossom flower—a symbol of eternal love, naturally—as well as heartier notes of honey, vanilla and oak moss, she’ll be over the moon for it (and so will you). Best Anniversary Gift For The One With A Sweet Tooth A Decadent Cake That Is As Good As It Looks Goldbelly Lady M \"Slice of the Best\" Crêpes Cake: Passion Collection Skip the standard store-bought cake and celebrate with one of Lady M’s incredible confections this year. An indulgent new take on the Japanese-French bakery’s beloved cake, the Amedei Chocolate Mille Crêpes features twenty handmade cocoa crêpes, layered with a pastry cream made from rich Italian chocolate. Topped off with chocolate shavings and chocolate ganache, it’s almost too pretty to eat. Best Anniversary Gift For The Wellness Devotee A Filtered Showerhead That Will Transform Her Daily Routine Jolie Skin Co. The Jolie Filtered Showerhead Buy From Jolie Skin Co. File this gift under both functional and glamorous. The Jolie filtered showerhead will change showers as she knows them for good, removing chlorine, heavy metals and contaminants to give her glowing skin and oh-so-soft hair. She’ll just feel better, and all you have to do is make the purchase—and, of course, install it. Best Anniversary Gift For The Stone Crab Lover A Ready-Made Feast From A Beloved Miami Landmark Goldbelly Joe\\'s Stone Crab Claws For Celebration Package Buy From Goldbelly Dinner for two, anyone? The legendary Miami Beach restaurant Joe’s Stone Crab has just joined Goldbelly, meaning that you can have a full-on feast delivered right to your door. The “Claws for Celebration” package includes your choice of stone crabs (medium, large or jumbo) alongside the landmark’s signature mustard sauce, plus all of the equipment you’ll need to enjoy them (cocktail forks, bibs, a mallet and a cracking board). It’s sure to thrill anyone who appreciates a good—no, great —shellfish moment. Best Anniversary Gift For The Home Chef A Stylish Set Of Monochrome Cookware Caraway Caraway x Tan France Monochrome Cookware Set Buy From Caraway If she likes cooking—and this is important, because you don’t want to gift something that reminds her of a chore—she’ll be blown away by Caraway’s latest cookware collection. Designed in collaboration with Queer Eye star Tan France, the limited-edition set offers a new monochromatic take on four of the brand’s key non-stick ceramic-coated pieces—a fry pan, saucepan, sauté pan and dutch oven—in shades of moss, blush and créme. Even better, each set comes with magnetic pan racks and a canvas lid holder for convenient storage. Best Anniversary Gift For The One Who Gives You Butterflies A Pair Of Unforgettable Diamond Earrings Eriness Jewelry Eriness Diamond Butterfly Studs Buy From Eriness Anything from Eriness will charm the jewelry lover in your life, but these 14kt gold butterfly-shaped pave diamond studs are especially sweet—and on-trend. Not only will they add some whimsy to her ear stack, they’ll have her queuing up “Butterflies” by Kacey Musgraves and thinking about you whenever she wears them. The brand’s sunshine-inspired butterfly necklace would also do the trick. Best Anniversary Gift For The One You’re Moving In With A Luxe Cooling Bedding Bundle Sijo Sijo AiryWeight Eucalyptus Move In Bundle Buy From Sijo If your partner runs warm, this cooling bedding bundle from Sijo will be a welcome gift (and if you’re the hot sleeper of the couple, she’ll still appreciate the fact that everyone can get a better night’s sleep). The set includes a comforter, duvet cover, sheets, two pillows and pillowcases—all made from sustainable eucalyptus fibers. It’s soft, lightweight, moisture-wicking and comes in a nice range of colors. Best Anniversary Gift For The One Who Always Sparkles A Subtle New Band To Add To Her Rotation Angara Angara Pavé Set Diamond Bar Ring Buy From Angara Even if you’ve already given her the diamond ring of her dreams, that doesn’t mean she wouldn’t like another stunning piece to complement it. Made from 14kt yellow gold, this sleek Angara ring features a simple bar design with pavé set diamonds and milgrain details. You can customize it to her liking, choosing from four levels of gemstone quality and three carat weights (if she’s not a yellow gold fan, it’s also available in four other metals). No matter which options you ultimately select, know that it’ll look great stacked alongside her other favorite bands. Best Anniversary Gift For The Fan Of All Things Designer A Robe That Will Have Her Lounging In Luxury Bloomingdale\\'s Versace I Heart Baroque Bath Robe Buy From Bloomingdale\\'s There’s no way she’ll wear this Versace bathrobe without feeling totally regal. Featuring a baroque print trim and the fashion house’s logo, she’ll be in glam mode as soon as she puts it on. There’s something undeniably luxe about the black option, but it’s worth noting that it also comes in shades of red, gold and white. No matter which color you choose, the best part is that it’s machine-washable—and for a Versace piece, that’s pretty hard to beat. Best Anniversary Gift For The Ultimate Barbie Girl A Set Of Dreamhouse-Worthy Sleep Essentials Saks Fifth Avenue Barefoot Dreams x Barbie Accessories Limited Edition Loungewear 4-Piece Set Buy From Saks Fifth Avenue If she can’t stop talking about the Barbie movie, why not indulge her with something she can wear around her very own dreamhouse? This set from Barefoot Dreams includes an eye mask, scrunchie and socks in the brand’s signature CozyChic fabric, plus an equally fuzzy pouch that’s bound to become her go-to toiletry bag. Best Anniversary Gift For The Yin To Your Yang A Precious Bracelet With A Symbolic Charm Sydney Evan Sydney Evan Gold & Enamel Yin Yang Heart On Lavender Amethyst Don’t let the trendy lavender shade of this Sydney Evan bracelet fool you—it’s a timeless piece that she’ll treasure forever. The amethyst beads are strung on an easy-to-wear, stretchy cord and the sole charm is a 14kt yellow gold yin yang heart that represents the balance between two opposites. It’s a pretty and thoughtful present for your other half. Best Anniversary Gift For The One Who Can Never Make Up Her Mind A Box That’s Overflowing With Purse-Size Perfumes Bloomingdale\\'s Bond No. 9 New York Grand Bon-Bon Gift Set Buy From Bloomingdale\\'s Hey, just because she likes having options doesn’t mean she’s indecisive. Either way, this Bond No. 9 fragrance set will have her feeling like a kid in a candy store. It’s filled with 30 of the brand’s best-selling, colorfully-wrapped scents in mini “bon bon” sizes that she can stash in her bag on the go. Best Anniversary Gift For The One Who\\'s Always Cold A Cardigan That Goes With Everything Minnie Rose Minnie Rose Cotton Cable Cardigan If she never leaves home without a sweater, treat her to a new one just in time for cooler days ahead. This 100% cotton cable-knit cardigan from Minnie Rose is perfect for layering, and with its unique distressed trim, it feels more casual than buttoned-up. This neutral camel will go with any outfit, but it’s available in a wide range of colors, too. Best Anniversary Gift For The Subtle Sophisticate A Simple Chain Necklace With One Charming Pearl Monica Vinader Monica Vinader Nura Round Pearl Fine Chain Necklace Buy From Monica Vinader Diamonds may be a girl’s best friend, but pearls are right behind them. This Monica Vinader necklace is the epitome of sophistication, with a beautiful freshwater pearl draped on a simple, classic chain. Made from 18kt gold vermeil, the durable metal looks and feels like solid gold; price-wise, it clocks in blissfully lower. Best Anniversary Gift For The One Who Deserves A Vacation A Luxurious Trip To A Top-Rated Mexican Resort Nizuc NIZUC Resort & Spa In Cancún Reserve At NIZUC Resort & Spa If she could use a relaxing getaway—and let’s be real, she does—book a trip to NIZUC Resort & Spa in Cancún, stat. Nestled in the secluded enclave of Punta NIZUC, the ultra-chic Mexican oasis is built on the ancient base of Mayan astronomers and once served as a presidential retreat. Celebrating an anniversary of its own this year—lucky number 10—the resort has everything you could possibly ask for: Stunning private beaches, luxe swimming pools and oceanfront suites and private villas that boast incredible views. The lush 29-acre property is also home to six gourmet restaurants but in between meals, you can indulge in a Mayan-inspired couples’ massage at the spa by ESPA and experience a rejuvenating hydrotherapy circuit before heading back to the sand. It’s the definition of paradise—and a gift for her and for you. Best Anniversary Gift For The Handbag Collector A Sleek And Versatile One With Interchangeable Straps KAAI KAAI Ikon Clutch Buy From KAAI When it comes to purses, the more options, the better. And this brilliant bag from KAAI is as versatile as they come. You don’t even have to choose between getting her a clutch, shoulder bag or crossbody— thanks to interchangeable straps, this style blissfully functions as all three. In this maple brown hue, the glossy croc-printed leather looks especially striking—but it would serve her equally well in any of the other available colors or finishes (there are ten versions total). Best Anniversary Gift For The Fan Of A Striking Scent A Bold Floral Fragrance That Will Become Her Go-To Bloomingdale\\'s Creed Carmina Eau De Parfum Buy From Bloomingdale\\'s It’s easy to see why Carmina, the newest women’s fragrance from Creed, has made a name for itself. The modern floral scent is downright captivating, with sweeter notes of black cherry and Rose de Mai blending with warm cashmere wood, seductive amber and smoldering musk. Whether you opt for the 1-ounce bottle or spring for 2.5, she’ll be spritzing away happily. Best Anniversary Gift For The Social Butterfly A Revolving Wardrobe For Her Many Events Nuuly Nuuly 1-Month Subscription Buy From Nuuly When it comes to gift-giving, a clothing rental subscription is an underrated option—but it’s actually a practical choice, and one that’s universally appreciated. The busy bee in your life will be thrilled to receive a one-month subscription to Nuuly, where she can choose six pieces from an online closet of more than 15,000 styles from over 300 cool girl-approved brands (Favorite Daughter even just launched an exclusive collab with the site). Nuuly handles the logistics (laundry, shipping labels), so all she has to do is wear her new outfits on repeat before sending them back after four weeks. Best Anniversary Gift For The Statement Maker A Simple Yet Glamorous Pair Of Sunglasses Oscar & Frank US Oscar x Frank Las Palmas Sunglasses Buy From Oscar x Frank She’ll feel like a million bucks in these extremely cool shades from Australian eyewear brand Oscar x Frank. With wide arms and 24kt gold details, the oversized glossy black frames make a cool retro statement without feeling like they’re trying too hard (plus, they flatter any face shape). It’s no wonder the label’s sunglasses have been worn by everyone from Justin and Hailey Bieber to Beyoncé. Best Anniversary Gift For Your Lucky Charm A Custom Necklace That Inspires Good Fortune Marlo Laz Marlo Laz Bespoke Lucky Charm Buy From Marlo Laz There’s something about Marlo Laz’s jewelry that feels worthy of an occasion—and this personalized charm is as special as they come. You can design the piece of her dreams from scratch, starting with the type of gold and center gemstone, right down to the language and color of the engraving that represents “good luck” (choose from French, Spanish or Italian in 10 shades of enamel, or opt for simple raised gold). Have the back engraved with a custom message or add a halo of diamonds for good measure. Best Anniversary Gift For The One Who Won\\'t Sacrifice Style For Comfort A Pair Of Incredibly Luxe Cashmere Joggers The White Company US The White Company Cashmere Cuffed Joggers Buy From The White Company These cashmere joggers are great for anyone who appreciates lounging around in style. The pale gray marl serves as the ultimate neutral, and the comfy elastic waistband and flattering ribbed cuffs make for the ultimate finishing touches. In fact, they’re so chic that we bet she’ll even end up wearing them outside of the house—perhaps with the matching hoodie , should you feel inclined to make it a set. Best Anniversary Gift For Your Mane Squeeze A Flat Iron That Will Style Her Hair In Under 10 Minutes Bio Ionic Bio Ionic 10X Styling Iron Buy From Bio Ionic Thanks to its time-saving technology, Bio Ionic’s revolutionary hair straightener is a gift for her and for you. The one-inch tool features sonic vibrating plates that are infused with a volcanic mineral complex and seal in moisture as they work, so her hair will actually be conditioned as she styles it wavy or straight. Best Anniversary Gift For The One Who Prefers Silver A Bracelet That Brings On The Shine Amazon Uno De 50 Bracelet Buy From Amazon Silver is staging a major comeback, and if she’s been partial to the metal all along, then this is her true moment to shine. She’ll do just that wearing this unique handmade bracelet from the Madrid-based brand Uno de 50. With two contrasting crystals—one white, one wine-hued—at each end of its open-cuff, exposed-spring design, it’ll add just the right amount of color to her jewelry box. Best Anniversary Gift For The Woman Who Loves A Style Staple A Personalized Jacket She’ll Wear On Repeat Sezane Sézane Will Jacket Buy From Sézane Sézane’s designs are known for being practical, effortless and incredibly chic. The brand’s Will jacket is no exception (the proof lies in the celebrity sightings, and everyone from Naomi Watts to Sofia Richie Grainge has stepped out wearing it in recent months). It’s available in assorted fabrics and colors, but if you choose one of the denim shades, you can have it embroidered with her initials or a personal message. MORE FROM FORBES VETTED The Best Food Subscription Boxes That Are Perfect For The Gift-Giving Season By Margaret Eby Contributor The 46 Best Sales To Shop Over The Long Weekend By Jordan Thomas Forbes Staff More Anniversary Gifts Guides To Shop: Best Gifts For Women Best 50th Anniversary Gifts Best Flower Delivery Services Best Luxury Gifts Best Anniversary Gifts For Him Coupons Personalization Mall Link to Coupon Check out my website . Samantha Simon Editorial Standards Print Reprints & Permissions',\n",
        "            'pubDate': '2023-10-06 21:38:06',\n",
        "            'image_url': 'https://imageio.forbes.com/specials-images/imageserve/65205fdbc18fe5e25ee3cb90/0x0.jpg?width=960&precrop=1600%2C900%2Cx0%2Cy0',\n",
        "            'source_id': 'forbes',\n",
        "            'source_priority': 57,\n",
        "            'country': ['united states of america'],\n",
        "            'category': ['business'],\n",
        "            'language': 'english'\n",
        "        }, {\n",
        "            'article_id': '7c7d772b6829f03f8daa7124e066560f',\n",
        "            'title': '5 Lost Formula Energy Stocks To Consider For The 4th Quarter',\n",
        "            'link': 'https://www.forbes.com/sites/gurufocus/2023/10/06/5-lost-formula-energy-stocks-to-consider-for-the-4th-quarter/',\n",
        "            'keywords': ['Investing', '/investing', 'Money', '/money', 'Investing', '/investing', 'investing', 'investing', 'standard'],\n",
        "            'creator': ['GuruFocus', ' Contributor'],\n",
        "            'video_url': None,\n",
        "            'description': \"Exxon Mobil, EOG, Diamondback Energy and others may offer good value based on Benjamin Graham's criteria.\",\n",
        "            'content': 'Forbes Money Investing 5 Lost Formula Energy Stocks To Consider For The 4th Quarter GuruFocus Contributor Opinions expressed by Forbes Contributors are their own. Following Oct 6, 2023, 05:16pm EDT | Press play to listen to this article! Got it! Share to Facebook Share to Twitter Share to Linkedin These companies may offer good value based on Benjamin Graham\\'s criteria Summary Exxon Mobil, EOG, Diamondback Energy FANG , Coterra Energy and EQT EQT qualified for the screener. While the energy sector is up again this year after a blowout 2022, oil prices fell further on Friday on the back of macroeconomic-related demand fears as well as the Russian government lifting part of its diesel export ban. Brent crude futures declined 0.56% to $83.60 on Friday. Futures for West Texas Intermediate crude retreated 0.67% to $81.76. Oil price trends year to date GuruFocus.com Due to these developments, investors may be interested in potential opportunities in energy companies that qualify for Benjamin Graham’s Lost Formula screen, a Premium GuruFocus feature. Prior to his death in 1976, the renowned investor and author of \"Security Analysis\" and \"The Intelligent Investor\" developed a refined formula that screened for companies with a price-earnings ratio of less than 10 and an equity-to-asset ratio of at least 0.5. The formula got its name from the fact he was unable to publish it before his passing; therefore, it was lost from public knowledge for a time. Since Graham also prioritized a minimum interest coverage of 5 with the companies he invested in, that element was included in the criteria as well. MORE FOR YOU Will Ozempic Users Really Buy Fewer Groceries? Major Food Stocks Drop After Walmart Exec’s Claim. Who Is Anthony Pratt The Australian Billionaire Trump Reportedly Told U S Nuclear Secrets Why Safe Haven Utilities Stocks Are Having Their Worst Year Since 2008 A backtest of the strategy from 1926 to 1976 showed it would have outperformed the Dow benchmark by approximately twice as much. The screener found health care companies that met the criteria as of Oct. 6 included Exxon Mobil Corp. ( XOM , Financial ), EOG Resources Inc. ( EOG , Financial ), Diamondback Energy Inc. ( FANG , Financial ), Coterra Energy Inc. ( CTRA , Financial ) and EQT Corp. ( EQT , Financial ). Exxon Mobil Exxon Mobil ( XOM , Financial ) has a $421.89 billion market cap; its shares were trading around $105.83 on Friday with a price-earnings ratio of 8.47, a price-book ratio of 2.13, a price-sales ratio of 1.20 and an equity-to-asset ratio of 0.55. Founded in 1999, the Irving, Texas-based company explores for, produces and refines oil and natural gas. It has operations around the world. The GF Value Line VALU suggests the stock is fairly valued currently based on its historical ratios, past financial performance and analysts’ future earnings estimates. Exxon Mobil\\'s GF Value Line GuruFocus.com At 82 out of 100, the GF Score indicates the company has good outperformance potential, driven by high ratings for profitability, financial strength, momentum and growth. The value rank, however, is low. Exxon Mobil\\'s GF Score GuruFocus.com Of the gurus invested in Exxon Mobil, First Eagle Investment ( Trades , Portfolio ) has the largest stake with 0.33% of its outstanding shares. Ken Fisher ( Trades , Portfolio ) and the T Rowe Price Equity Income Fund ( Trades , Portfolio ) also have notable holdings. EOG Resources EOG Resources ( EOG , Financial ) has a market cap of $69.85 billion; its shares traded around $119.97 on Friday with a price-earnings ratio of 8.08, a price-book ratio of 2.66, a price-sales ratio of 2.78 and an equity-to-asset ratio of 0.63. The oil and gas producer headquartered in Houston has operations in the Permian Basin of West Texas, along with the Eagle Ford and Bakken plays. According to the GF Value Line , the stock is fairly valued currently. EOG\\'s GF Value Line GuruFocus.com The company also has good outperformance potential with on a GF Score of 88, receiving high ratings for four of the criteria and a low value rank. EOG\\'s GF Score GuruFocus.com With a 0.57% stake, Bill Nygren ( Trades , Portfolio ) is EOG’s largest guru shareholder . The stock is also being held by PRIMECAP Management ( Trades , Portfolio ), Yacktman Asset Management ( Trades , Portfolio ) and T. Rowe Price, among others. Diamondback Energy Diamondback Energy ( FANG , Financial ) has a $26.90 billion market cap; its shares were trading around $150.42 on Friday with a price-earnings ratio of 7.81, a price-book ratio of 1.73, a price-sales ratio of 3.33 and an equity-to-asset ratio of 0.56. The Midland, Texas-based company, which was established in 2007, produces oil and gas products in the Permian Basin of West Texas. Based on the GF Value Line , the stock appears to be modestly overvalued currently. Diamondback Energy\\'s GF Value Line GuruFocus.com The GF Score of 74 implies the company is expected to have average performance going forward. Although the ratings for profitability, growth and momentum are high, it has moderate financial strength and a low value rank. Diamondback Energy\\'s GF Score GuruFocus.com Yacktman Asset Management ( Trades , Portfolio ) has the largest position in Diamondback with 0.81% of its outstanding shares. Other guru investors include Steven Cohen ( Trades , Portfolio ), Fisher, Arnold Van Den Berg ( Trades , Portfolio ), Ray Dalio ( Trades , Portfolio )’s Renaissance Technologies and Jefferies Group ( Trades , Portfolio ). Coterra Energy Coterra Energy CTRA ( CTRA , Financial ) has a market cap of $20.36 billion; its shares traded around $26.97 on Friday with a price-earnings ratio of 6.79, a price-book ratio of 1.61, a price-sales ratio of 2.75 and an equity-to-asset ratio of 0.64. The oil and gas producer headquartered in Houston has operations in the Permian and Anadarko Basins as well as the Marcellus Shale play. The GF Value Line suggests the stock is significantly undervalued currently. Coterra Energy\\'s GF Value Line GuruFocus.com Supported by solid ratings across the board, the GF Score of 93 means the company has high outperformance potential. Coterra Energy\\'s GF Score GuruFocus.com Holding a 0.66% stake, Jim Simons ( Trades , Portfolio )’ Renaissance Technologies has the largest stake in Coterra. Diamond Hill Capital ( Trades , Portfolio ), PRIMECAP and Cohen also have large positions in the stock. EQT EQT has a $17.63 billion market cap; its shares were trading around $42.82 on Friday with a price-earnings ratio of 4.82, a price-book ratio of 1.29, a price-sales ratio of 2 and an equity-to-asset ratio of 0.56. The Pittsburgh-based company produces natural gas and has pipeline transportation operations. According to the GF Value Line , the stock is significantly overvalued currently. EQT\\'s GF Value Line GuruFocus.com The GF Score of 70 indicates the company has poor performance potential. While it received high ratings for profitability and momentum, the growth and financial strength ranks are more moderate and value is low. EQT\\'s GF Score GuruFocus.com David Tepper ( Trades , Portfolio ) is EQT’s largest guru shareholder with a 0.57% stake. Simons’ firm, T. Rowe Price, Cohen, David Nierenberg ( Trades , Portfolio ) and several other gurus also own the stock. Other potential opportunities Additional stocks that made the screener included Marathon Oil MRO Corp. ( MRO , Financial ), Chesapeake Energy CHK Corp. ( CHK , Financial ), HF Sinclair DINO Corp. ( DINO , Financial ), Range Resources RRC Corp. ( RRC , Financial ) and Antero Resources AR Corp. ( AR AR , Financial ). Disclosures I/we have no positions in any stocks mentioned, and have no plans to buy any new positions in the stocks mentioned within the next 72 hours. Follow me on Twitter . GuruFocus Editorial Standards Print Reprints & Permissions',\n",
        "            'pubDate': '2023-10-06 21:16:48',\n",
        "            'image_url': 'https://imageio.forbes.com/specials-images/imageserve/65207921d68c5f865e25ee2c/0x0.jpg?width=960&precrop=3499%2C1967%2Cx0%2Cy91',\n",
        "            'source_id': 'forbes',\n",
        "            'source_priority': 57,\n",
        "            'country': ['united states of america'],\n",
        "            'category': ['business'],\n",
        "            'language': 'english'\n",
        "        }\n",
        "    ],\n",
        "    'nextPage': '1696627008971772165'\n",
        "}\n",
        "\n",
        "```\n",
        "\n",
        "</details>"
      ],
      "metadata": {
        "id": "Gkg8aAniw7vD"
      }
    },
    {
      "cell_type": "markdown",
      "source": [
        "<details>\n",
        "  <summary>only for domainurl</summary>\n",
        "\n",
        "```json\n",
        "\n",
        "{\n",
        "    'status': 'success',\n",
        "    'totalResults': 54,\n",
        "    'results': [{\n",
        "            'article_id': 'f300e49c111c85f67f67177a9cb215da',\n",
        "            'title': \"Energy firms holding £8.1bn of customers' money\",\n",
        "            'link': 'https://www.bbc.co.uk/news/business-66992865?at_medium=RSS&at_campaign=KARANGA',\n",
        "            'keywords': None,\n",
        "            'creator': None,\n",
        "            'video_url': None,\n",
        "            'description': 'A father-of-three reveals that it took six weeks to have £800 refunded by his energy supplier.',\n",
        "            'content': 'Energy firms holding £8.1bn of customers\\' money Published 2 hours ago Share close panel Share page Copy link About sharing Image caption, Dan Malcolm said it took six weeks to get £800 refunded by his energy supplier By Dan Whitworth Money Box reporter, BBC Radio 4 Energy firms held a combined £8.1bn of customers\\' bill overpayments at the start of 2023, new Ofgem figures show. Many households pay a set monthly amount, building up credit in the summer to cover higher winter bills. Companies can hold onto those overpayments, but MP Angus MacNeil accused them of holding \"too much money\" and \"sitting on a nest egg\". Industry group Energy UK said direct debits were based on forecasts made when unit prices were volatile. Customers can request refunds, it added. The system is designed so customers have higher amounts of credit in September and October heading into the winter, but it should balance out close to zero in April and May heading into the summer. Energy regulator Ofgem said that \"customers have the right to request their balance back at any time and be refunded in a timely fashion\". But one customer, Dan Malcolm, told the BBC it took six weeks and hours spent on multiple phone calls to get just some of his money back. The father-of-three from Dunfermline unknowingly built up £1,100 of credit with his supplier in September 2022. \"It was £800 I wanted back and I thought that was fair and they made me jump through hoops to get it - it\\'s disgusting,\" he said. \"It was so, so frustrating. Energy companies saying, \\'it\\'s your money, you can get it back when you want\\' - it\\'s lies.\" \\'Customers\\' money\\' MP Angus MacNeil, who chairs Parliament\\'s energy security and net zero committee, said Mr Malcolm\\'s story was \"very concerning indeed\". \"Something is very wrong,\" he said. \"If this is writ large across consumers across the UK then energy companies have a tidy wee nest egg sitting there with customers\\' money.\" Energy companies holding on to people\\'s money can be a good thing, explained Ellen Fraser, an energy consultant and partner at management consultancy Baringa. \"You keep your payments flat in the summer when your actual bills are smaller and intentionally build up credit on your account,\" she said. \"You then spend that credit in the winter when your bills are bigger but you stay paying the same monthly amount which helps smooth out your bills, especially over Christmas which is an expensive time of year,\" she said. But she would expect a household\\'s credit balance to be at, or at least close to zero, around what the industry calls \"the end of usage season\" in April or May. Ofgem\\'s figure of £8.1bn in customers\\' accounts between January and March this year suggested people were \"either not aware of a large credit balance, or aren\\'t being successful in their requests for refunds\", said Ms Fraser. \"Neither position is good for customers nor acceptable from suppliers,\" she added. \\'Extremely uncertain\\' Energy UK, which represents firms, said suppliers were obliged to set direct debits that are, over a 12-month period, estimated to result in a balanced account. \"These forecasts are based on estimated usage and expectations of future prices. At the time [Q1 2023] prices were extremely uncertain and the level of government support was unknown,\" a statement said. Ofgem said in a statement: \"Earlier this year, we strengthened rules regarding direct debits, which should prevent excessive accumulation of consumer credit balances. Suppliers should be basing their direct debits on the most accurate available information.\" The watchdog was unable to tell the BBC how much of the £8.1bn held in credit was from households and how much was from businesses, although it said it expected the majority was from households. It said if customers were not happy with how they were treated by their energy supplier or the problem was not fixed in eight weeks, they could complain to the Energy Ombudsman . Energy is regulated differently in Northern Ireland where the Northern Ireland Authority for Utility Regulation ( NIAUR ), an independent public body, oversees the electricity, gas, and water and sewerage industries. How to claim back credit from your energy supplier First consider whether it will be difficult to pay your bills without keeping the credit on your account Contact your supplier and tell them how much credit you\\'d like them to refund you Make sure you have an up-to-date meter reading to give them If your supplier says they won\\'t give you a refund, they must explain their decision There is more information from Citizens Advice here If you want to share your experiences on this issue please email moneybox@bbc.co.uk You can listen back to Saturday\\'s programme to find out more by clicking here or follow Money Box or Dan Whitworth on X (formerly Twitter). Related Topics Money Ofgem Energy service companies More on this story What can I do if I can\\'t pay my energy bill? Published 27 September Five tips for cutting energy costs this winter Published 24 August',\n",
        "            'pubDate': '2023-10-07 03:05:58',\n",
        "            'image_url': None,\n",
        "            'source_id': 'bbc',\n",
        "            'source_priority': 103,\n",
        "            'country': ['united kingdom'],\n",
        "            'category': ['business'],\n",
        "            'language': 'english'\n",
        "        }, {\n",
        "            'article_id': '3062edbb54fcb7ca9d401ec2aece7fb8',\n",
        "            'title': 'Sonic Innovator Mija Releases ‘No Rules’ EP And Talks Her Genre-Bending Sound',\n",
        "            'link': 'https://www.forbes.com/sites/lisakocay/2023/10/06/sonic-innovator-mija-releases-no-rules-ep-and-talks-her-genre-bending-sound/',\n",
        "            'keywords': ['Arts', '/arts', 'Lifestyle', '/lifestyle', 'Arts', '/arts', 'lifestyle', 'Lifestyle', 'standard'],\n",
        "            'creator': ['Lisa Kocay', ' Contributor'],\n",
        "            'video_url': None,\n",
        "            'description': '“I feel like now, for the first time, I am actually honing in on my sound and figuring out what it sounds like instead of [making] a million random different things.\"',\n",
        "            'content': 'Forbes Lifestyle Arts Sonic Innovator Mija Releases ‘No Rules’ EP And Talks Her Genre-Bending Sound Lisa Kocay Contributor Opinions expressed by Forbes Contributors are their own. Writing about all things dance music, food and wine. Following Oct 6, 2023, 08:09pm EDT | Press play to listen to this article! Got it! Share to Facebook Share to Twitter Share to Linkedin Mija. Amber Giles When it comes to defining an artist’s sound, there isn’t one for Mija. Her catalog cannot be categorized as one style. Amber Giles, the brainchild of Mija, creates everything from dancefloor-ready tunes to bass-forward music, elated melodies, calming tempos, experimental beats, emotional rhythms and more. Today, October 6, the genre-defying tastemaker releases her NO RULES EP, further showcasing her versatile sonic capabilities. The four-track body of work boasts pounding, bouncy and deep basslines, samples from poets and drag queens, funky and swiveling synths, catchy toplines and a nod to ballroom culture—a late 20th-century underground queer subculture where people walk, compete, perform, dance, lip-sync and model in different categories. The producer, singer and songwriter says the title of the EP is based on her “fk a genre” ethos, which has given her the space to explore and release different styles of music throughout her illustrious career. “ I WANNA BE A BIG STAR (feat. Cakes Da Killa and Wreckno) ” pays homage to “Paris Is Burning,” a 1990 documentary that chronicles ballroom culture, as well as the African-American, Latino, gay and transgender communities involved in it. Giles says it is her favorite documentary of all time because she believes it “gives an incredible insight into dance music culture, how it started with disco and [the history of] ballroom’s New York City culture.” “I think that community deserves so much praise and respect for being some of the pioneers in the foundation of everything that we listen to and enjoy today,” the artist says. “I have a lot of drag queen friends, and I wanted to make a song for them that would amplify them and make them feel good.” MORE FOR YOU Cooper Flagg, Nation’s No. 1 Hoops Recruit, Closing In On College Decision Chinese Billionaire s Texas Company Owes Millions On Unpaid Bills The T 64 Ukraine s Most Important Tank Could Go Extinct In Three Or Four Years “[It’s] the most emotional song for me. It definitely makes me want to cry and rave at the same time,” she adds about “I WANNA BE A BIG STAR.” The sound designer says it’s important for dance music fans to know the roots of the scene’s culture, noting that “we stand on the shoulders of giants” but that narrative is “one of the parts that gets left out in a lot of the stories when people talk about the history.” She says the gay community is the one she resonates with the most, and she feels empowered by it. The EP’s “ A WOMAN COMES INTO THE ROOM ” features a ‘70s poem by American poet Alice Notley. Giles says she initially discovered the poem through a track by acid house duo Medicine 8, but she wasn’t able to find the record for 10 years. She recently unearthed it and decided she needed to do a “deep dive” into it. While it was difficult to locate Medicine 8, she eventually found one of its artists. He dug into his old record collection and found that Notley was the poet on the song. Giles found Notley and got her permission to use her sample. Impressively, No Rules was entirely funded by selling digital collectibles on web3 and by raising Ethereum—a truly innovative feat. The beatmaker, who is currently ranked No. 9 and was formerly rated No. 2 on the chart for top artists in web3, says she’s been selling NFTs for almost two years. Giles believes that web3 won’t be sustainable because many artists do not interact with the people buying their works, so she decided to “flip the script.” She did this by uploading her music to web3 the same way she would post her tracks on SoundCloud . In turn, she learned that there was an entire fan base on the technology side who would consistently buy her NFTs because they knew she was “going to come back” and release more. The multi-genre maestro connects daily with her NFT buyers through a telegram chat with about 150 people. This has allowed her to become close with her community and make friends with some of them. She even met bloody white and DEEGAN through mutual friends in the web3 space, and both artists are featured on the EP. Giles says they are “smaller” acts on NO RULES but there are also “legends” on it, such as Cakes Da Killa and Wreckno . Her web3 work has not only allowed her to make new connections but it has also proven to be profitable. Giles makes royalties on this secondary market, noting that it can be of big financial gain if one is consistent with it. She defines it as a “long-term game.” She has seen remarkable success through selling her NFTs as it has funded everything as far as marketing, recording feature costs, touring and more. The producer has the power to sell her NFTs and raise an abundance of Ethereum because she’s been an independent artist throughout the majority of her career, giving her the rights to retail her catalog. \"I started [raving] so young. I was like 15,\" Mija says. \"When I went to my first rave, I was a full ... [+] kandi kid. Phoenix was wild. We had a big, big underground rave scene.\" Dylan Villarreal The heavyweight champion of genre-less music says the biggest advantages of being an independent artist are putting out music whenever and with whoever she wants, not having middlemen in her release process, not having people trying to guide where her art goes and not having her albums scrapped. Giles believes music makers should have autonomy over their own creativity. However, she does see the benefits of working with labels, which she does with smaller projects. An example of this is when she released “ Groove ” on LP Giobbi\\'s Femme House imprint. The label provided her with a non-exclusive deal for the song, which was presented on the LP Giobbi x Insomniac Records Presents Femme House compilation . “I want to collaborate with other artists, with other labels and [with] communities,” Giles says. “I want to be able to do that, but I don\\'t ever want to do it exclusively. When you\\'re able to do a non-exclusive, it\\'s cool [because] we can work together in a few years if I want to remix this or do something.” Giles believes that her purpose in life is to “make people feel good, make people feel seen and make them feel like they can express themselves without being judged.” She tries to emulate this through her deejaying, noting that she feels in control of those spaces when performing. She adds that by giving off that energy in her sets, people reciprocate that vibe back and it fills the room. The genre-bending maven says her sound is less “curated or anticipated” as it’s based on different phases she has gone through in her life. Giles says it’s cyclical and that each time she returns to a style, she has more knowledge from when she previously produced it. This allows her to become better at making those tunes by evolving her sound design. Her “fk a genre” concept began when she was 23 years old because she wanted to learn as much as possible. This ideology has certainly empowered her to transcend stylistic borders throughout her growth as an artist. “What looks like I\\'m chaotic and doing all sorts of things at the same time…I kind of am,” Giles says. “I feel like now, for the first time, I am actually honing in on my sound and figuring out what it sounds like instead of [making] a million random different things. It is starting to feel more cohesive. So I\\'m not sure if it\\'s really intentional, but in the beginning, it was because I didn\\'t know what I wanted to do yet and I wasn\\'t sure where I stood.” Follow me on Twitter or LinkedIn . Check out my website . Lisa Kocay Editorial Standards Print Reprints & Permissions',\n",
        "            'pubDate': '2023-10-07 00:09:45',\n",
        "            'image_url': 'https://imageio.forbes.com/specials-images/imageserve/651ff05c926529d84a107d55/0x0.jpg?width=960',\n",
        "            'source_id': 'forbes',\n",
        "            'source_priority': 57,\n",
        "            'country': ['united states of america'],\n",
        "            'category': ['business'],\n",
        "            'language': 'english'\n",
        "        }, {\n",
        "            'article_id': '1bd50e23798463ee5867240e22a9fc35',\n",
        "            'title': 'Apple On Track To Lead On Smarter, Cooler Augmented Reality',\n",
        "            'link': 'https://www.forbes.com/sites/jonmarkman/2023/10/06/apple-on-track-to-lead-on-smarter-cooler-augmented-reality/',\n",
        "            'keywords': ['Investing', '/investing', 'Money', '/money', 'Investing', '/investing', 'Money', 'Investing', 'standard'],\n",
        "            'creator': ['Jon Markman', ' Contributor'],\n",
        "            'video_url': None,\n",
        "            'description': 'Augmented reality is finally ready for the mass market.',\n",
        "            'content': 'Forbes Money Investing Apple On Track To Lead On Smarter, Cooler Augmented Reality Jon Markman Contributor Opinions expressed by Forbes Contributors are their own. Analyzing tech stocks through the prism of cultural change. Following Oct 6, 2023, 07:58pm EDT | Press play to listen to this article! Got it! Share to Facebook Share to Twitter Share to Linkedin The logo of is seen on a screen next to an illustration of the stock market. is one of the biggest ... [+] companies in the world. (Photo by Alexander Pohl/NurPhoto via Getty Images) NurPhoto via Getty Images Augmented reality is finally ready for the mass market. New AR AR devices are coming soon that will change the way we learn, play and see the world. A viral video leaked last week shows the amazing potential of AR to bridge the gap between our physical world and the wealth of digital information now available. It’s the beginning of a gigantic new business segment. Investors should consider buying Apple AAPL shares for the long-term on big pullbacks. Tim Cook, chief executive officer first expressed interest in AR in 2016 when he told analysts the platform could be huge . Cook promised Apple would make investments accordingly. Since then the Cupertino, Calif.-based company filed numerous patents, bought start-ups, hired new executives and launched ARKit , its AR software developer kit. The purchase of Camerai in 2019, and Next VR during 2020 added computer vision building blocks plus teams of dedicated developers. Bloomberg reported in Jan. 2021 that all of those investments could bear fruit as early as 2023, when Apple is set to release its first AR device. Updated reports in early September suggest three new Apple headsets will straddle both the augmented and virtual worlds. The first is a goggles-like device code-named Reality Pro that will feature two 4K micro-OLED displays with Apple microprocessors, 15 optical modules, Wi-Fi 6E connectivity, eye and object tracking, plus handheld gesture controls. MORE FOR YOU Cooper Flagg, Nation’s No. 1 Hoops Recruit, Closing In On College Decision Chinese Billionaire s Texas Company Owes Millions On Unpaid Bills The T 64 Ukraine s Most Important Tank Could Go Extinct In Three Or Four Years Gestures play a big part of the video that is making the rounds in social media . The video was made by a company called Varjo , and shows a user interacting with a digital version of the human anatomy. The data is superimposed over the physical world. It is rich at tactile. The experience is fully immersive. The headset wearer easily manipulates musculature, portions of the skeleton, organs, and even elements of the circulatory system. The video is viral because it shows how AR solves a problem: The Harvard Business Review notes that human reality is three-dimensional. We now have access to more information than at any time our history, yet most of it is trapped in a two-dimensional world of pages and screens. AR unlocks that information by making it 3D. Cook recognized the potential long ago. More importantly, he saw an opportunity to scale AR into a huge new business vertical for Apple. New iPhones and iPads now come equipped with state-of-the-art LiDar sensors. These light-detecting radar sensors can easily 3D map rooms, people and objects in space. Using software developed through corporate acquisitions, it’s a snap to ad AR digital information in real time. The rest of the integration is happening in Cupertino. Changes to the core operating system code allow AR content to be viewed on devices as old as the first-generation iPhone SE. For those not keeping track, that smartphone predates iPhone 6. There are some challenges, though.According to Bloomberg , the Reality Pro headset might cost as much as $3,000. There is also the pesky problem of ultimately convincing users to wear computers on their face. Apple product managers have never been shy about pricing company gear above the competition. The average selling price of iPhones far exceeds Androids, yet in 2021 the company shipped 228 million units. And the marketing team somehow convinced tens of millions of customers to buy AirPods. The original wireless white earbuds launched in 2016, and looked like a pair of golf tees dangling from the wearer’s ears. Three years later Dan Ives, an analyst at Wedbush estimated that Apple sold 60 million units, making AirPods a $12 billion business. AR has that kind of potential, only bigger. AR fundamentally changes the way people interact with digital media. There are big new opportunities in education, gaming, and general productivity. Also, the large ecosystem of iPhone and iPad users provides a convenient transition to headsets. At a price of $150.43, Apple shares trade at 23.3x forward earnings, and 6.3x sales. Technology stocks have had a rough time in 2022, and Apple is down 15% year-to-date. Given the AR opportunity, shares are definitely attractive over the longer-term. When the broad rebound in the market arrives, be sure to have Apple on your shopping list. Are you ready to take control of your financial future? Our Strategic Advantage newsletter provides the insights and guidance you need to succeed. Try it now for just $1! Check out my website . Jon Markman Editorial Standards Print Reprints & Permissions',\n",
        "            'pubDate': '2023-10-06 23:58:41',\n",
        "            'image_url': 'https://imageio.forbes.com/specials-images/imageserve/65209ea27c7925fdecdcb44d/0x0.jpg?width=960',\n",
        "            'source_id': 'forbes',\n",
        "            'source_priority': 57,\n",
        "            'country': ['united states of america'],\n",
        "            'category': ['business'],\n",
        "            'language': 'english'\n",
        "        }, {\n",
        "            'article_id': '1865be97fe0f96fa621389b98bed57a4',\n",
        "            'title': '10 Events In Texas For October’s ‘Ring Of Fire’ And April’s Total Solar Eclipse',\n",
        "            'link': 'https://www.forbes.com/sites/jamiecartereurope/2023/10/06/10-events-in-texas-for-octobers-ring-of-fire-and-aprils-total-solar-eclipse/',\n",
        "            'keywords': ['Science', '/science', 'Innovation', '/innovation', 'Science', '/science', 'Lifestyle', '/lifestyle', 'Travel', '/travel', 'science', 'science', 'standard'],\n",
        "            'creator': ['Jamie Carter', ' Senior Contributor'],\n",
        "            'video_url': None,\n",
        "            'description': \"On October 14 the path of the “ring of fire” solar eclipse will surge across Texas Hill Country. 177 days later a total solar eclipse will follow. Here's where to be.\",\n",
        "            'content': 'Forbes Innovation Science 10 Events In Texas For October’s ‘Ring Of Fire’ And April’s Total Solar Eclipse Jamie Carter Senior Contributor Opinions expressed by Forbes Contributors are their own. I inspire people to go stargazing and experience solar eclipses Following Oct 6, 2023, 07:15pm EDT | Press play to listen to this article! Got it! Share to Facebook Share to Twitter Share to Linkedin The paths of the annular and total solar eclipses on October 14 and April 8, respectively, cross in ... [+] Texas Hill Country. NASA\\'s Scientific Visualization Studio A “ring of fire” annular solar eclipse is coming to Texas and you don’t have much time left to make a plan . On October 14, 2023, the 125 miles wide path of the “ring of fire” solar eclipse will surge across the Lone Star state between 11:41 a.m. CDT and 12:00 p.m. CDT, according to GreatAmericanEclipse.com , with a long partial solar eclipse either side. Remote West Texas, San Antonio, Corpus Christi and Padre Island National Seashore will all see the “ring of fire,” but so will Texas Hill Country—and for this particular region of rolling hills and vineyards, it’s merely a warm-up. For just 177 days later something even rare and much more impactful will be seen from the likes of Kerrville, Bandera, Uvalde, Vanderpool, Junction and Rocksprings. On April 8, 2024—for the second time in under six months—these locations will see another partial solar eclipse, but at the event’s peak the sun will totally eclipsed. MORE FROM FORBES 8 Places To Watch The \\'Ring Of Fire\\' In San Antonio, Texas By Jamie Carter Celestial Good Luck Given that total solar eclipses occur about once every 400 years in any given place on Earth, this is celestial good luck of the highest order. Not only that, but this region is considered to have the best prospects of a clear sky of the entire path through the U.S. (though it also crosses Mexico, where the odds are higher again). For both eclipses, NASA will be live streaming from Kerrville. Statistically, Junction and Kerrville have the best prospects of a clear sky for both eclipses, according to eclipse meteorologist Jay Anderson at Eclipsophile.com . MORE FOR YOU Cooper Flagg, Nation’s No. 1 Hoops Recruit, Closing In On College Decision Chinese Billionaire s Texas Company Owes Millions On Unpaid Bills The T 64 Ukraine s Most Important Tank Could Go Extinct In Three Or Four Years Check out this interactive Google map showing both eclipse paths and you’ll see exactly what’s going on as the 120 miles wide paths of the two solar eclipses, on October 14 and April 8, respectively, cross to create 14,000 square miles of lucky country. About 25,000-50,000 visitors are expected around October 14 and over 100,000 around April 8, according to MySanAntonio . The paths of the two solar eclipses cross in Texas Hill Country. Michael Zeiler/GreatAmericanEclipse.com Here are 10 festivals and events in the crosshairs of the two eclipses, so being held twice—once for the “ring of fire” (considered something of a warm-up) and again in April for the total solar eclipse, America’s last until 2044: 1. Solar Eclipse Village, Uvalde “Ring of fire” on October 14: 11:49 a.m. CDT, 4 minutes 35 seconds Totality on April 8, 2024: 1:30 p.m. CDT, 4 minutes 26 seconds Bang on the centerline close to the Frio River in garner State Park, Solar Eclipse Village (October 14-16, free) is the place to head of you’re a science buff. A full program of lectures, activities and guided eclipse viewing, astrophotography sessions and a guided stargazing tour on the Saturday will be followed on Sunday by a preview of April 8’s total solar eclipse. Expect talks from eclipse experts including solar and astrophysicists, eclipse chasers, local weather experts, amateur astronomers, photographers, education providers and local planners. More information . 2. Kerrville River Festival “Ring of fire” on October 14: 11:50 a.m. CDT, 3 minutes 57 seconds Totality on April 8, 2024: 1:32 p.m. CDT, 4 minutes 23 seconds Held at Kerrville’s Louise Hays Park on the Guadalupe River is, this free event on October 14 will include a free kids zone, festival vendors, drinks, live music, with NASA in attendance to live stream the eclipse on a national broadcast. Camping is available at nearby Kerrville-Schreiner Park . Expect something similar on April 8. More information . 3. TexEclipse PreParty & TexEclipse Music Festival, Junction “Ring of fire” on October 14: 11:48 a.m. CDT, 4 minutes 15 seconds Totality on April 8, 2024: 1:32 p.m. CDT, 3 minutes 9 seconds Two solar eclipses in under six months will be visible from Junction in the Texas Hill Country, which will host the TexEclipse PreParty for the “ring of fire” and, come April 8, 2024, the bigger TexEclipse Music Festival. The chilli-themed TexEclipse PreParty on October 13-14, 2023 costs $20 per day and will feature a chilli cook-off, best salsa contest, best chilli pepper outfit contest a margarita mix-off. More information . 4. Welcome Home Festival 2023 & KerrEclipse 2024 Folk Festival, Medina “Ring of fire” on October 14: 11:50 a.m. CDT, 4 minutes 24 seconds Totality on April 8, 2024: 1:31 p.m. CDT, 4 minutes 23 seconds Each spring since 1972 the 18-day Kerrville Folk Festival has been staged at Quiet Valley Ranch at Medina near Kerrville. Next year it gets a very special headliner when a totally eclipsed sun makes a guest appearance. It’s being held on April 5-8 with Welcome Home Fest preceding it on October 12-15. More information . 5. Stonehenge II Eclipse Celebrations , Ingram “Ring of fire” on October 14: 11:50 a.m. CDT, 4 minutes 9 seconds Totality on April 8, 2024: 1:31 p.m. CDT, 4 minutes 25 seconds The original 5,000 years old Neolithic monument in Salisbury Plains, England won’t get see a major solar eclipse until June 10, 2393, but this concrete art project run by the Hill Country Arts Foundation in Ingram will get two in six months. Expect parking ($20 in October/$100 in April), some RV sites, food trucks, a beer tent and a performance in October by the New Buddy Holly Band. More information . 6. Eclipse UTOPiA, Utopia “Ring of fire” on October 14: 11:49 a.m. CDT, 4 minutes 49 seconds Totality on April 8, 2024: 1:30 p.m. CDT, 4 minutes 24 seconds The Four Sisters Ranch near Bandera, Texas is hosting the family-friendly Eclipse UTOPIA , a campout promising music and unparalleled views for a maximum of 1,500 guests. Return on April 8, 2024 to experience a total solar eclipse at the same location. 7. Bandera: DinoSolar Eclipse “Ring of fire” on October 14: 11:50 a.m. CDT, 4 minutes 34 seconds Totality on April 8, 2024: 1:31 p.m. CDT, 4 minutes 6 seconds The self-proclaimed “cowboy capital of the world,” Bandera’s Natural History Museum’s DinoSolar Eclipse on October 14 ($50 per car/truck) will include free crafts, t-shirts and dino tours, with an astronomer onsite for discussion and safe viewing via projections and a solar-filtered telescope. Venues across Bandera will host smaller events, including the 11th Street Cowboy Bar, Pipe Creek Roadhouse & Backyard, Pipe Creek Dance Hall, Bandera Brewery and Red Horse Saloon. April sees Bandera’s Mansfield Park Rodeo Arena host the Ground Zero Music Festival , which includes 20 bands, a full cowboy rodeo, stunt shows and a car and truck show. 8. Ring of Fire Eclipse Firewalk and Star Party, Tarpley “Ring of fire” on October 14: 11:50 a.m. CDT, 4 minutes 47 seconds Totality on April 8, 2024: 1:31 p.m. CDT, 4 minutes 15 seconds This scenic camping event at Luminous Heart Ranchette near Tarpley, Texas costs $293 for two nights (October 13-15). After the “ring of fire” a path of glowing embers will be prepared for a barefoot firewalk. More information . 9. Kickapoo Cavern State Park, Kickapoo “Ring of fire” on October 14: 11:49 a.m. CDT, 3 minutes 2 seconds Totality on April 8, 2024: 1:29 p.m. CDT, 3 minutes 46 seconds A park containing fourteen caves—though only one is open to the public–doesn’t at first glance seem like a great place to watch a solar eclipse. However, an organized viewing event on October 14 will take place not below ground, but at a bat deck where, suggests the website, observers may see some bats confused by the drop in light levels. The effect will be much more pronounced six months later. Passes for April’s event can be purchased up to 30 days in advance . 10. Creation Celebration, Medina “Ring of fire” on October 14: 11:50 a.m. CDT, 4 minutes 39 seconds Totality on April 8, 2024: 1:31 p.m. CDT, 4 minutes 19 seconds This festival featuring Christian music (October 13-15, with a similar event in April) will include speakers, worship sessions and food trucks. More information . The path of the \"ring of fire\" annular solar eclipse through the U.S Southwest on October 14, 2023. Michael Zeiler/GreatAmericanEclipse.com Where To See The ‘Ring Of Fire’ Solar Eclipse This annular solar eclipse must be viewed inside a narrow path across the surface of Earth that crosses Oregon, northern California, Nevada, Utah, northeastern Arizona, southwestern Colorado, New Mexico and Texas. After it leaves the U.S. it will be visible from Mexico’s Yucatan Peninsula, Belize, Honduras, Nicaragua, Panama, Colombia and Brazil. I’m an expert on eclipses—the editor of WhenIsTheNextEclipse.com and author of The Complete Guide To The Great North American Eclipse of April 8, 2024 . For the very latest on the “ring of fire” solar eclipse check my main feed for new articles each day. Wishing you clear skies and wide eyes. Follow me on Twitter or LinkedIn . Check out my website or some of my other work here . Jamie Carter Editorial Standards Print Reprints & Permissions',\n",
        "            'pubDate': '2023-10-06 23:15:00',\n",
        "            'image_url': 'https://imageio.forbes.com/specials-images/imageserve/651281dfb2d2499dcff0ea4e/0x0.png?width=960&precrop=640%2C300%2Cx312%2Cy351',\n",
        "            'source_id': 'forbes',\n",
        "            'source_priority': 57,\n",
        "            'country': ['united states of america'],\n",
        "            'category': ['business'],\n",
        "            'language': 'english'\n",
        "        }, {\n",
        "            'article_id': 'f072726a91498d0daebb267e8ed880d1',\n",
        "            'title': 'The Best Food Subscription Boxes That Are Perfect For The Gift-Giving Season',\n",
        "            'link': 'https://www.forbes.com/sites/forbes-personal-shopper/article/best-food-subscription-boxes/',\n",
        "            'keywords': ['Forbes Vetted', '/vetted', 'Forbes Vetted', '/vetted', 'Home', '/vetted/home', 'Kitchen & Dining', '/vetted/home/kitchen-dining', 'Shopping Recirc', 'shopping-recirc', 'shopping', 'shopping', 'finds'],\n",
        "            'creator': ['Margaret Eby', ' Contributor'],\n",
        "            'video_url': None,\n",
        "            'description': \"Whether you're a cheese lover, a tinned fish enthusiast or a serious tea drinker, there's a food subscription box made for you. Here are our top picks.\",\n",
        "            'content': 'We independently select all products and services. If you click through links we provide, we may earn a commission. Learn more Forbes Vetted The Best Food Subscription Boxes That Are Perfect For The Gift-Giving Season Margaret Eby Contributor Forbes Vetted Contributor Group Opinions expressed by Forbes Contributors are their own. Following Oct 6, 2023, 07:00pm EDT | Share to Facebook Share to Twitter Share to Linkedin The only thing more exciting than bringing in a package of items you ordered online is getting regular packages filled to the brim with all kinds of treats and snacks you’ve likely never tried. These days, you can find tons of top-tier food subscriptions that send thoughtfully curated culinary experiences straight to your door—there are boxes for big-time snackers, cheese lovers and tinned fish enthusiasts. And if you have someone in your life who loves to cook or simply eat, food subscription boxes make for memorable gifts (and yes, the recipient can be yourself). If you\\'re looking to up your snack game, Bokksu\\'s subscription box delivers 20-plus Japanese snacks, ... [+] teas and candies to your doorstep every month. Illustration: Forbes / Image: Retailers Does someone in your life have a big sweet tooth? You might consider subscription services for fruit or chocolate. Is your recipient a serious tea drinker? There’s a box for that, too. Ahead, here are nine of the best subscription boxes for foodies that are guaranteed to make their pantry a little bit fuller and their day infinitely brighter. Best Snack Subscription Box: Bokksu Snack Box Subscription Best Cheese Subscription Box: Murray’s Cheese Globetrotter’s Cheese Club Best Pasta Subscription Box: Sfoglini Pasta Of The Month Club Best Tinned Fish Subscription Box: Cratejoy Tinned Fish Club Best Fruit Subscription Box: Harry & David Fruit Of The Month Club Best Tea Subscription Box: Art Of Tea Tea Of The Month Subscription Best Butter Subscription Box: Banner Butter Grass-Fed Cultured Cream Butter Subscription Best Spice Subscription Box: Piquant Post Spice Subscription Box Best Chocolate Subscription Box: Compartes Gourmet Chocolate Of The Month Club MORE FROM FORBES VETTED Dyson Hair Straightener Deal: Take $100 Off The Corrale By Annie Davidson Watson Contributor The Best Massage Guns For At-Home Relief, Based On Extensive Testing By Cam Vigliotta Forbes Staff Best Snack Subscription Box A Box Full Of Japanese Snacks, Candies And More Bokksu Bokksu Snack Box Subscription Buy From Bokksu Subscription length: 1, 3 or 12 months Whether you regularly snack on Pocky and rice crackers or you’ve never tried a Japanese Kit Kat, this subscription box from Bokksu is guaranteed to up your snack game. Every month, Bokksu ships out a curated selection of 20 to 22 Japanese snacks, teas and candies, all made by small family-run businesses. In one box, you might get a matcha cake, a packet of handmade yuzu-sake candies and sesame mochi; in another, your box could include a Yokohama butter sandwich cookie, Genmaicha green tea and potato chips flavored with smoked pickled radish. Each box also includes a booklet that tells you a little about each treat, including its origin, flavor profile and whether it contains any common allergens. Best Cheese Subscription Box Hand-Selected Cheeses From NYC\\'s Premier Fromagerie Murray\\'s Murray\\'s Cheese Globetrotter\\'s Cheese Club Buy From Murray\\'s Cheese Subscription length: 3, 6 or 12 months If you have a drawer in your fridge dedicated solely to cheese, there’s a good chance you’re familiar with Murray’s Cheese, New York City’s premier fromagerie. For those who don’t have access to high-quality cheeses, Murray’s Cheese offers five subscriptions, including the Cheese Explorer’s Club and the Mac And Cheese Club . If you want to try some of the best cheeses from around the world, the Globetrotter’s Cheese Club is the best option: Every month, you get three half-pound pieces of cheese from an iconic cheesemaking region. And if you want to upgrade your subscription, you can also add on cheese paper bags, sea salt crackers and prosciutto to each delivery. Best Pasta Subscription Box Premium Pasta In Playful Shapes And Flavors Sfoglini Sfoglini Pasta Of The Month Club Buy From Sfoglini Subscription length: 6 or 12 months Sfoglini makes some of the highest quality dried pasta out there, thanks to their commitment to using premium organic semolina and grains grown on North American farms. (Also, their pasta shapes are fun.) When you belong to the New York-based brand’s Pasta Of The Month Club, every three months, you receive three boxes of semolina pasta and three boxes of \"specialty\" pasta (think limited-edition offerings), plus six recipes to spark inspiration in the kitchen. Whether you opt for the 6- or 12-month plan, you’re guaranteed to fall in love with the brand’s playful shapes and delicious flavors. Best Tinned Fish Subscription Box High-End Tins Of Spiced Sardines, Tuna Pate And More Cratejoy Cratejoy Tinned Fish Club Buy From Cratejoy Subscription length: 1, 3, 6 or 12 months If you’ve ever visited Portugal or you’re the kind of person who always keeps a few tins of high-quality anchovies and sardines in the pantry, you know that great tinned fish can rival the fresh stuff. To discover new kinds you can’t typically find in the average stateside grocery store, Cratejoy’s Tinned Fish Club ships you three tins of the good stuff every month—think smoked salmon in olive oil and sardines in tomato sauce. Alongside the tins, each box comes with a booklet of recipes and a few condiments that pair beautifully with the selections. If you can’t decide between the subscription lengths, consider the 3-month option: At $32.99 per box, it’s the club’s most popular. Best Fruit Subscription Box The Freshest Seasonal Fruits From A Beloved Brand Harry & David Harry & David Fruit Of The Month Club Buy From Harry & David Subscription length: 3, 6, 9 or 12 months You know your fruit bowl’s about to be overflowing when a Harry & David box shows up at your door. When you join the brand’s Fruit Of The Month Club, you’ll never go a day without the freshest seasonal fruits—think Bosc pears in January, Cara Cara oranges in March and honey mangoes in June. And for an added fee, you can upgrade your first box to include pairings like chocolates and cheeses. Best Tea Subscription Box Premium Leaves To Help You Explore The Vast World Of Tea Art of Tea Art Of Tea\\'s Tea Of The Month Subscription Buy From Art of Tea Subscription length: 3, 6 or 12 months The world of tea is vast, extending far beyond Earl Grey, Matcha and chamomile. To discover new favorites, consider Art Of Tea’s Tea Of The Month Subscription. Every month—for a duration of 3, 6 or 12 months—the brands ships you 2 to 4 ounces of seasonal tea (that’s enough for about 12 teabags) with offerings like Orchid Oolong and Caramelized Pear. What\\'s more, you can customize the program: If you have a favorite type of tea, you can receive exclusively classic teas, caffeine-free teas, single-origin teas or wellness-oriented teas, to name a few options. Best Butter Subscription Box A Full Year Of Rich Cultured Butter Food52 Banner Butter Grass-Fed Cultured Cream Butter Subscription Buy From Food52 Subscription length: 12 months Whether you’re spreading it over a fresh loaf of crusty bread or whipping up a velvety pasta sauce, butter makes everything better—just ask Julia Child (or your taste buds). If you want the best of the best, look no further than Banner Butter’s Grass-Fed Cultured Butter Subscription. Every three months, you receive four blocks of rich small-batch butter, including one salted butter, one sweet butter, one flavored with roasted garlic and one seasonal flavor like lavender or lemon-chive. Best Spice Subscription Box Fresh Spice Blends Paired With Delicious Recipes Piquant Post Piquant Post Spice Subscription Box Buy From Piquant Post Subscription length: 3, 6 or 12 months Spices are a vital part of a well-stocked kitchen, and there’s a seemingly endless number of blends to try. Piquant Post’s spice professionals do the heavy lifting by sending fresh spice blends like Japanese curry and orange cardamom to your door every month. Each curated shipment includes four blends from a specific country or region, plus four complementary recipe cards. Best Chocolate Subscription Box Beautiful Chocolate Bars With Innovative Flavors Compartes Chocolates Compartes Gourmet Chocolate Of The Month Club Buy From Compartes Subscription length: 3, 6 or 12 months Compartes doesn’t make your average chocolate bars. Instead, the popular Los Angeles-based brand is beloved for its unique flavors like strawberry shortcake and potato chip crisp. When you sign up for their Gourmet Chocolate of the Month Club (which has durations of 3, 6 and 12 months), you receive a monthly box filled with an assortment of the brand’s latest innovative flavors, all wrapped up in playful, beautiful packaging. Coupons Sears Link to Coupon Margaret Eby Editorial Standards Print Reprints & Permissions',\n",
        "            'pubDate': '2023-10-06 23:00:15',\n",
        "            'image_url': 'https://imageio.forbes.com/specials-images/imageserve/651f1553278814306f596dcc/0x0.jpg?width=960',\n",
        "            'source_id': 'forbes',\n",
        "            'source_priority': 57,\n",
        "            'country': ['united states of america'],\n",
        "            'category': ['business'],\n",
        "            'language': 'english'\n",
        "        }, {\n",
        "            'article_id': '6e92958936fc0560094de0f6279895c1',\n",
        "            'title': 'Geneva-Based Luxury Watch Brand Frédérique Constant Celebrates 35th Anniversary',\n",
        "            'link': 'https://www.forbes.com/sites/kyleroderick/2023/10/06/geneva-based-luxury-watch-brand-frdrique-constant-celebrates-35th-anniversary/',\n",
        "            'keywords': ['Watches & Jewelry', '/watches-jewelry', 'Lifestyle', '/lifestyle', 'Watches & Jewelry', '/watches-jewelry', 'lifestyle', 'kyleroderickblog', 'standard'],\n",
        "            'creator': ['Kyle Roderick', ' Contributor'],\n",
        "            'video_url': None,\n",
        "            'description': 'Swiss luxury watchmaker Frédérique Constant marks its 35th anniversary with a focus on its in-house Manufacture collection and its 31st in-house caliber.',\n",
        "            'content': 'Forbes Lifestyle Watches & Jewelry Geneva-Based Luxury Watch Brand Frédérique Constant Celebrates 35th Anniversary Kyle Roderick Contributor Opinions expressed by Forbes Contributors are their own. I cover upmarket jewelry, timepieces & ethical, sustainable jewelry. Following Oct 6, 2023, 06:56pm EDT | Press play to listen to this article! Got it! Share to Facebook Share to Twitter Share to Linkedin Frédérique Constant\\'s newest in-house caliber is also its 31st. The FC-735 lives within the Classic ... [+] Power Reserve Big Date. Frédérique Constant The intrepid Swiss watchmaker Frédérique Constant has spent 2023 marking its 35 th anniversary with festive events that celebrate the innovative watch brand’s luxurious, technically advanced; artistically pure philosophy and products. Indeed, Frédérique Constant has come a long way since its 1988 founding and the 1992 launch of its first six models. (Owned by Japan-based Citizen Group, the brand’s extensive collections for men and women include superb tourbillons, classic dress watches, retro tool watches and even smartwatches.) Along with appearing for the first time at Geneva’s 2023 Watches and Wonders event, Frédérique Constant hosted an anniversary blow-out in its home city of Geneva, during which suppliers, customers, retailers and members of the press partied heartily. Jeffrey Cohen, CEO of Citizen Watch America, Constant’s parent company, and Niels Eggerding, CEO of Frédérique Constant, took time out from their time-crunched schedules to explain the high points of the brand’s banner year. The Frederique Constant Classic Tourbillon Manufacture FC-980N3H6 retails for $15,695.00. Frédérique Constant “The Frédérique Constant 35th anniversary is being celebrated globally with a focus on our in-house Manufacture collection,” Cohen wrote in an email. “Frédérique Constant offers classic luxury Swiss-made timepieces at an accessible price and includes quartz, automatic and in-house movements.” Considering its relative youth, the firm boasts an impressive 31 in-house calibers. These embody a rich array of luxury materials, such as platinum, gold and meteorite, along with embellishments like Côtes de Genève and perlage . “Then there are its various complications, such as Worldtimer, perpetual calendar, tourbillon, flyback, moon phase and big date,” Cohen added. Whether consumers are looking for understated, classic elegance or want a major mechanical prestige timepiece, Frédérique Constant delivers a Swiss watch that meets diverse design aesthetics and technical preferences. The Classic Power Reserve Big Date Manufacture is an elegant, stainless steel timepiece that ... [+] measures 40mm in diameter, 12.19 in thickness, with a moon phase dial. Frédérique Constant In this special year, the brand is also presenting the debut of its 31st in-house caliber, the FC-735, which lives within the Classic Power Reserve Big Date. “We introduced four editions of this during Geneva Watches and Wonders,” Cohen explained. The Classic Power Reserve Big Date Manufacture is an elegant, stainless steel timepiece that measures 40mm in diameter, 12.19 in thickness, with a moon phase dial that injects celestial chic into the mix. Like all Frédérique Constant timepieces, it was created in the brand’s four-story, 34,444 square foot Geneva manufacture, which among other departments, includes movement component production, movement assembly, watch assembly, and quality control. MORE FOR YOU Cooper Flagg, Nation’s No. 1 Hoops Recruit, Closing In On College Decision Chinese Billionaire s Texas Company Owes Millions On Unpaid Bills The T 64 Ukraine s Most Important Tank Could Go Extinct In Three Or Four Years In the course of a Zoom interview, Frédérique Constant’s longtime CEO Niels Eggerding explained, “This is our first caliber that offers a big date, a moon phase and a power reserve indicator, for a total of 50 hours. The power reserve,” he continued, “is shown at 9 o’ clock by a slim, dedicated hand moving along an arc marked out at 0 to 50, ending in a red zone that warns when it’s time to wind the watch before it stops.” While the first two editions feature a platinum case and meteorite dial or a rose gold case and gray anthracite dial, they come in limited editions of 35 and 350 respectively. The two others, embodied in steel cases with blue or silver dials, form part of the brand’s standard collection. Frédérique Constant\\'s WorldTimer manufacture helps those with cosmopolitan business obligations by ... [+] keeping them in time with anywhere and everywhere. Aurélien Poncet/Frédérique Constant The three complications, time set function and winding mechanism are all adjusted via the crown at 3 o’ clock. Free of pushers, correctors or styluses, “The FC-735 movement is sophisticated, contemporary, ergonomic, and designed for everyday use,” Eggerding said. To this writer, it seems to encapsulate Frédérique Constant’s intriguing luxury philosophy: prestige, hyper-efficient yet chic watches can also be relatively affordable and hence worn with ease and enjoyment, by watch lovers on every continent. Jeffrey Cohen, CEO of Citizen Watch America, Frédérique Constant’s parent company. © Guillaume Gaudet/Frédérique Constant During its 35 th year, Frédérique Constant also unveiled a new and novel version of a timepiece that embodies the brand’s savoir-faire and philosophy: the Classic Tourbillon Manufacture. Developed and hand-assembled in-house at Constant’s 32,000 square foot Swiss facility, this tourbillon is available in a limited edition of 150 pieces and features three hands housed in a 39-millimeter, 18-karat rose gold case. “In this anniversary year,” Eggerding said, “we feel that the design and technical elements of the Classic Tourbillon Manufacture symbolize our evolution since the brand’s 1988 founding. Shortly after it debuted in 2008,” Eggerding recounted, “our FC-980 movement became one of Constant’s most internationally admired developments, and so we are using it now to power our new Classic Tourbillon Manufacture.” The cage of this highly collectible timepiece comprises 81 components, including a graceful hand passing above the tourbillon cage that counts the seconds. The cage is engraved with the individual serial number of the watch, as is the sapphire case back, which showcases the inner workings of the FC-980 caliber. Endowed with such traditional fine watchmaking elements as beveling, beading, circular graining, straight-grained flanks and mirror polishing, the movement has a 38-hour power reserve. “We are a young, dynamic brand and our team is a family that’s on a creative and technical adventure,” Eggerding said. Niels Eggerding, dynamic CEO of Frédérique Constant, credits his innovative, energetic andhighly ... [+] responsive team for the company\\'s success. Frédérique Constant Echoing the words of Frédérique Constant watchmaker Romain Valette, who is quoted on the brand’s website, Eggerding continued,“The art of watchmaking is our passion, innovation is our mission, and the tourbillon is one of the most beautiful interpretations.” Thanks to its skilled team, professional camaraderie and strong interest in innovation,” he added, “Frédérique Constant has become one of the top 25 Swiss watchmaking brands.” In fact, Constant was the first Swiss brand to produce a perpetual calendar watch priced under 10,000 euros. In 2015, it produced the first horological smartwatch, and in 2018, Frédérique Constant brought out the first perpetual calendar tourbillon priced under 20,000 euros. This year, the firm introduced the 39mm Classic Tourbillon at Watches and Wonders, with the steel case version retailing under $16,000. “Nothing else on the market comes close to this,” Cohen asserted. “We also have our top selling Highlife collection, with automatic timepieces under $2,000 that all come with a quick release bracelet and an additional strap to create a versatile look.” Frédérique Constant\\'s Classics Carrée Ladies timepiece embodies timeless elegance and 34 diamonds ... [+] for the appealing price of $2,795.00. Frédérique Constant What’s more, Cohen continued, Frédérique Constant’s Classics collection recently launched a COSC or chronometer (high precision watch) version of the Vintage Rally Healey Automatic. Priced at just under $2,000, this limited edition timepiece comes in a special set with a miniature replica of the Healey NOJ393. For those who may be wondering, COSC stands for “Controle Officielle Suisse des Chronomètres, the Official Swiss Chronometer Testing Institute. “COSC certification,” Cohen explained, “guarantees perfect isochronism over a given time and at given positions. In effect, this guarantees their ability to tell the time correctly, consistently and precisely, within the strict limits enforced by an ISO standard.” In addition to certifying the supreme precision and uniqueness of timekeeping instruments, the certified \"chronometer” title is a guarantee of superb horological quality and consummate savoir-faire throughout the production process. In the retail world, a COSC-certified chronometer possesses a third-party proof of superb value which distinguishes it from its competitors. While few chronometers are COSC-certified, all COSC-certified watches are indeed chronometers. Frédérique Constant\\'s Slimline Monolithic Manufacture delivers aesthetic purity, technical ... [+] virtuosity and ergonomic integrity. Frédérique Constant Also coinciding with Frédérique Constant’s 35 th anniversary, Citizen Watch America will be opening its first, multi-brand flagship store in New York City in December 2023. According to Cohen, “The store will be located at 605 Fifth Avenue, across from Rockefeller Center. As New York City is one of the world’s great cultural epicenters, it’s the ideal backdrop for Citizen Watch America’s first US-based, multi-brand flagship.” The 7000 square ft., three story boutique will feature dedicated spaces for Frédérique Constant, along with those for Citizen Watch America’s other brands, which are Citizen, Bulova, Accutron and Alpina. On the first two floors, customers will be able to choose from sport, style, and luxury collections offered by Citizen brands, including timepieces that are sold only at this store. The third level will feature a museum archive and dedicated areas for on-site programming, events and community experiences. Cohen noted that the timing is right for Frédérique Constant’s flagship opening because, “The brand is growing in the US and is attracting young collectors and watch enthusiasts looking for a high-quality timepiece with Swiss cachet that’s still relatively niche. We continue to see young consumers making significant investments in timepieces with entry level investments ranging from $1200 to $5000,” he wrote. “Automatics have particular resonance with younger consumers.” While each Frédérique Constant collection attracts a different kind of client, Eggerding added that, “Over the last three or four years, we’ve seen traditional buying patterns for men’s and women’s watches fade as gender identities have become freer; less rigidly defined. Constant’s market research has found that our small women’s watches with diamonds are increasingly being purchased by men,” he detailed, “and it’s also true that more women are self-purchasing Frédérique Constant men’s watches with large dials because these suit their identities, style preferences and budgets.” The Frédérique Constant Geneva Manufacture Frédérique Constant As Frédérique Constant gears up to end its 35 th anniversary year with the opening of Citizen America’s multi-brand flagship on Fifth Avenue, it seems likely that this bold, multi-level emporium will attract myriad people into the uniquely luxurious and precise time zone of Constant and its compatriots in the Citizen America group. Follow me on LinkedIn . Check out my website . Kyle Roderick Editorial Standards Print Reprints & Permissions',\n",
        "            'pubDate': '2023-10-06 22:56:40',\n",
        "            'image_url': 'https://imageio.forbes.com/specials-images/imageserve/652073f4dc6123aa37b6f4f6/0x0.jpg?width=960',\n",
        "            'source_id': 'forbes',\n",
        "            'source_priority': 57,\n",
        "            'country': ['united states of america'],\n",
        "            'category': ['business'],\n",
        "            'language': 'english'\n",
        "        }, {\n",
        "            'article_id': '7a555a8f4107eaa728be05c90b0d82f9',\n",
        "            'title': 'FTX: Should Sam Bankman-Fried Be Prosecuted For Credit Fraud?',\n",
        "            'link': 'https://www.forbes.com/sites/annrutledge/2023/10/06/ftx-should-sam-bankman-fried-be-prosecuted-for-credit-fraud/',\n",
        "            'keywords': ['Markets', '/markets', 'Money', '/money', 'Markets', '/markets', 'asia', 'standard'],\n",
        "            'creator': ['Ann Rutledge', ' Contributor'],\n",
        "            'video_url': None,\n",
        "            'description': 'FTX founder Sam Bankman-Fried is on trial this week for committing or conspiring to commit wire fraud, securities fraud and money laundering. What about credit fraud?',\n",
        "            'content': \"Forbes Money Markets FTX: Should Sam Bankman-Fried Be Prosecuted For Credit Fraud? Ann Rutledge Contributor Opinions expressed by Forbes Contributors are their own. I shed light on hidden credit intent. Following Oct 6, 2023, 06:49pm EDT | Press play to listen to this article! Got it! Share to Facebook Share to Twitter Share to Linkedin This week, FTX founder Sam Bankman-Fried is on trial for committing or conspiring to commit wire fraud, securities fraud and money laundering. The media is focused on the topics readers can all relate to— his immorality, or that of crypto; the sums of money involved; or the nature of the charges, which are not everyday words. The last point—charges—is closest to what this trial is really about. They are: wire fraud, a scam that reaps wrongful or criminal financial gain via the internet or old-fashioned telephone. Money laundering: disguising financial assets generated from criminal activity so they look legitimate. Securities fraud: the go-to theory for litigating financial misconduct, being easy to bring to court with big payoff potential, as Bloomberg’s Matt Levine has famously argued. NEW YORK, NEW YORK - JUNE 23: Sam Bankman-Fried speaks onstage during the first annual Moonlight ... [+] Gala benefitting CARE - Children With Special Needs - hosted by Michael Cayre, Roy Nachum and MegaMoon Museum at Casa Cipriani on June 23, 2022 in New York City. (Photo by Craig Barritt/Getty Images for CARE For Special Children ) Getty Images for CARE For Special Children But, dig deeper. Not one of these charges touches on the essential violation underlying all mega-crises of our day, from LTCM to the 2008 GFC, to now, FTX. Giving an illusion of solvency from a position of insolvency— FTX was first incubated in the crypto trading firm Berkeley-based Alameda Research, which Bankman-Fried set up in 2017 with Jane Street Capital colleagues. Alameda found early success buying low bitcoin prices and selling them high. When the bitcoin arbitrage strategy dried up (as all arbitrage does, at scale) Bankman-Fried and Zixiao Gary Wang established FTX in May 2019 as an offshore exchange for traders to buy, sell or take synthetic positions in a wide range of fiat and crypto currencies and nonfungible tokens (NFTs). Its revenue model was supposedly that of an exchange: FTX would generate earnings from trading, lending and interchange fees through the use of branded debit cards and making markets in NFTs. In July 2021, FTX raised USD 900 MM (later claimed USD 1.0 BN) from over 60 investors at an $18 BN valuation. Their pitch deck supported the narrative: MORE FOR YOU Cooper Flagg, Nation’s No. 1 Hoops Recruit, Closing In On College Decision Chinese Billionaire s Texas Company Owes Millions On Unpaid Bills The T 64 Ukraine s Most Important Tank Could Go Extinct In Three Or Four Years “ After years of using other exchanges, team realizes they could build a better exchange. FTX is launched. ” In October 2021, an FTX press release announced a Series B-1 round of USD 420 MM, and in January 2022, a Series C USD 400 MM round, at respective valuations of USD 25 and 32 BN. Claims of dramatic growth in the user base and trade volume boosted the valuations. Trading levels were now said to average USD 14 BN daily. Believers (participants in one or more rounds) in the narrative were Softbank, Sequoia Capital, Paradigm, Temasek, Tiger Global Management, Lightspeed Venture Partners, Ontario Teachers’ Pension Plan, Patriots owner Robert Kraft, hedge fund legend Paul Tudor Jones, and Coinbase Ventures, investment arm of the competitor crypto exchange founded in 2012. FTX also opened a USD 2 BN venture fund in early 2022. Within the year, FTX filed for bankruptcy in early November 2022. John J. Ray III, CEO appointed to the FTX bankrupt estate and former chair of Enron Creditors Recovery Corp., would go on to say how FTX suffered “a complete failure of corporate controls,” and that he had never seen anything as bad as FTX. Details of the balance sheet links between of Alameda Research and FTX are still coming to light, including a secret “ backdoor ” to withdraw FTX customer funds to fund Alameda’s USD 65 BN balance sheet hole. What is so interesting about fraud is always the surface narrative— Fraud can be arcane, dazzling, beguiling. This is the money-laundering part where criminality is repackaged into complex financial assets (CDOs or cryptocurrencies) designed to intimidate and confuse. Going viral is the wire-fraud part. Using your savings and mine is the securities fraud part. But the essential fraud is none of these. The essential fraud can be sussed out by asking two simple credit questions: Does the financial value proposition make sense? Are the enterprise operations sustainable? If the answers are “yes,” then the work gets much harder. Expertise in valuing FTX’s investments in gamification, visualization, databases and other investee firms; valuing exotic currencies held in custody for FTX customers; and assigning a credible present value to the future stream of bread-and-butter exchange revenues are all needed. But first, the answers to the simple financial and operational questions must both be “yes.” If the answer to either question is “no,” suspect fraud. Start with the financial valuation. A claim of USD 14 BN in daily trading supporting the high valuations is dubious. The New York Stock Exchange (NYSE) closing auction averages under USD 20 BN in trading volume. For FTX to approach 75% of the NYSE’s largest daily liquidity event is impressive. Is it believable? Reality check: the NYSE is 231 years old, has 2400 listings and its market cap is about USD 23 TN. Alternatively, one could back into the enterprise valuations by bootstrapping the trade fee data. Given 260 working days in a year, an average trading fee of 3.5 BP, an average trade size of $10 MM, and an estimated one trade a day, the earnout would be approximately 2 million years. Given an average trade size of $500 MM at the rate of one trade a minute, it would still take 27 years. Unfortunately, FTX did not live so long. An even simpler question is—with USD 14 BN in daily trading volumes, assuming an average 3.5 BP fee again, FTX should be throwing off about USD 50 MM a day in fees. Why raise more equity rounds at all when, in theory, funding equal to the Series B-1 and C amounts could be internally generated in under a month. To appraise operational sustainability, start with the business definition. What kind of exchange is FTX? I have a bit of an expert edge here having worked in and for exchanges, and having taught exchange mechanics to Chinese delegations in the ‘90s, but here is a shortcut. Ask, what kind of a research institute was Alameda? In the words of Bankman-Fried in 2021: “If you named your company ‘We Do Cryptocurrency Bitcoin BTC Arbitrage Multinational Stuff, no one’s going to give you a bank account.[…] But everyone wants a Research Institute. Given that Alameda is not a research institute, why would anyone believe FTX is an exchange? Exchange viability comes down to its credit and liquidity position— Exchanges are the quintessential structured finance vehicle, built to mitigate counterparty credit risk and give market participants liquid access to assets at transparent prices and low to negligible exposure to operating risk. All well-functioning exchanges have balance sheets with the following line items— · Assets : cash and equivalents (the largest bucket), financial assets, accounts receivable, investments in other enterprises, fixed assets and goodwill. · Liabilities : customer funds on deposit (the largest bucket), accounts payable, clearing member funds on account, leases, loans, share capital and equity attributable to shareholders. Viable exchanges are solvent with multiple levels of risk protection. Customer and shareholder money are the biggest liabilities, and they are protected by robust trust and custody arrangements. Exchanges require customers to cash-collateralize their accounts based on current levels of market and asset volatility, and to settle their accounts daily, to ensure that the exchange, clearinghouse, members and customers, always know the end-of-day net risk and value positions, and manage accordingly. FTX didn’t even have an accounting department or audited financial statements. Its assets and liabilities published on unofficial balance sheets were blatantly atypical. They showed an excess of self-generated cryptocurrencies (FTTs), which masked unauthorized loans from customers to the exchange. FTX did not provide legitimate custody services at all but engaged in self-dealing. There was no margining system: FTX simply closed out customer accounts when the value dried up and probably pirated the difference. Some of these details may have been nonpublic until before the bankruptcy filing, but a simple due diligence check before any of the financing rounds would have revealed that this “Exchange” was not only insolvent but operationally unsustainable. Time to rethink criminalizing insolvency? Juxtapose the FTX story with how “everyone knows” the world is drowning in debt. Global public debt was USD 92 Trillion in 2022. Few believe it can all be repaid because the money required to repay it lies outside the economics of the loans. We cannot call this securities fraud. Yet lending money without a visible means of repayment is clearly an abuse of the credit function. It’s as if we didn’t recognize credit risk when we see it. Which is probably true. Since the 1600s, natural persons have gone to jail for insolvency. Today we have serial organized criminal credit activity perpetrated by seemingly legitimate institutions that manufacture gains by masquerading as solvent operations to siphon off funds from unsuspecting clients—as much as possible for as long as possible. Charges like wire fraud, securities fraud and money laundering fail to address the criminal essence—the construction of vehicles that mimic financial and operational viability but lack essential safeguards. If we want the law to become more effective, it is essential to be able to prosecute credit fraud. From years of plaintiff-side expertise in structured finance litigations, I know intentionality in credit frauds is hard to prove—much harder than negligence. This is, I believe, not because they are in fact difficult to prove. Demonstrating insolvency is actually relatively easy. It is because the criminal intent behind false representations of credit strength has not been taken seriously. It should be. Maybe putting Sam Bankman-Fried on trial is a beginning. New York Post Sam Bankman-Fried ordered $65B 'secret backdoor line of credit,' lawyer says CB Insights Research In FTX's bankruptcy, here are the top 10 investment and M&A holdings creditors should be looking at - CB Insights Research Follow me on Twitter or LinkedIn . Check out my website . Ann Rutledge Editorial Standards Print Reprints & Permissions\",\n",
        "            'pubDate': '2023-10-06 22:49:46',\n",
        "            'image_url': 'https://imageio.forbes.com/specials-images/imageserve/65208ef39b031b8afd3e8887/0x0.jpg?width=960&precrop=1925%2C1083%2Cx0%2Cy95',\n",
        "            'source_id': 'forbes',\n",
        "            'source_priority': 57,\n",
        "            'country': ['united states of america'],\n",
        "            'category': ['business'],\n",
        "            'language': 'english'\n",
        "        }, {\n",
        "            'article_id': 'd32160111d50a32d509493a422d99a5c',\n",
        "            'title': 'The 46 Best Sales To Shop Over The Long Weekend',\n",
        "            'link': 'https://www.forbes.com/sites/forbes-personal-shopper/2023/10/06/columbus-day-sales/',\n",
        "            'keywords': ['Forbes Vetted', '/vetted', 'Forbes Vetted', '/vetted', 'Deals', '/vetted/deals', 'Big Sales', '/vetted/deals/big-sales', 'Shopping Recirc', 'shopping-recirc', 'shopping', 'shopping', 'finds'],\n",
        "            'creator': ['Jordan Thomas', ' Forbes Staff'],\n",
        "            'video_url': None,\n",
        "            'description': 'This three-day weekend is an opportunity to shop some seriously good sales on everything from furniture to fall fashion.',\n",
        "            'content': \"We independently select all products and services. If you click through links we provide, we may earn a commission. Learn more Forbes Vetted The 46 Best Sales To Shop Over The Long Weekend Jordan Thomas Forbes Staff Forbes Vetted Contributor Group Opinions expressed by Forbes Contributors are their own. Following Oct 6, 2023, 05:52pm EDT | Share to Facebook Share to Twitter Share to Linkedin With Indigenous Peoples’ Day right around the corner, many folks have a long weekend. And per usual, there are tons of great holiday weekend sales taking place. A lot of retailers have also launched early competitor sales ahead of October Prime Day. As a result, you can find some killer deals in just about every product category you can think of. Here are the best sales to shop this weekend whether you're looking to invest in a new mattress or ... [+] some fall clothes. Illustration: Forbes / Photos: Retailers We’ve sorted through all of the offers that are live so far and listed the best savings events to shop in every category. With steep discounts available at retailers like DreamCloud , Wayfair , Anthropologie and Ulta Beauty , the next few days are an excellent opportunity to check off some items on your shopping list. MORE FROM FORBES VETTED Dyson Hair Straightener Deal: Take $100 Off The Corrale By Annie Davidson Watson Contributor The Best Massage Guns For At-Home Relief, Based On Extensive Testing By Cam Vigliotta Forbes Staff The Best Long Weekend Sales: Mattresses Casper Casper Wave Hybrid Mattress (Queen) Buy From Casper Casper : During the retailer’s Everything Sale, you can save up to 50% sitewide. DreamCloud : If you’ve never shopped DreamCloud before, you can save 40% on your first mattress, including our pick for the best medium-firm mattress . Helix : Code FALL20 will take 20% all mattresses this weekend, including our favorite mattress for side sleepers . You’ll also get two free pillows bundled in for free. Nectar : Nectar makes our pick for the best mattress overall . Right now, new customers can take 33% off our pick and everything else on Nectar’s site. Leesa : Shop its Fall Back To Sleep Sale to save up to $700 on your mattress, plus get two free pillows. Avocado : Check out Avocado’s Organic Mattress Sale this weekend to save $800 on an organic model. Brooklyn Bedding : Now through October 9, save 25% sitewide for its Anniversary Sale. Awara : Take $400 off Awara’s eco-friendly mattresses for its Fall Sale. The Best Long Weekend Sales: Appliances Wayfair Bissell CrossWave All-in-One Multi-Surface Stick Vacuum Buy From Wayfair Wayfair : During the retailer’s current sale, you can save up to 70% on kitchen and home appliances, like the Bissell vacuum above. Amazon : Next week Amazon is hosting an October Prime Day event, but it’s already rolling out early deals over the weekend—including major savings on small appliances. Samsung : Save up to $1,700 on major appliances for your home during Samsung’s Fall Savings Event. Home Depot : Shop appliances bundles to save up to $2,000 or save up to 30% on laundry sets and refrigerators . Best Buy : Take up to $1,200 off select Samsung refrigerators this weekend at Best Buy. Lowe’s : Lowe’s is offering up to $800 off select kitchen appliances and laundry sets right now. Macy’s : Shop Macy’s Fab Fall Sale to save 25 to 60% across all categories, including kitchen appliances. The Best Long Weekend Sales: Home Anthropologie Anthropologie Waterfall Coupe Glasses (Set Of 4) Buy From Anthropologie Anthropologie : Fill your home with eclectic designs, from small pieces of décor to furniture, for up to 40% off this weekend. Wayfair : Save up to 70% at Wayfair all weekend long, like 50% off living room, kitchen and bedroom furniture. Lulu And Georgia : Celebrate Lulu & Georgia’s Anniversary Sale with 25% off chic pieces for your home. Cozy Earth : During its Fall Sale save up to 25% sitewide. That includes cozy bedding, soft pajamas and more. Target : Shop Target’s annual Circle Week event to save 20% on bedding, bath and other home goods. Burrow : Update your home with some new modular furniture at up to 60% off during Burrow’s Fall Sale. Buffy : Score up to 40% off its cult-favorite sheets, pillows, blankets and more. Arhaus : Save thousands on designer pieces for your home, inside and out, during Arhaus’ Fall Sale. The Best Long Weekend Sales: Fashion Tory Burch Tory Burch Perry Triple-Compartment Tote Buy From Tory Burch Tory Burch : For Tory Burch’s Fall Event, take 25% off orders of $200 or more and 30% off orders of $500 or more. Abercrombie : Shop select men’s and women’s styles for up to 25% off this weekend. Nordstrom : Now through October 10, save on women’s jackets for fall or check out Nordstrom’s sale section to save on hundreds of styles for men, women and kids. Shopbop : Save up to 70% on chic designer styles and accessories from Reformation, Theory and more. Madewell : Take 40% off fall essentials or use code EXTRA20 to take an additional 20% off sale styles during Madewell’s current sale. Hanna Andersson : Save 30% on cozy pjs for the holidays or 40% on Halloween costumes and pajama sets . Backcountry : Snag a 20% discount on one full-priced item and one sale item with code FALL20 when you sign up for Backcountry’s loyalty program. Lululemon : The activewear retailer’s “We Made Too Much” section is full of deals for up to 50% off. The Best Long Weekend Sales: Tech Amazon Echo Show 5 (3rd Gen) + Philips Hue Smart Color Bulb Buy From Amazon Amazon : Amazon’s October Prime Day is just around the corner, but it’s already rolling out major discounts on Amazon devices like e-readers , smart plugs and thermostats . Lenovo : Save up to 76% on laptops, monitors, servers and more with Doorbuster deals from Lenovo. Best Buy : Take up to 50% off popular tech, like Ring cameras , Amazon smart speakers , Samsung smart TVs and more. Walmart : Walmart’s Rollback section is full of great deals on everything from laptops and tablets to Apple Watches. Target : Save on Apple gear , Nintendo games and more during Target’s Circle Week event. If you have a Target RedCard, remember to use it to save an additional 5%. HP : Score an HP laptop and other computer peripherals for up to 69% off this weekend. Ecoflow : Take up to 58% off top portable power stations and solar generators during its Fall Into Savings event. Samsung : Now through October 8, save up to $1,300 on Samsung TVs, sound bars and more. The Best Long Weekend: Beauty SkinStore Grande Cosmetics LASH-MD Lash Enhancing Serum Buy From SkinStore Skinstore : Use code FRIENDS to save up to 25% on an array of cleansers, serums and moisturizers during Skinstore’s Friends And Family Sale. Ulta Beauty : Shop Ulta’s Gorgeous Hair Event to save up to 50% on select creams, conditioners and styling tools each day this weekend. Fenty : Today is your last day to save 20% on select skincare and beauty favorites from Fenty, like its Pro Filt’r Instant Retouch Setting Powder . Sephora : Sephora is also offering up to 50% off a variety of haircare products every day now through Sunday. Nordstrom : Shop deals on beauty products from top brands like NARS, Anastasia Beverly Hills and Bobbi Brown. Soko Glam : Shop Soko Glam’s K-beauty favorites to save up to 30%. Isdin : Check out its Fall Sale to save up to 20% on its popular sun care, body care and face care products. Coupons Bake Me a Wish Link to Coupon Send me a secure tip . Jordan Thomas Editorial Standards Print Reprints & Permissions\",\n",
        "            'pubDate': '2023-10-06 21:52:34',\n",
        "            'image_url': 'https://imageio.forbes.com/specials-images/imageserve/651f28a2ebb33e140bf15a62/0x0.jpg?width=960',\n",
        "            'source_id': 'forbes',\n",
        "            'source_priority': 57,\n",
        "            'country': ['united states of america'],\n",
        "            'category': ['business'],\n",
        "            'language': 'english'\n",
        "        }, {\n",
        "            'article_id': 'fbae5ee4f76720635dbff403dc3882d9',\n",
        "            'title': '49 Anniversary Gifts For Her That Will Stand The Test Of Time',\n",
        "            'link': 'https://www.forbes.com/sites/forbes-personal-shopper/article/anniversary-gifts-for-her/',\n",
        "            'keywords': ['Forbes Vetted', '/vetted', 'Forbes Vetted', '/vetted', 'shopping', 'shopping', 'finds'],\n",
        "            'creator': ['Samantha Simon', ' Contributor'],\n",
        "            'video_url': None,\n",
        "            'description': 'The best anniversary gifts for her will inspire memories and add a little sparkle to her life. Here are our top picks for 2023.',\n",
        "            'content': 'We independently select all products and services. If you click through links we provide, we may earn a commission. Learn more Forbes Vetted 49 Anniversary Gifts For Her That Will Stand The Test Of Time Samantha Simon Contributor Forbes Vetted Contributor Group Opinions expressed by Forbes Contributors are their own. Following Oct 6, 2023, 05:38pm EDT | Share to Facebook Share to Twitter Share to Linkedin No matter how long you and your partner have been a couple, every anniversary is a milestone worth celebrating. Sure, six months together might call for a level of romance (and presents) that’s different from, say, 50 years—but really, you just want to show your girlfriend, fiancée or wife how much you care. And finding the best anniversary gifts for her is a great place to start. Shop 49 unique anniversary gifts for her to show the woman in your life just how much she means to ... [+] you. ILLUSTRATION: FORBES / PHOTO: RETAILERS Shopping for the ultimate token of your love isn’t always easy, and it’s important to stay focused on who she is as a person as you browse. Think about all of her favorite things, from her go-to hobbies to her most-shopped brands. Would she appreciate a new piece of jewelry , or do you think she’d prefer perfume ? Has she been dropping hints about anything that she wants? Or, is there something that she needs and doesn’t even realize it yet? Your anniversary is an opportunity to give your significant other a thoughtful gift that she wouldn’t typically buy herself. So, whether you opt for something sweet but practical—new running shoes and insanely plush bath towels come to mind—or over-the-top luxe, like splurge-worthy pajamas , the right present is out there. You just have to find it, and as luck would have it, we’ve already rounded up some pretty great options for you. Here are 49 of the best anniversary gifts for her to get you started. Best Anniversary Gift For The True Romantic A Personalized Necklace That Spells Out Your Love MOST POPULAR Catbird Catbird The Smallest Love Letter Charm Buy From Catbird How charming is this Catbird charm? Made from 100% recycled gold, it’s designed to resemble the littlest love letter that’s sealed with a heart. Now for the truly special part: It can be personalized with an engraving of up to 10 characters, perfect for a brief—albeit heartfelt—message. (The charm is sold on its own, but you can add a chain for an additional cost.) Best Anniversary Gift For The Lover Of Luxury A Palm Beach-Inspired Silk Pajama Set Petite Plume Colony Hotel x Petite Plume Silk Women’s Pajamas Buy From Petite Plume There’s something inherently rich about silk sleepwear, and this Petite Plume pajama set designed in collaboration with Palm Beach’s legendary pink Colony Hotel is downright decadent. If you really want to go the extra mile, you might as well look into booking a Palm Beach getaway so she can put her chic new loungewear to use on site. Best Anniversary Gift For The Happy Hour Devotee An Unrivaled Spritz Glass For Summer Gatherings Maison Balzac Maison Balzac Le Spritz Glass Buy From SSENSE The only thing that can make a great cocktail even better? Stylish drinkware. And this handblown Maison Balzac glass is as fun as it gets, with a bright blue stem and a faux orange slice that will have all the neighbors jealous of each and every spritz she pours. Best Anniversary Gift For The Activity Lover A DIY Sushi Platter For A Fresh Take On Date Night Goldbelly Blue Ribbon Special Sushi DIY Kit Buy From Goldbelly Take your anniversary as an opportunity to do something different—like preparing a full-on at-home sushi feast together. This platter from Blue Ribbon comes with everything you need to whip up the rolls of your dreams (plus crispy rice, nigiri sushi and sashimi, to boot). All of the essentials are included, but there are additional add-ons if you feel more adventurous. Best Anniversary Gift For The Fitness Enthusiast A Pair Of Running Sneakers That Are Actually Pretty Hoka Hoka Bondi 8 Running Sneakers Buy From Hoka You’d be hard-pressed to go to the gym and not see at least a few pairs of Hokas—and for good reason. Not only do the popular sneakers go above and beyond in performance, but they also manage to look cool in a way that many running shoes just…don’t. The women’s Bondi 8 style is a cushioned dream, and the cheerful color combos are sure to brighten up her daily workouts. Best Anniversary Gift For The Fashion Plate A Dress That Will Liven Up Her Fall Wardrobe La Ligne La Ligne x Don’t Let Disco Disco Dress Buy From La Ligne This A-line midi is a collaboration between the go-to brand for chic essentials, La Ligne, and playful jewelry label Don’t Let Disco. Available in kelly green and black, each dress features vintage African brass beads along its subtle square neckline, as well as handmade ceramic beads—created by a women-owned business in the Ukraine—on its double straps. With a smocked back panel and in-seam pockets, this gift won’t just look good; it’ll also do good, with a portion of proceeds benefiting The Lower Eastside Girls Club. Best Anniversary Gift For The Long-Distance Love A Message Box That Lets You Connect From Afar Amazon Keith Haring Lovebox Messenger Color & Photo Buy From Amazon Star-crossed lovers, you’re in for a treat. Featuring artwork by the iconic Keith Haring, the bamboo Lovebox connects to WiFi so you can send messages and photos from anywhere in the world to your intended. As soon as the message comes through, the red wooden heart on the box will spin until she lifts its lid to view your message. Then, she can let you know that it was received by spinning the heart herself. Best Anniversary Gift For The One Who Exudes Quiet Luxury A Beautifully Crafted Bag That Will Always Be In Style Saks Fifth Avenue Bottega Veneta Casette Intrecciato Leather Shoulder Bag Buy From Saks Fifth Avenue If she embraced quiet luxury long before it had a name, this bag is exactly what her wardrobe needs. Bottega Veneta has given the trendy baguette silhouette its iconic woven leather treatment, and the result is a timeless style—available in chic neutrals as well as the label’s signature bright green—that she’ll reach for constantly. Best Anniversary Gift For The One Who Wears Her Heart On Her Sleeve A Bracelet That Will Do It For Her BaubleBar BaubleBar 18K Gold Heart Bracelet Buy From BaubleBar You don’t have to spend a lot to show your significant other how much you care—and this BaubleBar bracelet is proof. It’s simple and dainty, with an 18kt gold-plated sterling silver chain that boasts a small heart pendant covered in cubic zirconia stones. It’s a sweet addition to her jewelry box, and it’s one that she’ll treasure forever. Best Anniversary Gift For The Fragrance Collector A Fresh Floral Scent To Add To The Mix Jimmy Choo Jimmy Choo Rose Passion Perfume Buy From Jimmy Choo Inspired by the French Riviera, Jimmy Choo’s Rose Passion perfume just might be the next best thing to a glamorous getaway. With fresh notes of coconut water, frangipani flower, orchid and jasmine, the pretty-in-pink bottle of this elixir will go a long way. Best Anniversary Gift For The Footwear Fanatic A Pair Of Heels That Will Dazzle Her Loeffler Randall Loeffler Randall Penny Champagne Pleated Bow Heel Buy From Loeffler Randall You can—and should—toast to your anniversary with champagne. But there’s no harm in throwing a sparkly champagne-hued heel into the mix now, is there? This lamé Loeffler Randall sandal is as effortless as it is comfortable, and it will instantly jazz up any outfit. It’s a present that’s literally wrapped up in a bow. Best Anniversary Gift For The Lady Who Appreciates A Bouquet An Arrangement That Will Last Until Next Year’s Celebration Venus et Fleur Venus Et Fleur Sylvie Porcelain Vase Eternity Flower Arrangement Buy From Venus Et Fleur As nice as a fresh flower delivery can be, it’s a fleeting gift. Why not opt for a bouquet that lasts for over a year instead? Venus et Fleur’s Sylvie arrangement comes with a stunning mix of eternity flowers, including calla lilies, roses, hydrangeas and dianthus. Think of it as a symbol of your love that you can keep on display until next year’s anniversary, at the very least. Best Anniversary Gift For The Trendsetter A Pair Of The Season’s Coolest Sunglasses JENNY BIRD Jenny Bird The Round Sunglasses Buy From Jenny Bird When cool-girl jewelry brand Jenny Bird first branched out into eyewear, we knew it was going to be, well, cool. As expected, these minimalist round shades—with frames made from gold-plated recycled steel and copper tips—manage to look effortlessly stylish for any outdoor occasion. Best Anniversary Gift For Your Other Half A Quirky Tote That Reflects Your Relationship Boredwalk Boredwalk Made For Each Other Peanut Butter And Jelly Tote Bag By Ex-Boyfriend Buy From Boredwalk Featuring an adorable peanut butter and jelly duo who were clearly meant to be, this canvas tote says it all. For just $10, it’s an extremely endearing gift—plus, she could always use another cute bag. Best Anniversary Gift For The Lady Who Loves Words Of Affirmation A Trinket Tray That Spells Out Exactly How You Feel Neiman Marcus Mariposa I Love You Statement Tray Buy From Neiman Marcus If there’s one thing that’s certain, it’s that she could always use another trinket tray. This one from Mariposa is handcrafted from recycled aluminum and features those three little words that she loves to hear you say. An elegant catchall for her nightstand, it’ll serve as a great spot for her to stash the jewelry that you present her with on other occasions (wink, wink). Best Anniversary Gift For The Homebody An Ornate Candle To Liven Up Her Favorite Room Baobab Collection Baobab Collection Candle Tomorrowland Buy From Baobab Collection This Baobab candle is practically a work of art. With a nature-inspired print in shades of green, it looks as enchanting as its scent, which features notes of lily of the valley and pear. She’ll appreciate it as statement décor when she’s not busy lighting it for a relaxing night at home. Best Anniversary Gift For The Woman Who Appreciates A Personal Touch A Truly Unique Ring With Her Initial In Diamonds MATEO NEW YORK Mateo New York 14K Gold Diamond Initial Ring Buy From Goop Whether or not you’ve already given her the ring, this personalized sparkler by Mateo New York will rock her world. Handmade from solid 14kt yellow gold, it’s set with emerald-cut crystal quartz that features a “hidden” pavé diamond initial underneath. It’s the epitome of elegance. Best Anniversary Gift For The Wine Connoisseur A Bottle Of White Meant To Awaken The Senses The Prisoner Wine Company Blindfold Blanc De Noir White Wine Buy From The Prisoner Wine Company When giving a bottle of wine as a gift, the bottle itself has to be special. And Blindfold’s Blanc de Noir is one to remember. The light and zesty white-pressed pinot noir is housed in a bottle that lives up to its name, and there’s no denying that it’ll set your anniversary date night mood just right . Best Anniversary Gift For The Beauty Junkie A Silky Lipstick That Delivers Results In A Single Swipe PAT McGRATH LABS Pat McGrath Labs SatinAllure Lipstick Buy From Pat McGrath Labs If you’d prefer to stick to the basics instead of going over-the-top, a new lipstick is the way to go. This one from Pat McGrath Labs’ limited-edition Love Collection is an obvious choice, based on its name alone (and the gold bow-adorned packaging). Choose from 18 flattering shades like the scarlet red Crimson Ecstasy and the natural Nude Venus. Best Anniversary Gift For The Jet-Setter A Convenient Carry-On That Makes Travel A Breeze Béis Béis The Carry-On Roller Buy From Béis This Béis carry-on is a bestseller for a reason, and it’s a great choice if she travels frequently for work or pleasure. The monochromatic design is as chic as it gets, and its smooth-rolling wheels, trolley handle and roomy interior will give her something to smile about as she waits in line at airport security. Best Anniversary Gift For The Minimalist A Pair Of Simple Yet Sophisticated Gold Hoops Jennifer Fisher Jennifer Fisher Fine Walk Huggies Buy From Jennifer Fisher Jennifer Fisher’s hoops are iconic for a reason—and her fine jewelry makes the ultimate subtle style statement, in particular. This 14kt yellow gold pair of huggies has a polished finish and is super lightweight, so she can wear them all day (or night) long without being weighed down. Best Anniversary Gift For The Barbie To Your Ken A Pretty-In-Pink, Buttery-Soft Bodysuit Skims Skims Fits Everybody Lace Cami Bodysuit Buy From Skims Cute wardrobe staples are always a nice present, and Skims has some of the softest, most comfortable options out there. This super-soft bodysuit has romantic lace trim and comes in this very happy shade of bubblegum pink, as well as a regal purple and classic black. The cami and onesie versions are also worth another look. Best Anniversary Gift For The Glam Lover A Sleek Smart Mirror That Will Become Her New BFF simplehuman Simplehuman 5x Sensor Mirror Buy From Simplehuman Whether she recreates the GRWM videos that she sees on TikTok or sticks to her tried-and-true beauty regimen, Simplehuman’s smart mirror will change her routine for the better. For starters, it’ll light up automatically as soon as her face approaches, simulating natural sunlight so she’ll know that her makeup is flawless upon leaving the house. Additional touch-control brightness settings, five-time magnification and a single charge that delivers up to five weeks of LED goodness further seal the deal. Best Anniversary Gift For The Fan Of A Little Blue Box A Ring That Comes In One—And Packs A Sweet Message Tiffany & Co. Tiffany & Co. Paloma’s Graffiti Love Ring Buy From Tiffany & Co. Put your love where she can see it with this ring from Tiffany & Co. Featuring Paloma Picasso’s handwriting in 18kt yellow gold, the street art-inspired design will make her think of you every time she looks down at her hand. A sweet reminder that she’ll cherish from the moment she glimpses the robin’s egg hue of its packaging. Best Anniversary Gift For The Bath Enthusiast A Dreamy Set For Her Most Relaxing Soak Yet Goop Esker The Works Bundle Buy From Goop If taking a bath is her favorite way to unwind, this set will bring her ritual to a new height. Treat her to this luxe Esker kit that features a handy dry brush, sparkling bath salts, body wash and oil, plus a chic whitewashed bath board that will store all of the essentials while she finds her zen. It even has a mirror that flips up so she can apply her face masks in the tub. Best Anniversary Gift For The One Who Always Smells Amazing A Romantic Scent With An Even More Romantic Name Saks Fifth Avenue Kilian Can’t Stop Loving You Eau De Parfum Buy From Saks Fifth Avenue With a name like “Can’t Stop Loving You,” there’s just no way that this Kilian perfume won’t be an anniversary hit. A romantic scent with top notes of orange blossom flower—a symbol of eternal love, naturally—as well as heartier notes of honey, vanilla and oak moss, she’ll be over the moon for it (and so will you). Best Anniversary Gift For The One With A Sweet Tooth A Decadent Cake That Is As Good As It Looks Goldbelly Lady M \"Slice of the Best\" Crêpes Cake: Passion Collection Skip the standard store-bought cake and celebrate with one of Lady M’s incredible confections this year. An indulgent new take on the Japanese-French bakery’s beloved cake, the Amedei Chocolate Mille Crêpes features twenty handmade cocoa crêpes, layered with a pastry cream made from rich Italian chocolate. Topped off with chocolate shavings and chocolate ganache, it’s almost too pretty to eat. Best Anniversary Gift For The Wellness Devotee A Filtered Showerhead That Will Transform Her Daily Routine Jolie Skin Co. The Jolie Filtered Showerhead Buy From Jolie Skin Co. File this gift under both functional and glamorous. The Jolie filtered showerhead will change showers as she knows them for good, removing chlorine, heavy metals and contaminants to give her glowing skin and oh-so-soft hair. She’ll just feel better, and all you have to do is make the purchase—and, of course, install it. Best Anniversary Gift For The Stone Crab Lover A Ready-Made Feast From A Beloved Miami Landmark Goldbelly Joe\\'s Stone Crab Claws For Celebration Package Buy From Goldbelly Dinner for two, anyone? The legendary Miami Beach restaurant Joe’s Stone Crab has just joined Goldbelly, meaning that you can have a full-on feast delivered right to your door. The “Claws for Celebration” package includes your choice of stone crabs (medium, large or jumbo) alongside the landmark’s signature mustard sauce, plus all of the equipment you’ll need to enjoy them (cocktail forks, bibs, a mallet and a cracking board). It’s sure to thrill anyone who appreciates a good—no, great —shellfish moment. Best Anniversary Gift For The Home Chef A Stylish Set Of Monochrome Cookware Caraway Caraway x Tan France Monochrome Cookware Set Buy From Caraway If she likes cooking—and this is important, because you don’t want to gift something that reminds her of a chore—she’ll be blown away by Caraway’s latest cookware collection. Designed in collaboration with Queer Eye star Tan France, the limited-edition set offers a new monochromatic take on four of the brand’s key non-stick ceramic-coated pieces—a fry pan, saucepan, sauté pan and dutch oven—in shades of moss, blush and créme. Even better, each set comes with magnetic pan racks and a canvas lid holder for convenient storage. Best Anniversary Gift For The One Who Gives You Butterflies A Pair Of Unforgettable Diamond Earrings Eriness Jewelry Eriness Diamond Butterfly Studs Buy From Eriness Anything from Eriness will charm the jewelry lover in your life, but these 14kt gold butterfly-shaped pave diamond studs are especially sweet—and on-trend. Not only will they add some whimsy to her ear stack, they’ll have her queuing up “Butterflies” by Kacey Musgraves and thinking about you whenever she wears them. The brand’s sunshine-inspired butterfly necklace would also do the trick. Best Anniversary Gift For The One You’re Moving In With A Luxe Cooling Bedding Bundle Sijo Sijo AiryWeight Eucalyptus Move In Bundle Buy From Sijo If your partner runs warm, this cooling bedding bundle from Sijo will be a welcome gift (and if you’re the hot sleeper of the couple, she’ll still appreciate the fact that everyone can get a better night’s sleep). The set includes a comforter, duvet cover, sheets, two pillows and pillowcases—all made from sustainable eucalyptus fibers. It’s soft, lightweight, moisture-wicking and comes in a nice range of colors. Best Anniversary Gift For The One Who Always Sparkles A Subtle New Band To Add To Her Rotation Angara Angara Pavé Set Diamond Bar Ring Buy From Angara Even if you’ve already given her the diamond ring of her dreams, that doesn’t mean she wouldn’t like another stunning piece to complement it. Made from 14kt yellow gold, this sleek Angara ring features a simple bar design with pavé set diamonds and milgrain details. You can customize it to her liking, choosing from four levels of gemstone quality and three carat weights (if she’s not a yellow gold fan, it’s also available in four other metals). No matter which options you ultimately select, know that it’ll look great stacked alongside her other favorite bands. Best Anniversary Gift For The Fan Of All Things Designer A Robe That Will Have Her Lounging In Luxury Bloomingdale\\'s Versace I Heart Baroque Bath Robe Buy From Bloomingdale\\'s There’s no way she’ll wear this Versace bathrobe without feeling totally regal. Featuring a baroque print trim and the fashion house’s logo, she’ll be in glam mode as soon as she puts it on. There’s something undeniably luxe about the black option, but it’s worth noting that it also comes in shades of red, gold and white. No matter which color you choose, the best part is that it’s machine-washable—and for a Versace piece, that’s pretty hard to beat. Best Anniversary Gift For The Ultimate Barbie Girl A Set Of Dreamhouse-Worthy Sleep Essentials Saks Fifth Avenue Barefoot Dreams x Barbie Accessories Limited Edition Loungewear 4-Piece Set Buy From Saks Fifth Avenue If she can’t stop talking about the Barbie movie, why not indulge her with something she can wear around her very own dreamhouse? This set from Barefoot Dreams includes an eye mask, scrunchie and socks in the brand’s signature CozyChic fabric, plus an equally fuzzy pouch that’s bound to become her go-to toiletry bag. Best Anniversary Gift For The Yin To Your Yang A Precious Bracelet With A Symbolic Charm Sydney Evan Sydney Evan Gold & Enamel Yin Yang Heart On Lavender Amethyst Don’t let the trendy lavender shade of this Sydney Evan bracelet fool you—it’s a timeless piece that she’ll treasure forever. The amethyst beads are strung on an easy-to-wear, stretchy cord and the sole charm is a 14kt yellow gold yin yang heart that represents the balance between two opposites. It’s a pretty and thoughtful present for your other half. Best Anniversary Gift For The One Who Can Never Make Up Her Mind A Box That’s Overflowing With Purse-Size Perfumes Bloomingdale\\'s Bond No. 9 New York Grand Bon-Bon Gift Set Buy From Bloomingdale\\'s Hey, just because she likes having options doesn’t mean she’s indecisive. Either way, this Bond No. 9 fragrance set will have her feeling like a kid in a candy store. It’s filled with 30 of the brand’s best-selling, colorfully-wrapped scents in mini “bon bon” sizes that she can stash in her bag on the go. Best Anniversary Gift For The One Who\\'s Always Cold A Cardigan That Goes With Everything Minnie Rose Minnie Rose Cotton Cable Cardigan If she never leaves home without a sweater, treat her to a new one just in time for cooler days ahead. This 100% cotton cable-knit cardigan from Minnie Rose is perfect for layering, and with its unique distressed trim, it feels more casual than buttoned-up. This neutral camel will go with any outfit, but it’s available in a wide range of colors, too. Best Anniversary Gift For The Subtle Sophisticate A Simple Chain Necklace With One Charming Pearl Monica Vinader Monica Vinader Nura Round Pearl Fine Chain Necklace Buy From Monica Vinader Diamonds may be a girl’s best friend, but pearls are right behind them. This Monica Vinader necklace is the epitome of sophistication, with a beautiful freshwater pearl draped on a simple, classic chain. Made from 18kt gold vermeil, the durable metal looks and feels like solid gold; price-wise, it clocks in blissfully lower. Best Anniversary Gift For The One Who Deserves A Vacation A Luxurious Trip To A Top-Rated Mexican Resort Nizuc NIZUC Resort & Spa In Cancún Reserve At NIZUC Resort & Spa If she could use a relaxing getaway—and let’s be real, she does—book a trip to NIZUC Resort & Spa in Cancún, stat. Nestled in the secluded enclave of Punta NIZUC, the ultra-chic Mexican oasis is built on the ancient base of Mayan astronomers and once served as a presidential retreat. Celebrating an anniversary of its own this year—lucky number 10—the resort has everything you could possibly ask for: Stunning private beaches, luxe swimming pools and oceanfront suites and private villas that boast incredible views. The lush 29-acre property is also home to six gourmet restaurants but in between meals, you can indulge in a Mayan-inspired couples’ massage at the spa by ESPA and experience a rejuvenating hydrotherapy circuit before heading back to the sand. It’s the definition of paradise—and a gift for her and for you. Best Anniversary Gift For The Handbag Collector A Sleek And Versatile One With Interchangeable Straps KAAI KAAI Ikon Clutch Buy From KAAI When it comes to purses, the more options, the better. And this brilliant bag from KAAI is as versatile as they come. You don’t even have to choose between getting her a clutch, shoulder bag or crossbody— thanks to interchangeable straps, this style blissfully functions as all three. In this maple brown hue, the glossy croc-printed leather looks especially striking—but it would serve her equally well in any of the other available colors or finishes (there are ten versions total). Best Anniversary Gift For The Fan Of A Striking Scent A Bold Floral Fragrance That Will Become Her Go-To Bloomingdale\\'s Creed Carmina Eau De Parfum Buy From Bloomingdale\\'s It’s easy to see why Carmina, the newest women’s fragrance from Creed, has made a name for itself. The modern floral scent is downright captivating, with sweeter notes of black cherry and Rose de Mai blending with warm cashmere wood, seductive amber and smoldering musk. Whether you opt for the 1-ounce bottle or spring for 2.5, she’ll be spritzing away happily. Best Anniversary Gift For The Social Butterfly A Revolving Wardrobe For Her Many Events Nuuly Nuuly 1-Month Subscription Buy From Nuuly When it comes to gift-giving, a clothing rental subscription is an underrated option—but it’s actually a practical choice, and one that’s universally appreciated. The busy bee in your life will be thrilled to receive a one-month subscription to Nuuly, where she can choose six pieces from an online closet of more than 15,000 styles from over 300 cool girl-approved brands (Favorite Daughter even just launched an exclusive collab with the site). Nuuly handles the logistics (laundry, shipping labels), so all she has to do is wear her new outfits on repeat before sending them back after four weeks. Best Anniversary Gift For The Statement Maker A Simple Yet Glamorous Pair Of Sunglasses Oscar & Frank US Oscar x Frank Las Palmas Sunglasses Buy From Oscar x Frank She’ll feel like a million bucks in these extremely cool shades from Australian eyewear brand Oscar x Frank. With wide arms and 24kt gold details, the oversized glossy black frames make a cool retro statement without feeling like they’re trying too hard (plus, they flatter any face shape). It’s no wonder the label’s sunglasses have been worn by everyone from Justin and Hailey Bieber to Beyoncé. Best Anniversary Gift For Your Lucky Charm A Custom Necklace That Inspires Good Fortune Marlo Laz Marlo Laz Bespoke Lucky Charm Buy From Marlo Laz There’s something about Marlo Laz’s jewelry that feels worthy of an occasion—and this personalized charm is as special as they come. You can design the piece of her dreams from scratch, starting with the type of gold and center gemstone, right down to the language and color of the engraving that represents “good luck” (choose from French, Spanish or Italian in 10 shades of enamel, or opt for simple raised gold). Have the back engraved with a custom message or add a halo of diamonds for good measure. Best Anniversary Gift For The One Who Won\\'t Sacrifice Style For Comfort A Pair Of Incredibly Luxe Cashmere Joggers The White Company US The White Company Cashmere Cuffed Joggers Buy From The White Company These cashmere joggers are great for anyone who appreciates lounging around in style. The pale gray marl serves as the ultimate neutral, and the comfy elastic waistband and flattering ribbed cuffs make for the ultimate finishing touches. In fact, they’re so chic that we bet she’ll even end up wearing them outside of the house—perhaps with the matching hoodie , should you feel inclined to make it a set. Best Anniversary Gift For Your Mane Squeeze A Flat Iron That Will Style Her Hair In Under 10 Minutes Bio Ionic Bio Ionic 10X Styling Iron Buy From Bio Ionic Thanks to its time-saving technology, Bio Ionic’s revolutionary hair straightener is a gift for her and for you. The one-inch tool features sonic vibrating plates that are infused with a volcanic mineral complex and seal in moisture as they work, so her hair will actually be conditioned as she styles it wavy or straight. Best Anniversary Gift For The One Who Prefers Silver A Bracelet That Brings On The Shine Amazon Uno De 50 Bracelet Buy From Amazon Silver is staging a major comeback, and if she’s been partial to the metal all along, then this is her true moment to shine. She’ll do just that wearing this unique handmade bracelet from the Madrid-based brand Uno de 50. With two contrasting crystals—one white, one wine-hued—at each end of its open-cuff, exposed-spring design, it’ll add just the right amount of color to her jewelry box. Best Anniversary Gift For The Woman Who Loves A Style Staple A Personalized Jacket She’ll Wear On Repeat Sezane Sézane Will Jacket Buy From Sézane Sézane’s designs are known for being practical, effortless and incredibly chic. The brand’s Will jacket is no exception (the proof lies in the celebrity sightings, and everyone from Naomi Watts to Sofia Richie Grainge has stepped out wearing it in recent months). It’s available in assorted fabrics and colors, but if you choose one of the denim shades, you can have it embroidered with her initials or a personal message. MORE FROM FORBES VETTED The Best Food Subscription Boxes That Are Perfect For The Gift-Giving Season By Margaret Eby Contributor The 46 Best Sales To Shop Over The Long Weekend By Jordan Thomas Forbes Staff More Anniversary Gifts Guides To Shop: Best Gifts For Women Best 50th Anniversary Gifts Best Flower Delivery Services Best Luxury Gifts Best Anniversary Gifts For Him Coupons Personalization Mall Link to Coupon Check out my website . Samantha Simon Editorial Standards Print Reprints & Permissions',\n",
        "            'pubDate': '2023-10-06 21:38:06',\n",
        "            'image_url': 'https://imageio.forbes.com/specials-images/imageserve/65205fdbc18fe5e25ee3cb90/0x0.jpg?width=960&precrop=1600%2C900%2Cx0%2Cy0',\n",
        "            'source_id': 'forbes',\n",
        "            'source_priority': 57,\n",
        "            'country': ['united states of america'],\n",
        "            'category': ['business'],\n",
        "            'language': 'english'\n",
        "        }, {\n",
        "            'article_id': '7c7d772b6829f03f8daa7124e066560f',\n",
        "            'title': '5 Lost Formula Energy Stocks To Consider For The 4th Quarter',\n",
        "            'link': 'https://www.forbes.com/sites/gurufocus/2023/10/06/5-lost-formula-energy-stocks-to-consider-for-the-4th-quarter/',\n",
        "            'keywords': ['Investing', '/investing', 'Money', '/money', 'Investing', '/investing', 'investing', 'investing', 'standard'],\n",
        "            'creator': ['GuruFocus', ' Contributor'],\n",
        "            'video_url': None,\n",
        "            'description': \"Exxon Mobil, EOG, Diamondback Energy and others may offer good value based on Benjamin Graham's criteria.\",\n",
        "            'content': 'Forbes Money Investing 5 Lost Formula Energy Stocks To Consider For The 4th Quarter GuruFocus Contributor Opinions expressed by Forbes Contributors are their own. Following Oct 6, 2023, 05:16pm EDT | Press play to listen to this article! Got it! Share to Facebook Share to Twitter Share to Linkedin These companies may offer good value based on Benjamin Graham\\'s criteria Summary Exxon Mobil, EOG, Diamondback Energy FANG , Coterra Energy and EQT EQT qualified for the screener. While the energy sector is up again this year after a blowout 2022, oil prices fell further on Friday on the back of macroeconomic-related demand fears as well as the Russian government lifting part of its diesel export ban. Brent crude futures declined 0.56% to $83.60 on Friday. Futures for West Texas Intermediate crude retreated 0.67% to $81.76. Oil price trends year to date GuruFocus.com Due to these developments, investors may be interested in potential opportunities in energy companies that qualify for Benjamin Graham’s Lost Formula screen, a Premium GuruFocus feature. Prior to his death in 1976, the renowned investor and author of \"Security Analysis\" and \"The Intelligent Investor\" developed a refined formula that screened for companies with a price-earnings ratio of less than 10 and an equity-to-asset ratio of at least 0.5. The formula got its name from the fact he was unable to publish it before his passing; therefore, it was lost from public knowledge for a time. Since Graham also prioritized a minimum interest coverage of 5 with the companies he invested in, that element was included in the criteria as well. MORE FOR YOU Will Ozempic Users Really Buy Fewer Groceries? Major Food Stocks Drop After Walmart Exec’s Claim. Who Is Anthony Pratt The Australian Billionaire Trump Reportedly Told U S Nuclear Secrets Why Safe Haven Utilities Stocks Are Having Their Worst Year Since 2008 A backtest of the strategy from 1926 to 1976 showed it would have outperformed the Dow benchmark by approximately twice as much. The screener found health care companies that met the criteria as of Oct. 6 included Exxon Mobil Corp. ( XOM , Financial ), EOG Resources Inc. ( EOG , Financial ), Diamondback Energy Inc. ( FANG , Financial ), Coterra Energy Inc. ( CTRA , Financial ) and EQT Corp. ( EQT , Financial ). Exxon Mobil Exxon Mobil ( XOM , Financial ) has a $421.89 billion market cap; its shares were trading around $105.83 on Friday with a price-earnings ratio of 8.47, a price-book ratio of 2.13, a price-sales ratio of 1.20 and an equity-to-asset ratio of 0.55. Founded in 1999, the Irving, Texas-based company explores for, produces and refines oil and natural gas. It has operations around the world. The GF Value Line VALU suggests the stock is fairly valued currently based on its historical ratios, past financial performance and analysts’ future earnings estimates. Exxon Mobil\\'s GF Value Line GuruFocus.com At 82 out of 100, the GF Score indicates the company has good outperformance potential, driven by high ratings for profitability, financial strength, momentum and growth. The value rank, however, is low. Exxon Mobil\\'s GF Score GuruFocus.com Of the gurus invested in Exxon Mobil, First Eagle Investment ( Trades , Portfolio ) has the largest stake with 0.33% of its outstanding shares. Ken Fisher ( Trades , Portfolio ) and the T Rowe Price Equity Income Fund ( Trades , Portfolio ) also have notable holdings. EOG Resources EOG Resources ( EOG , Financial ) has a market cap of $69.85 billion; its shares traded around $119.97 on Friday with a price-earnings ratio of 8.08, a price-book ratio of 2.66, a price-sales ratio of 2.78 and an equity-to-asset ratio of 0.63. The oil and gas producer headquartered in Houston has operations in the Permian Basin of West Texas, along with the Eagle Ford and Bakken plays. According to the GF Value Line , the stock is fairly valued currently. EOG\\'s GF Value Line GuruFocus.com The company also has good outperformance potential with on a GF Score of 88, receiving high ratings for four of the criteria and a low value rank. EOG\\'s GF Score GuruFocus.com With a 0.57% stake, Bill Nygren ( Trades , Portfolio ) is EOG’s largest guru shareholder . The stock is also being held by PRIMECAP Management ( Trades , Portfolio ), Yacktman Asset Management ( Trades , Portfolio ) and T. Rowe Price, among others. Diamondback Energy Diamondback Energy ( FANG , Financial ) has a $26.90 billion market cap; its shares were trading around $150.42 on Friday with a price-earnings ratio of 7.81, a price-book ratio of 1.73, a price-sales ratio of 3.33 and an equity-to-asset ratio of 0.56. The Midland, Texas-based company, which was established in 2007, produces oil and gas products in the Permian Basin of West Texas. Based on the GF Value Line , the stock appears to be modestly overvalued currently. Diamondback Energy\\'s GF Value Line GuruFocus.com The GF Score of 74 implies the company is expected to have average performance going forward. Although the ratings for profitability, growth and momentum are high, it has moderate financial strength and a low value rank. Diamondback Energy\\'s GF Score GuruFocus.com Yacktman Asset Management ( Trades , Portfolio ) has the largest position in Diamondback with 0.81% of its outstanding shares. Other guru investors include Steven Cohen ( Trades , Portfolio ), Fisher, Arnold Van Den Berg ( Trades , Portfolio ), Ray Dalio ( Trades , Portfolio )’s Renaissance Technologies and Jefferies Group ( Trades , Portfolio ). Coterra Energy Coterra Energy CTRA ( CTRA , Financial ) has a market cap of $20.36 billion; its shares traded around $26.97 on Friday with a price-earnings ratio of 6.79, a price-book ratio of 1.61, a price-sales ratio of 2.75 and an equity-to-asset ratio of 0.64. The oil and gas producer headquartered in Houston has operations in the Permian and Anadarko Basins as well as the Marcellus Shale play. The GF Value Line suggests the stock is significantly undervalued currently. Coterra Energy\\'s GF Value Line GuruFocus.com Supported by solid ratings across the board, the GF Score of 93 means the company has high outperformance potential. Coterra Energy\\'s GF Score GuruFocus.com Holding a 0.66% stake, Jim Simons ( Trades , Portfolio )’ Renaissance Technologies has the largest stake in Coterra. Diamond Hill Capital ( Trades , Portfolio ), PRIMECAP and Cohen also have large positions in the stock. EQT EQT has a $17.63 billion market cap; its shares were trading around $42.82 on Friday with a price-earnings ratio of 4.82, a price-book ratio of 1.29, a price-sales ratio of 2 and an equity-to-asset ratio of 0.56. The Pittsburgh-based company produces natural gas and has pipeline transportation operations. According to the GF Value Line , the stock is significantly overvalued currently. EQT\\'s GF Value Line GuruFocus.com The GF Score of 70 indicates the company has poor performance potential. While it received high ratings for profitability and momentum, the growth and financial strength ranks are more moderate and value is low. EQT\\'s GF Score GuruFocus.com David Tepper ( Trades , Portfolio ) is EQT’s largest guru shareholder with a 0.57% stake. Simons’ firm, T. Rowe Price, Cohen, David Nierenberg ( Trades , Portfolio ) and several other gurus also own the stock. Other potential opportunities Additional stocks that made the screener included Marathon Oil MRO Corp. ( MRO , Financial ), Chesapeake Energy CHK Corp. ( CHK , Financial ), HF Sinclair DINO Corp. ( DINO , Financial ), Range Resources RRC Corp. ( RRC , Financial ) and Antero Resources AR Corp. ( AR AR , Financial ). Disclosures I/we have no positions in any stocks mentioned, and have no plans to buy any new positions in the stocks mentioned within the next 72 hours. Follow me on Twitter . GuruFocus Editorial Standards Print Reprints & Permissions',\n",
        "            'pubDate': '2023-10-06 21:16:48',\n",
        "            'image_url': 'https://imageio.forbes.com/specials-images/imageserve/65207921d68c5f865e25ee2c/0x0.jpg?width=960&precrop=3499%2C1967%2Cx0%2Cy91',\n",
        "            'source_id': 'forbes',\n",
        "            'source_priority': 57,\n",
        "            'country': ['united states of america'],\n",
        "            'category': ['business'],\n",
        "            'language': 'english'\n",
        "        }\n",
        "    ],\n",
        "    'nextPage': '1696627008971772165'\n",
        "}\n",
        "\n",
        "```\n",
        "</details>"
      ],
      "metadata": {
        "id": "s7Zepx7vxx7T"
      }
    },
    {
      "cell_type": "code",
      "source": [
        "# select the somain out of 'bbc', 'forbes' , 'businessinsider_us' and then add the respective url\n",
        "domain_dict = {'bbc': 'bbc.com', 'forbes': 'forbes.com', 'businessinsider_us': 'businessinsider.com'}\n",
        "domain_dict['bbc']"
      ],
      "metadata": {
        "colab": {
          "base_uri": "https://localhost:8080/",
          "height": 35
        },
        "id": "bj0HOR-TyvD1",
        "outputId": "e14246fd-8df7-40e3-e2fd-b7068e46fdbc"
      },
      "execution_count": null,
      "outputs": [
        {
          "output_type": "execute_result",
          "data": {
            "text/plain": [
              "'bbc.com'"
            ],
            "application/vnd.google.colaboratory.intrinsic+json": {
              "type": "string"
            }
          },
          "metadata": {},
          "execution_count": 38
        }
      ]
    },
    {
      "cell_type": "markdown",
      "source": [
        "#### Archive news- not working"
      ],
      "metadata": {
        "id": "TgjgWCX7wv2r"
      }
    },
    {
      "cell_type": "code",
      "source": [
        "?api.archive_api"
      ],
      "metadata": {
        "id": "wiQEMwbnuhKH"
      },
      "execution_count": null,
      "outputs": []
    },
    {
      "cell_type": "code",
      "source": [
        "# now we are trying to fetch from archive\n",
        "response = api.archive_api(\n",
        "    #domain='bbc',  # 'bbc', 'forbes' , 'businessinsider_us',\n",
        "    domainurl='bbc.com', # 'bbc.com', 'forbes.com', 'businessinsider.com',\n",
        "    category='business' ,\n",
        "    # country = \"us\",\n",
        "    from_date = '2023-8-30',\n",
        "    to_date = '2023-10-01',\n",
        "    language = 'en',\n",
        "    full_content = True,\n",
        "    size=10\n",
        "    )"
      ],
      "metadata": {
        "colab": {
          "base_uri": "https://localhost:8080/",
          "height": 414
        },
        "id": "9X7Wjl97rvUJ",
        "outputId": "36b01ec2-7b6d-4861-eb2a-f43c0ad075b5"
      },
      "execution_count": null,
      "outputs": [
        {
          "output_type": "error",
          "ename": "NewsdataException",
          "evalue": "ignored",
          "traceback": [
            "\u001b[0;31m---------------------------------------------------------------------------\u001b[0m",
            "\u001b[0;31mNewsdataException\u001b[0m                         Traceback (most recent call last)",
            "\u001b[0;32m<ipython-input-34-21df9144300a>\u001b[0m in \u001b[0;36m<cell line: 2>\u001b[0;34m()\u001b[0m\n\u001b[1;32m      1\u001b[0m \u001b[0;31m# now we are trying to fetch from archive\u001b[0m\u001b[0;34m\u001b[0m\u001b[0;34m\u001b[0m\u001b[0m\n\u001b[0;32m----> 2\u001b[0;31m response = api.archive_api( \n\u001b[0m\u001b[1;32m      3\u001b[0m     \u001b[0;31m#domain='bbc',  # 'bbc', 'forbes' , 'businessinsider_us',\u001b[0m\u001b[0;34m\u001b[0m\u001b[0;34m\u001b[0m\u001b[0m\n\u001b[1;32m      4\u001b[0m     \u001b[0mdomainurl\u001b[0m\u001b[0;34m=\u001b[0m\u001b[0;34m'bbc.com'\u001b[0m\u001b[0;34m,\u001b[0m \u001b[0;31m# 'bbc.com', 'forbes.com', 'businessinsider.com',\u001b[0m\u001b[0;34m\u001b[0m\u001b[0;34m\u001b[0m\u001b[0m\n\u001b[1;32m      5\u001b[0m     \u001b[0mcategory\u001b[0m\u001b[0;34m=\u001b[0m\u001b[0;34m'business'\u001b[0m \u001b[0;34m,\u001b[0m\u001b[0;34m\u001b[0m\u001b[0;34m\u001b[0m\u001b[0m\n",
            "\u001b[0;32m/usr/local/lib/python3.10/dist-packages/newsdataapi/newsdataapi_client.py\u001b[0m in \u001b[0;36marchive_api\u001b[0;34m(self, q, qInTitle, country, category, language, domain, size, domainurl, excludedomain, timezone, full_content, image, video, prioritydomain, page, scroll, max_result, from_date, to_date, qInMeta)\u001b[0m\n\u001b[1;32m    173\u001b[0m             \u001b[0;32mreturn\u001b[0m \u001b[0mself\u001b[0m\u001b[0;34m.\u001b[0m\u001b[0m__get_feeds_all\u001b[0m\u001b[0;34m(\u001b[0m\u001b[0murl\u001b[0m\u001b[0;34m=\u001b[0m\u001b[0;34mf'{constants.ARCHIVE_URL}?{URL_parameters_encoded}'\u001b[0m\u001b[0;34m)\u001b[0m\u001b[0;34m\u001b[0m\u001b[0;34m\u001b[0m\u001b[0m\n\u001b[1;32m    174\u001b[0m         \u001b[0;32melse\u001b[0m\u001b[0;34m:\u001b[0m\u001b[0;34m\u001b[0m\u001b[0;34m\u001b[0m\u001b[0m\n\u001b[0;32m--> 175\u001b[0;31m             \u001b[0;32mreturn\u001b[0m \u001b[0mself\u001b[0m\u001b[0;34m.\u001b[0m\u001b[0m__get_feeds\u001b[0m\u001b[0;34m(\u001b[0m\u001b[0murl\u001b[0m\u001b[0;34m=\u001b[0m\u001b[0;34mf'{constants.ARCHIVE_URL}?{URL_parameters_encoded}'\u001b[0m\u001b[0;34m)\u001b[0m\u001b[0;34m\u001b[0m\u001b[0;34m\u001b[0m\u001b[0m\n\u001b[0m\u001b[1;32m    176\u001b[0m \u001b[0;34m\u001b[0m\u001b[0m\n\u001b[1;32m    177\u001b[0m     \u001b[0;32mdef\u001b[0m \u001b[0msources_api\u001b[0m\u001b[0;34m(\u001b[0m \u001b[0mself\u001b[0m\u001b[0;34m,\u001b[0m \u001b[0mcountry\u001b[0m\u001b[0;34m:\u001b[0m\u001b[0mOptional\u001b[0m\u001b[0;34m[\u001b[0m\u001b[0mstr\u001b[0m\u001b[0;34m]\u001b[0m\u001b[0;34m=\u001b[0m \u001b[0;32mNone\u001b[0m\u001b[0;34m,\u001b[0m \u001b[0mcategory\u001b[0m\u001b[0;34m:\u001b[0m\u001b[0mOptional\u001b[0m\u001b[0;34m[\u001b[0m\u001b[0mstr\u001b[0m\u001b[0;34m]\u001b[0m\u001b[0;34m=\u001b[0m \u001b[0;32mNone\u001b[0m\u001b[0;34m,\u001b[0m \u001b[0mlanguage\u001b[0m\u001b[0;34m:\u001b[0m\u001b[0mOptional\u001b[0m\u001b[0;34m[\u001b[0m\u001b[0mstr\u001b[0m\u001b[0;34m]\u001b[0m\u001b[0;34m=\u001b[0m \u001b[0;32mNone\u001b[0m\u001b[0;34m)\u001b[0m\u001b[0;34m:\u001b[0m\u001b[0;34m\u001b[0m\u001b[0;34m\u001b[0m\u001b[0m\n",
            "\u001b[0;32m/usr/local/lib/python3.10/dist-packages/newsdataapi/newsdataapi_client.py\u001b[0m in \u001b[0;36m__get_feeds\u001b[0;34m(self, url)\u001b[0m\n\u001b[1;32m     85\u001b[0m                     \u001b[0;32mreturn\u001b[0m \u001b[0mself\u001b[0m\u001b[0;34m.\u001b[0m\u001b[0m__get_feeds\u001b[0m\u001b[0;34m(\u001b[0m\u001b[0murl\u001b[0m\u001b[0;34m=\u001b[0m\u001b[0murl\u001b[0m\u001b[0;34m)\u001b[0m\u001b[0;34m\u001b[0m\u001b[0;34m\u001b[0m\u001b[0m\n\u001b[1;32m     86\u001b[0m                 \u001b[0;32melse\u001b[0m\u001b[0;34m:\u001b[0m\u001b[0;34m\u001b[0m\u001b[0;34m\u001b[0m\u001b[0m\n\u001b[0;32m---> 87\u001b[0;31m                     \u001b[0;32mraise\u001b[0m \u001b[0mNewsdataException\u001b[0m\u001b[0;34m(\u001b[0m\u001b[0mresponse\u001b[0m\u001b[0;34m.\u001b[0m\u001b[0mjson\u001b[0m\u001b[0;34m(\u001b[0m\u001b[0;34m)\u001b[0m\u001b[0;34m)\u001b[0m\u001b[0;34m\u001b[0m\u001b[0;34m\u001b[0m\u001b[0m\n\u001b[0m\u001b[1;32m     88\u001b[0m             \u001b[0;32melse\u001b[0m\u001b[0;34m:\u001b[0m\u001b[0;34m\u001b[0m\u001b[0;34m\u001b[0m\u001b[0m\n\u001b[1;32m     89\u001b[0m                 \u001b[0mself\u001b[0m\u001b[0;34m.\u001b[0m\u001b[0mrecursive_retry\u001b[0m \u001b[0;34m=\u001b[0m \u001b[0mself\u001b[0m\u001b[0;34m.\u001b[0m\u001b[0mmax_retries\u001b[0m\u001b[0;34m\u001b[0m\u001b[0;34m\u001b[0m\u001b[0m\n",
            "\u001b[0;31mNewsdataException\u001b[0m: {'status': 'error', 'results': {'message': 'Access Denied! Please upgrade your plan to access the archive endpoint.', 'code': 'AccessDenied'}}"
          ]
        }
      ]
    },
    {
      "cell_type": "code",
      "source": [
        "print(response)"
      ],
      "metadata": {
        "id": "QZWFbk1TuaFP"
      },
      "execution_count": null,
      "outputs": []
    },
    {
      "cell_type": "markdown",
      "metadata": {
        "id": "AJf5eAffl97a"
      },
      "source": [
        "# Combining the Data into one"
      ]
    },
    {
      "cell_type": "markdown",
      "metadata": {
        "id": "EhGGi-3Wl97a"
      },
      "source": [
        "* List all the json files in the dir  `data` . The files are in hte format of response_<keyword>.\n",
        "* Each Json file is of the following format:\n",
        "    ```json\n",
        "    {\n",
        "    \"status\": \"success\",\n",
        "    \"totalResults\": 5,\n",
        "    \"results\": [{.....}]\n",
        "    \"nextPage\": null\n",
        "    }\n",
        "    ```\n",
        "    * The `results` element contains a array of search results. Each results is of the format as below\n",
        "    ```json\n",
        "{\n",
        "    \"article_id\": \"856a3c5a797087228dc73ac936c707bb\",\n",
        "    \"title\": \"Newsquawk Week Ahead 11th-15th September\",\n",
        "    \"link\": \"https://www.forexlive.com/centralbank/newsquawk-week-ahead-11th-15th-september-20230909/\",\n",
        "    \"keywords\": [\"Central Banks\"],\n",
        "    \"creator\": [\"Newsquawk Analysis\", \"www.forexlive.com\"],\n",
        "    \"description\": \"Week Ahead 11th-15th SeptemberMON: Norwegian CPI (Aug)TUE: EIA STEO, OPEC MOMR; Swedish Unemployment (Aug), UK Unemployment (Aug) & Wages (Jul), NorwegianGDP (Jul), Germany/EZ ZEW (Sep)WED: IEA OMR; UK GDP Estimate (Jul), US CPI (Aug)THU: ECB Policy Announcement, Norges Bank Regional Network; Australian Employment (Aug), Swedish CPIF (Aug),US Retail Sales (Aug), IJC (w/e 4th Sep), New Zealand Manufacturing PMI (Aug)FRI: Quad Witching, CBR Policy Announcement, \",\n",
        "    \"content\": \": The prior reading was broadly in-line with the Norges Bank\\u2019s own forecast and cemented expectations for the 25bp hike that was delivered in August. The August inflation release will be carefully scrutinised, firstly for signs of the energy upside that has been seen in other European inflation metrics, and secondly for any indication that such pressure is having an impact on other areas of the economy. Irrespective of the release, the Norges Bank has already guided participants towards another hike occurring in September given inflation remains markedly above target. Instead, the data will be more influential when assessing the new policy rate path, which as of June\\u2019s MPR, looks for an end-2023 peak in the tightening cycle just shy of 4.25%. \",\n",
        "    \"pubDate\": \"2023-09-09 23:07:00\",\n",
        "    \"source_id\": \"forexlive\",\n",
        "    \"country\": [\"united states of america\"],\n",
        "    \"category\": [\"top\"],\n",
        "    \"language\": \"english\"\n",
        "}    \n",
        "    ```\n",
        "    * Add another element to each element in the results element in the format of \"file_keyword\" : \"<keyword-from-the-file-name>\"\n",
        "    * Read the results element from each file and combine it one single file.\n",
        "    * store the file with name `combined news response.json`\n",
        "Converting the data into csv to be read into dataframe. If the data is too big then try to store it in parque file.\n",
        "* Now read the file `combined news response.json` into pandas df with columns same as the elements in the json.\n"
      ]
    },
    {
      "cell_type": "code",
      "execution_count": null,
      "metadata": {
        "id": "JwCDCKjFl97a"
      },
      "outputs": [],
      "source": [
        "# retrieve the filenames from the directory\n",
        "# retrieve the file_keyword by extracting the string after \"_\"\n",
        "# read the current json\n",
        "# create a new combined json\n",
        "# take the \"results\" element values and add a new element \"file_keyword\" : \"<keyword-from-the-file-name>\"\n",
        "# then add the content to the new combined json\n",
        "# Loop through all the file names from the directory."
      ]
    },
    {
      "cell_type": "code",
      "execution_count": null,
      "metadata": {
        "id": "jXqrWDLVl97a",
        "outputId": "6861fde6-8f01-47e4-db66-49582f2573d2"
      },
      "outputs": [
        {
          "name": "stdout",
          "output_type": "stream",
          "text": [
            "/home/prabin_nayak/Workspace/side_projects/tradingGen_challenge/notebooks\n"
          ]
        }
      ],
      "source": [
        "!pwd"
      ]
    },
    {
      "cell_type": "markdown",
      "metadata": {
        "id": "taNgbbYgl97a"
      },
      "source": [
        "## retrieve the filenames from the directory"
      ]
    },
    {
      "cell_type": "code",
      "execution_count": null,
      "metadata": {
        "tags": [],
        "id": "XVsP_jcjl97b",
        "outputId": "bda542d3-99d0-4c0c-b6cb-57ac67e9775d"
      },
      "outputs": [
        {
          "name": "stdout",
          "output_type": "stream",
          "text": [
            "['response_Earnings Reports.json', 'response_PPI.json', 'response_Unemployment Rate.json', 'response_Federal Reserve.json', 'response_CPI.json', 'response_Natural Disasters.json', 'response_Oil Prices.json', 'response_Global Health Crises.json', 'response_Revenue Growth.json', 'response_Precious Metals.json', 'response_Trade Tensions.json', 'response_Inflation.json', 'response_Geopolitical Events.json', 'response_Exchange Rates.json', 'response_Tech Innovations.json', 'response_Manufacturing Index.json', 'response_Retail Sales.json', 'response_ECB.json', 'response_Earnings Surprises.json', 'response_GDP.json', 'response_Profit Margins.json', 'response_Elections.json', 'response_Agricultural Commodities.json', 'response_Currency Pairs.json', 'response_Gold Prices.json', 'response_Interest Rates.json', 'response_Trade Balance.json', 'response_Forex Market.json', 'response_Tech Company Earnings.json']\n"
          ]
        }
      ],
      "source": [
        "import os\n",
        "\n",
        "# Directory path where your JSON files are located\n",
        "directory_path = './data'\n",
        "\n",
        "# Use a list comprehension to get all file names in the directory\n",
        "file_list = [f for f in os.listdir(directory_path) if os.path.isfile(os.path.join(directory_path, f))]\n",
        "\n",
        "# Print the list of file names\n",
        "print(file_list)\n"
      ]
    },
    {
      "cell_type": "markdown",
      "metadata": {
        "id": "-iwRGP-ll97b"
      },
      "source": [
        "## retrieve the file_keyword by extracting the string after \"_\""
      ]
    },
    {
      "cell_type": "code",
      "execution_count": null,
      "metadata": {
        "id": "gw1hkQJUl97c"
      },
      "outputs": [],
      "source": []
    },
    {
      "cell_type": "code",
      "execution_count": null,
      "metadata": {
        "id": "qcR1ywLql97c",
        "outputId": "abe9dff1-e902-473f-def6-27b1daa350a4"
      },
      "outputs": [
        {
          "name": "stdout",
          "output_type": "stream",
          "text": [
            "['Earnings Reports', 'PPI', 'Unemployment Rate', 'Federal Reserve', 'CPI', 'Natural Disasters', 'Oil Prices', 'Global Health Crises', 'Revenue Growth', 'Precious Metals', 'Trade Tensions', 'Inflation', 'Geopolitical Events', 'Exchange Rates', 'Tech Innovations', 'Manufacturing Index', 'Retail Sales', 'ECB', 'Earnings Surprises', 'GDP', 'Profit Margins', 'Elections', 'Agricultural Commodities', 'Currency Pairs', 'Gold Prices', 'Interest Rates', 'Trade Balance', 'Forex Market', 'Tech Company Earnings']\n"
          ]
        }
      ],
      "source": [
        "# Extract the file_keyword from each filename\n",
        "file_keywords = [filename.split('_')[1].split('.')[0] for filename in file_list]\n",
        "\n",
        "# Print the list of file_keywords\n",
        "print(file_keywords)"
      ]
    },
    {
      "cell_type": "markdown",
      "metadata": {
        "id": "qZnOyyF4ETBF"
      },
      "source": [
        "## read the current json and create a new combined json"
      ]
    },
    {
      "cell_type": "code",
      "execution_count": null,
      "metadata": {
        "id": "fSABYKM5l97c"
      },
      "outputs": [],
      "source": [
        "# initialize a \"combined_json\" to dump all the content of the file selected using the given condition\n",
        "# take the files from the list one by one\n",
        "# for each file , # read the current json\n",
        "# take the values of \"results\" element  in json and add a new element \"file_keyword\" : \"<keyword-from-the-file-name>\"\n",
        "# then add the content to the new combined json\n",
        "# Loop through all the file names from the directory."
      ]
    },
    {
      "cell_type": "code",
      "execution_count": null,
      "metadata": {
        "id": "WSueKWTNl97c"
      },
      "outputs": [],
      "source": [
        "import json\n",
        "\n",
        "# Initialize an empty list to store the combined JSON data\n",
        "combined_json = []"
      ]
    },
    {
      "cell_type": "code",
      "execution_count": null,
      "metadata": {
        "tags": [],
        "id": "16AxB3yPl97d",
        "outputId": "9495e400-eb76-46a7-e7ca-a0d39b0636a3"
      },
      "outputs": [
        {
          "data": {
            "text/plain": [
              "['response_Earnings Reports.json',\n",
              " 'response_PPI.json',\n",
              " 'response_Unemployment Rate.json',\n",
              " 'response_Federal Reserve.json',\n",
              " 'response_CPI.json',\n",
              " 'response_Natural Disasters.json',\n",
              " 'response_Oil Prices.json',\n",
              " 'response_Global Health Crises.json',\n",
              " 'response_Revenue Growth.json',\n",
              " 'response_Precious Metals.json',\n",
              " 'response_Trade Tensions.json',\n",
              " 'response_Inflation.json',\n",
              " 'response_Geopolitical Events.json',\n",
              " 'response_Exchange Rates.json',\n",
              " 'response_Tech Innovations.json',\n",
              " 'response_Manufacturing Index.json',\n",
              " 'response_Retail Sales.json',\n",
              " 'response_ECB.json',\n",
              " 'response_Earnings Surprises.json',\n",
              " 'response_GDP.json',\n",
              " 'response_Profit Margins.json',\n",
              " 'response_Elections.json',\n",
              " 'response_Agricultural Commodities.json',\n",
              " 'response_Currency Pairs.json',\n",
              " 'response_Gold Prices.json',\n",
              " 'response_Interest Rates.json',\n",
              " 'response_Trade Balance.json',\n",
              " 'response_Forex Market.json',\n",
              " 'response_Tech Company Earnings.json']"
            ]
          },
          "execution_count": 13,
          "metadata": {},
          "output_type": "execute_result"
        }
      ],
      "source": [
        "# List of file names\n",
        "file_list"
      ]
    },
    {
      "cell_type": "code",
      "execution_count": null,
      "metadata": {
        "id": "nfxeJFzFl97d",
        "outputId": "8c59ca63-6f21-481c-87b1-8b529ade6365"
      },
      "outputs": [
        {
          "name": "stdout",
          "output_type": "stream",
          "text": [
            "response_Earnings Reports.json is added to the combined json object\n",
            "response_PPI.json is added to the combined json object\n",
            "response_Unemployment Rate.json is added to the combined json object\n",
            "response_Federal Reserve.json is added to the combined json object\n",
            "response_CPI.json is added to the combined json object\n",
            "response_Natural Disasters.json is added to the combined json object\n",
            "response_Oil Prices.json is added to the combined json object\n",
            "response_Global Health Crises.json is added to the combined json object\n",
            "response_Revenue Growth.json is added to the combined json object\n",
            "response_Precious Metals.json is added to the combined json object\n",
            "response_Trade Tensions.json is added to the combined json object\n",
            "response_Inflation.json is added to the combined json object\n",
            "response_Geopolitical Events.json is added to the combined json object\n",
            "response_Exchange Rates.json is added to the combined json object\n",
            "response_Tech Innovations.json is added to the combined json object\n",
            "response_Manufacturing Index.json is added to the combined json object\n",
            "response_Retail Sales.json is added to the combined json object\n",
            "response_ECB.json is added to the combined json object\n",
            "response_Earnings Surprises.json is added to the combined json object\n",
            "response_GDP.json is added to the combined json object\n",
            "response_Profit Margins.json is added to the combined json object\n",
            "response_Elections.json is added to the combined json object\n",
            "response_Agricultural Commodities.json is added to the combined json object\n",
            "response_Currency Pairs.json is added to the combined json object\n",
            "response_Gold Prices.json is added to the combined json object\n",
            "response_Interest Rates.json is added to the combined json object\n",
            "response_Trade Balance.json is added to the combined json object\n",
            "response_Forex Market.json is added to the combined json object\n",
            "response_Tech Company Earnings.json is added to the combined json object\n"
          ]
        }
      ],
      "source": [
        "# Loop through each file name\n",
        "for filename in file_list:\n",
        "    # Read the current JSON file\n",
        "    with open(directory_path+'/'+filename, 'r') as file:\n",
        "        current_json = json.load(file)\n",
        "\n",
        "    # Extract the file_keyword from the filename\n",
        "    file_keyword = filename.split('_')[1].split('.')[0]\n",
        "\n",
        "    # Add the file_keyword to each result in the current JSON\n",
        "    for result in current_json['results']:\n",
        "        result['file_keyword'] = file_keyword\n",
        "\n",
        "    # Extend the combined JSON list with the results from the current JSON\n",
        "    combined_json.extend(current_json['results'])\n",
        "    print(f'{filename} is added to the combined json object')\n",
        "    # break # using the break to check the loop code always"
      ]
    },
    {
      "cell_type": "code",
      "execution_count": null,
      "metadata": {
        "id": "zlmWoApAl97h",
        "outputId": "a5f15929-930d-4d8b-a114-aa23212796f5"
      },
      "outputs": [
        {
          "data": {
            "text/plain": [
              "{'article_id': '6fdb1dfc1f791bc12ad8e20de31717d5',\n",
              " 'title': 'IRS announces new plan to hire more agents for high-dollar cases to keep ‘wealthiest filers accountable’',\n",
              " 'link': 'https://nypost.com/2023/09/09/irs-sets-its-sights-on-millionaire-tax-cheaters-with-help-of-ai/',\n",
              " 'keywords': None,\n",
              " 'creator': ['Katherine Donlevy'],\n",
              " 'video_url': None,\n",
              " 'description': 'The federal agency said it plans to aggressively hunt down 1,600 millionaires and 75 large business partnerships that routinely \"cut corners\" on their taxes.',\n",
              " 'content': 'The IRS announced it will start targeting thousands of uber-wealthy tax cheats and make them poney up hundreds of millions of dollars in the coming months. The federal agency said it plans to aggressively hunt down 1,600 millionaires and 75 large business partnerships that routinely “cut corners” on their taxes. “If you pay your taxes on time it should be particularly frustrating when you see that wealthy filers are not,” IRS Commissioner Daniel Werfel said. Each of the millionaire tax dodgers that the IRS set its sights on owes a minimum of at least $250,000 each in back taxes, while the partnerships have assets of roughly $10 billion on average. The IRS is planning to hire an undisclosed number of revenue agents to focus on the high-end collection cases so that the new initiative can start rolling in October this year. The crackdown represents the next phase of an offensive pursuit that the Biden Administration launched earlier this summer — in July, the IRS said it collected $38 million in delinquent taxes from more than 175 high-income taxpayers in the span of a few months. According to Werfel, the initiative is being propelled by a massive boost in federal funding from the Inflation Reduction Act, which aims to generate tax revenue for the nation. The agency is also being added by artificial intelligence tools that can detect tax-cheating tactics that might be indiscernible to the human eye. “New tools are helping us see patterns and trends that we could not see before, and as a result, we have higher confidence on where to look and find where large partnerships are shielding income,” Werfel said. A team of academic economists and IRS researchers in 2021 found that the top 1% of U.S. income earners fail to report more than 20% of their earnings to the IRS. With additional support and funding, the IRS will continue to hunt larger and wealthier tax dodgers in the coming years. As part of the initiative, the agency promised that citizens earning less than $400,000 a year will not see an increase in their audit rates. “This new compliance push makes good on the promise of the Inflation Reduction Act to ensure the IRS holds our wealthiest filers accountable to pay the full amount of what they owe,” said Werfel. “The years of underfunding that predated the Inflation Reduction Act led to the lowest audit rate of wealthy filers in our history.” With Post Wires',\n",
              " 'pubDate': '2023-09-10 02:15:26',\n",
              " 'image_url': 'https://nypost.com/wp-content/uploads/sites/2/2023/09/NYPICHPDPICT000032963483.jpg?quality=90&strip=all',\n",
              " 'source_id': 'nypost',\n",
              " 'source_priority': 109,\n",
              " 'country': ['united states of america'],\n",
              " 'category': ['top'],\n",
              " 'language': 'english',\n",
              " 'file_keyword': 'Earnings Reports'}"
            ]
          },
          "execution_count": 15,
          "metadata": {},
          "output_type": "execute_result"
        }
      ],
      "source": [
        "combined_json[0]"
      ]
    },
    {
      "cell_type": "code",
      "execution_count": null,
      "metadata": {
        "id": "TsBK4HSyl97i"
      },
      "outputs": [],
      "source": [
        "# Save the combined_json object as a JSON file\n",
        "with open('combined_news_response.json', 'w') as combined_file:\n",
        "    json.dump(combined_json, combined_file, indent=4)"
      ]
    },
    {
      "cell_type": "markdown",
      "metadata": {
        "id": "It844YiXl97i"
      },
      "source": [
        "# Creating a datset out of the whole json"
      ]
    },
    {
      "cell_type": "code",
      "execution_count": null,
      "metadata": {
        "id": "mLVLRB1nl97i"
      },
      "outputs": [],
      "source": [
        "import pandas as pd"
      ]
    },
    {
      "cell_type": "code",
      "execution_count": null,
      "metadata": {
        "id": "YjysUNaYl97i",
        "outputId": "aa1394a7-fda7-4772-e7cc-dea6067287f4"
      },
      "outputs": [
        {
          "data": {
            "text/html": [
              "<div>\n",
              "<style scoped>\n",
              "    .dataframe tbody tr th:only-of-type {\n",
              "        vertical-align: middle;\n",
              "    }\n",
              "\n",
              "    .dataframe tbody tr th {\n",
              "        vertical-align: top;\n",
              "    }\n",
              "\n",
              "    .dataframe thead th {\n",
              "        text-align: right;\n",
              "    }\n",
              "</style>\n",
              "<table border=\"1\" class=\"dataframe\">\n",
              "  <thead>\n",
              "    <tr style=\"text-align: right;\">\n",
              "      <th></th>\n",
              "      <th>article_id</th>\n",
              "      <th>title</th>\n",
              "      <th>link</th>\n",
              "      <th>keywords</th>\n",
              "      <th>creator</th>\n",
              "      <th>video_url</th>\n",
              "      <th>description</th>\n",
              "      <th>content</th>\n",
              "      <th>pubDate</th>\n",
              "      <th>image_url</th>\n",
              "      <th>source_id</th>\n",
              "      <th>source_priority</th>\n",
              "      <th>country</th>\n",
              "      <th>category</th>\n",
              "      <th>language</th>\n",
              "      <th>file_keyword</th>\n",
              "    </tr>\n",
              "  </thead>\n",
              "  <tbody>\n",
              "    <tr>\n",
              "      <th>0</th>\n",
              "      <td>6fdb1dfc1f791bc12ad8e20de31717d5</td>\n",
              "      <td>IRS announces new plan to hire more agents for...</td>\n",
              "      <td>https://nypost.com/2023/09/09/irs-sets-its-sig...</td>\n",
              "      <td>None</td>\n",
              "      <td>[Katherine Donlevy]</td>\n",
              "      <td>NaN</td>\n",
              "      <td>The federal agency said it plans to aggressive...</td>\n",
              "      <td>The IRS announced it will start targeting thou...</td>\n",
              "      <td>2023-09-10 02:15:26</td>\n",
              "      <td>https://nypost.com/wp-content/uploads/sites/2/...</td>\n",
              "      <td>nypost</td>\n",
              "      <td>109</td>\n",
              "      <td>[united states of america]</td>\n",
              "      <td>[top]</td>\n",
              "      <td>english</td>\n",
              "      <td>Earnings Reports</td>\n",
              "    </tr>\n",
              "    <tr>\n",
              "      <th>1</th>\n",
              "      <td>818c1a18c9163bb3ec1b79e6ffbd53a3</td>\n",
              "      <td>American teen Gauff wins US Open for first major</td>\n",
              "      <td>https://www.espn.com/tennis/story/_/id/3836295...</td>\n",
              "      <td>None</td>\n",
              "      <td>None</td>\n",
              "      <td>NaN</td>\n",
              "      <td>Coco Gauff, 19, is the youngest US Open winner...</td>\n",
              "      <td>NEW YORK -- Coco Gauff won her first major tit...</td>\n",
              "      <td>2023-09-10 02:10:45</td>\n",
              "      <td>None</td>\n",
              "      <td>espn</td>\n",
              "      <td>18</td>\n",
              "      <td>[india, singapore, canada, australia, united k...</td>\n",
              "      <td>[sports]</td>\n",
              "      <td>english</td>\n",
              "      <td>Earnings Reports</td>\n",
              "    </tr>\n",
              "    <tr>\n",
              "      <th>2</th>\n",
              "      <td>4ce0900a81770e77b38ad5ed33e25a4e</td>\n",
              "      <td>How to watch UFC 293: Adesanya vs. Strickland ...</td>\n",
              "      <td>https://www.businessinsider.com/guides/streami...</td>\n",
              "      <td>None</td>\n",
              "      <td>[Quentyn Kennemer]</td>\n",
              "      <td>NaN</td>\n",
              "      <td>None</td>\n",
              "      <td>When you buy through our links, Insider may ea...</td>\n",
              "      <td>2023-09-10 00:00:01</td>\n",
              "      <td>None</td>\n",
              "      <td>businessinsider_us</td>\n",
              "      <td>133</td>\n",
              "      <td>[united states of america]</td>\n",
              "      <td>[top]</td>\n",
              "      <td>english</td>\n",
              "      <td>Earnings Reports</td>\n",
              "    </tr>\n",
              "    <tr>\n",
              "      <th>3</th>\n",
              "      <td>68f3b1c47cf6ac3b30418bdfcb16379e</td>\n",
              "      <td>Report: Which Utah university gives the best b...</td>\n",
              "      <td>https://www.deseret.com/utah/2023/9/9/23860129...</td>\n",
              "      <td>None</td>\n",
              "      <td>[Marjorie Cortez]</td>\n",
              "      <td>NaN</td>\n",
              "      <td>None</td>\n",
              "      <td>A new Utah Foundation report affirms the more ...</td>\n",
              "      <td>2023-09-10 00:00:00</td>\n",
              "      <td>None</td>\n",
              "      <td>deseret</td>\n",
              "      <td>1778</td>\n",
              "      <td>[united states of america]</td>\n",
              "      <td>[sports]</td>\n",
              "      <td>english</td>\n",
              "      <td>Earnings Reports</td>\n",
              "    </tr>\n",
              "    <tr>\n",
              "      <th>4</th>\n",
              "      <td>777807a4ac13a3945b708a8501f4e5c0</td>\n",
              "      <td>American tennis star Coco Gauff wins Grand Sla...</td>\n",
              "      <td>https://thehill.com/blogs/in-the-know/4196203-...</td>\n",
              "      <td>[In The Know, News, tennis, US Open]</td>\n",
              "      <td>[Julia Shapero]</td>\n",
              "      <td>NaN</td>\n",
              "      <td>American tennis star Coco Gauff won the Grand ...</td>\n",
              "      <td>American tennis star Coco Gauff won the Grand ...</td>\n",
              "      <td>2023-09-09 23:12:08</td>\n",
              "      <td>https://thehill.com/wp-content/uploads/sites/2...</td>\n",
              "      <td>thehill</td>\n",
              "      <td>393</td>\n",
              "      <td>[united states of america]</td>\n",
              "      <td>[top]</td>\n",
              "      <td>english</td>\n",
              "      <td>Earnings Reports</td>\n",
              "    </tr>\n",
              "  </tbody>\n",
              "</table>\n",
              "</div>"
            ],
            "text/plain": [
              "                         article_id  \\\n",
              "0  6fdb1dfc1f791bc12ad8e20de31717d5   \n",
              "1  818c1a18c9163bb3ec1b79e6ffbd53a3   \n",
              "2  4ce0900a81770e77b38ad5ed33e25a4e   \n",
              "3  68f3b1c47cf6ac3b30418bdfcb16379e   \n",
              "4  777807a4ac13a3945b708a8501f4e5c0   \n",
              "\n",
              "                                               title  \\\n",
              "0  IRS announces new plan to hire more agents for...   \n",
              "1   American teen Gauff wins US Open for first major   \n",
              "2  How to watch UFC 293: Adesanya vs. Strickland ...   \n",
              "3  Report: Which Utah university gives the best b...   \n",
              "4  American tennis star Coco Gauff wins Grand Sla...   \n",
              "\n",
              "                                                link  \\\n",
              "0  https://nypost.com/2023/09/09/irs-sets-its-sig...   \n",
              "1  https://www.espn.com/tennis/story/_/id/3836295...   \n",
              "2  https://www.businessinsider.com/guides/streami...   \n",
              "3  https://www.deseret.com/utah/2023/9/9/23860129...   \n",
              "4  https://thehill.com/blogs/in-the-know/4196203-...   \n",
              "\n",
              "                               keywords              creator  video_url  \\\n",
              "0                                  None  [Katherine Donlevy]        NaN   \n",
              "1                                  None                 None        NaN   \n",
              "2                                  None   [Quentyn Kennemer]        NaN   \n",
              "3                                  None    [Marjorie Cortez]        NaN   \n",
              "4  [In The Know, News, tennis, US Open]      [Julia Shapero]        NaN   \n",
              "\n",
              "                                         description  \\\n",
              "0  The federal agency said it plans to aggressive...   \n",
              "1  Coco Gauff, 19, is the youngest US Open winner...   \n",
              "2                                               None   \n",
              "3                                               None   \n",
              "4  American tennis star Coco Gauff won the Grand ...   \n",
              "\n",
              "                                             content              pubDate  \\\n",
              "0  The IRS announced it will start targeting thou...  2023-09-10 02:15:26   \n",
              "1  NEW YORK -- Coco Gauff won her first major tit...  2023-09-10 02:10:45   \n",
              "2  When you buy through our links, Insider may ea...  2023-09-10 00:00:01   \n",
              "3  A new Utah Foundation report affirms the more ...  2023-09-10 00:00:00   \n",
              "4  American tennis star Coco Gauff won the Grand ...  2023-09-09 23:12:08   \n",
              "\n",
              "                                           image_url           source_id  \\\n",
              "0  https://nypost.com/wp-content/uploads/sites/2/...              nypost   \n",
              "1                                               None                espn   \n",
              "2                                               None  businessinsider_us   \n",
              "3                                               None             deseret   \n",
              "4  https://thehill.com/wp-content/uploads/sites/2...             thehill   \n",
              "\n",
              "   source_priority                                            country  \\\n",
              "0              109                         [united states of america]   \n",
              "1               18  [india, singapore, canada, australia, united k...   \n",
              "2              133                         [united states of america]   \n",
              "3             1778                         [united states of america]   \n",
              "4              393                         [united states of america]   \n",
              "\n",
              "   category language      file_keyword  \n",
              "0     [top]  english  Earnings Reports  \n",
              "1  [sports]  english  Earnings Reports  \n",
              "2     [top]  english  Earnings Reports  \n",
              "3  [sports]  english  Earnings Reports  \n",
              "4     [top]  english  Earnings Reports  "
            ]
          },
          "execution_count": 20,
          "metadata": {},
          "output_type": "execute_result"
        }
      ],
      "source": [
        "json_data_df = pd.read_json('./combined_news_response.json')\n",
        "json_data_df.head()"
      ]
    },
    {
      "cell_type": "code",
      "execution_count": null,
      "metadata": {
        "id": "13oMYRJNl97j",
        "outputId": "10c0b45d-1234-4a86-a076-216c4075af29"
      },
      "outputs": [
        {
          "data": {
            "text/plain": [
              "(252, 16)"
            ]
          },
          "execution_count": 21,
          "metadata": {},
          "output_type": "execute_result"
        }
      ],
      "source": [
        "json_data_df.shape"
      ]
    },
    {
      "cell_type": "code",
      "execution_count": null,
      "metadata": {
        "id": "nU4XuOVll97j",
        "outputId": "06a61824-dd02-441f-bdc5-88b54f34bc09"
      },
      "outputs": [
        {
          "data": {
            "text/plain": [
              "article_id                          6fdb1dfc1f791bc12ad8e20de31717d5\n",
              "title              IRS announces new plan to hire more agents for...\n",
              "link               https://nypost.com/2023/09/09/irs-sets-its-sig...\n",
              "keywords                                                        None\n",
              "creator                                          [Katherine Donlevy]\n",
              "video_url                                                        NaN\n",
              "description        The federal agency said it plans to aggressive...\n",
              "content            The IRS announced it will start targeting thou...\n",
              "pubDate                                          2023-09-10 02:15:26\n",
              "image_url          https://nypost.com/wp-content/uploads/sites/2/...\n",
              "source_id                                                     nypost\n",
              "source_priority                                                  109\n",
              "country                                   [united states of america]\n",
              "category                                                       [top]\n",
              "language                                                     english\n",
              "file_keyword                                        Earnings Reports\n",
              "Name: 0, dtype: object"
            ]
          },
          "execution_count": 28,
          "metadata": {},
          "output_type": "execute_result"
        }
      ],
      "source": [
        "json_data_df.iloc[0]"
      ]
    },
    {
      "cell_type": "code",
      "execution_count": null,
      "metadata": {
        "id": "2BWyIi3Cl97k",
        "outputId": "2e56007d-88fa-43f1-bc12-3929631d8273"
      },
      "outputs": [
        {
          "data": {
            "text/plain": [
              "201"
            ]
          },
          "execution_count": 23,
          "metadata": {},
          "output_type": "execute_result"
        }
      ],
      "source": [
        "len(json_data_df['article_id'].unique())"
      ]
    },
    {
      "cell_type": "code",
      "execution_count": null,
      "metadata": {
        "id": "ZMvA4m4Xl97k"
      },
      "outputs": [],
      "source": [
        "columns = [ 'title', 'keywords', 'creator', 'description', 'content', 'pubDate', 'country', 'category', 'language', 'file_keyword' ]"
      ]
    },
    {
      "cell_type": "code",
      "execution_count": null,
      "metadata": {
        "id": "qfy4etAgl97k"
      },
      "outputs": [],
      "source": [
        "json_data_df[columns].to_csv('combined_news_response.csv')"
      ]
    },
    {
      "cell_type": "code",
      "execution_count": null,
      "metadata": {
        "id": "WSMTSjV-l97k",
        "outputId": "80bd53e3-bc0a-495b-d055-e0309e81ba32"
      },
      "outputs": [
        {
          "data": {
            "text/plain": [
              "(0, 19)"
            ]
          },
          "execution_count": 35,
          "metadata": {},
          "output_type": "execute_result"
        }
      ],
      "source": [
        "json_data_df['content'].isnull().sum(), json_data_df['description'].isnull().sum()"
      ]
    },
    {
      "cell_type": "markdown",
      "metadata": {
        "id": "LPRuBymwl97l"
      },
      "source": [
        "> The whole json retrieved from the api and saved into csv.\n",
        "\n",
        "> Next is to treat this csv as the utimatum dtaset and start working on the sentiment analysis stuff."
      ]
    },
    {
      "cell_type": "markdown",
      "source": [
        "# Gradio app for Data collection:"
      ],
      "metadata": {
        "id": "4G6bb8vLh6RN"
      }
    },
    {
      "cell_type": "code",
      "execution_count": null,
      "metadata": {
        "id": "n7FwkWr4l97l"
      },
      "outputs": [],
      "source": [
        "# !pip install newsdataapi"
      ]
    },
    {
      "cell_type": "markdown",
      "source": [
        "## converting the cells into methods"
      ],
      "metadata": {
        "id": "5X0BILUb1B40"
      }
    },
    {
      "cell_type": "code",
      "source": [
        "!pip install newsdataapi"
      ],
      "metadata": {
        "colab": {
          "base_uri": "https://localhost:8080/"
        },
        "id": "OvNNWEkP5GJ4",
        "outputId": "14155edd-49f1-4aed-8313-fde8d1c628ee"
      },
      "execution_count": null,
      "outputs": [
        {
          "output_type": "stream",
          "name": "stdout",
          "text": [
            "Collecting newsdataapi\n",
            "  Downloading newsdataapi-0.1.8-py3-none-any.whl (7.8 kB)\n",
            "Requirement already satisfied: requests<3.0.0 in /usr/local/lib/python3.10/dist-packages (from newsdataapi) (2.31.0)\n",
            "Requirement already satisfied: charset-normalizer<4,>=2 in /usr/local/lib/python3.10/dist-packages (from requests<3.0.0->newsdataapi) (3.3.0)\n",
            "Requirement already satisfied: idna<4,>=2.5 in /usr/local/lib/python3.10/dist-packages (from requests<3.0.0->newsdataapi) (3.4)\n",
            "Requirement already satisfied: urllib3<3,>=1.21.1 in /usr/local/lib/python3.10/dist-packages (from requests<3.0.0->newsdataapi) (2.0.6)\n",
            "Requirement already satisfied: certifi>=2017.4.17 in /usr/local/lib/python3.10/dist-packages (from requests<3.0.0->newsdataapi) (2023.7.22)\n",
            "Installing collected packages: newsdataapi\n",
            "Successfully installed newsdataapi-0.1.8\n"
          ]
        }
      ]
    },
    {
      "cell_type": "code",
      "source": [
        "!rm -r ./data"
      ],
      "metadata": {
        "colab": {
          "base_uri": "https://localhost:8080/"
        },
        "id": "zGT6MzOL8TTQ",
        "outputId": "4c3fe156-94d4-4fd9-fdd8-606a10b86402"
      },
      "execution_count": null,
      "outputs": [
        {
          "output_type": "stream",
          "name": "stdout",
          "text": [
            "rm: cannot remove './data': No such file or directory\n"
          ]
        }
      ]
    },
    {
      "cell_type": "code",
      "execution_count": null,
      "metadata": {
        "id": "4ApODdKWl97l",
        "colab": {
          "base_uri": "https://localhost:8080/"
        },
        "outputId": "eeb832bc-3981-4b5d-db48-9d9eb9c761a2"
      },
      "outputs": [
        {
          "output_type": "stream",
          "name": "stdout",
          "text": [
            "Directory './data' created successfully.\n"
          ]
        }
      ],
      "source": [
        "from newsdataapi import NewsDataApiClient\n",
        "import os\n",
        "import json\n",
        "\n",
        "\n",
        "# API key authorization, Initialize the client with your API key\n",
        "api = NewsDataApiClient(apikey=\"pub_2915202f68e543f70bb9aba9611735142c1fd\")\n",
        "keywords = [  \"GDP\",  \"CPI\",  \"PPI\",  \"Unemployment Rate\",  \"Interest Rates\",  \"Inflation\",  \"Trade Balance\",  \"Retail Sales\",  \"Manufacturing Index\",  \"Earnings Reports\",  \"Revenue Growth\",  \"Profit Margins\",  \"Earnings Surprises\",  \"Geopolitical Events\",  \"Trade Tensions\",  \"Elections\",  \"Natural Disasters\",  \"Global Health Crises\",  \"Oil Prices\",  \"Gold Prices\",  \"Precious Metals\",  \"Agricultural Commodities\",  \"Federal Reserve\",  \"ECB\",  \"Forex Market\",  \"Exchange Rates\",  \"Currency Pairs\",  \"Tech Company Earnings\",  \"Tech Innovations\",  \"Retail Trends\",  \"Consumer Sentiment\",  \"Financial Regulations\",  \"Government Policies\",  \"Technical Analysis\",  \"Fundamental Analysis\",  \"Cryptocurrency News\",  \"Bitcoin\",  \"Altcoins\",  \"Cryptocurrency Regulations\",  \"S&P 500\",  \"Dow Jones\",  \"NASDAQ\",  \"Market Analysis\",  \"Stock Market Indices\" ]\n",
        "\n",
        "# creating a data directory\n",
        "# Define the directory path you want to create\n",
        "directory_path = './data'\n",
        "\n",
        "# Use the os.makedirs() function to create the directory\n",
        "# The 'exist_ok=True' argument allows it to run without errors if the directory already exists\n",
        "os.makedirs(directory_path, exist_ok=True)\n",
        "\n",
        "# Check if the directory was created successfully\n",
        "if os.path.exists(directory_path):\n",
        "    print(f\"Directory '{directory_path}' created successfully.\")\n",
        "else:\n",
        "    print(f\"Failed to create directory '{directory_path}'.\")\n",
        "\n",
        "def retrieve_news_per_keyword(api,keywords):\n",
        "  # %time\n",
        "  for keyword in keywords:\n",
        "    response = api.news_api( q= keyword ,\n",
        "                            country = \"us\",\n",
        "                            language = 'en',\n",
        "                            full_content = True,\n",
        "                            )\n",
        "    # writing to a file\n",
        "    file_path = os.path.join(directory_path, f\"response_{keyword}.json\")\n",
        "    with open(file_path, \"w\") as outfile:\n",
        "        json.dump(response, outfile)\n",
        "\n",
        "    print(f\"News Response for keyword {keyword} is retrieved\")\n",
        "    keywords.remove(keyword)\n",
        "\n",
        "\n",
        "\n",
        "\n"
      ]
    },
    {
      "cell_type": "code",
      "execution_count": null,
      "metadata": {
        "id": "-C61ZWWxl97l",
        "colab": {
          "base_uri": "https://localhost:8080/",
          "height": 450
        },
        "outputId": "459af103-71e9-448f-c3cc-e002c3c81a96"
      },
      "outputs": [
        {
          "output_type": "stream",
          "name": "stdout",
          "text": [
            "News Response for keyword GDP is retrieved\n",
            "News Response for keyword PPI is retrieved\n",
            "News Response for keyword Interest Rates is retrieved\n",
            "News Response for keyword Trade Balance is retrieved\n",
            "News Response for keyword Manufacturing Index is retrieved\n",
            "News Response for keyword Revenue Growth is retrieved\n"
          ]
        },
        {
          "output_type": "error",
          "ename": "KeyboardInterrupt",
          "evalue": "ignored",
          "traceback": [
            "\u001b[0;31m---------------------------------------------------------------------------\u001b[0m",
            "\u001b[0;31mKeyboardInterrupt\u001b[0m                         Traceback (most recent call last)",
            "\u001b[0;32m<ipython-input-12-c5aa612a303b>\u001b[0m in \u001b[0;36m<cell line: 1>\u001b[0;34m()\u001b[0m\n\u001b[0;32m----> 1\u001b[0;31m \u001b[0mretrieve_news_per_keyword\u001b[0m\u001b[0;34m(\u001b[0m\u001b[0mapi\u001b[0m\u001b[0;34m,\u001b[0m\u001b[0mkeywords\u001b[0m\u001b[0;34m)\u001b[0m\u001b[0;34m\u001b[0m\u001b[0;34m\u001b[0m\u001b[0m\n\u001b[0m",
            "\u001b[0;32m<ipython-input-11-791fff7cba07>\u001b[0m in \u001b[0;36mretrieve_news_per_keyword\u001b[0;34m(api, keywords)\u001b[0m\n\u001b[1;32m     25\u001b[0m   \u001b[0;31m# %time\u001b[0m\u001b[0;34m\u001b[0m\u001b[0;34m\u001b[0m\u001b[0m\n\u001b[1;32m     26\u001b[0m   \u001b[0;32mfor\u001b[0m \u001b[0mkeyword\u001b[0m \u001b[0;32min\u001b[0m \u001b[0mkeywords\u001b[0m\u001b[0;34m:\u001b[0m\u001b[0;34m\u001b[0m\u001b[0;34m\u001b[0m\u001b[0m\n\u001b[0;32m---> 27\u001b[0;31m     response = api.news_api( q= keyword ,\n\u001b[0m\u001b[1;32m     28\u001b[0m                             \u001b[0mcountry\u001b[0m \u001b[0;34m=\u001b[0m \u001b[0;34m\"us\"\u001b[0m\u001b[0;34m,\u001b[0m\u001b[0;34m\u001b[0m\u001b[0;34m\u001b[0m\u001b[0m\n\u001b[1;32m     29\u001b[0m                             \u001b[0mlanguage\u001b[0m \u001b[0;34m=\u001b[0m \u001b[0;34m'en'\u001b[0m\u001b[0;34m,\u001b[0m\u001b[0;34m\u001b[0m\u001b[0;34m\u001b[0m\u001b[0m\n",
            "\u001b[0;32m/usr/local/lib/python3.10/dist-packages/newsdataapi/newsdataapi_client.py\u001b[0m in \u001b[0;36mnews_api\u001b[0;34m(self, q, qInTitle, country, category, language, domain, timeframe, size, domainurl, excludedomain, timezone, full_content, image, video, prioritydomain, page, scroll, max_result, qInMeta)\u001b[0m\n\u001b[1;32m    144\u001b[0m             \u001b[0;32mreturn\u001b[0m \u001b[0mself\u001b[0m\u001b[0;34m.\u001b[0m\u001b[0m__get_feeds_all\u001b[0m\u001b[0;34m(\u001b[0m\u001b[0murl\u001b[0m\u001b[0;34m=\u001b[0m\u001b[0;34mf'{constants.NEWS_URL}?{URL_parameters_encoded}'\u001b[0m\u001b[0;34m)\u001b[0m\u001b[0;34m\u001b[0m\u001b[0;34m\u001b[0m\u001b[0m\n\u001b[1;32m    145\u001b[0m         \u001b[0;32melse\u001b[0m\u001b[0;34m:\u001b[0m\u001b[0;34m\u001b[0m\u001b[0;34m\u001b[0m\u001b[0m\n\u001b[0;32m--> 146\u001b[0;31m             \u001b[0;32mreturn\u001b[0m \u001b[0mself\u001b[0m\u001b[0;34m.\u001b[0m\u001b[0m__get_feeds\u001b[0m\u001b[0;34m(\u001b[0m\u001b[0murl\u001b[0m\u001b[0;34m=\u001b[0m\u001b[0;34mf'{constants.NEWS_URL}?{URL_parameters_encoded}'\u001b[0m\u001b[0;34m)\u001b[0m\u001b[0;34m\u001b[0m\u001b[0;34m\u001b[0m\u001b[0m\n\u001b[0m\u001b[1;32m    147\u001b[0m \u001b[0;34m\u001b[0m\u001b[0m\n\u001b[1;32m    148\u001b[0m     def archive_api(\n",
            "\u001b[0;32m/usr/local/lib/python3.10/dist-packages/newsdataapi/newsdataapi_client.py\u001b[0m in \u001b[0;36m__get_feeds\u001b[0;34m(self, url)\u001b[0m\n\u001b[1;32m     81\u001b[0m                     \u001b[0;32mif\u001b[0m \u001b[0mself\u001b[0m\u001b[0;34m.\u001b[0m\u001b[0mis_debug\u001b[0m \u001b[0;34m==\u001b[0m \u001b[0;32mTrue\u001b[0m\u001b[0;34m:\u001b[0m\u001b[0;34m\u001b[0m\u001b[0;34m\u001b[0m\u001b[0m\n\u001b[1;32m     82\u001b[0m                         \u001b[0mprint\u001b[0m\u001b[0;34m(\u001b[0m\u001b[0;34mf\"Debug | {datetime.utcnow().replace(microsecond=0)} | Encountered 'RateLimitExceeded' going to sleep for: {constants.DEFAULT_RETRY_DELAY_RateLimitExceeded} seconds.\"\u001b[0m\u001b[0;34m)\u001b[0m\u001b[0;34m\u001b[0m\u001b[0;34m\u001b[0m\u001b[0m\n\u001b[0;32m---> 83\u001b[0;31m                     \u001b[0mtime\u001b[0m\u001b[0;34m.\u001b[0m\u001b[0msleep\u001b[0m\u001b[0;34m(\u001b[0m\u001b[0mconstants\u001b[0m\u001b[0;34m.\u001b[0m\u001b[0mDEFAULT_RETRY_DELAY_RateLimitExceeded\u001b[0m\u001b[0;34m)\u001b[0m\u001b[0;34m\u001b[0m\u001b[0;34m\u001b[0m\u001b[0m\n\u001b[0m\u001b[1;32m     84\u001b[0m                     \u001b[0mself\u001b[0m\u001b[0;34m.\u001b[0m\u001b[0mrecursive_retry\u001b[0m\u001b[0;34m-=\u001b[0m\u001b[0;36m1\u001b[0m\u001b[0;34m\u001b[0m\u001b[0;34m\u001b[0m\u001b[0m\n\u001b[1;32m     85\u001b[0m                     \u001b[0;32mreturn\u001b[0m \u001b[0mself\u001b[0m\u001b[0;34m.\u001b[0m\u001b[0m__get_feeds\u001b[0m\u001b[0;34m(\u001b[0m\u001b[0murl\u001b[0m\u001b[0;34m=\u001b[0m\u001b[0murl\u001b[0m\u001b[0;34m)\u001b[0m\u001b[0;34m\u001b[0m\u001b[0;34m\u001b[0m\u001b[0m\n",
            "\u001b[0;31mKeyboardInterrupt\u001b[0m: "
          ]
        }
      ],
      "source": [
        "retrieve_news_per_keyword(api,keywords)"
      ]
    },
    {
      "cell_type": "code",
      "execution_count": null,
      "metadata": {
        "id": "olhY4fWPl97m"
      },
      "outputs": [],
      "source": [
        "# COMBINING the whole csvs into one\n",
        "#retrieve the filenames from the directory\n",
        "import os\n",
        "import json\n",
        "\n",
        "# Directory path where your JSON files are located\n",
        "directory_path = './data'\n",
        "\n",
        "\n",
        "def combine_responses_into_one(directory_path):\n",
        "\n",
        "  # Use a list comprehension to get all file names in the directory\n",
        "  file_list = [f for f in os.listdir(directory_path) if os.path.isfile(os.path.join(directory_path, f))]\n",
        "\n",
        "  #retrieve the file_keyword by extracting the string after \"_\"\n",
        "  # Extract the file_keyword from each filename\n",
        "  file_keywords = [filename.split('_')[1].split('.')[0] for filename in file_list]\n",
        "\n",
        "\n",
        "  # Initialize an empty list to store the combined JSON data\n",
        "  combined_json = []\n",
        "\n",
        "  # Loop through each file name\n",
        "  for filename in file_list:\n",
        "      # Read the current JSON file\n",
        "      with open(directory_path+'/'+filename, 'r') as file:\n",
        "          current_json = json.load(file)\n",
        "\n",
        "      # Extract the file_keyword from the filename\n",
        "      file_keyword = filename.split('_')[1].split('.')[0]\n",
        "\n",
        "      # Add the file_keyword to each result in the current JSON\n",
        "      for result in current_json['results']:\n",
        "          result['file_keyword'] = file_keyword\n",
        "\n",
        "      # Extend the combined JSON list with the results from the current JSON\n",
        "      combined_json.extend(current_json['results'])\n",
        "      print(f'{filename} is added to the combined json object')\n",
        "      # break # using the break to check the loop code always\n",
        "\n",
        "  # Save the combined_json object as a JSON file\n",
        "  with open('combined_news_response.json', 'w') as combined_file:\n",
        "      json.dump(combined_json, combined_file, indent=4)"
      ]
    },
    {
      "cell_type": "code",
      "source": [
        "combine_responses_into_one(directory_path)"
      ],
      "metadata": {
        "colab": {
          "base_uri": "https://localhost:8080/"
        },
        "id": "714nEszl_Byy",
        "outputId": "f3bd3296-3645-4a2d-fb58-7ee3df25afbd"
      },
      "execution_count": null,
      "outputs": [
        {
          "output_type": "stream",
          "name": "stdout",
          "text": [
            "response_GDP.json is added to the combined json object\n",
            "response_Interest Rates.json is added to the combined json object\n",
            "response_Trade Balance.json is added to the combined json object\n",
            "response_Revenue Growth.json is added to the combined json object\n",
            "response_PPI.json is added to the combined json object\n",
            "response_Manufacturing Index.json is added to the combined json object\n"
          ]
        }
      ]
    },
    {
      "cell_type": "markdown",
      "source": [
        "## Gradio app.py coming together"
      ],
      "metadata": {
        "id": "ub9xsmOEJ1py"
      }
    },
    {
      "cell_type": "code",
      "source": [
        "!pip install newsdataapi"
      ],
      "metadata": {
        "colab": {
          "base_uri": "https://localhost:8080/"
        },
        "id": "KPJYZYMUGZcy",
        "outputId": "5b7e0016-5f90-42c1-d732-e4cdb43ab23c"
      },
      "execution_count": null,
      "outputs": [
        {
          "output_type": "stream",
          "name": "stdout",
          "text": [
            "Collecting newsdataapi\n",
            "  Downloading newsdataapi-0.1.8-py3-none-any.whl (7.8 kB)\n",
            "Requirement already satisfied: requests<3.0.0 in /usr/local/lib/python3.10/dist-packages (from newsdataapi) (2.31.0)\n",
            "Requirement already satisfied: charset-normalizer<4,>=2 in /usr/local/lib/python3.10/dist-packages (from requests<3.0.0->newsdataapi) (3.3.0)\n",
            "Requirement already satisfied: idna<4,>=2.5 in /usr/local/lib/python3.10/dist-packages (from requests<3.0.0->newsdataapi) (3.4)\n",
            "Requirement already satisfied: urllib3<3,>=1.21.1 in /usr/local/lib/python3.10/dist-packages (from requests<3.0.0->newsdataapi) (2.0.6)\n",
            "Requirement already satisfied: certifi>=2017.4.17 in /usr/local/lib/python3.10/dist-packages (from requests<3.0.0->newsdataapi) (2023.7.22)\n",
            "Installing collected packages: newsdataapi\n",
            "Successfully installed newsdataapi-0.1.8\n"
          ]
        }
      ]
    },
    {
      "cell_type": "code",
      "source": [
        "# GRADIO Flow\n",
        "from newsdataapi import NewsDataApiClient\n",
        "import os\n",
        "import json\n",
        "import pandas as pd\n",
        "\n",
        "\n",
        "# API key authorization, Initialize the client with your API key\n",
        "NEWSDATA_API_KEY = \"pub_2915202f68e543f70bb9aba9611735142c1fd\"\n",
        "keywords = [  \"GDP\",  \"CPI\",  \"PPI\",  \"Unemployment Rate\",  \"Interest Rates\",  \"Inflation\",  \"Trade Balance\",  \"Retail Sales\",  \"Manufacturing Index\",  \"Earnings Reports\",  \"Revenue Growth\",  \"Profit Margins\",  \"Earnings Surprises\",  \"Geopolitical Events\",  \"Trade Tensions\",  \"Elections\",  \"Natural Disasters\",  \"Global Health Crises\",  \"Oil Prices\",  \"Gold Prices\",  \"Precious Metals\",  \"Agricultural Commodities\",  \"Federal Reserve\",  \"ECB\",  \"Forex Market\",  \"Exchange Rates\",  \"Currency Pairs\",  \"Tech Company Earnings\",  \"Tech Innovations\",  \"Retail Trends\",  \"Consumer Sentiment\",  \"Financial Regulations\",  \"Government Policies\",  \"Technical Analysis\",  \"Fundamental Analysis\",  \"Cryptocurrency News\",  \"Bitcoin\",  \"Altcoins\",  \"Cryptocurrency Regulations\",  \"S&P 500\",  \"Dow Jones\",  \"NASDAQ\",  \"Market Analysis\",  \"Stock Market Indices\" ]\n",
        "\n",
        "# creating a data directory\n",
        "# Define the directory path you want to create\n",
        "directory_path = './data'\n",
        "\n",
        "def creating_data_dir(directory_path):\n",
        "  # Use the os.makedirs() function to create the directory\n",
        "  # The 'exist_ok=True' argument allows it to run without errors if the directory already exists\n",
        "  os.makedirs(directory_path, exist_ok=True)\n",
        "\n",
        "  # Check if the directory was created successfully\n",
        "  if os.path.exists(directory_path):\n",
        "      print(f\"Directory '{directory_path}' created successfully.\")\n",
        "  else:\n",
        "      print(f\"Failed to create directory '{directory_path}'.\")\n",
        "\n",
        "\n",
        "def retrieve_news_per_keyword(api,keywords):\n",
        "  # %time\n",
        "  for keyword in keywords:\n",
        "    print(f\"{api} \\n {keyword}\")\n",
        "    response = api.news_api( q= keyword , country = \"us\", language = 'en', full_content = True)\n",
        "    # writing to a file\n",
        "    file_path = os.path.join(directory_path, f\"response_{keyword}.json\")\n",
        "    with open(file_path, \"w\") as outfile:\n",
        "        json.dump(response, outfile)\n",
        "\n",
        "    print(f\"News Response for keyword {keyword} is retrieved\")\n",
        "    keywords.remove(keyword)\n",
        "\n",
        "def combine_responses_into_one(directory_path):\n",
        "\n",
        "  # Use a list comprehension to get all file names in the directory\n",
        "  file_list = [f for f in os.listdir(directory_path) if os.path.isfile(os.path.join(directory_path, f))]\n",
        "\n",
        "  #retrieve the file_keyword by extracting the string after \"_\"\n",
        "  # Extract the file_keyword from each filename\n",
        "  file_keywords = [filename.split('_')[1].split('.')[0] for filename in file_list]\n",
        "\n",
        "\n",
        "  # Initialize an empty list to store the combined JSON data\n",
        "  combined_json = []\n",
        "\n",
        "  # Loop through each file name\n",
        "  for filename in file_list:\n",
        "      # Read the current JSON file\n",
        "      with open(directory_path+'/'+filename, 'r') as file:\n",
        "          current_json = json.load(file)\n",
        "\n",
        "      # Extract the file_keyword from the filename\n",
        "      file_keyword = filename.split('_')[1].split('.')[0]\n",
        "\n",
        "      # Add the file_keyword to each result in the current JSON\n",
        "      for result in current_json['results']:\n",
        "          result['file_keyword'] = file_keyword\n",
        "\n",
        "      # Extend the combined JSON list with the results from the current JSON\n",
        "      combined_json.extend(current_json['results'])\n",
        "      print(f'{filename} is added to the combined json object')\n",
        "      # break # using the break to check the loop code always\n",
        "\n",
        "  # Save the combined_json object as a JSON file\n",
        "  with open('combined_news_response.json', 'w') as combined_file:\n",
        "      json.dump(combined_json, combined_file, indent=4)\n",
        "\n",
        "file_name = './combined_news_response.json'\n",
        "\n",
        "def convert_json_to_csv(file_name):\n",
        "  json_data_df = pd.read_json(file_name)\n",
        "  # json_data_df.head()\n",
        "\n",
        "  columns = [ 'title', 'keywords', 'creator', 'description', 'content', 'pubDate', 'country', 'category', 'language', 'file_keyword' ]\n",
        "\n",
        "  json_data_df[columns].to_csv('combined_news_response.csv')"
      ],
      "metadata": {
        "id": "VHqYN2yMmC5j"
      },
      "execution_count": null,
      "outputs": []
    },
    {
      "cell_type": "code",
      "source": [
        "!rm -r ./data"
      ],
      "metadata": {
        "id": "Uz1QWx9PJn8R",
        "colab": {
          "base_uri": "https://localhost:8080/"
        },
        "outputId": "d0554e78-7452-4785-d0a3-045f6fce7277"
      },
      "execution_count": null,
      "outputs": [
        {
          "output_type": "stream",
          "name": "stdout",
          "text": [
            "rm: cannot remove './data': No such file or directory\n"
          ]
        }
      ]
    },
    {
      "cell_type": "code",
      "source": [
        "creating_data_dir(directory_path)\n",
        "items = os.listdir(directory_path)"
      ],
      "metadata": {
        "colab": {
          "base_uri": "https://localhost:8080/"
        },
        "id": "e8ZUnQrwGpHw",
        "outputId": "3ff19dff-e676-40f6-dfb5-324792555891"
      },
      "execution_count": null,
      "outputs": [
        {
          "output_type": "stream",
          "name": "stdout",
          "text": [
            "Directory './data' created successfully.\n"
          ]
        }
      ]
    },
    {
      "cell_type": "code",
      "source": [
        "# # to check if the API is working properly\n",
        "# keyword = \"GDP\"\n",
        "# response = api.news_api( q= keyword , country = \"us\", language = 'en', full_content = True)\n",
        "# response"
      ],
      "metadata": {
        "id": "Z8_KZ000MAqK"
      },
      "execution_count": null,
      "outputs": []
    },
    {
      "cell_type": "code",
      "source": [
        "if len(items) == 0:\n",
        "  print(f\"Directory '{directory_path}' is empty.\")\n",
        "  api = NewsDataApiClient(apikey=NEWSDATA_API_KEY)\n",
        "  retrieve_news_per_keyword(api,keywords)\n",
        "  combine_responses_into_one(directory_path)\n",
        "elif len(items) >= 2:\n",
        "  print(f\"Directory '{directory_path}' contains at least two files.\")\n",
        "  combine_responses_into_one(directory_path)\n",
        "else:\n",
        "    print(f\"Directory '{directory_path}' contains only one file.\")"
      ],
      "metadata": {
        "colab": {
          "base_uri": "https://localhost:8080/"
        },
        "id": "8GVw6xPoIQNX",
        "outputId": "5a3d2505-530f-42fa-bcbd-f4c013606ba3"
      },
      "execution_count": null,
      "outputs": [
        {
          "output_type": "stream",
          "name": "stdout",
          "text": [
            "Directory './data' is empty.\n",
            "<newsdataapi.newsdataapi_client.NewsDataApiClient object at 0x789110f4e440> \n",
            " GDP\n",
            "News Response for keyword GDP is retrieved\n",
            "<newsdataapi.newsdataapi_client.NewsDataApiClient object at 0x789110f4e440> \n",
            " PPI\n",
            "News Response for keyword PPI is retrieved\n",
            "<newsdataapi.newsdataapi_client.NewsDataApiClient object at 0x789110f4e440> \n",
            " Interest Rates\n",
            "News Response for keyword Interest Rates is retrieved\n",
            "<newsdataapi.newsdataapi_client.NewsDataApiClient object at 0x789110f4e440> \n",
            " Trade Balance\n",
            "News Response for keyword Trade Balance is retrieved\n",
            "<newsdataapi.newsdataapi_client.NewsDataApiClient object at 0x789110f4e440> \n",
            " Manufacturing Index\n",
            "News Response for keyword Manufacturing Index is retrieved\n",
            "<newsdataapi.newsdataapi_client.NewsDataApiClient object at 0x789110f4e440> \n",
            " Revenue Growth\n",
            "News Response for keyword Revenue Growth is retrieved\n",
            "<newsdataapi.newsdataapi_client.NewsDataApiClient object at 0x789110f4e440> \n",
            " Earnings Surprises\n",
            "News Response for keyword Earnings Surprises is retrieved\n",
            "<newsdataapi.newsdataapi_client.NewsDataApiClient object at 0x789110f4e440> \n",
            " Trade Tensions\n",
            "News Response for keyword Trade Tensions is retrieved\n",
            "<newsdataapi.newsdataapi_client.NewsDataApiClient object at 0x789110f4e440> \n",
            " Natural Disasters\n",
            "News Response for keyword Natural Disasters is retrieved\n",
            "<newsdataapi.newsdataapi_client.NewsDataApiClient object at 0x789110f4e440> \n",
            " Oil Prices\n",
            "News Response for keyword Oil Prices is retrieved\n",
            "<newsdataapi.newsdataapi_client.NewsDataApiClient object at 0x789110f4e440> \n",
            " Precious Metals\n",
            "News Response for keyword Precious Metals is retrieved\n",
            "<newsdataapi.newsdataapi_client.NewsDataApiClient object at 0x789110f4e440> \n",
            " Federal Reserve\n",
            "News Response for keyword Federal Reserve is retrieved\n",
            "<newsdataapi.newsdataapi_client.NewsDataApiClient object at 0x789110f4e440> \n",
            " Forex Market\n",
            "News Response for keyword Forex Market is retrieved\n",
            "<newsdataapi.newsdataapi_client.NewsDataApiClient object at 0x789110f4e440> \n",
            " Currency Pairs\n",
            "News Response for keyword Currency Pairs is retrieved\n",
            "<newsdataapi.newsdataapi_client.NewsDataApiClient object at 0x789110f4e440> \n",
            " Tech Innovations\n",
            "News Response for keyword Tech Innovations is retrieved\n",
            "<newsdataapi.newsdataapi_client.NewsDataApiClient object at 0x789110f4e440> \n",
            " Consumer Sentiment\n",
            "News Response for keyword Consumer Sentiment is retrieved\n",
            "<newsdataapi.newsdataapi_client.NewsDataApiClient object at 0x789110f4e440> \n",
            " Government Policies\n",
            "News Response for keyword Government Policies is retrieved\n",
            "<newsdataapi.newsdataapi_client.NewsDataApiClient object at 0x789110f4e440> \n",
            " Fundamental Analysis\n",
            "News Response for keyword Fundamental Analysis is retrieved\n",
            "<newsdataapi.newsdataapi_client.NewsDataApiClient object at 0x789110f4e440> \n",
            " Bitcoin\n",
            "News Response for keyword Bitcoin is retrieved\n",
            "<newsdataapi.newsdataapi_client.NewsDataApiClient object at 0x789110f4e440> \n",
            " Cryptocurrency Regulations\n",
            "News Response for keyword Cryptocurrency Regulations is retrieved\n",
            "<newsdataapi.newsdataapi_client.NewsDataApiClient object at 0x789110f4e440> \n",
            " Dow Jones\n",
            "News Response for keyword Dow Jones is retrieved\n",
            "<newsdataapi.newsdataapi_client.NewsDataApiClient object at 0x789110f4e440> \n",
            " Market Analysis\n",
            "News Response for keyword Market Analysis is retrieved\n",
            "response_GDP.json is added to the combined json object\n",
            "response_Dow Jones.json is added to the combined json object\n",
            "response_Natural Disasters.json is added to the combined json object\n",
            "response_Consumer Sentiment.json is added to the combined json object\n",
            "response_Currency Pairs.json is added to the combined json object\n",
            "response_Interest Rates.json is added to the combined json object\n",
            "response_Trade Balance.json is added to the combined json object\n",
            "response_Bitcoin.json is added to the combined json object\n",
            "response_Tech Innovations.json is added to the combined json object\n",
            "response_Revenue Growth.json is added to the combined json object\n",
            "response_PPI.json is added to the combined json object\n",
            "response_Earnings Surprises.json is added to the combined json object\n",
            "response_Precious Metals.json is added to the combined json object\n",
            "response_Manufacturing Index.json is added to the combined json object\n",
            "response_Forex Market.json is added to the combined json object\n",
            "response_Fundamental Analysis.json is added to the combined json object\n",
            "response_Trade Tensions.json is added to the combined json object\n",
            "response_Federal Reserve.json is added to the combined json object\n",
            "response_Oil Prices.json is added to the combined json object\n",
            "response_Market Analysis.json is added to the combined json object\n",
            "response_Cryptocurrency Regulations.json is added to the combined json object\n",
            "response_Government Policies.json is added to the combined json object\n"
          ]
        }
      ]
    },
    {
      "cell_type": "markdown",
      "source": [
        "# adding to the Gradio app"
      ],
      "metadata": {
        "id": "jyX321jEquTA"
      }
    },
    {
      "cell_type": "code",
      "source": [
        "!pip install gradio"
      ],
      "metadata": {
        "colab": {
          "base_uri": "https://localhost:8080/"
        },
        "id": "uvp2_GodrTZr",
        "outputId": "08d7b261-8265-45de-964d-2029951fa07f"
      },
      "execution_count": null,
      "outputs": [
        {
          "output_type": "stream",
          "name": "stdout",
          "text": [
            "Collecting gradio\n",
            "  Downloading gradio-3.47.1-py3-none-any.whl (20.3 MB)\n",
            "\u001b[2K     \u001b[90m━━━━━━━━━━━━━━━━━━━━━━━━━━━━━━━━━━━━━━━━\u001b[0m \u001b[32m20.3/20.3 MB\u001b[0m \u001b[31m36.2 MB/s\u001b[0m eta \u001b[36m0:00:00\u001b[0m\n",
            "\u001b[?25hCollecting aiofiles<24.0,>=22.0 (from gradio)\n",
            "  Downloading aiofiles-23.2.1-py3-none-any.whl (15 kB)\n",
            "Requirement already satisfied: altair<6.0,>=4.2.0 in /usr/local/lib/python3.10/dist-packages (from gradio) (4.2.2)\n",
            "Collecting fastapi (from gradio)\n",
            "  Downloading fastapi-0.103.2-py3-none-any.whl (66 kB)\n",
            "\u001b[2K     \u001b[90m━━━━━━━━━━━━━━━━━━━━━━━━━━━━━━━━━━━━━━━━\u001b[0m \u001b[32m66.3/66.3 kB\u001b[0m \u001b[31m7.3 MB/s\u001b[0m eta \u001b[36m0:00:00\u001b[0m\n",
            "\u001b[?25hCollecting ffmpy (from gradio)\n",
            "  Downloading ffmpy-0.3.1.tar.gz (5.5 kB)\n",
            "  Preparing metadata (setup.py) ... \u001b[?25l\u001b[?25hdone\n",
            "Collecting gradio-client==0.6.0 (from gradio)\n",
            "  Downloading gradio_client-0.6.0-py3-none-any.whl (298 kB)\n",
            "\u001b[2K     \u001b[90m━━━━━━━━━━━━━━━━━━━━━━━━━━━━━━━━━━━━━━\u001b[0m \u001b[32m298.8/298.8 kB\u001b[0m \u001b[31m31.4 MB/s\u001b[0m eta \u001b[36m0:00:00\u001b[0m\n",
            "\u001b[?25hCollecting httpx (from gradio)\n",
            "  Downloading httpx-0.25.0-py3-none-any.whl (75 kB)\n",
            "\u001b[2K     \u001b[90m━━━━━━━━━━━━━━━━━━━━━━━━━━━━━━━━━━━━━━━━\u001b[0m \u001b[32m75.7/75.7 kB\u001b[0m \u001b[31m9.3 MB/s\u001b[0m eta \u001b[36m0:00:00\u001b[0m\n",
            "\u001b[?25hCollecting huggingface-hub>=0.14.0 (from gradio)\n",
            "  Downloading huggingface_hub-0.17.3-py3-none-any.whl (295 kB)\n",
            "\u001b[2K     \u001b[90m━━━━━━━━━━━━━━━━━━━━━━━━━━━━━━━━━━━━━━\u001b[0m \u001b[32m295.0/295.0 kB\u001b[0m \u001b[31m30.4 MB/s\u001b[0m eta \u001b[36m0:00:00\u001b[0m\n",
            "\u001b[?25hRequirement already satisfied: importlib-resources<7.0,>=1.3 in /usr/local/lib/python3.10/dist-packages (from gradio) (6.1.0)\n",
            "Requirement already satisfied: jinja2<4.0 in /usr/local/lib/python3.10/dist-packages (from gradio) (3.1.2)\n",
            "Requirement already satisfied: markupsafe~=2.0 in /usr/local/lib/python3.10/dist-packages (from gradio) (2.1.3)\n",
            "Requirement already satisfied: matplotlib~=3.0 in /usr/local/lib/python3.10/dist-packages (from gradio) (3.7.1)\n",
            "Requirement already satisfied: numpy~=1.0 in /usr/local/lib/python3.10/dist-packages (from gradio) (1.23.5)\n",
            "Collecting orjson~=3.0 (from gradio)\n",
            "  Downloading orjson-3.9.7-cp310-cp310-manylinux_2_17_x86_64.manylinux2014_x86_64.whl (138 kB)\n",
            "\u001b[2K     \u001b[90m━━━━━━━━━━━━━━━━━━━━━━━━━━━━━━━━━━━━━━\u001b[0m \u001b[32m138.7/138.7 kB\u001b[0m \u001b[31m16.8 MB/s\u001b[0m eta \u001b[36m0:00:00\u001b[0m\n",
            "\u001b[?25hRequirement already satisfied: packaging in /usr/local/lib/python3.10/dist-packages (from gradio) (23.2)\n",
            "Requirement already satisfied: pandas<3.0,>=1.0 in /usr/local/lib/python3.10/dist-packages (from gradio) (1.5.3)\n",
            "Requirement already satisfied: pillow<11.0,>=8.0 in /usr/local/lib/python3.10/dist-packages (from gradio) (9.4.0)\n",
            "Requirement already satisfied: pydantic!=1.8,!=1.8.1,!=2.0.0,!=2.0.1,<3.0.0,>=1.7.4 in /usr/local/lib/python3.10/dist-packages (from gradio) (1.10.13)\n",
            "Collecting pydub (from gradio)\n",
            "  Downloading pydub-0.25.1-py2.py3-none-any.whl (32 kB)\n",
            "Collecting python-multipart (from gradio)\n",
            "  Downloading python_multipart-0.0.6-py3-none-any.whl (45 kB)\n",
            "\u001b[2K     \u001b[90m━━━━━━━━━━━━━━━━━━━━━━━━━━━━━━━━━━━━━━━━\u001b[0m \u001b[32m45.7/45.7 kB\u001b[0m \u001b[31m5.5 MB/s\u001b[0m eta \u001b[36m0:00:00\u001b[0m\n",
            "\u001b[?25hRequirement already satisfied: pyyaml<7.0,>=5.0 in /usr/local/lib/python3.10/dist-packages (from gradio) (6.0.1)\n",
            "Requirement already satisfied: requests~=2.0 in /usr/local/lib/python3.10/dist-packages (from gradio) (2.31.0)\n",
            "Collecting semantic-version~=2.0 (from gradio)\n",
            "  Downloading semantic_version-2.10.0-py2.py3-none-any.whl (15 kB)\n",
            "Requirement already satisfied: typing-extensions~=4.0 in /usr/local/lib/python3.10/dist-packages (from gradio) (4.5.0)\n",
            "Collecting uvicorn>=0.14.0 (from gradio)\n",
            "  Downloading uvicorn-0.23.2-py3-none-any.whl (59 kB)\n",
            "\u001b[2K     \u001b[90m━━━━━━━━━━━━━━━━━━━━━━━━━━━━━━━━━━━━━━━━\u001b[0m \u001b[32m59.5/59.5 kB\u001b[0m \u001b[31m7.3 MB/s\u001b[0m eta \u001b[36m0:00:00\u001b[0m\n",
            "\u001b[?25hCollecting websockets<12.0,>=10.0 (from gradio)\n",
            "  Downloading websockets-11.0.3-cp310-cp310-manylinux_2_5_x86_64.manylinux1_x86_64.manylinux_2_17_x86_64.manylinux2014_x86_64.whl (129 kB)\n",
            "\u001b[2K     \u001b[90m━━━━━━━━━━━━━━━━━━━━━━━━━━━━━━━━━━━━━━\u001b[0m \u001b[32m129.9/129.9 kB\u001b[0m \u001b[31m15.7 MB/s\u001b[0m eta \u001b[36m0:00:00\u001b[0m\n",
            "\u001b[?25hRequirement already satisfied: fsspec in /usr/local/lib/python3.10/dist-packages (from gradio-client==0.6.0->gradio) (2023.6.0)\n",
            "Requirement already satisfied: entrypoints in /usr/local/lib/python3.10/dist-packages (from altair<6.0,>=4.2.0->gradio) (0.4)\n",
            "Requirement already satisfied: jsonschema>=3.0 in /usr/local/lib/python3.10/dist-packages (from altair<6.0,>=4.2.0->gradio) (4.19.1)\n",
            "Requirement already satisfied: toolz in /usr/local/lib/python3.10/dist-packages (from altair<6.0,>=4.2.0->gradio) (0.12.0)\n",
            "Requirement already satisfied: filelock in /usr/local/lib/python3.10/dist-packages (from huggingface-hub>=0.14.0->gradio) (3.12.4)\n",
            "Requirement already satisfied: tqdm>=4.42.1 in /usr/local/lib/python3.10/dist-packages (from huggingface-hub>=0.14.0->gradio) (4.66.1)\n",
            "Requirement already satisfied: contourpy>=1.0.1 in /usr/local/lib/python3.10/dist-packages (from matplotlib~=3.0->gradio) (1.1.1)\n",
            "Requirement already satisfied: cycler>=0.10 in /usr/local/lib/python3.10/dist-packages (from matplotlib~=3.0->gradio) (0.12.0)\n",
            "Requirement already satisfied: fonttools>=4.22.0 in /usr/local/lib/python3.10/dist-packages (from matplotlib~=3.0->gradio) (4.43.0)\n",
            "Requirement already satisfied: kiwisolver>=1.0.1 in /usr/local/lib/python3.10/dist-packages (from matplotlib~=3.0->gradio) (1.4.5)\n",
            "Requirement already satisfied: pyparsing>=2.3.1 in /usr/local/lib/python3.10/dist-packages (from matplotlib~=3.0->gradio) (3.1.1)\n",
            "Requirement already satisfied: python-dateutil>=2.7 in /usr/local/lib/python3.10/dist-packages (from matplotlib~=3.0->gradio) (2.8.2)\n",
            "Requirement already satisfied: pytz>=2020.1 in /usr/local/lib/python3.10/dist-packages (from pandas<3.0,>=1.0->gradio) (2023.3.post1)\n",
            "Requirement already satisfied: charset-normalizer<4,>=2 in /usr/local/lib/python3.10/dist-packages (from requests~=2.0->gradio) (3.3.0)\n",
            "Requirement already satisfied: idna<4,>=2.5 in /usr/local/lib/python3.10/dist-packages (from requests~=2.0->gradio) (3.4)\n",
            "Requirement already satisfied: urllib3<3,>=1.21.1 in /usr/local/lib/python3.10/dist-packages (from requests~=2.0->gradio) (2.0.6)\n",
            "Requirement already satisfied: certifi>=2017.4.17 in /usr/local/lib/python3.10/dist-packages (from requests~=2.0->gradio) (2023.7.22)\n",
            "Requirement already satisfied: click>=7.0 in /usr/local/lib/python3.10/dist-packages (from uvicorn>=0.14.0->gradio) (8.1.7)\n",
            "Collecting h11>=0.8 (from uvicorn>=0.14.0->gradio)\n",
            "  Downloading h11-0.14.0-py3-none-any.whl (58 kB)\n",
            "\u001b[2K     \u001b[90m━━━━━━━━━━━━━━━━━━━━━━━━━━━━━━━━━━━━━━━━\u001b[0m \u001b[32m58.3/58.3 kB\u001b[0m \u001b[31m6.4 MB/s\u001b[0m eta \u001b[36m0:00:00\u001b[0m\n",
            "\u001b[?25hRequirement already satisfied: anyio<4.0.0,>=3.7.1 in /usr/local/lib/python3.10/dist-packages (from fastapi->gradio) (3.7.1)\n",
            "Collecting starlette<0.28.0,>=0.27.0 (from fastapi->gradio)\n",
            "  Downloading starlette-0.27.0-py3-none-any.whl (66 kB)\n",
            "\u001b[2K     \u001b[90m━━━━━━━━━━━━━━━━━━━━━━━━━━━━━━━━━━━━━━━━\u001b[0m \u001b[32m67.0/67.0 kB\u001b[0m \u001b[31m8.6 MB/s\u001b[0m eta \u001b[36m0:00:00\u001b[0m\n",
            "\u001b[?25hCollecting httpcore<0.19.0,>=0.18.0 (from httpx->gradio)\n",
            "  Downloading httpcore-0.18.0-py3-none-any.whl (76 kB)\n",
            "\u001b[2K     \u001b[90m━━━━━━━━━━━━━━━━━━━━━━━━━━━━━━━━━━━━━━━━\u001b[0m \u001b[32m76.0/76.0 kB\u001b[0m \u001b[31m10.6 MB/s\u001b[0m eta \u001b[36m0:00:00\u001b[0m\n",
            "\u001b[?25hRequirement already satisfied: sniffio in /usr/local/lib/python3.10/dist-packages (from httpx->gradio) (1.3.0)\n",
            "Requirement already satisfied: exceptiongroup in /usr/local/lib/python3.10/dist-packages (from anyio<4.0.0,>=3.7.1->fastapi->gradio) (1.1.3)\n",
            "Requirement already satisfied: attrs>=22.2.0 in /usr/local/lib/python3.10/dist-packages (from jsonschema>=3.0->altair<6.0,>=4.2.0->gradio) (23.1.0)\n",
            "Requirement already satisfied: jsonschema-specifications>=2023.03.6 in /usr/local/lib/python3.10/dist-packages (from jsonschema>=3.0->altair<6.0,>=4.2.0->gradio) (2023.7.1)\n",
            "Requirement already satisfied: referencing>=0.28.4 in /usr/local/lib/python3.10/dist-packages (from jsonschema>=3.0->altair<6.0,>=4.2.0->gradio) (0.30.2)\n",
            "Requirement already satisfied: rpds-py>=0.7.1 in /usr/local/lib/python3.10/dist-packages (from jsonschema>=3.0->altair<6.0,>=4.2.0->gradio) (0.10.3)\n",
            "Requirement already satisfied: six>=1.5 in /usr/local/lib/python3.10/dist-packages (from python-dateutil>=2.7->matplotlib~=3.0->gradio) (1.16.0)\n",
            "Building wheels for collected packages: ffmpy\n",
            "  Building wheel for ffmpy (setup.py) ... \u001b[?25l\u001b[?25hdone\n",
            "  Created wheel for ffmpy: filename=ffmpy-0.3.1-py3-none-any.whl size=5579 sha256=3ca9b3cca5cb739b9251e56b2add394a9eed86120133accb76a3863c57363c20\n",
            "  Stored in directory: /root/.cache/pip/wheels/01/a6/d1/1c0828c304a4283b2c1639a09ad86f83d7c487ef34c6b4a1bf\n",
            "Successfully built ffmpy\n",
            "Installing collected packages: pydub, ffmpy, websockets, semantic-version, python-multipart, orjson, h11, aiofiles, uvicorn, starlette, huggingface-hub, httpcore, httpx, fastapi, gradio-client, gradio\n",
            "Successfully installed aiofiles-23.2.1 fastapi-0.103.2 ffmpy-0.3.1 gradio-3.47.1 gradio-client-0.6.0 h11-0.14.0 httpcore-0.18.0 httpx-0.25.0 huggingface-hub-0.17.3 orjson-3.9.7 pydub-0.25.1 python-multipart-0.0.6 semantic-version-2.10.0 starlette-0.27.0 uvicorn-0.23.2 websockets-11.0.3\n"
          ]
        }
      ]
    },
    {
      "cell_type": "code",
      "source": [
        "!pip install newsdataapi"
      ],
      "metadata": {
        "colab": {
          "base_uri": "https://localhost:8080/"
        },
        "id": "e0bBgsZGDZJq",
        "outputId": "b8ce4276-a71c-47bd-aa0e-8b3a8c64ceb6"
      },
      "execution_count": null,
      "outputs": [
        {
          "output_type": "stream",
          "name": "stdout",
          "text": [
            "Collecting newsdataapi\n",
            "  Downloading newsdataapi-0.1.8-py3-none-any.whl (7.8 kB)\n",
            "Requirement already satisfied: requests<3.0.0 in /usr/local/lib/python3.10/dist-packages (from newsdataapi) (2.31.0)\n",
            "Requirement already satisfied: charset-normalizer<4,>=2 in /usr/local/lib/python3.10/dist-packages (from requests<3.0.0->newsdataapi) (3.3.0)\n",
            "Requirement already satisfied: idna<4,>=2.5 in /usr/local/lib/python3.10/dist-packages (from requests<3.0.0->newsdataapi) (3.4)\n",
            "Requirement already satisfied: urllib3<3,>=1.21.1 in /usr/local/lib/python3.10/dist-packages (from requests<3.0.0->newsdataapi) (2.0.6)\n",
            "Requirement already satisfied: certifi>=2017.4.17 in /usr/local/lib/python3.10/dist-packages (from requests<3.0.0->newsdataapi) (2023.7.22)\n",
            "Installing collected packages: newsdataapi\n",
            "Successfully installed newsdataapi-0.1.8\n"
          ]
        }
      ]
    },
    {
      "cell_type": "code",
      "source": [
        "import gradio as gr\n",
        "from newsdataapi import NewsDataApiClient\n",
        "import os\n",
        "import json\n",
        "import pandas as pd"
      ],
      "metadata": {
        "id": "H8G6G00fLrmZ"
      },
      "execution_count": null,
      "outputs": []
    },
    {
      "cell_type": "code",
      "source": [
        "\n",
        "def creating_data_dir(directory_path):\n",
        "  # Use the os.makedirs() function to create the directory\n",
        "  # The 'exist_ok=True' argument allows it to run without errors if the directory already exists\n",
        "  os.makedirs(directory_path, exist_ok=True)\n",
        "\n",
        "  # Check if the directory was created successfully\n",
        "  if os.path.exists(directory_path):\n",
        "      print(f\"Directory '{directory_path}' created successfully.\")\n",
        "  else:\n",
        "      print(f\"Failed to create directory '{directory_path}'.\")\n",
        "\n",
        "\n",
        "def retrieve_news_per_keyword(api,keywords):\n",
        "  # %time\n",
        "  for keyword in keywords:\n",
        "    # print(f\"{api} \\n {keyword}\")\n",
        "    response = api.news_api( q= keyword , country = \"us\", language = 'en', full_content = True)\n",
        "    # writing to a file\n",
        "    file_path = os.path.join(directory_path, f\"response_{keyword}.json\")\n",
        "    with open(file_path, \"w\") as outfile:\n",
        "        json.dump(response, outfile)\n",
        "\n",
        "    print(f\"News Response for keyword {keyword} is retrieved\")\n",
        "    keywords.remove(keyword)\n",
        "\n",
        "def combine_responses_into_one(directory_path):\n",
        "\n",
        "  # Use a list comprehension to get all file names in the directory\n",
        "  file_list = [f for f in os.listdir(directory_path) if os.path.isfile(os.path.join(directory_path, f))]\n",
        "\n",
        "  #retrieve the file_keyword by extracting the string after \"_\"\n",
        "  # Extract the file_keyword from each filename\n",
        "  file_keywords = [filename.split('_')[1].split('.')[0] for filename in file_list]\n",
        "\n",
        "\n",
        "  # Initialize an empty list to store the combined JSON data\n",
        "  combined_json = []\n",
        "\n",
        "  # Loop through each file name\n",
        "  for filename in file_list:\n",
        "      # Read the current JSON file\n",
        "      with open(directory_path+'/'+filename, 'r') as file:\n",
        "          current_json = json.load(file)\n",
        "\n",
        "      # Extract the file_keyword from the filename\n",
        "      file_keyword = filename.split('_')[1].split('.')[0]\n",
        "\n",
        "      # Add the file_keyword to each result in the current JSON\n",
        "      for result in current_json['results']:\n",
        "          result['file_keyword'] = file_keyword\n",
        "\n",
        "      # Extend the combined JSON list with the results from the current JSON\n",
        "      combined_json.extend(current_json['results'])\n",
        "      print(f'{filename} is added to the combined json object')\n",
        "      # break # using the break to check the loop code always\n",
        "\n",
        "  # Save the combined_json object as a JSON file\n",
        "  with open('combined_news_response.json', 'w') as combined_file:\n",
        "      json.dump(combined_json, combined_file, indent=4)\n",
        "\n",
        "def convert_json_to_csv(file_name):\n",
        "  json_data_df = pd.read_json(file_name)\n",
        "  # json_data_df.head()\n",
        "\n",
        "  columns = [ 'title', 'keywords', 'creator', 'description', 'content', 'pubDate', 'country', 'category', 'language', 'file_keyword' ]\n",
        "  csv_file_name = 'combined_news_response.csv'\n",
        "  json_data_df[columns].to_csv(csv_file_name)\n",
        "  print(f'{csv_file_name} is created')"
      ],
      "metadata": {
        "id": "dcro9Rk2Lrj1"
      },
      "execution_count": null,
      "outputs": []
    },
    {
      "cell_type": "code",
      "source": [
        "# API key authorization, Initialize the client with your API key\n",
        "NEWSDATA_API_KEY = \"pub_2915202f68e543f70bb9aba9611735142c1fd\"\n",
        "keywords = [  \"GDP\",  \"CPI\",  \"PPI\",  \"Unemployment Rate\",  \"Interest Rates\",  \"Inflation\",  \"Trade Balance\",  \"Retail Sales\",  \"Manufacturing Index\",  \"Earnings Reports\",  \"Revenue Growth\",  \"Profit Margins\",  \"Earnings Surprises\",  \"Geopolitical Events\",  \"Trade Tensions\",  \"Elections\",  \"Natural Disasters\",  \"Global Health Crises\",  \"Oil Prices\",  \"Gold Prices\",  \"Precious Metals\",  \"Agricultural Commodities\",  \"Federal Reserve\",  \"ECB\",  \"Forex Market\",  \"Exchange Rates\",  \"Currency Pairs\",  \"Tech Company Earnings\",  \"Tech Innovations\",  \"Retail Trends\",  \"Consumer Sentiment\",  \"Financial Regulations\",  \"Government Policies\",  \"Technical Analysis\",  \"Fundamental Analysis\",  \"Cryptocurrency News\",  \"Bitcoin\",  \"Altcoins\",  \"Cryptocurrency Regulations\",  \"S&P 500\",  \"Dow Jones\",  \"NASDAQ\",  \"Market Analysis\",  \"Stock Market Indices\" ]\n",
        "domain_dict = {'bbc': 'bbc.com', 'forbes': 'forbes.com', 'businessinsider_us': 'businessinsider.com'}\n",
        "# creating a data directory\n",
        "# Define the directory path you want to create\n",
        "directory_path = './data'\n",
        "\n",
        "def call_functions(domain):\n",
        "  creating_data_dir(directory_path)\n",
        "  items = os.listdir(directory_path)\n",
        "\n",
        "  file_name = './combined_news_response.json'\n",
        "  selected_domain = domain_dict[domain]\n",
        "  if len(items) == 0:\n",
        "    print(f\"Directory '{directory_path}' is empty.\")\n",
        "    api = NewsDataApiClient(apikey=NEWSDATA_API_KEY)\n",
        "    retrieve_news_per_keyword(api,keywords)\n",
        "    combine_responses_into_one(directory_path)\n",
        "    convert_json_to_csv(file_name)\n",
        "  elif len(items) >= 2:\n",
        "    print(f\"Directory '{directory_path}' contains at least two files.\")\n",
        "    combine_responses_into_one(directory_path)\n",
        "    convert_json_to_csv(file_name)\n",
        "  else:\n",
        "      print(f\"Directory '{directory_path}' contains only one file.\")\n",
        "\n",
        "  # Read the combined CSV file and display the first few rows\n",
        "  csv_file_name = \"combined_news_response.csv\"\n",
        "  if os.path.exists(csv_file_name):\n",
        "      df = pd.read_csv(csv_file_name)\n",
        "      # Assuming df is your DataFrame\n",
        "      if 'Unnamed: 0' in df.columns:\n",
        "          df.drop('Unnamed: 0', axis=1, inplace=True)\n",
        "      first_few_rows = df.head(10)  # Adjust the number of rows as needed\n",
        "      return first_few_rows\n",
        "  else:\n",
        "      return f\"CSV file '{csv_file_name}' not found.\""
      ],
      "metadata": {
        "id": "PVolmye3rZmX"
      },
      "execution_count": null,
      "outputs": []
    },
    {
      "cell_type": "code",
      "source": [
        "# # call_functions(directory_path)\n",
        "# call_functions()"
      ],
      "metadata": {
        "id": "MNNj_qfa4dA5"
      },
      "execution_count": null,
      "outputs": []
    },
    {
      "cell_type": "code",
      "source": [
        "# Create a Gradio interface\n",
        "iface = gr.Interface(\n",
        "    fn=call_functions,\n",
        "    # inputs=gr.components.Textbox(label=\"Directory Path\"),\n",
        "    inputs=gr.components.Dropdown(label=\"Select Domain\", choices=[\"bbc\", \"forbes\", \"businessinsider_us\"]),\n",
        "    outputs=gr.components.Dataframe(type=\"pandas\")\n",
        ")"
      ],
      "metadata": {
        "id": "-rDvsGCU2_1d"
      },
      "execution_count": null,
      "outputs": []
    },
    {
      "cell_type": "code",
      "source": [
        "# Launch the Gradio app\n",
        "iface.launch(debug=True)"
      ],
      "metadata": {
        "id": "rkKEB2yy8NX3"
      },
      "execution_count": null,
      "outputs": []
    },
    {
      "cell_type": "code",
      "source": [
        "# iface.close()"
      ],
      "metadata": {
        "colab": {
          "base_uri": "https://localhost:8080/"
        },
        "id": "lZBBQ5KprZaf",
        "outputId": "768c6ec1-6eb7-4653-8e95-85075deb1e62"
      },
      "execution_count": null,
      "outputs": [
        {
          "output_type": "stream",
          "name": "stdout",
          "text": [
            "Closing server running on port: 7860\n"
          ]
        }
      ]
    },
    {
      "cell_type": "markdown",
      "source": [
        "# Gradio app 2 (using Blocks)"
      ],
      "metadata": {
        "id": "V9Rdo4gByx45"
      }
    },
    {
      "cell_type": "code",
      "source": [
        "!pip install gradio"
      ],
      "metadata": {
        "colab": {
          "base_uri": "https://localhost:8080/"
        },
        "id": "tnFJaZxV0vEz",
        "outputId": "f5ba8401-65d3-484c-f423-9ee32417b04f"
      },
      "execution_count": 1,
      "outputs": [
        {
          "output_type": "stream",
          "name": "stdout",
          "text": [
            "Collecting gradio\n",
            "  Downloading gradio-3.47.1-py3-none-any.whl (20.3 MB)\n",
            "\u001b[2K     \u001b[90m━━━━━━━━━━━━━━━━━━━━━━━━━━━━━━━━━━━━━━━━\u001b[0m \u001b[32m20.3/20.3 MB\u001b[0m \u001b[31m82.6 MB/s\u001b[0m eta \u001b[36m0:00:00\u001b[0m\n",
            "\u001b[?25hCollecting aiofiles<24.0,>=22.0 (from gradio)\n",
            "  Downloading aiofiles-23.2.1-py3-none-any.whl (15 kB)\n",
            "Requirement already satisfied: altair<6.0,>=4.2.0 in /usr/local/lib/python3.10/dist-packages (from gradio) (4.2.2)\n",
            "Collecting fastapi (from gradio)\n",
            "  Downloading fastapi-0.103.2-py3-none-any.whl (66 kB)\n",
            "\u001b[2K     \u001b[90m━━━━━━━━━━━━━━━━━━━━━━━━━━━━━━━━━━━━━━━━\u001b[0m \u001b[32m66.3/66.3 kB\u001b[0m \u001b[31m8.2 MB/s\u001b[0m eta \u001b[36m0:00:00\u001b[0m\n",
            "\u001b[?25hCollecting ffmpy (from gradio)\n",
            "  Downloading ffmpy-0.3.1.tar.gz (5.5 kB)\n",
            "  Preparing metadata (setup.py) ... \u001b[?25l\u001b[?25hdone\n",
            "Collecting gradio-client==0.6.0 (from gradio)\n",
            "  Downloading gradio_client-0.6.0-py3-none-any.whl (298 kB)\n",
            "\u001b[2K     \u001b[90m━━━━━━━━━━━━━━━━━━━━━━━━━━━━━━━━━━━━━━\u001b[0m \u001b[32m298.8/298.8 kB\u001b[0m \u001b[31m28.3 MB/s\u001b[0m eta \u001b[36m0:00:00\u001b[0m\n",
            "\u001b[?25hCollecting httpx (from gradio)\n",
            "  Downloading httpx-0.25.0-py3-none-any.whl (75 kB)\n",
            "\u001b[2K     \u001b[90m━━━━━━━━━━━━━━━━━━━━━━━━━━━━━━━━━━━━━━━━\u001b[0m \u001b[32m75.7/75.7 kB\u001b[0m \u001b[31m8.0 MB/s\u001b[0m eta \u001b[36m0:00:00\u001b[0m\n",
            "\u001b[?25hCollecting huggingface-hub>=0.14.0 (from gradio)\n",
            "  Downloading huggingface_hub-0.17.3-py3-none-any.whl (295 kB)\n",
            "\u001b[2K     \u001b[90m━━━━━━━━━━━━━━━━━━━━━━━━━━━━━━━━━━━━━━\u001b[0m \u001b[32m295.0/295.0 kB\u001b[0m \u001b[31m30.1 MB/s\u001b[0m eta \u001b[36m0:00:00\u001b[0m\n",
            "\u001b[?25hRequirement already satisfied: importlib-resources<7.0,>=1.3 in /usr/local/lib/python3.10/dist-packages (from gradio) (6.1.0)\n",
            "Requirement already satisfied: jinja2<4.0 in /usr/local/lib/python3.10/dist-packages (from gradio) (3.1.2)\n",
            "Requirement already satisfied: markupsafe~=2.0 in /usr/local/lib/python3.10/dist-packages (from gradio) (2.1.3)\n",
            "Requirement already satisfied: matplotlib~=3.0 in /usr/local/lib/python3.10/dist-packages (from gradio) (3.7.1)\n",
            "Requirement already satisfied: numpy~=1.0 in /usr/local/lib/python3.10/dist-packages (from gradio) (1.23.5)\n",
            "Collecting orjson~=3.0 (from gradio)\n",
            "  Downloading orjson-3.9.7-cp310-cp310-manylinux_2_17_x86_64.manylinux2014_x86_64.whl (138 kB)\n",
            "\u001b[2K     \u001b[90m━━━━━━━━━━━━━━━━━━━━━━━━━━━━━━━━━━━━━━\u001b[0m \u001b[32m138.7/138.7 kB\u001b[0m \u001b[31m14.1 MB/s\u001b[0m eta \u001b[36m0:00:00\u001b[0m\n",
            "\u001b[?25hRequirement already satisfied: packaging in /usr/local/lib/python3.10/dist-packages (from gradio) (23.2)\n",
            "Requirement already satisfied: pandas<3.0,>=1.0 in /usr/local/lib/python3.10/dist-packages (from gradio) (1.5.3)\n",
            "Requirement already satisfied: pillow<11.0,>=8.0 in /usr/local/lib/python3.10/dist-packages (from gradio) (9.4.0)\n",
            "Requirement already satisfied: pydantic!=1.8,!=1.8.1,!=2.0.0,!=2.0.1,<3.0.0,>=1.7.4 in /usr/local/lib/python3.10/dist-packages (from gradio) (1.10.13)\n",
            "Collecting pydub (from gradio)\n",
            "  Downloading pydub-0.25.1-py2.py3-none-any.whl (32 kB)\n",
            "Collecting python-multipart (from gradio)\n",
            "  Downloading python_multipart-0.0.6-py3-none-any.whl (45 kB)\n",
            "\u001b[2K     \u001b[90m━━━━━━━━━━━━━━━━━━━━━━━━━━━━━━━━━━━━━━━━\u001b[0m \u001b[32m45.7/45.7 kB\u001b[0m \u001b[31m4.4 MB/s\u001b[0m eta \u001b[36m0:00:00\u001b[0m\n",
            "\u001b[?25hRequirement already satisfied: pyyaml<7.0,>=5.0 in /usr/local/lib/python3.10/dist-packages (from gradio) (6.0.1)\n",
            "Requirement already satisfied: requests~=2.0 in /usr/local/lib/python3.10/dist-packages (from gradio) (2.31.0)\n",
            "Collecting semantic-version~=2.0 (from gradio)\n",
            "  Downloading semantic_version-2.10.0-py2.py3-none-any.whl (15 kB)\n",
            "Requirement already satisfied: typing-extensions~=4.0 in /usr/local/lib/python3.10/dist-packages (from gradio) (4.5.0)\n",
            "Collecting uvicorn>=0.14.0 (from gradio)\n",
            "  Downloading uvicorn-0.23.2-py3-none-any.whl (59 kB)\n",
            "\u001b[2K     \u001b[90m━━━━━━━━━━━━━━━━━━━━━━━━━━━━━━━━━━━━━━━━\u001b[0m \u001b[32m59.5/59.5 kB\u001b[0m \u001b[31m5.1 MB/s\u001b[0m eta \u001b[36m0:00:00\u001b[0m\n",
            "\u001b[?25hCollecting websockets<12.0,>=10.0 (from gradio)\n",
            "  Downloading websockets-11.0.3-cp310-cp310-manylinux_2_5_x86_64.manylinux1_x86_64.manylinux_2_17_x86_64.manylinux2014_x86_64.whl (129 kB)\n",
            "\u001b[2K     \u001b[90m━━━━━━━━━━━━━━━━━━━━━━━━━━━━━━━━━━━━━━\u001b[0m \u001b[32m129.9/129.9 kB\u001b[0m \u001b[31m13.9 MB/s\u001b[0m eta \u001b[36m0:00:00\u001b[0m\n",
            "\u001b[?25hRequirement already satisfied: fsspec in /usr/local/lib/python3.10/dist-packages (from gradio-client==0.6.0->gradio) (2023.6.0)\n",
            "Requirement already satisfied: entrypoints in /usr/local/lib/python3.10/dist-packages (from altair<6.0,>=4.2.0->gradio) (0.4)\n",
            "Requirement already satisfied: jsonschema>=3.0 in /usr/local/lib/python3.10/dist-packages (from altair<6.0,>=4.2.0->gradio) (4.19.1)\n",
            "Requirement already satisfied: toolz in /usr/local/lib/python3.10/dist-packages (from altair<6.0,>=4.2.0->gradio) (0.12.0)\n",
            "Requirement already satisfied: filelock in /usr/local/lib/python3.10/dist-packages (from huggingface-hub>=0.14.0->gradio) (3.12.4)\n",
            "Requirement already satisfied: tqdm>=4.42.1 in /usr/local/lib/python3.10/dist-packages (from huggingface-hub>=0.14.0->gradio) (4.66.1)\n",
            "Requirement already satisfied: contourpy>=1.0.1 in /usr/local/lib/python3.10/dist-packages (from matplotlib~=3.0->gradio) (1.1.1)\n",
            "Requirement already satisfied: cycler>=0.10 in /usr/local/lib/python3.10/dist-packages (from matplotlib~=3.0->gradio) (0.12.0)\n",
            "Requirement already satisfied: fonttools>=4.22.0 in /usr/local/lib/python3.10/dist-packages (from matplotlib~=3.0->gradio) (4.43.0)\n",
            "Requirement already satisfied: kiwisolver>=1.0.1 in /usr/local/lib/python3.10/dist-packages (from matplotlib~=3.0->gradio) (1.4.5)\n",
            "Requirement already satisfied: pyparsing>=2.3.1 in /usr/local/lib/python3.10/dist-packages (from matplotlib~=3.0->gradio) (3.1.1)\n",
            "Requirement already satisfied: python-dateutil>=2.7 in /usr/local/lib/python3.10/dist-packages (from matplotlib~=3.0->gradio) (2.8.2)\n",
            "Requirement already satisfied: pytz>=2020.1 in /usr/local/lib/python3.10/dist-packages (from pandas<3.0,>=1.0->gradio) (2023.3.post1)\n",
            "Requirement already satisfied: charset-normalizer<4,>=2 in /usr/local/lib/python3.10/dist-packages (from requests~=2.0->gradio) (3.3.0)\n",
            "Requirement already satisfied: idna<4,>=2.5 in /usr/local/lib/python3.10/dist-packages (from requests~=2.0->gradio) (3.4)\n",
            "Requirement already satisfied: urllib3<3,>=1.21.1 in /usr/local/lib/python3.10/dist-packages (from requests~=2.0->gradio) (2.0.6)\n",
            "Requirement already satisfied: certifi>=2017.4.17 in /usr/local/lib/python3.10/dist-packages (from requests~=2.0->gradio) (2023.7.22)\n",
            "Requirement already satisfied: click>=7.0 in /usr/local/lib/python3.10/dist-packages (from uvicorn>=0.14.0->gradio) (8.1.7)\n",
            "Collecting h11>=0.8 (from uvicorn>=0.14.0->gradio)\n",
            "  Downloading h11-0.14.0-py3-none-any.whl (58 kB)\n",
            "\u001b[2K     \u001b[90m━━━━━━━━━━━━━━━━━━━━━━━━━━━━━━━━━━━━━━━━\u001b[0m \u001b[32m58.3/58.3 kB\u001b[0m \u001b[31m7.1 MB/s\u001b[0m eta \u001b[36m0:00:00\u001b[0m\n",
            "\u001b[?25hRequirement already satisfied: anyio<4.0.0,>=3.7.1 in /usr/local/lib/python3.10/dist-packages (from fastapi->gradio) (3.7.1)\n",
            "Collecting starlette<0.28.0,>=0.27.0 (from fastapi->gradio)\n",
            "  Downloading starlette-0.27.0-py3-none-any.whl (66 kB)\n",
            "\u001b[2K     \u001b[90m━━━━━━━━━━━━━━━━━━━━━━━━━━━━━━━━━━━━━━━━\u001b[0m \u001b[32m67.0/67.0 kB\u001b[0m \u001b[31m6.7 MB/s\u001b[0m eta \u001b[36m0:00:00\u001b[0m\n",
            "\u001b[?25hCollecting httpcore<0.19.0,>=0.18.0 (from httpx->gradio)\n",
            "  Downloading httpcore-0.18.0-py3-none-any.whl (76 kB)\n",
            "\u001b[2K     \u001b[90m━━━━━━━━━━━━━━━━━━━━━━━━━━━━━━━━━━━━━━━━\u001b[0m \u001b[32m76.0/76.0 kB\u001b[0m \u001b[31m8.1 MB/s\u001b[0m eta \u001b[36m0:00:00\u001b[0m\n",
            "\u001b[?25hRequirement already satisfied: sniffio in /usr/local/lib/python3.10/dist-packages (from httpx->gradio) (1.3.0)\n",
            "Requirement already satisfied: exceptiongroup in /usr/local/lib/python3.10/dist-packages (from anyio<4.0.0,>=3.7.1->fastapi->gradio) (1.1.3)\n",
            "Requirement already satisfied: attrs>=22.2.0 in /usr/local/lib/python3.10/dist-packages (from jsonschema>=3.0->altair<6.0,>=4.2.0->gradio) (23.1.0)\n",
            "Requirement already satisfied: jsonschema-specifications>=2023.03.6 in /usr/local/lib/python3.10/dist-packages (from jsonschema>=3.0->altair<6.0,>=4.2.0->gradio) (2023.7.1)\n",
            "Requirement already satisfied: referencing>=0.28.4 in /usr/local/lib/python3.10/dist-packages (from jsonschema>=3.0->altair<6.0,>=4.2.0->gradio) (0.30.2)\n",
            "Requirement already satisfied: rpds-py>=0.7.1 in /usr/local/lib/python3.10/dist-packages (from jsonschema>=3.0->altair<6.0,>=4.2.0->gradio) (0.10.3)\n",
            "Requirement already satisfied: six>=1.5 in /usr/local/lib/python3.10/dist-packages (from python-dateutil>=2.7->matplotlib~=3.0->gradio) (1.16.0)\n",
            "Building wheels for collected packages: ffmpy\n",
            "  Building wheel for ffmpy (setup.py) ... \u001b[?25l\u001b[?25hdone\n",
            "  Created wheel for ffmpy: filename=ffmpy-0.3.1-py3-none-any.whl size=5579 sha256=7c6232d99fb612381b4a79933a09c811e404040e2f3eb9e2da73d46efd0feee5\n",
            "  Stored in directory: /root/.cache/pip/wheels/01/a6/d1/1c0828c304a4283b2c1639a09ad86f83d7c487ef34c6b4a1bf\n",
            "Successfully built ffmpy\n",
            "Installing collected packages: pydub, ffmpy, websockets, semantic-version, python-multipart, orjson, h11, aiofiles, uvicorn, starlette, huggingface-hub, httpcore, httpx, fastapi, gradio-client, gradio\n",
            "Successfully installed aiofiles-23.2.1 fastapi-0.103.2 ffmpy-0.3.1 gradio-3.47.1 gradio-client-0.6.0 h11-0.14.0 httpcore-0.18.0 httpx-0.25.0 huggingface-hub-0.17.3 orjson-3.9.7 pydub-0.25.1 python-multipart-0.0.6 semantic-version-2.10.0 starlette-0.27.0 uvicorn-0.23.2 websockets-11.0.3\n"
          ]
        }
      ]
    },
    {
      "cell_type": "code",
      "source": [
        "!pip install newsdataapi"
      ],
      "metadata": {
        "id": "XkwVq6ysrZYA",
        "colab": {
          "base_uri": "https://localhost:8080/"
        },
        "outputId": "00e71de7-b7f6-49ef-cf92-8296784a9dcf"
      },
      "execution_count": 2,
      "outputs": [
        {
          "output_type": "stream",
          "name": "stdout",
          "text": [
            "Collecting newsdataapi\n",
            "  Downloading newsdataapi-0.1.8-py3-none-any.whl (7.8 kB)\n",
            "Requirement already satisfied: requests<3.0.0 in /usr/local/lib/python3.10/dist-packages (from newsdataapi) (2.31.0)\n",
            "Requirement already satisfied: charset-normalizer<4,>=2 in /usr/local/lib/python3.10/dist-packages (from requests<3.0.0->newsdataapi) (3.3.0)\n",
            "Requirement already satisfied: idna<4,>=2.5 in /usr/local/lib/python3.10/dist-packages (from requests<3.0.0->newsdataapi) (3.4)\n",
            "Requirement already satisfied: urllib3<3,>=1.21.1 in /usr/local/lib/python3.10/dist-packages (from requests<3.0.0->newsdataapi) (2.0.6)\n",
            "Requirement already satisfied: certifi>=2017.4.17 in /usr/local/lib/python3.10/dist-packages (from requests<3.0.0->newsdataapi) (2023.7.22)\n",
            "Installing collected packages: newsdataapi\n",
            "Successfully installed newsdataapi-0.1.8\n"
          ]
        }
      ]
    },
    {
      "cell_type": "code",
      "source": [
        "import gradio as gr\n",
        "from newsdataapi import NewsDataApiClient\n",
        "import os\n",
        "import json\n",
        "import pandas as pd"
      ],
      "metadata": {
        "id": "fNoBTfQcrZVY"
      },
      "execution_count": 3,
      "outputs": []
    },
    {
      "cell_type": "code",
      "source": [
        "def creating_data_dir(directory_path):\n",
        "  # Use the os.makedirs() function to create the directory\n",
        "  # The 'exist_ok=True' argument allows it to run without errors if the directory already exists\n",
        "  os.makedirs(directory_path, exist_ok=True)\n",
        "\n",
        "  # Check if the directory was created successfully\n",
        "  if os.path.exists(directory_path):\n",
        "      print(f\"Directory '{directory_path}' created successfully.\")\n",
        "  else:\n",
        "      print(f\"Failed to create directory '{directory_path}'.\")\n",
        "\n",
        "\n",
        "def retrieve_news_per_keyword(api, keywords, domain):\n",
        "\n",
        "  selected_domain = domain\n",
        "  selected_domain_url = domain_dict[domain]\n",
        "\n",
        "  for keyword in keywords:\n",
        "    # print(f\"{api} \\n {keyword}\")\n",
        "    # response = api.news_api( q= keyword , country = \"us\", language = 'en', full_content = True)\n",
        "\n",
        "    response = api.news_api(\n",
        "        # domain=['bbc', 'forbes' , 'businessinsider_us'],  # 'bbc', 'forbes' , 'businessinsider_us',\n",
        "        domainurl=['bbc.com', 'forbes.com', 'businessinsider.com'], # 'bbc.com', 'forbes.com', 'businessinsider.com',\n",
        "        category='business' ,\n",
        "        # country = \"us\",\n",
        "        timeframe=48,\n",
        "        language = 'en',\n",
        "        full_content = True,\n",
        "        size=10\n",
        "    )\n",
        "    # writing to a file\n",
        "    file_path = os.path.join(directory_path, f\"response_{keyword}.json\")\n",
        "    with open(file_path, \"w\") as outfile:\n",
        "        json.dump(response, outfile)\n",
        "\n",
        "    print(f\"News Response for keyword {keyword} is retrieved\")\n",
        "    keywords.remove(keyword)\n",
        "\n",
        "\n",
        "def combine_responses_into_one(directory_path):\n",
        "\n",
        "  # Use a list comprehension to get all file names in the directory\n",
        "  file_list = [f for f in os.listdir(directory_path) if os.path.isfile(os.path.join(directory_path, f))]\n",
        "\n",
        "  #retrieve the file_keyword by extracting the string after \"_\"\n",
        "  # Extract the file_keyword from each filename\n",
        "  file_keywords = [filename.split('_')[1].split('.')[0] for filename in file_list]\n",
        "\n",
        "\n",
        "  # Initialize an empty list to store the combined JSON data\n",
        "  combined_json = []\n",
        "\n",
        "  # Loop through each file name\n",
        "  for filename in file_list:\n",
        "      # Read the current JSON file\n",
        "      with open(directory_path+'/'+filename, 'r') as file:\n",
        "          current_json = json.load(file)\n",
        "\n",
        "      # Extract the file_keyword from the filename\n",
        "      file_keyword = filename.split('_')[1].split('.')[0]\n",
        "\n",
        "      # Add the file_keyword to each result in the current JSON\n",
        "      for result in current_json['results']:\n",
        "          result['file_keyword'] = file_keyword\n",
        "\n",
        "      # Extend the combined JSON list with the results from the current JSON\n",
        "      combined_json.extend(current_json['results'])\n",
        "      print(f'{filename} is added to the combined json object')\n",
        "      # break # using the break to check the loop code always\n",
        "\n",
        "  # Save the combined_json object as a JSON file\n",
        "  with open('combined_news_response.json', 'w') as combined_file:\n",
        "      json.dump(combined_json, combined_file, indent=4)\n",
        "\n",
        "def convert_json_to_csv(file_name):\n",
        "  json_data_df = pd.read_json(file_name)\n",
        "  # json_data_df.head()\n",
        "\n",
        "  columns = [ 'title', 'keywords', 'creator', 'description', 'content', 'pubDate', 'country', 'category', 'language', 'file_keyword' ]\n",
        "  csv_file_name = 'combined_news_response.csv'\n",
        "  json_data_df[columns].to_csv(csv_file_name)\n",
        "  print(f'{csv_file_name} is created')"
      ],
      "metadata": {
        "id": "eoHxRKserZS7"
      },
      "execution_count": 4,
      "outputs": []
    },
    {
      "cell_type": "code",
      "source": [
        "# API key authorization, Initialize the client with your API key\n",
        "NEWSDATA_API_KEY = \"pub_2915202f68e543f70bb9aba9611735142c1fd\"\n",
        "keywords = [  \"GDP\",  \"CPI\",  \"PPI\",  \"Unemployment Rate\",  \"Interest Rates\",  \"Inflation\",  \"Trade Balance\",  \"Retail Sales\",  \"Manufacturing Index\",  \"Earnings Reports\",  \"Revenue Growth\",  \"Profit Margins\",  \"Earnings Surprises\",  \"Geopolitical Events\",  \"Trade Tensions\",  \"Elections\",  \"Natural Disasters\",  \"Global Health Crises\",  \"Oil Prices\",  \"Gold Prices\",  \"Precious Metals\",  \"Agricultural Commodities\",  \"Federal Reserve\",  \"ECB\",  \"Forex Market\",  \"Exchange Rates\",  \"Currency Pairs\",  \"Tech Company Earnings\",  \"Tech Innovations\",  \"Retail Trends\",  \"Consumer Sentiment\",  \"Financial Regulations\",  \"Government Policies\",  \"Technical Analysis\",  \"Fundamental Analysis\",  \"Cryptocurrency News\",  \"Bitcoin\",  \"Altcoins\",  \"Cryptocurrency Regulations\",  \"S&P 500\",  \"Dow Jones\",  \"NASDAQ\",  \"Market Analysis\",  \"Stock Market Indices\" ]\n",
        "domain_dict = {'bbc': 'bbc.com', 'forbes': 'forbes.com', 'businessinsider_us': 'businessinsider.com'}\n",
        "\n",
        "# creating a data directory\n",
        "# Define the directory path you want to create\n",
        "directory_path = './data'\n",
        "\n",
        "def call_functions(domain):\n",
        "  creating_data_dir(directory_path)\n",
        "  items = os.listdir(directory_path)\n",
        "\n",
        "  file_name = './combined_news_response.json'\n",
        "  if len(items) == 0:\n",
        "    print(f\"Directory '{directory_path}' is empty.\")\n",
        "    api = NewsDataApiClient(apikey=NEWSDATA_API_KEY)\n",
        "    retrieve_news_per_keyword(api, keywords, domain)\n",
        "    combine_responses_into_one(directory_path)\n",
        "    convert_json_to_csv(file_name)\n",
        "  elif len(items) >= 2:\n",
        "    print(f\"Directory '{directory_path}' contains at least two files.\")\n",
        "    combine_responses_into_one(directory_path)\n",
        "    convert_json_to_csv(file_name)\n",
        "  else:\n",
        "      print(f\"Directory '{directory_path}' contains only one file.\")\n",
        "\n",
        "  # Read the combined CSV file and display the first few rows\n",
        "  csv_file_name = \"combined_news_response.csv\"\n",
        "  if os.path.exists(csv_file_name):\n",
        "      df = pd.read_csv(csv_file_name)\n",
        "      # Assuming df is your DataFrame\n",
        "      if 'Unnamed: 0' in df.columns:\n",
        "          df.drop('Unnamed: 0', axis=1, inplace=True)\n",
        "      first_few_rows = df.head(10)  # Adjust the number of rows as needed\n",
        "      return first_few_rows\n",
        "  else:\n",
        "      return f\"CSV file '{csv_file_name}' not found.\"\n",
        "\n"
      ],
      "metadata": {
        "id": "ojPcQenYzGqW"
      },
      "execution_count": 5,
      "outputs": []
    },
    {
      "cell_type": "code",
      "source": [
        "with gr.Blocks() as demo:\n",
        "  ui_domain = gr.Dropdown([\"bbc\", \"forbes\", \"businessinsider_us\"], label=\"Select Domain\")\n",
        "  df_output = gr.Dataframe(type=\"pandas\")\n",
        "  retrieve_button = gr.Button(\"Retrieve news\")\n",
        "\n",
        "  retrieve_button.click(call_functions, inputs=ui_domain, outputs=df_output)"
      ],
      "metadata": {
        "id": "D6swezK6zGoR"
      },
      "execution_count": 9,
      "outputs": []
    },
    {
      "cell_type": "code",
      "source": [
        "demo.launch(debug=True)"
      ],
      "metadata": {
        "colab": {
          "base_uri": "https://localhost:8080/",
          "height": 1000
        },
        "id": "3BVZ2eSfzGld",
        "outputId": "cfbddc18-8d92-4637-83cb-e5094020872d"
      },
      "execution_count": 10,
      "outputs": [
        {
          "output_type": "stream",
          "name": "stdout",
          "text": [
            "Setting queue=True in a Colab notebook requires sharing enabled. Setting `share=True` (you can turn this off by setting `share=False` in `launch()` explicitly).\n",
            "\n",
            "Colab notebook detected. This cell will run indefinitely so that you can see errors and logs. To turn off, set debug=False in launch().\n",
            "Running on public URL: https://eca810d46befb59ef6.gradio.live\n",
            "\n",
            "This share link expires in 72 hours. For free permanent hosting and GPU upgrades, run `gradio deploy` from Terminal to deploy to Spaces (https://huggingface.co/spaces)\n"
          ]
        },
        {
          "output_type": "display_data",
          "data": {
            "text/plain": [
              "<IPython.core.display.HTML object>"
            ],
            "text/html": [
              "<div><iframe src=\"https://eca810d46befb59ef6.gradio.live\" width=\"100%\" height=\"500\" allow=\"autoplay; camera; microphone; clipboard-read; clipboard-write;\" frameborder=\"0\" allowfullscreen></iframe></div>"
            ]
          },
          "metadata": {}
        },
        {
          "output_type": "stream",
          "name": "stdout",
          "text": [
            "Directory './data' created successfully.\n",
            "Directory './data' is empty.\n",
            "News Response for keyword GDP is retrieved\n",
            "News Response for keyword PPI is retrieved\n",
            "News Response for keyword Interest Rates is retrieved\n",
            "News Response for keyword Trade Balance is retrieved\n",
            "News Response for keyword Manufacturing Index is retrieved\n",
            "News Response for keyword Revenue Growth is retrieved\n",
            "News Response for keyword Earnings Surprises is retrieved\n",
            "News Response for keyword Trade Tensions is retrieved\n",
            "News Response for keyword Natural Disasters is retrieved\n",
            "News Response for keyword Oil Prices is retrieved\n",
            "News Response for keyword Precious Metals is retrieved\n",
            "News Response for keyword Federal Reserve is retrieved\n",
            "News Response for keyword Forex Market is retrieved\n",
            "News Response for keyword Currency Pairs is retrieved\n",
            "News Response for keyword Tech Innovations is retrieved\n",
            "News Response for keyword Consumer Sentiment is retrieved\n",
            "News Response for keyword Government Policies is retrieved\n",
            "News Response for keyword Fundamental Analysis is retrieved\n",
            "News Response for keyword Bitcoin is retrieved\n",
            "News Response for keyword Cryptocurrency Regulations is retrieved\n",
            "News Response for keyword Dow Jones is retrieved\n",
            "News Response for keyword Market Analysis is retrieved\n",
            "response_GDP.json is added to the combined json object\n",
            "response_Dow Jones.json is added to the combined json object\n",
            "response_Natural Disasters.json is added to the combined json object\n",
            "response_Consumer Sentiment.json is added to the combined json object\n",
            "response_Currency Pairs.json is added to the combined json object\n",
            "response_Interest Rates.json is added to the combined json object\n",
            "response_Trade Balance.json is added to the combined json object\n",
            "response_Bitcoin.json is added to the combined json object\n",
            "response_Tech Innovations.json is added to the combined json object\n",
            "response_Revenue Growth.json is added to the combined json object\n",
            "response_PPI.json is added to the combined json object\n",
            "response_Earnings Surprises.json is added to the combined json object\n",
            "response_Precious Metals.json is added to the combined json object\n",
            "response_Manufacturing Index.json is added to the combined json object\n",
            "response_Forex Market.json is added to the combined json object\n",
            "response_Fundamental Analysis.json is added to the combined json object\n",
            "response_Trade Tensions.json is added to the combined json object\n",
            "response_Federal Reserve.json is added to the combined json object\n",
            "response_Oil Prices.json is added to the combined json object\n",
            "response_Market Analysis.json is added to the combined json object\n",
            "response_Cryptocurrency Regulations.json is added to the combined json object\n",
            "response_Government Policies.json is added to the combined json object\n",
            "combined_news_response.csv is created\n",
            "Keyboard interruption in main thread... closing server.\n",
            "Killing tunnel 127.0.0.1:7860 <> https://6aff091d0eb7097eee.gradio.live\n",
            "Killing tunnel 127.0.0.1:7860 <> https://eca810d46befb59ef6.gradio.live\n"
          ]
        },
        {
          "output_type": "execute_result",
          "data": {
            "text/plain": []
          },
          "metadata": {},
          "execution_count": 10
        }
      ]
    },
    {
      "cell_type": "code",
      "source": [
        "demo.close()"
      ],
      "metadata": {
        "colab": {
          "base_uri": "https://localhost:8080/"
        },
        "id": "xuW3EWcBzGjZ",
        "outputId": "c01dbd39-863e-4460-ec15-b9279ff06db0"
      },
      "execution_count": 11,
      "outputs": [
        {
          "output_type": "stream",
          "name": "stdout",
          "text": [
            "Closing server running on port: 7860\n"
          ]
        }
      ]
    },
    {
      "cell_type": "code",
      "source": [],
      "metadata": {
        "id": "A7_s09KJzGg7"
      },
      "execution_count": null,
      "outputs": []
    },
    {
      "cell_type": "code",
      "source": [],
      "metadata": {
        "id": "_LYhyC7GzGeS"
      },
      "execution_count": null,
      "outputs": []
    },
    {
      "cell_type": "code",
      "source": [],
      "metadata": {
        "id": "c2jGZhzWzGbx"
      },
      "execution_count": null,
      "outputs": []
    },
    {
      "cell_type": "code",
      "source": [],
      "metadata": {
        "id": "Mzq1C4bFzGZD"
      },
      "execution_count": null,
      "outputs": []
    },
    {
      "cell_type": "markdown",
      "source": [
        "# GRadio related things"
      ],
      "metadata": {
        "id": "QiWqVOYJyGYL"
      }
    },
    {
      "cell_type": "markdown",
      "source": [
        "1. create a HF space\n",
        "2. make the gradio app in notebook\n",
        "1. upload the gradio app to the HF space"
      ],
      "metadata": {
        "id": "H7oj_0H0yNlo"
      }
    },
    {
      "cell_type": "markdown",
      "source": [
        "# References:\n"
      ],
      "metadata": {
        "id": "A2r2E2rkmC5j"
      }
    },
    {
      "cell_type": "markdown",
      "source": [
        "* [Fetching top news using News API](https://www.geeksforgeeks.org/fetching-top-news-using-news-api/)\n",
        "\n",
        "* [Guide to use News API in 5 minutes for Free !](https://squatsstreak.medium.com/guide-to-use-news-api-in-5-minutes-for-free-23d66302dc41)\n",
        "\n",
        "* [NewDAta.io News DataSet direct download](https://newsdata.io/datasets)\n",
        "\n",
        "* [newpaper3k third party api](https://newspaper.readthedocs.io/en/latest/user_guide/quickstart.html#news-articles)\n",
        "\n",
        "* Gradio related queries:\n",
        "  * [How would I hide my files?](https://discuss.huggingface.co/t/how-would-i-hide-my-files/13035)\n",
        "  * [Managing secrets and environment variables](https://huggingface.co/docs/hub/spaces-overview#managing-secrets)\n",
        "  * [adding dependencies in gradio spaces](https://huggingface.co/docs/hub/spaces-dependencies#adding-your-own-dependencies)"
      ],
      "metadata": {
        "id": "-JwSSxIzmC5k"
      }
    },
    {
      "cell_type": "markdown",
      "metadata": {
        "id": "uAK6vs-owtMS"
      },
      "source": [
        "## Using the Python Client for the NewAPI"
      ]
    },
    {
      "cell_type": "markdown",
      "metadata": {
        "id": "vMV3EVvuonGY"
      },
      "source": [
        "### Installation"
      ]
    },
    {
      "cell_type": "markdown",
      "metadata": {
        "id": "w5z4wgQ_o2T6"
      },
      "source": [
        "```shell\n",
        "$ pip install newsapi-python\n",
        "```"
      ]
    },
    {
      "cell_type": "markdown",
      "metadata": {
        "id": "0CLZ786-oq-h"
      },
      "source": [
        "### Usage"
      ]
    },
    {
      "cell_type": "markdown",
      "metadata": {
        "id": "N7aF59ntoxcd"
      },
      "source": [
        "```python\n",
        "from newsapi import NewsApiClient\n",
        "\n",
        "# Init\n",
        "newsapi = NewsApiClient(api_key='API_KEY')\n",
        "\n",
        "# /v2/top-headlines\n",
        "top_headlines = newsapi.get_top_headlines(q='bitcoin',\n",
        "                                          sources='bbc-news,the-verge',\n",
        "                                          category='business',\n",
        "                                          language='en',\n",
        "                                          country='us')\n",
        "\n",
        "# /v2/everything\n",
        "all_articles = newsapi.get_everything(q='bitcoin',\n",
        "                                      sources='bbc-news,the-verge',\n",
        "                                      domains='bbc.co.uk,techcrunch.com',\n",
        "                                      from_param='2017-12-01',\n",
        "                                      to='2017-12-12',\n",
        "                                      language='en',\n",
        "                                      sort_by='relevancy',\n",
        "                                      page=2)\n",
        "\n",
        "# /v2/top-headlines/sources\n",
        "sources = newsapi.get_sources()\n",
        "```"
      ]
    },
    {
      "cell_type": "code",
      "execution_count": null,
      "metadata": {
        "id": "alI-Me1xoqP8"
      },
      "outputs": [],
      "source": []
    }
  ],
  "metadata": {
    "colab": {
      "collapsed_sections": [
        "-W1LpgKT85cH",
        "AJf5eAffl97a",
        "taNgbbYgl97a",
        "-iwRGP-ll97b",
        "qZnOyyF4ETBF",
        "It844YiXl97i",
        "5X0BILUb1B40",
        "ub9xsmOEJ1py",
        "A2r2E2rkmC5j",
        "uAK6vs-owtMS",
        "vMV3EVvuonGY",
        "0CLZ786-oq-h"
      ],
      "provenance": []
    },
    "kernelspec": {
      "display_name": "Python 3 (ipykernel)",
      "language": "python",
      "name": "python3"
    },
    "language_info": {
      "codemirror_mode": {
        "name": "ipython",
        "version": 3
      },
      "file_extension": ".py",
      "mimetype": "text/x-python",
      "name": "python",
      "nbconvert_exporter": "python",
      "pygments_lexer": "ipython3",
      "version": "3.9.16"
    }
  },
  "nbformat": 4,
  "nbformat_minor": 0
}
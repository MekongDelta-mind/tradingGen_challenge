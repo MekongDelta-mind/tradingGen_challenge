{
  "nbformat": 4,
  "nbformat_minor": 0,
  "metadata": {
    "colab": {
      "provenance": []
    },
    "kernelspec": {
      "name": "python3",
      "display_name": "Python 3"
    },
    "language_info": {
      "name": "python"
    }
  },
  "cells": [
    {
      "cell_type": "markdown",
      "source": [
        "This is the notebook to get the data into somewhat a clean format. And then use the same csv for your further usage.\n",
        "Implement the samething into the main notebook where every code will be present."
      ],
      "metadata": {
        "id": "H6CKTRA0oSY3"
      }
    },
    {
      "cell_type": "code",
      "execution_count": null,
      "metadata": {
        "id": "zCawsIUPoPXq"
      },
      "outputs": [],
      "source": []
    },
    {
      "cell_type": "markdown",
      "source": [
        "# References:\n"
      ],
      "metadata": {
        "id": "QJ39akGlokxW"
      }
    },
    {
      "cell_type": "markdown",
      "source": [
        "## Installation"
      ],
      "metadata": {
        "id": "vMV3EVvuonGY"
      }
    },
    {
      "cell_type": "markdown",
      "source": [
        "```shell\n",
        "$ pip install newsapi-python\n",
        "```"
      ],
      "metadata": {
        "id": "w5z4wgQ_o2T6"
      }
    },
    {
      "cell_type": "markdown",
      "source": [
        "## Usage"
      ],
      "metadata": {
        "id": "0CLZ786-oq-h"
      }
    },
    {
      "cell_type": "markdown",
      "source": [
        "```python\n",
        "from newsapi import NewsApiClient\n",
        "\n",
        "# Init\n",
        "newsapi = NewsApiClient(api_key='API_KEY')\n",
        "\n",
        "# /v2/top-headlines\n",
        "top_headlines = newsapi.get_top_headlines(q='bitcoin',\n",
        "                                          sources='bbc-news,the-verge',\n",
        "                                          category='business',\n",
        "                                          language='en',\n",
        "                                          country='us')\n",
        "\n",
        "# /v2/everything\n",
        "all_articles = newsapi.get_everything(q='bitcoin',\n",
        "                                      sources='bbc-news,the-verge',\n",
        "                                      domains='bbc.co.uk,techcrunch.com',\n",
        "                                      from_param='2017-12-01',\n",
        "                                      to='2017-12-12',\n",
        "                                      language='en',\n",
        "                                      sort_by='relevancy',\n",
        "                                      page=2)\n",
        "\n",
        "# /v2/top-headlines/sources\n",
        "sources = newsapi.get_sources()\n",
        "```"
      ],
      "metadata": {
        "id": "N7aF59ntoxcd"
      }
    },
    {
      "cell_type": "code",
      "source": [],
      "metadata": {
        "id": "alI-Me1xoqP8"
      },
      "execution_count": null,
      "outputs": []
    }
  ]
}